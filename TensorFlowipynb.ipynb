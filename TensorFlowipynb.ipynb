{
  "nbformat": 4,
  "nbformat_minor": 0,
  "metadata": {
    "colab": {
      "provenance": []
    },
    "kernelspec": {
      "name": "python3",
      "display_name": "Python 3"
    },
    "language_info": {
      "name": "python"
    }
  },
  "cells": [
    {
      "cell_type": "code",
      "execution_count": 1,
      "metadata": {
        "colab": {
          "base_uri": "https://localhost:8080/"
        },
        "id": "oSYjdWd4mw6F",
        "outputId": "d24b3170-9674-40b4-9da3-2079b7d0aa21"
      },
      "outputs": [
        {
          "output_type": "stream",
          "name": "stdout",
          "text": [
            "TensorFlow version: 2.15.0\n"
          ]
        }
      ],
      "source": [
        "import tensorflow as tf\n",
        "print(\"TensorFlow version:\", tf.__version__)"
      ]
    },
    {
      "cell_type": "code",
      "source": [
        "mnist = tf.keras.datasets.mnist\n",
        "\n",
        "(x_train, y_train), (x_test, y_test) = mnist.load_data()\n",
        "x_train, x_test = x_train / 255.0, x_test / 255.0"
      ],
      "metadata": {
        "colab": {
          "base_uri": "https://localhost:8080/"
        },
        "id": "ECRZ2l4fnlBg",
        "outputId": "13fba48a-5747-4631-88aa-64ac36c5c71b"
      },
      "execution_count": 2,
      "outputs": [
        {
          "output_type": "stream",
          "name": "stdout",
          "text": [
            "Downloading data from https://storage.googleapis.com/tensorflow/tf-keras-datasets/mnist.npz\n",
            "11490434/11490434 [==============================] - 0s 0us/step\n"
          ]
        }
      ]
    },
    {
      "cell_type": "code",
      "source": [
        "model = tf.keras.models.Sequential([\n",
        "  tf.keras.layers.Flatten(input_shape=(28, 28)),\n",
        "  tf.keras.layers.Dense(128, activation='relu'),\n",
        "  tf.keras.layers.Dropout(0.2),\n",
        "  tf.keras.layers.Dense(10)\n",
        "])"
      ],
      "metadata": {
        "id": "PLsGA9FwnqpU"
      },
      "execution_count": 3,
      "outputs": []
    },
    {
      "cell_type": "code",
      "source": [
        "predictions = model(x_train[:1]).numpy()\n",
        "predictions"
      ],
      "metadata": {
        "colab": {
          "base_uri": "https://localhost:8080/"
        },
        "id": "68gtiw4yov-A",
        "outputId": "de8bd9f8-d521-4aac-f7cf-b9febfdde61d"
      },
      "execution_count": 4,
      "outputs": [
        {
          "output_type": "execute_result",
          "data": {
            "text/plain": [
              "array([[-0.36023286, -0.33372724,  0.00410477,  0.6082134 , -0.68392366,\n",
              "        -0.5553984 , -0.32838067,  0.5445516 , -0.4660766 ,  0.2992916 ]],\n",
              "      dtype=float32)"
            ]
          },
          "metadata": {},
          "execution_count": 4
        }
      ]
    },
    {
      "cell_type": "code",
      "source": [
        "tf.nn.softmax(predictions).numpy()"
      ],
      "metadata": {
        "colab": {
          "base_uri": "https://localhost:8080/"
        },
        "id": "AVQyZv28o5B-",
        "outputId": "8d59bd8d-bc9d-414e-e1d7-fa4b986b06ec"
      },
      "execution_count": 5,
      "outputs": [
        {
          "output_type": "execute_result",
          "data": {
            "text/plain": [
              "array([[0.07151213, 0.07343294, 0.10294602, 0.18835215, 0.05173716,\n",
              "        0.05883291, 0.07382661, 0.17673501, 0.06432983, 0.13829534]],\n",
              "      dtype=float32)"
            ]
          },
          "metadata": {},
          "execution_count": 5
        }
      ]
    },
    {
      "cell_type": "code",
      "source": [
        "loss_fn = tf.keras.losses.SparseCategoricalCrossentropy(from_logits=True)"
      ],
      "metadata": {
        "id": "giy_xdv8o7jT"
      },
      "execution_count": 6,
      "outputs": []
    },
    {
      "cell_type": "code",
      "source": [
        "model.compile(optimizer='adam',\n",
        "              loss=loss_fn,\n",
        "              metrics=['accuracy'])"
      ],
      "metadata": {
        "id": "9drd65S_pSAh"
      },
      "execution_count": 7,
      "outputs": []
    },
    {
      "cell_type": "code",
      "source": [
        "model.fit(x_train, y_train, epochs=5)"
      ],
      "metadata": {
        "colab": {
          "base_uri": "https://localhost:8080/"
        },
        "id": "n0W8aJcIpWdA",
        "outputId": "e788df75-5c43-4bdf-da1a-ffc2c2c30c2c"
      },
      "execution_count": null,
      "outputs": [
        {
          "output_type": "stream",
          "name": "stdout",
          "text": [
            "Epoch 1/5\n",
            "1875/1875 [==============================] - 10s 5ms/step - loss: 0.2931 - accuracy: 0.9144\n",
            "Epoch 2/5\n",
            "1875/1875 [==============================] - 12s 6ms/step - loss: 0.1421 - accuracy: 0.9578\n",
            "Epoch 3/5\n",
            "1875/1875 [==============================] - 9s 5ms/step - loss: 0.1072 - accuracy: 0.9674\n",
            "Epoch 4/5\n",
            "1875/1875 [==============================] - 8s 4ms/step - loss: 0.0866 - accuracy: 0.9731\n",
            "Epoch 5/5\n",
            " 325/1875 [====>.........................] - ETA: 6s - loss: 0.0717 - accuracy: 0.9776"
          ]
        }
      ]
    },
    {
      "cell_type": "code",
      "source": [
        "model.evaluate(x_test,  y_test, verbose=2)"
      ],
      "metadata": {
        "colab": {
          "base_uri": "https://localhost:8080/"
        },
        "id": "jExtUhuDpmKo",
        "outputId": "a54ecd57-8106-414a-c2ec-fea4f8750e7f"
      },
      "execution_count": 12,
      "outputs": [
        {
          "output_type": "stream",
          "name": "stdout",
          "text": [
            "313/313 - 0s - loss: 0.0784 - accuracy: 0.9744 - 488ms/epoch - 2ms/step\n"
          ]
        },
        {
          "output_type": "execute_result",
          "data": {
            "text/plain": [
              "[0.07843077182769775, 0.974399983882904]"
            ]
          },
          "metadata": {},
          "execution_count": 12
        }
      ]
    },
    {
      "cell_type": "code",
      "source": [
        "probability_model = tf.keras.Sequential([\n",
        "  model,\n",
        "  tf.keras.layers.Softmax()\n",
        "])"
      ],
      "metadata": {
        "id": "MCLHIn6WppQC"
      },
      "execution_count": null,
      "outputs": []
    },
    {
      "cell_type": "code",
      "source": [
        "probability_model(x_test[:5])"
      ],
      "metadata": {
        "colab": {
          "base_uri": "https://localhost:8080/"
        },
        "id": "xo9oZAfnpvEv",
        "outputId": "fb12127a-3828-4fe3-f502-542c374ed06e"
      },
      "execution_count": 11,
      "outputs": [
        {
          "data": {
            "text/plain": [
              "<tf.Tensor: shape=(5, 10), dtype=float32, numpy=\n",
              "array([[1.1459123e-07, 9.8627936e-08, 1.5335612e-05, 3.8691904e-04,\n",
              "        3.0966998e-09, 9.0669226e-07, 1.5008122e-12, 9.9959093e-01,\n",
              "        3.0463912e-07, 5.4162429e-06],\n",
              "       [3.1331828e-07, 1.0346231e-05, 9.9995923e-01, 2.9304887e-05,\n",
              "        1.5442807e-11, 7.3645808e-08, 5.5465085e-07, 1.3197443e-12,\n",
              "        7.0498999e-08, 8.4428072e-12],\n",
              "       [2.1437813e-07, 9.9899501e-01, 8.6151354e-05, 3.9930610e-06,\n",
              "        3.5186811e-05, 1.2304610e-05, 6.0253449e-05, 7.3142350e-04,\n",
              "        7.4985124e-05, 4.6477470e-07],\n",
              "       [9.9644035e-01, 4.9248023e-09, 3.5132546e-04, 6.8860449e-05,\n",
              "        8.2559325e-04, 4.5552800e-04, 1.8417103e-03, 9.2788623e-06,\n",
              "        2.2942878e-07, 7.1205818e-06],\n",
              "       [4.1483718e-06, 4.3816410e-08, 7.9613392e-06, 3.5780882e-08,\n",
              "        9.9872762e-01, 1.4765424e-05, 6.1928949e-05, 1.2958947e-05,\n",
              "        8.5593916e-07, 1.1695561e-03]], dtype=float32)>"
            ]
          },
          "execution_count": 11,
          "metadata": {},
          "output_type": "execute_result"
        }
      ]
    },
    {
      "cell_type": "code",
      "source": [],
      "metadata": {
        "id": "82oVZuM3pvhR"
      },
      "execution_count": null,
      "outputs": []
    }
  ]
}