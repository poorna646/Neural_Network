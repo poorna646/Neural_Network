{
  "nbformat": 4,
  "nbformat_minor": 0,
  "metadata": {
    "colab": {
      "provenance": []
    },
    "kernelspec": {
      "name": "python3",
      "display_name": "Python 3"
    },
    "language_info": {
      "name": "python"
    }
  },
  "cells": [
    {
      "cell_type": "code",
      "execution_count": 60,
      "metadata": {
        "id": "yQ7QX9ZlYAmF"
      },
      "outputs": [],
      "source": [
        "import torch\n",
        "import torchvision.datasets as datasets\n",
        "import torchvision.transforms as transforms\n",
        "import torch.nn as nn\n",
        "import torch.optim as optim"
      ]
    },
    {
      "cell_type": "code",
      "source": [
        "transform = transforms.Compose([transforms.ToTensor(),transforms.Normalize((0.1307,),(0.3081,))])"
      ],
      "metadata": {
        "id": "-PisUPx7Ygqh"
      },
      "execution_count": 61,
      "outputs": []
    },
    {
      "cell_type": "code",
      "source": [
        "train_dataset = datasets.CIFAR100('data', train=True , download=True, transform= transform)"
      ],
      "metadata": {
        "colab": {
          "base_uri": "https://localhost:8080/"
        },
        "id": "M6A00FDTc-Sw",
        "outputId": "d06c1632-d450-48dc-8411-f9719bb45ec2"
      },
      "execution_count": 62,
      "outputs": [
        {
          "output_type": "stream",
          "name": "stdout",
          "text": [
            "Files already downloaded and verified\n"
          ]
        }
      ]
    },
    {
      "cell_type": "code",
      "source": [
        "train_loader= torch.utils.data.DataLoader(train_dataset,\n",
        "                                          batch_size=64,\n",
        "                                          shuffle=True)"
      ],
      "metadata": {
        "id": "MUvBhXqCdLmq"
      },
      "execution_count": 63,
      "outputs": []
    },
    {
      "cell_type": "code",
      "source": [
        "class Neural(nn.Module):\n",
        "  def __init__(self): #init-constructor\n",
        "    super(Neural,self).__init__()\n",
        "    self.fc1=nn.Linear(3*32*32,256) #fc1=forward connection\n",
        "    self.fc2 = nn.Linear(256, 128)\n",
        "    self.fc3 = nn.Linear(128, 100)\n",
        "\n",
        "  def forward(self,x):\n",
        "    x=x.view(-1,3*32*32)\n",
        "    x=torch.relu(self.fc1(x))\n",
        "    x=torch.relu(self.fc2(x))\n",
        "    x=self.fc3(x)\n",
        "    return x\n",
        "net = Neural()"
      ],
      "metadata": {
        "id": "nP9-DywhdSBK"
      },
      "execution_count": 64,
      "outputs": []
    },
    {
      "cell_type": "code",
      "source": [
        "criterion = nn.CrossEntropyLoss()\n",
        "optimizer = optim.SGD(net.parameters(),lr=0.01,momentum=0.9)"
      ],
      "metadata": {
        "id": "zREcEEjUdUMR"
      },
      "execution_count": 59,
      "outputs": []
    },
    {
      "cell_type": "code",
      "source": [
        "num_epochs=25\n",
        "for epoch in range(num_epochs):\n",
        "  for batch_idx,(data,target) in enumerate (train_loader):\n",
        "    optimizer.zero_grad()\n",
        "    output=net(data)\n",
        "    loss =criterion(output,target)\n",
        "    loss.backward()\n",
        "    optimizer.step()\n",
        "    if batch_idx % 100==0:\n",
        "      print('Train Epoch: {} [{}/{} ({:.0f}%)]\\tLoss: {:.6f}'.format(\n",
        "                epoch, batch_idx * len(data), len(train_loader.dataset),\n",
        "                100. * batch_idx / len(train_loader), loss.item()))"
      ],
      "metadata": {
        "colab": {
          "base_uri": "https://localhost:8080/"
        },
        "id": "Dtzi4798dWnY",
        "outputId": "cd53d456-5f41-4921-e684-0cfb526fd784"
      },
      "execution_count": 56,
      "outputs": [
        {
          "output_type": "stream",
          "name": "stdout",
          "text": [
            "Train Epoch: 0 [0/50000 (0%)]\tLoss: 2.030212\n",
            "Train Epoch: 0 [6400/50000 (13%)]\tLoss: 1.892932\n",
            "Train Epoch: 0 [12800/50000 (26%)]\tLoss: 2.275547\n",
            "Train Epoch: 0 [19200/50000 (38%)]\tLoss: 1.916140\n",
            "Train Epoch: 0 [25600/50000 (51%)]\tLoss: 2.207858\n",
            "Train Epoch: 0 [32000/50000 (64%)]\tLoss: 2.697517\n",
            "Train Epoch: 0 [38400/50000 (77%)]\tLoss: 2.343628\n",
            "Train Epoch: 0 [44800/50000 (90%)]\tLoss: 2.446690\n",
            "Train Epoch: 1 [0/50000 (0%)]\tLoss: 1.984511\n",
            "Train Epoch: 1 [6400/50000 (13%)]\tLoss: 2.279267\n",
            "Train Epoch: 1 [12800/50000 (26%)]\tLoss: 1.494375\n",
            "Train Epoch: 1 [19200/50000 (38%)]\tLoss: 2.023885\n",
            "Train Epoch: 1 [25600/50000 (51%)]\tLoss: 2.444210\n",
            "Train Epoch: 1 [32000/50000 (64%)]\tLoss: 2.292977\n",
            "Train Epoch: 1 [38400/50000 (77%)]\tLoss: 2.333968\n",
            "Train Epoch: 1 [44800/50000 (90%)]\tLoss: 2.561028\n",
            "Train Epoch: 2 [0/50000 (0%)]\tLoss: 1.702135\n",
            "Train Epoch: 2 [6400/50000 (13%)]\tLoss: 1.925481\n",
            "Train Epoch: 2 [12800/50000 (26%)]\tLoss: 2.842866\n",
            "Train Epoch: 2 [19200/50000 (38%)]\tLoss: 2.431064\n",
            "Train Epoch: 2 [25600/50000 (51%)]\tLoss: 2.426286\n",
            "Train Epoch: 2 [32000/50000 (64%)]\tLoss: 2.141741\n",
            "Train Epoch: 2 [38400/50000 (77%)]\tLoss: 2.069410\n",
            "Train Epoch: 2 [44800/50000 (90%)]\tLoss: 1.969875\n",
            "Train Epoch: 3 [0/50000 (0%)]\tLoss: 2.082730\n",
            "Train Epoch: 3 [6400/50000 (13%)]\tLoss: 2.009832\n",
            "Train Epoch: 3 [12800/50000 (26%)]\tLoss: 2.013151\n",
            "Train Epoch: 3 [19200/50000 (38%)]\tLoss: 2.298212\n",
            "Train Epoch: 3 [25600/50000 (51%)]\tLoss: 2.489510\n",
            "Train Epoch: 3 [32000/50000 (64%)]\tLoss: 1.870527\n",
            "Train Epoch: 3 [38400/50000 (77%)]\tLoss: 1.854787\n",
            "Train Epoch: 3 [44800/50000 (90%)]\tLoss: 2.063109\n",
            "Train Epoch: 4 [0/50000 (0%)]\tLoss: 2.305034\n",
            "Train Epoch: 4 [6400/50000 (13%)]\tLoss: 2.065467\n",
            "Train Epoch: 4 [12800/50000 (26%)]\tLoss: 1.846073\n",
            "Train Epoch: 4 [19200/50000 (38%)]\tLoss: 2.137160\n",
            "Train Epoch: 4 [25600/50000 (51%)]\tLoss: 1.738209\n",
            "Train Epoch: 4 [32000/50000 (64%)]\tLoss: 2.218229\n",
            "Train Epoch: 4 [38400/50000 (77%)]\tLoss: 2.498632\n",
            "Train Epoch: 4 [44800/50000 (90%)]\tLoss: 2.091669\n",
            "Train Epoch: 5 [0/50000 (0%)]\tLoss: 1.918223\n",
            "Train Epoch: 5 [6400/50000 (13%)]\tLoss: 1.935363\n",
            "Train Epoch: 5 [12800/50000 (26%)]\tLoss: 1.624352\n",
            "Train Epoch: 5 [19200/50000 (38%)]\tLoss: 2.040444\n",
            "Train Epoch: 5 [25600/50000 (51%)]\tLoss: 1.911835\n",
            "Train Epoch: 5 [32000/50000 (64%)]\tLoss: 1.859743\n",
            "Train Epoch: 5 [38400/50000 (77%)]\tLoss: 2.266350\n",
            "Train Epoch: 5 [44800/50000 (90%)]\tLoss: 1.986250\n",
            "Train Epoch: 6 [0/50000 (0%)]\tLoss: 1.917489\n",
            "Train Epoch: 6 [6400/50000 (13%)]\tLoss: 2.151412\n",
            "Train Epoch: 6 [12800/50000 (26%)]\tLoss: 2.359811\n",
            "Train Epoch: 6 [19200/50000 (38%)]\tLoss: 1.817673\n",
            "Train Epoch: 6 [25600/50000 (51%)]\tLoss: 1.580143\n",
            "Train Epoch: 6 [32000/50000 (64%)]\tLoss: 2.249337\n",
            "Train Epoch: 6 [38400/50000 (77%)]\tLoss: 1.897069\n",
            "Train Epoch: 6 [44800/50000 (90%)]\tLoss: 2.239695\n",
            "Train Epoch: 7 [0/50000 (0%)]\tLoss: 2.095374\n",
            "Train Epoch: 7 [6400/50000 (13%)]\tLoss: 2.284627\n",
            "Train Epoch: 7 [12800/50000 (26%)]\tLoss: 1.766076\n",
            "Train Epoch: 7 [19200/50000 (38%)]\tLoss: 1.667328\n",
            "Train Epoch: 7 [25600/50000 (51%)]\tLoss: 2.136962\n",
            "Train Epoch: 7 [32000/50000 (64%)]\tLoss: 2.473263\n",
            "Train Epoch: 7 [38400/50000 (77%)]\tLoss: 2.174675\n",
            "Train Epoch: 7 [44800/50000 (90%)]\tLoss: 2.144248\n",
            "Train Epoch: 8 [0/50000 (0%)]\tLoss: 2.022158\n",
            "Train Epoch: 8 [6400/50000 (13%)]\tLoss: 1.887897\n",
            "Train Epoch: 8 [12800/50000 (26%)]\tLoss: 1.431361\n",
            "Train Epoch: 8 [19200/50000 (38%)]\tLoss: 2.043069\n",
            "Train Epoch: 8 [25600/50000 (51%)]\tLoss: 2.014321\n",
            "Train Epoch: 8 [32000/50000 (64%)]\tLoss: 2.070843\n",
            "Train Epoch: 8 [38400/50000 (77%)]\tLoss: 2.372938\n",
            "Train Epoch: 8 [44800/50000 (90%)]\tLoss: 2.042427\n",
            "Train Epoch: 9 [0/50000 (0%)]\tLoss: 1.895382\n",
            "Train Epoch: 9 [6400/50000 (13%)]\tLoss: 1.934970\n",
            "Train Epoch: 9 [12800/50000 (26%)]\tLoss: 1.886682\n",
            "Train Epoch: 9 [19200/50000 (38%)]\tLoss: 1.775572\n",
            "Train Epoch: 9 [25600/50000 (51%)]\tLoss: 1.902443\n",
            "Train Epoch: 9 [32000/50000 (64%)]\tLoss: 2.144265\n",
            "Train Epoch: 9 [38400/50000 (77%)]\tLoss: 2.468856\n",
            "Train Epoch: 9 [44800/50000 (90%)]\tLoss: 2.299853\n",
            "Train Epoch: 10 [0/50000 (0%)]\tLoss: 1.819264\n",
            "Train Epoch: 10 [6400/50000 (13%)]\tLoss: 1.921910\n",
            "Train Epoch: 10 [12800/50000 (26%)]\tLoss: 2.028445\n",
            "Train Epoch: 10 [19200/50000 (38%)]\tLoss: 1.714348\n",
            "Train Epoch: 10 [25600/50000 (51%)]\tLoss: 2.334996\n",
            "Train Epoch: 10 [32000/50000 (64%)]\tLoss: 1.882139\n",
            "Train Epoch: 10 [38400/50000 (77%)]\tLoss: 1.759001\n",
            "Train Epoch: 10 [44800/50000 (90%)]\tLoss: 2.080583\n",
            "Train Epoch: 11 [0/50000 (0%)]\tLoss: 2.184425\n",
            "Train Epoch: 11 [6400/50000 (13%)]\tLoss: 2.184003\n",
            "Train Epoch: 11 [12800/50000 (26%)]\tLoss: 1.773798\n",
            "Train Epoch: 11 [19200/50000 (38%)]\tLoss: 1.917135\n",
            "Train Epoch: 11 [25600/50000 (51%)]\tLoss: 2.192840\n",
            "Train Epoch: 11 [32000/50000 (64%)]\tLoss: 1.912290\n",
            "Train Epoch: 11 [38400/50000 (77%)]\tLoss: 1.862792\n",
            "Train Epoch: 11 [44800/50000 (90%)]\tLoss: 2.047961\n",
            "Train Epoch: 12 [0/50000 (0%)]\tLoss: 1.972540\n",
            "Train Epoch: 12 [6400/50000 (13%)]\tLoss: 1.815560\n",
            "Train Epoch: 12 [12800/50000 (26%)]\tLoss: 2.021066\n",
            "Train Epoch: 12 [19200/50000 (38%)]\tLoss: 1.956395\n",
            "Train Epoch: 12 [25600/50000 (51%)]\tLoss: 1.903017\n",
            "Train Epoch: 12 [32000/50000 (64%)]\tLoss: 2.297617\n",
            "Train Epoch: 12 [38400/50000 (77%)]\tLoss: 1.870836\n",
            "Train Epoch: 12 [44800/50000 (90%)]\tLoss: 1.671512\n",
            "Train Epoch: 13 [0/50000 (0%)]\tLoss: 1.789138\n",
            "Train Epoch: 13 [6400/50000 (13%)]\tLoss: 1.308242\n",
            "Train Epoch: 13 [12800/50000 (26%)]\tLoss: 1.701098\n",
            "Train Epoch: 13 [19200/50000 (38%)]\tLoss: 2.309771\n",
            "Train Epoch: 13 [25600/50000 (51%)]\tLoss: 2.204859\n",
            "Train Epoch: 13 [32000/50000 (64%)]\tLoss: 1.974152\n",
            "Train Epoch: 13 [38400/50000 (77%)]\tLoss: 2.151855\n",
            "Train Epoch: 13 [44800/50000 (90%)]\tLoss: 1.899617\n",
            "Train Epoch: 14 [0/50000 (0%)]\tLoss: 1.687762\n",
            "Train Epoch: 14 [6400/50000 (13%)]\tLoss: 2.244323\n",
            "Train Epoch: 14 [12800/50000 (26%)]\tLoss: 1.515672\n",
            "Train Epoch: 14 [19200/50000 (38%)]\tLoss: 1.853367\n",
            "Train Epoch: 14 [25600/50000 (51%)]\tLoss: 2.079892\n",
            "Train Epoch: 14 [32000/50000 (64%)]\tLoss: 1.553748\n",
            "Train Epoch: 14 [38400/50000 (77%)]\tLoss: 1.965081\n",
            "Train Epoch: 14 [44800/50000 (90%)]\tLoss: 2.195019\n",
            "Train Epoch: 15 [0/50000 (0%)]\tLoss: 1.776052\n",
            "Train Epoch: 15 [6400/50000 (13%)]\tLoss: 1.914620\n",
            "Train Epoch: 15 [12800/50000 (26%)]\tLoss: 1.727576\n",
            "Train Epoch: 15 [19200/50000 (38%)]\tLoss: 1.756147\n",
            "Train Epoch: 15 [25600/50000 (51%)]\tLoss: 1.862461\n",
            "Train Epoch: 15 [32000/50000 (64%)]\tLoss: 2.078187\n",
            "Train Epoch: 15 [38400/50000 (77%)]\tLoss: 1.985740\n",
            "Train Epoch: 15 [44800/50000 (90%)]\tLoss: 2.218596\n",
            "Train Epoch: 16 [0/50000 (0%)]\tLoss: 2.045687\n",
            "Train Epoch: 16 [6400/50000 (13%)]\tLoss: 1.689374\n",
            "Train Epoch: 16 [12800/50000 (26%)]\tLoss: 1.786385\n",
            "Train Epoch: 16 [19200/50000 (38%)]\tLoss: 1.488265\n",
            "Train Epoch: 16 [25600/50000 (51%)]\tLoss: 1.619604\n",
            "Train Epoch: 16 [32000/50000 (64%)]\tLoss: 2.125097\n",
            "Train Epoch: 16 [38400/50000 (77%)]\tLoss: 2.036228\n",
            "Train Epoch: 16 [44800/50000 (90%)]\tLoss: 1.957432\n",
            "Train Epoch: 17 [0/50000 (0%)]\tLoss: 1.813239\n",
            "Train Epoch: 17 [6400/50000 (13%)]\tLoss: 1.719736\n",
            "Train Epoch: 17 [12800/50000 (26%)]\tLoss: 2.056248\n",
            "Train Epoch: 17 [19200/50000 (38%)]\tLoss: 1.596465\n",
            "Train Epoch: 17 [25600/50000 (51%)]\tLoss: 1.871104\n",
            "Train Epoch: 17 [32000/50000 (64%)]\tLoss: 1.827101\n",
            "Train Epoch: 17 [38400/50000 (77%)]\tLoss: 2.292199\n",
            "Train Epoch: 17 [44800/50000 (90%)]\tLoss: 1.588246\n",
            "Train Epoch: 18 [0/50000 (0%)]\tLoss: 1.579770\n",
            "Train Epoch: 18 [6400/50000 (13%)]\tLoss: 1.841859\n",
            "Train Epoch: 18 [12800/50000 (26%)]\tLoss: 1.459272\n",
            "Train Epoch: 18 [19200/50000 (38%)]\tLoss: 1.876118\n",
            "Train Epoch: 18 [25600/50000 (51%)]\tLoss: 1.684518\n",
            "Train Epoch: 18 [32000/50000 (64%)]\tLoss: 1.786812\n",
            "Train Epoch: 18 [38400/50000 (77%)]\tLoss: 1.835397\n",
            "Train Epoch: 18 [44800/50000 (90%)]\tLoss: 1.927286\n",
            "Train Epoch: 19 [0/50000 (0%)]\tLoss: 1.777052\n",
            "Train Epoch: 19 [6400/50000 (13%)]\tLoss: 1.668229\n",
            "Train Epoch: 19 [12800/50000 (26%)]\tLoss: 1.690635\n",
            "Train Epoch: 19 [19200/50000 (38%)]\tLoss: 1.654239\n",
            "Train Epoch: 19 [25600/50000 (51%)]\tLoss: 1.651410\n",
            "Train Epoch: 19 [32000/50000 (64%)]\tLoss: 2.147470\n",
            "Train Epoch: 19 [38400/50000 (77%)]\tLoss: 1.876367\n",
            "Train Epoch: 19 [44800/50000 (90%)]\tLoss: 2.011288\n",
            "Train Epoch: 20 [0/50000 (0%)]\tLoss: 1.593578\n",
            "Train Epoch: 20 [6400/50000 (13%)]\tLoss: 1.764948\n",
            "Train Epoch: 20 [12800/50000 (26%)]\tLoss: 1.825121\n",
            "Train Epoch: 20 [19200/50000 (38%)]\tLoss: 1.713807\n",
            "Train Epoch: 20 [25600/50000 (51%)]\tLoss: 1.688495\n",
            "Train Epoch: 20 [32000/50000 (64%)]\tLoss: 1.534846\n",
            "Train Epoch: 20 [38400/50000 (77%)]\tLoss: 1.747151\n",
            "Train Epoch: 20 [44800/50000 (90%)]\tLoss: 2.004036\n",
            "Train Epoch: 21 [0/50000 (0%)]\tLoss: 1.368233\n",
            "Train Epoch: 21 [6400/50000 (13%)]\tLoss: 1.266568\n",
            "Train Epoch: 21 [12800/50000 (26%)]\tLoss: 1.499715\n",
            "Train Epoch: 21 [19200/50000 (38%)]\tLoss: 1.796144\n",
            "Train Epoch: 21 [25600/50000 (51%)]\tLoss: 1.624622\n",
            "Train Epoch: 21 [32000/50000 (64%)]\tLoss: 1.700426\n",
            "Train Epoch: 21 [38400/50000 (77%)]\tLoss: 1.570888\n",
            "Train Epoch: 21 [44800/50000 (90%)]\tLoss: 1.692924\n",
            "Train Epoch: 22 [0/50000 (0%)]\tLoss: 1.717103\n",
            "Train Epoch: 22 [6400/50000 (13%)]\tLoss: 1.690071\n",
            "Train Epoch: 22 [12800/50000 (26%)]\tLoss: 1.486202\n",
            "Train Epoch: 22 [19200/50000 (38%)]\tLoss: 1.578467\n",
            "Train Epoch: 22 [25600/50000 (51%)]\tLoss: 1.748708\n",
            "Train Epoch: 22 [32000/50000 (64%)]\tLoss: 1.641028\n",
            "Train Epoch: 22 [38400/50000 (77%)]\tLoss: 1.794250\n",
            "Train Epoch: 22 [44800/50000 (90%)]\tLoss: 1.885300\n",
            "Train Epoch: 23 [0/50000 (0%)]\tLoss: 1.487307\n",
            "Train Epoch: 23 [6400/50000 (13%)]\tLoss: 1.886019\n",
            "Train Epoch: 23 [12800/50000 (26%)]\tLoss: 1.845466\n",
            "Train Epoch: 23 [19200/50000 (38%)]\tLoss: 1.616175\n",
            "Train Epoch: 23 [25600/50000 (51%)]\tLoss: 1.350897\n",
            "Train Epoch: 23 [32000/50000 (64%)]\tLoss: 1.642748\n",
            "Train Epoch: 23 [38400/50000 (77%)]\tLoss: 1.483941\n",
            "Train Epoch: 23 [44800/50000 (90%)]\tLoss: 1.896368\n",
            "Train Epoch: 24 [0/50000 (0%)]\tLoss: 1.827747\n",
            "Train Epoch: 24 [6400/50000 (13%)]\tLoss: 1.392834\n",
            "Train Epoch: 24 [12800/50000 (26%)]\tLoss: 1.890318\n",
            "Train Epoch: 24 [19200/50000 (38%)]\tLoss: 1.512915\n",
            "Train Epoch: 24 [25600/50000 (51%)]\tLoss: 2.019023\n",
            "Train Epoch: 24 [32000/50000 (64%)]\tLoss: 1.701319\n",
            "Train Epoch: 24 [38400/50000 (77%)]\tLoss: 1.838291\n",
            "Train Epoch: 24 [44800/50000 (90%)]\tLoss: 1.679662\n"
          ]
        }
      ]
    },
    {
      "cell_type": "code",
      "source": [
        "test_dataset=datasets.MNIST('data',train=False,download=True,transform=transform)\n",
        "test_loader=torch.utils.data.DataLoader(test_dataset,batch_size=1000,shuffle=True)\n",
        "correct=0\n",
        "total=0\n",
        "with torch.no_grad():\n",
        "  output=net(data)\n",
        "  _,predicted=torch.max(output.data,1)\n",
        "  total+=target.size(0)\n",
        "  correct+=(predicted==target).sum().item()"
      ],
      "metadata": {
        "id": "lgiTqwKBdZKi"
      },
      "execution_count": 57,
      "outputs": []
    },
    {
      "cell_type": "code",
      "source": [
        "print('Accuracy of the network on the 10000 test images: %d %%' % (100 * correct / total))"
      ],
      "metadata": {
        "colab": {
          "base_uri": "https://localhost:8080/"
        },
        "id": "g44RzUF0gZhU",
        "outputId": "33ae6756-e2be-42fc-96cc-c9a13259b6bc"
      },
      "execution_count": 58,
      "outputs": [
        {
          "output_type": "stream",
          "name": "stdout",
          "text": [
            "Accuracy of the network on the 10000 test images: 81 %\n"
          ]
        }
      ]
    },
    {
      "cell_type": "code",
      "source": [],
      "metadata": {
        "id": "xgT3h68PgmL-"
      },
      "execution_count": 64,
      "outputs": []
    }
  ]
}