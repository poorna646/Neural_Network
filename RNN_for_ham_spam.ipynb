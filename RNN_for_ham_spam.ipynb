{
  "nbformat": 4,
  "nbformat_minor": 0,
  "metadata": {
    "colab": {
      "provenance": []
    },
    "kernelspec": {
      "name": "python3",
      "display_name": "Python 3"
    },
    "language_info": {
      "name": "python"
    }
  },
  "cells": [
    {
      "cell_type": "code",
      "execution_count": null,
      "metadata": {
        "id": "_QH9AlvZKc0G"
      },
      "outputs": [],
      "source": [
        "import pandas as pd"
      ]
    },
    {
      "cell_type": "code",
      "source": [
        "df= pd.read_csv('https://raw.githubusercontent.com/soaicbe/ml/master/spam.csv')\n",
        "df"
      ],
      "metadata": {
        "colab": {
          "base_uri": "https://localhost:8080/",
          "height": 423
        },
        "id": "o8kfHHA_n_gc",
        "outputId": "be532f59-c870-4579-8982-7c1ae48a6ff1"
      },
      "execution_count": null,
      "outputs": [
        {
          "output_type": "execute_result",
          "data": {
            "text/plain": [
              "     Category                                            Message\n",
              "0         ham  Go until jurong point, crazy.. Available only ...\n",
              "1         ham                      Ok lar... Joking wif u oni...\n",
              "2        spam  Free entry in 2 a wkly comp to win FA Cup fina...\n",
              "3         ham  U dun say so early hor... U c already then say...\n",
              "4         ham  Nah I don't think he goes to usf, he lives aro...\n",
              "...       ...                                                ...\n",
              "5567     spam  This is the 2nd time we have tried 2 contact u...\n",
              "5568      ham               Will ü b going to esplanade fr home?\n",
              "5569      ham  Pity, * was in mood for that. So...any other s...\n",
              "5570      ham  The guy did some bitching but I acted like i'd...\n",
              "5571      ham                         Rofl. Its true to its name\n",
              "\n",
              "[5572 rows x 2 columns]"
            ],
            "text/html": [
              "\n",
              "  <div id=\"df-c3e5b920-6cc1-4085-906b-aec2d28890de\" class=\"colab-df-container\">\n",
              "    <div>\n",
              "<style scoped>\n",
              "    .dataframe tbody tr th:only-of-type {\n",
              "        vertical-align: middle;\n",
              "    }\n",
              "\n",
              "    .dataframe tbody tr th {\n",
              "        vertical-align: top;\n",
              "    }\n",
              "\n",
              "    .dataframe thead th {\n",
              "        text-align: right;\n",
              "    }\n",
              "</style>\n",
              "<table border=\"1\" class=\"dataframe\">\n",
              "  <thead>\n",
              "    <tr style=\"text-align: right;\">\n",
              "      <th></th>\n",
              "      <th>Category</th>\n",
              "      <th>Message</th>\n",
              "    </tr>\n",
              "  </thead>\n",
              "  <tbody>\n",
              "    <tr>\n",
              "      <th>0</th>\n",
              "      <td>ham</td>\n",
              "      <td>Go until jurong point, crazy.. Available only ...</td>\n",
              "    </tr>\n",
              "    <tr>\n",
              "      <th>1</th>\n",
              "      <td>ham</td>\n",
              "      <td>Ok lar... Joking wif u oni...</td>\n",
              "    </tr>\n",
              "    <tr>\n",
              "      <th>2</th>\n",
              "      <td>spam</td>\n",
              "      <td>Free entry in 2 a wkly comp to win FA Cup fina...</td>\n",
              "    </tr>\n",
              "    <tr>\n",
              "      <th>3</th>\n",
              "      <td>ham</td>\n",
              "      <td>U dun say so early hor... U c already then say...</td>\n",
              "    </tr>\n",
              "    <tr>\n",
              "      <th>4</th>\n",
              "      <td>ham</td>\n",
              "      <td>Nah I don't think he goes to usf, he lives aro...</td>\n",
              "    </tr>\n",
              "    <tr>\n",
              "      <th>...</th>\n",
              "      <td>...</td>\n",
              "      <td>...</td>\n",
              "    </tr>\n",
              "    <tr>\n",
              "      <th>5567</th>\n",
              "      <td>spam</td>\n",
              "      <td>This is the 2nd time we have tried 2 contact u...</td>\n",
              "    </tr>\n",
              "    <tr>\n",
              "      <th>5568</th>\n",
              "      <td>ham</td>\n",
              "      <td>Will ü b going to esplanade fr home?</td>\n",
              "    </tr>\n",
              "    <tr>\n",
              "      <th>5569</th>\n",
              "      <td>ham</td>\n",
              "      <td>Pity, * was in mood for that. So...any other s...</td>\n",
              "    </tr>\n",
              "    <tr>\n",
              "      <th>5570</th>\n",
              "      <td>ham</td>\n",
              "      <td>The guy did some bitching but I acted like i'd...</td>\n",
              "    </tr>\n",
              "    <tr>\n",
              "      <th>5571</th>\n",
              "      <td>ham</td>\n",
              "      <td>Rofl. Its true to its name</td>\n",
              "    </tr>\n",
              "  </tbody>\n",
              "</table>\n",
              "<p>5572 rows × 2 columns</p>\n",
              "</div>\n",
              "    <div class=\"colab-df-buttons\">\n",
              "\n",
              "  <div class=\"colab-df-container\">\n",
              "    <button class=\"colab-df-convert\" onclick=\"convertToInteractive('df-c3e5b920-6cc1-4085-906b-aec2d28890de')\"\n",
              "            title=\"Convert this dataframe to an interactive table.\"\n",
              "            style=\"display:none;\">\n",
              "\n",
              "  <svg xmlns=\"http://www.w3.org/2000/svg\" height=\"24px\" viewBox=\"0 -960 960 960\">\n",
              "    <path d=\"M120-120v-720h720v720H120Zm60-500h600v-160H180v160Zm220 220h160v-160H400v160Zm0 220h160v-160H400v160ZM180-400h160v-160H180v160Zm440 0h160v-160H620v160ZM180-180h160v-160H180v160Zm440 0h160v-160H620v160Z\"/>\n",
              "  </svg>\n",
              "    </button>\n",
              "\n",
              "  <style>\n",
              "    .colab-df-container {\n",
              "      display:flex;\n",
              "      gap: 12px;\n",
              "    }\n",
              "\n",
              "    .colab-df-convert {\n",
              "      background-color: #E8F0FE;\n",
              "      border: none;\n",
              "      border-radius: 50%;\n",
              "      cursor: pointer;\n",
              "      display: none;\n",
              "      fill: #1967D2;\n",
              "      height: 32px;\n",
              "      padding: 0 0 0 0;\n",
              "      width: 32px;\n",
              "    }\n",
              "\n",
              "    .colab-df-convert:hover {\n",
              "      background-color: #E2EBFA;\n",
              "      box-shadow: 0px 1px 2px rgba(60, 64, 67, 0.3), 0px 1px 3px 1px rgba(60, 64, 67, 0.15);\n",
              "      fill: #174EA6;\n",
              "    }\n",
              "\n",
              "    .colab-df-buttons div {\n",
              "      margin-bottom: 4px;\n",
              "    }\n",
              "\n",
              "    [theme=dark] .colab-df-convert {\n",
              "      background-color: #3B4455;\n",
              "      fill: #D2E3FC;\n",
              "    }\n",
              "\n",
              "    [theme=dark] .colab-df-convert:hover {\n",
              "      background-color: #434B5C;\n",
              "      box-shadow: 0px 1px 3px 1px rgba(0, 0, 0, 0.15);\n",
              "      filter: drop-shadow(0px 1px 2px rgba(0, 0, 0, 0.3));\n",
              "      fill: #FFFFFF;\n",
              "    }\n",
              "  </style>\n",
              "\n",
              "    <script>\n",
              "      const buttonEl =\n",
              "        document.querySelector('#df-c3e5b920-6cc1-4085-906b-aec2d28890de button.colab-df-convert');\n",
              "      buttonEl.style.display =\n",
              "        google.colab.kernel.accessAllowed ? 'block' : 'none';\n",
              "\n",
              "      async function convertToInteractive(key) {\n",
              "        const element = document.querySelector('#df-c3e5b920-6cc1-4085-906b-aec2d28890de');\n",
              "        const dataTable =\n",
              "          await google.colab.kernel.invokeFunction('convertToInteractive',\n",
              "                                                    [key], {});\n",
              "        if (!dataTable) return;\n",
              "\n",
              "        const docLinkHtml = 'Like what you see? Visit the ' +\n",
              "          '<a target=\"_blank\" href=https://colab.research.google.com/notebooks/data_table.ipynb>data table notebook</a>'\n",
              "          + ' to learn more about interactive tables.';\n",
              "        element.innerHTML = '';\n",
              "        dataTable['output_type'] = 'display_data';\n",
              "        await google.colab.output.renderOutput(dataTable, element);\n",
              "        const docLink = document.createElement('div');\n",
              "        docLink.innerHTML = docLinkHtml;\n",
              "        element.appendChild(docLink);\n",
              "      }\n",
              "    </script>\n",
              "  </div>\n",
              "\n",
              "\n",
              "<div id=\"df-63266815-3c02-4e34-89f7-2520847f30eb\">\n",
              "  <button class=\"colab-df-quickchart\" onclick=\"quickchart('df-63266815-3c02-4e34-89f7-2520847f30eb')\"\n",
              "            title=\"Suggest charts\"\n",
              "            style=\"display:none;\">\n",
              "\n",
              "<svg xmlns=\"http://www.w3.org/2000/svg\" height=\"24px\"viewBox=\"0 0 24 24\"\n",
              "     width=\"24px\">\n",
              "    <g>\n",
              "        <path d=\"M19 3H5c-1.1 0-2 .9-2 2v14c0 1.1.9 2 2 2h14c1.1 0 2-.9 2-2V5c0-1.1-.9-2-2-2zM9 17H7v-7h2v7zm4 0h-2V7h2v10zm4 0h-2v-4h2v4z\"/>\n",
              "    </g>\n",
              "</svg>\n",
              "  </button>\n",
              "\n",
              "<style>\n",
              "  .colab-df-quickchart {\n",
              "      --bg-color: #E8F0FE;\n",
              "      --fill-color: #1967D2;\n",
              "      --hover-bg-color: #E2EBFA;\n",
              "      --hover-fill-color: #174EA6;\n",
              "      --disabled-fill-color: #AAA;\n",
              "      --disabled-bg-color: #DDD;\n",
              "  }\n",
              "\n",
              "  [theme=dark] .colab-df-quickchart {\n",
              "      --bg-color: #3B4455;\n",
              "      --fill-color: #D2E3FC;\n",
              "      --hover-bg-color: #434B5C;\n",
              "      --hover-fill-color: #FFFFFF;\n",
              "      --disabled-bg-color: #3B4455;\n",
              "      --disabled-fill-color: #666;\n",
              "  }\n",
              "\n",
              "  .colab-df-quickchart {\n",
              "    background-color: var(--bg-color);\n",
              "    border: none;\n",
              "    border-radius: 50%;\n",
              "    cursor: pointer;\n",
              "    display: none;\n",
              "    fill: var(--fill-color);\n",
              "    height: 32px;\n",
              "    padding: 0;\n",
              "    width: 32px;\n",
              "  }\n",
              "\n",
              "  .colab-df-quickchart:hover {\n",
              "    background-color: var(--hover-bg-color);\n",
              "    box-shadow: 0 1px 2px rgba(60, 64, 67, 0.3), 0 1px 3px 1px rgba(60, 64, 67, 0.15);\n",
              "    fill: var(--button-hover-fill-color);\n",
              "  }\n",
              "\n",
              "  .colab-df-quickchart-complete:disabled,\n",
              "  .colab-df-quickchart-complete:disabled:hover {\n",
              "    background-color: var(--disabled-bg-color);\n",
              "    fill: var(--disabled-fill-color);\n",
              "    box-shadow: none;\n",
              "  }\n",
              "\n",
              "  .colab-df-spinner {\n",
              "    border: 2px solid var(--fill-color);\n",
              "    border-color: transparent;\n",
              "    border-bottom-color: var(--fill-color);\n",
              "    animation:\n",
              "      spin 1s steps(1) infinite;\n",
              "  }\n",
              "\n",
              "  @keyframes spin {\n",
              "    0% {\n",
              "      border-color: transparent;\n",
              "      border-bottom-color: var(--fill-color);\n",
              "      border-left-color: var(--fill-color);\n",
              "    }\n",
              "    20% {\n",
              "      border-color: transparent;\n",
              "      border-left-color: var(--fill-color);\n",
              "      border-top-color: var(--fill-color);\n",
              "    }\n",
              "    30% {\n",
              "      border-color: transparent;\n",
              "      border-left-color: var(--fill-color);\n",
              "      border-top-color: var(--fill-color);\n",
              "      border-right-color: var(--fill-color);\n",
              "    }\n",
              "    40% {\n",
              "      border-color: transparent;\n",
              "      border-right-color: var(--fill-color);\n",
              "      border-top-color: var(--fill-color);\n",
              "    }\n",
              "    60% {\n",
              "      border-color: transparent;\n",
              "      border-right-color: var(--fill-color);\n",
              "    }\n",
              "    80% {\n",
              "      border-color: transparent;\n",
              "      border-right-color: var(--fill-color);\n",
              "      border-bottom-color: var(--fill-color);\n",
              "    }\n",
              "    90% {\n",
              "      border-color: transparent;\n",
              "      border-bottom-color: var(--fill-color);\n",
              "    }\n",
              "  }\n",
              "</style>\n",
              "\n",
              "  <script>\n",
              "    async function quickchart(key) {\n",
              "      const quickchartButtonEl =\n",
              "        document.querySelector('#' + key + ' button');\n",
              "      quickchartButtonEl.disabled = true;  // To prevent multiple clicks.\n",
              "      quickchartButtonEl.classList.add('colab-df-spinner');\n",
              "      try {\n",
              "        const charts = await google.colab.kernel.invokeFunction(\n",
              "            'suggestCharts', [key], {});\n",
              "      } catch (error) {\n",
              "        console.error('Error during call to suggestCharts:', error);\n",
              "      }\n",
              "      quickchartButtonEl.classList.remove('colab-df-spinner');\n",
              "      quickchartButtonEl.classList.add('colab-df-quickchart-complete');\n",
              "    }\n",
              "    (() => {\n",
              "      let quickchartButtonEl =\n",
              "        document.querySelector('#df-63266815-3c02-4e34-89f7-2520847f30eb button');\n",
              "      quickchartButtonEl.style.display =\n",
              "        google.colab.kernel.accessAllowed ? 'block' : 'none';\n",
              "    })();\n",
              "  </script>\n",
              "</div>\n",
              "\n",
              "  <div id=\"id_eda64275-1815-4804-b1b2-6ef47f26afdc\">\n",
              "    <style>\n",
              "      .colab-df-generate {\n",
              "        background-color: #E8F0FE;\n",
              "        border: none;\n",
              "        border-radius: 50%;\n",
              "        cursor: pointer;\n",
              "        display: none;\n",
              "        fill: #1967D2;\n",
              "        height: 32px;\n",
              "        padding: 0 0 0 0;\n",
              "        width: 32px;\n",
              "      }\n",
              "\n",
              "      .colab-df-generate:hover {\n",
              "        background-color: #E2EBFA;\n",
              "        box-shadow: 0px 1px 2px rgba(60, 64, 67, 0.3), 0px 1px 3px 1px rgba(60, 64, 67, 0.15);\n",
              "        fill: #174EA6;\n",
              "      }\n",
              "\n",
              "      [theme=dark] .colab-df-generate {\n",
              "        background-color: #3B4455;\n",
              "        fill: #D2E3FC;\n",
              "      }\n",
              "\n",
              "      [theme=dark] .colab-df-generate:hover {\n",
              "        background-color: #434B5C;\n",
              "        box-shadow: 0px 1px 3px 1px rgba(0, 0, 0, 0.15);\n",
              "        filter: drop-shadow(0px 1px 2px rgba(0, 0, 0, 0.3));\n",
              "        fill: #FFFFFF;\n",
              "      }\n",
              "    </style>\n",
              "    <button class=\"colab-df-generate\" onclick=\"generateWithVariable('df')\"\n",
              "            title=\"Generate code using this dataframe.\"\n",
              "            style=\"display:none;\">\n",
              "\n",
              "  <svg xmlns=\"http://www.w3.org/2000/svg\" height=\"24px\"viewBox=\"0 0 24 24\"\n",
              "       width=\"24px\">\n",
              "    <path d=\"M7,19H8.4L18.45,9,17,7.55,7,17.6ZM5,21V16.75L18.45,3.32a2,2,0,0,1,2.83,0l1.4,1.43a1.91,1.91,0,0,1,.58,1.4,1.91,1.91,0,0,1-.58,1.4L9.25,21ZM18.45,9,17,7.55Zm-12,3A5.31,5.31,0,0,0,4.9,8.1,5.31,5.31,0,0,0,1,6.5,5.31,5.31,0,0,0,4.9,4.9,5.31,5.31,0,0,0,6.5,1,5.31,5.31,0,0,0,8.1,4.9,5.31,5.31,0,0,0,12,6.5,5.46,5.46,0,0,0,6.5,12Z\"/>\n",
              "  </svg>\n",
              "    </button>\n",
              "    <script>\n",
              "      (() => {\n",
              "      const buttonEl =\n",
              "        document.querySelector('#id_eda64275-1815-4804-b1b2-6ef47f26afdc button.colab-df-generate');\n",
              "      buttonEl.style.display =\n",
              "        google.colab.kernel.accessAllowed ? 'block' : 'none';\n",
              "\n",
              "      buttonEl.onclick = () => {\n",
              "        google.colab.notebook.generateWithVariable('df');\n",
              "      }\n",
              "      })();\n",
              "    </script>\n",
              "  </div>\n",
              "\n",
              "    </div>\n",
              "  </div>\n"
            ]
          },
          "metadata": {},
          "execution_count": 3
        }
      ]
    },
    {
      "cell_type": "code",
      "source": [
        "df.head()"
      ],
      "metadata": {
        "colab": {
          "base_uri": "https://localhost:8080/",
          "height": 206
        },
        "id": "2e05WDozoIeI",
        "outputId": "5d451178-99ff-4d98-c449-4125ff681ab1"
      },
      "execution_count": null,
      "outputs": [
        {
          "output_type": "execute_result",
          "data": {
            "text/plain": [
              "  Category                                            Message\n",
              "0      ham  Go until jurong point, crazy.. Available only ...\n",
              "1      ham                      Ok lar... Joking wif u oni...\n",
              "2     spam  Free entry in 2 a wkly comp to win FA Cup fina...\n",
              "3      ham  U dun say so early hor... U c already then say...\n",
              "4      ham  Nah I don't think he goes to usf, he lives aro..."
            ],
            "text/html": [
              "\n",
              "  <div id=\"df-56b19d19-975d-4a74-b858-9d18d5b66b8b\" class=\"colab-df-container\">\n",
              "    <div>\n",
              "<style scoped>\n",
              "    .dataframe tbody tr th:only-of-type {\n",
              "        vertical-align: middle;\n",
              "    }\n",
              "\n",
              "    .dataframe tbody tr th {\n",
              "        vertical-align: top;\n",
              "    }\n",
              "\n",
              "    .dataframe thead th {\n",
              "        text-align: right;\n",
              "    }\n",
              "</style>\n",
              "<table border=\"1\" class=\"dataframe\">\n",
              "  <thead>\n",
              "    <tr style=\"text-align: right;\">\n",
              "      <th></th>\n",
              "      <th>Category</th>\n",
              "      <th>Message</th>\n",
              "    </tr>\n",
              "  </thead>\n",
              "  <tbody>\n",
              "    <tr>\n",
              "      <th>0</th>\n",
              "      <td>ham</td>\n",
              "      <td>Go until jurong point, crazy.. Available only ...</td>\n",
              "    </tr>\n",
              "    <tr>\n",
              "      <th>1</th>\n",
              "      <td>ham</td>\n",
              "      <td>Ok lar... Joking wif u oni...</td>\n",
              "    </tr>\n",
              "    <tr>\n",
              "      <th>2</th>\n",
              "      <td>spam</td>\n",
              "      <td>Free entry in 2 a wkly comp to win FA Cup fina...</td>\n",
              "    </tr>\n",
              "    <tr>\n",
              "      <th>3</th>\n",
              "      <td>ham</td>\n",
              "      <td>U dun say so early hor... U c already then say...</td>\n",
              "    </tr>\n",
              "    <tr>\n",
              "      <th>4</th>\n",
              "      <td>ham</td>\n",
              "      <td>Nah I don't think he goes to usf, he lives aro...</td>\n",
              "    </tr>\n",
              "  </tbody>\n",
              "</table>\n",
              "</div>\n",
              "    <div class=\"colab-df-buttons\">\n",
              "\n",
              "  <div class=\"colab-df-container\">\n",
              "    <button class=\"colab-df-convert\" onclick=\"convertToInteractive('df-56b19d19-975d-4a74-b858-9d18d5b66b8b')\"\n",
              "            title=\"Convert this dataframe to an interactive table.\"\n",
              "            style=\"display:none;\">\n",
              "\n",
              "  <svg xmlns=\"http://www.w3.org/2000/svg\" height=\"24px\" viewBox=\"0 -960 960 960\">\n",
              "    <path d=\"M120-120v-720h720v720H120Zm60-500h600v-160H180v160Zm220 220h160v-160H400v160Zm0 220h160v-160H400v160ZM180-400h160v-160H180v160Zm440 0h160v-160H620v160ZM180-180h160v-160H180v160Zm440 0h160v-160H620v160Z\"/>\n",
              "  </svg>\n",
              "    </button>\n",
              "\n",
              "  <style>\n",
              "    .colab-df-container {\n",
              "      display:flex;\n",
              "      gap: 12px;\n",
              "    }\n",
              "\n",
              "    .colab-df-convert {\n",
              "      background-color: #E8F0FE;\n",
              "      border: none;\n",
              "      border-radius: 50%;\n",
              "      cursor: pointer;\n",
              "      display: none;\n",
              "      fill: #1967D2;\n",
              "      height: 32px;\n",
              "      padding: 0 0 0 0;\n",
              "      width: 32px;\n",
              "    }\n",
              "\n",
              "    .colab-df-convert:hover {\n",
              "      background-color: #E2EBFA;\n",
              "      box-shadow: 0px 1px 2px rgba(60, 64, 67, 0.3), 0px 1px 3px 1px rgba(60, 64, 67, 0.15);\n",
              "      fill: #174EA6;\n",
              "    }\n",
              "\n",
              "    .colab-df-buttons div {\n",
              "      margin-bottom: 4px;\n",
              "    }\n",
              "\n",
              "    [theme=dark] .colab-df-convert {\n",
              "      background-color: #3B4455;\n",
              "      fill: #D2E3FC;\n",
              "    }\n",
              "\n",
              "    [theme=dark] .colab-df-convert:hover {\n",
              "      background-color: #434B5C;\n",
              "      box-shadow: 0px 1px 3px 1px rgba(0, 0, 0, 0.15);\n",
              "      filter: drop-shadow(0px 1px 2px rgba(0, 0, 0, 0.3));\n",
              "      fill: #FFFFFF;\n",
              "    }\n",
              "  </style>\n",
              "\n",
              "    <script>\n",
              "      const buttonEl =\n",
              "        document.querySelector('#df-56b19d19-975d-4a74-b858-9d18d5b66b8b button.colab-df-convert');\n",
              "      buttonEl.style.display =\n",
              "        google.colab.kernel.accessAllowed ? 'block' : 'none';\n",
              "\n",
              "      async function convertToInteractive(key) {\n",
              "        const element = document.querySelector('#df-56b19d19-975d-4a74-b858-9d18d5b66b8b');\n",
              "        const dataTable =\n",
              "          await google.colab.kernel.invokeFunction('convertToInteractive',\n",
              "                                                    [key], {});\n",
              "        if (!dataTable) return;\n",
              "\n",
              "        const docLinkHtml = 'Like what you see? Visit the ' +\n",
              "          '<a target=\"_blank\" href=https://colab.research.google.com/notebooks/data_table.ipynb>data table notebook</a>'\n",
              "          + ' to learn more about interactive tables.';\n",
              "        element.innerHTML = '';\n",
              "        dataTable['output_type'] = 'display_data';\n",
              "        await google.colab.output.renderOutput(dataTable, element);\n",
              "        const docLink = document.createElement('div');\n",
              "        docLink.innerHTML = docLinkHtml;\n",
              "        element.appendChild(docLink);\n",
              "      }\n",
              "    </script>\n",
              "  </div>\n",
              "\n",
              "\n",
              "<div id=\"df-8d5c1823-fca9-4741-8501-6a49cd46d1bd\">\n",
              "  <button class=\"colab-df-quickchart\" onclick=\"quickchart('df-8d5c1823-fca9-4741-8501-6a49cd46d1bd')\"\n",
              "            title=\"Suggest charts\"\n",
              "            style=\"display:none;\">\n",
              "\n",
              "<svg xmlns=\"http://www.w3.org/2000/svg\" height=\"24px\"viewBox=\"0 0 24 24\"\n",
              "     width=\"24px\">\n",
              "    <g>\n",
              "        <path d=\"M19 3H5c-1.1 0-2 .9-2 2v14c0 1.1.9 2 2 2h14c1.1 0 2-.9 2-2V5c0-1.1-.9-2-2-2zM9 17H7v-7h2v7zm4 0h-2V7h2v10zm4 0h-2v-4h2v4z\"/>\n",
              "    </g>\n",
              "</svg>\n",
              "  </button>\n",
              "\n",
              "<style>\n",
              "  .colab-df-quickchart {\n",
              "      --bg-color: #E8F0FE;\n",
              "      --fill-color: #1967D2;\n",
              "      --hover-bg-color: #E2EBFA;\n",
              "      --hover-fill-color: #174EA6;\n",
              "      --disabled-fill-color: #AAA;\n",
              "      --disabled-bg-color: #DDD;\n",
              "  }\n",
              "\n",
              "  [theme=dark] .colab-df-quickchart {\n",
              "      --bg-color: #3B4455;\n",
              "      --fill-color: #D2E3FC;\n",
              "      --hover-bg-color: #434B5C;\n",
              "      --hover-fill-color: #FFFFFF;\n",
              "      --disabled-bg-color: #3B4455;\n",
              "      --disabled-fill-color: #666;\n",
              "  }\n",
              "\n",
              "  .colab-df-quickchart {\n",
              "    background-color: var(--bg-color);\n",
              "    border: none;\n",
              "    border-radius: 50%;\n",
              "    cursor: pointer;\n",
              "    display: none;\n",
              "    fill: var(--fill-color);\n",
              "    height: 32px;\n",
              "    padding: 0;\n",
              "    width: 32px;\n",
              "  }\n",
              "\n",
              "  .colab-df-quickchart:hover {\n",
              "    background-color: var(--hover-bg-color);\n",
              "    box-shadow: 0 1px 2px rgba(60, 64, 67, 0.3), 0 1px 3px 1px rgba(60, 64, 67, 0.15);\n",
              "    fill: var(--button-hover-fill-color);\n",
              "  }\n",
              "\n",
              "  .colab-df-quickchart-complete:disabled,\n",
              "  .colab-df-quickchart-complete:disabled:hover {\n",
              "    background-color: var(--disabled-bg-color);\n",
              "    fill: var(--disabled-fill-color);\n",
              "    box-shadow: none;\n",
              "  }\n",
              "\n",
              "  .colab-df-spinner {\n",
              "    border: 2px solid var(--fill-color);\n",
              "    border-color: transparent;\n",
              "    border-bottom-color: var(--fill-color);\n",
              "    animation:\n",
              "      spin 1s steps(1) infinite;\n",
              "  }\n",
              "\n",
              "  @keyframes spin {\n",
              "    0% {\n",
              "      border-color: transparent;\n",
              "      border-bottom-color: var(--fill-color);\n",
              "      border-left-color: var(--fill-color);\n",
              "    }\n",
              "    20% {\n",
              "      border-color: transparent;\n",
              "      border-left-color: var(--fill-color);\n",
              "      border-top-color: var(--fill-color);\n",
              "    }\n",
              "    30% {\n",
              "      border-color: transparent;\n",
              "      border-left-color: var(--fill-color);\n",
              "      border-top-color: var(--fill-color);\n",
              "      border-right-color: var(--fill-color);\n",
              "    }\n",
              "    40% {\n",
              "      border-color: transparent;\n",
              "      border-right-color: var(--fill-color);\n",
              "      border-top-color: var(--fill-color);\n",
              "    }\n",
              "    60% {\n",
              "      border-color: transparent;\n",
              "      border-right-color: var(--fill-color);\n",
              "    }\n",
              "    80% {\n",
              "      border-color: transparent;\n",
              "      border-right-color: var(--fill-color);\n",
              "      border-bottom-color: var(--fill-color);\n",
              "    }\n",
              "    90% {\n",
              "      border-color: transparent;\n",
              "      border-bottom-color: var(--fill-color);\n",
              "    }\n",
              "  }\n",
              "</style>\n",
              "\n",
              "  <script>\n",
              "    async function quickchart(key) {\n",
              "      const quickchartButtonEl =\n",
              "        document.querySelector('#' + key + ' button');\n",
              "      quickchartButtonEl.disabled = true;  // To prevent multiple clicks.\n",
              "      quickchartButtonEl.classList.add('colab-df-spinner');\n",
              "      try {\n",
              "        const charts = await google.colab.kernel.invokeFunction(\n",
              "            'suggestCharts', [key], {});\n",
              "      } catch (error) {\n",
              "        console.error('Error during call to suggestCharts:', error);\n",
              "      }\n",
              "      quickchartButtonEl.classList.remove('colab-df-spinner');\n",
              "      quickchartButtonEl.classList.add('colab-df-quickchart-complete');\n",
              "    }\n",
              "    (() => {\n",
              "      let quickchartButtonEl =\n",
              "        document.querySelector('#df-8d5c1823-fca9-4741-8501-6a49cd46d1bd button');\n",
              "      quickchartButtonEl.style.display =\n",
              "        google.colab.kernel.accessAllowed ? 'block' : 'none';\n",
              "    })();\n",
              "  </script>\n",
              "</div>\n",
              "\n",
              "    </div>\n",
              "  </div>\n"
            ]
          },
          "metadata": {},
          "execution_count": 4
        }
      ]
    },
    {
      "cell_type": "code",
      "source": [
        "'''from gensim.parsing.preprocessing import remove_stopwords\n",
        "import string\n",
        "\n",
        "# Function to remove stop words and punctuation\n",
        "def preprocess_text(text):\n",
        "    text = remove_stopwords(text)\n",
        "    # Remove punctuation using str.translate\n",
        "    translation_table = str.maketrans(\"\", \"\", string.punctuation)\n",
        "    text = text.translate(translation_table)\n",
        "    return text\n",
        "\n",
        "# Apply preprocessing to each row in the 'Message' column\n",
        "df['Message'] = df['Message'].apply(preprocess_text)\n",
        "\n",
        "# Print the updated DataFrame\n",
        "print(df)\n",
        "'''"
      ],
      "metadata": {
        "colab": {
          "base_uri": "https://localhost:8080/",
          "height": 70
        },
        "id": "SGMieqIIqmuU",
        "outputId": "b886994e-fbeb-45fa-bd4e-53c87b31ea75"
      },
      "execution_count": null,
      "outputs": [
        {
          "output_type": "execute_result",
          "data": {
            "text/plain": [
              "'from gensim.parsing.preprocessing import remove_stopwords\\nimport string\\n\\n# Function to remove stop words and punctuation\\ndef preprocess_text(text):\\n    text = remove_stopwords(text)\\n    # Remove punctuation using str.translate\\n    translation_table = str.maketrans(\"\", \"\", string.punctuation)\\n    text = text.translate(translation_table)\\n    return text\\n\\n# Apply preprocessing to each row in the \\'Message\\' column\\ndf[\\'Message\\'] = df[\\'Message\\'].apply(preprocess_text)\\n\\n# Print the updated DataFrame\\nprint(df)\\n'"
            ],
            "application/vnd.google.colaboratory.intrinsic+json": {
              "type": "string"
            }
          },
          "metadata": {},
          "execution_count": 5
        }
      ]
    },
    {
      "cell_type": "code",
      "source": [
        "df.Message"
      ],
      "metadata": {
        "id": "7CUgHQOfLMSX",
        "colab": {
          "base_uri": "https://localhost:8080/"
        },
        "outputId": "29b4d2e1-b578-421c-fe87-cd0da3db6d93"
      },
      "execution_count": null,
      "outputs": [
        {
          "output_type": "execute_result",
          "data": {
            "text/plain": [
              "0       Go until jurong point, crazy.. Available only ...\n",
              "1                           Ok lar... Joking wif u oni...\n",
              "2       Free entry in 2 a wkly comp to win FA Cup fina...\n",
              "3       U dun say so early hor... U c already then say...\n",
              "4       Nah I don't think he goes to usf, he lives aro...\n",
              "                              ...                        \n",
              "5567    This is the 2nd time we have tried 2 contact u...\n",
              "5568                 Will ü b going to esplanade fr home?\n",
              "5569    Pity, * was in mood for that. So...any other s...\n",
              "5570    The guy did some bitching but I acted like i'd...\n",
              "5571                           Rofl. Its true to its name\n",
              "Name: Message, Length: 5572, dtype: object"
            ]
          },
          "metadata": {},
          "execution_count": 6
        }
      ]
    },
    {
      "cell_type": "code",
      "source": [
        "df.Message.tolist()"
      ],
      "metadata": {
        "id": "HlWaI6sxsdFD"
      },
      "execution_count": null,
      "outputs": []
    },
    {
      "cell_type": "code",
      "source": [
        "list(set(\"a a b a d c\".split(' ')))"
      ],
      "metadata": {
        "colab": {
          "base_uri": "https://localhost:8080/"
        },
        "id": "ha6j8vwWMqoy",
        "outputId": "3206ea8e-7356-47b7-b8ec-860432603de4"
      },
      "execution_count": null,
      "outputs": [
        {
          "output_type": "execute_result",
          "data": {
            "text/plain": [
              "['b', 'a', 'd', 'c']"
            ]
          },
          "metadata": {},
          "execution_count": 8
        }
      ]
    },
    {
      "cell_type": "code",
      "source": [
        "df.Message = df.Message.str.lower()"
      ],
      "metadata": {
        "id": "M_v2_FYisqY-"
      },
      "execution_count": null,
      "outputs": []
    },
    {
      "cell_type": "code",
      "source": [
        "x_train = df.Message\n",
        "y_train = df.Category"
      ],
      "metadata": {
        "id": "EUddiNOWzQvP"
      },
      "execution_count": null,
      "outputs": []
    },
    {
      "cell_type": "code",
      "source": [
        "y_train.map({'spam':True, 'ham':False})"
      ],
      "metadata": {
        "colab": {
          "base_uri": "https://localhost:8080/"
        },
        "id": "3NrLnCJfwfhi",
        "outputId": "a88056a7-b8c2-4b7f-d846-409a42988ccd"
      },
      "execution_count": null,
      "outputs": [
        {
          "output_type": "execute_result",
          "data": {
            "text/plain": [
              "0       False\n",
              "1       False\n",
              "2        True\n",
              "3       False\n",
              "4       False\n",
              "        ...  \n",
              "5567     True\n",
              "5568    False\n",
              "5569    False\n",
              "5570    False\n",
              "5571    False\n",
              "Name: Category, Length: 5572, dtype: bool"
            ]
          },
          "metadata": {},
          "execution_count": 11
        }
      ]
    },
    {
      "cell_type": "code",
      "source": [
        "vocab = list(set([w for text in df.Message.tolist() for w in text.split(' ')]))\n",
        "vocab_size = len(vocab)\n",
        "print('%d unique words found' % vocab_size) # 18 unique words found\n",
        "print(vocab)\n"
      ],
      "metadata": {
        "colab": {
          "base_uri": "https://localhost:8080/"
        },
        "id": "MAZrS48TLAg6",
        "outputId": "9ba292af-35b6-4bca-8e3e-2e1ea29106ce"
      },
      "execution_count": null,
      "outputs": [
        {
          "output_type": "stream",
          "name": "stdout",
          "text": [
            "13576 unique words found\n",
            "['', 'snake.', 'credit!', 'loans', 'someplace,', 'too.pray', 'discuss', 'range', 'nokia,', 'payment', 'celebrate', 'gr8', \"'married'\", 'nights', 'annoyin!', 'cat', 'gal-no,', 'sum', 'question(std', 'me...ummifying...bye.', 'breaker', '09050000332', 'alone\"', 'borin', 'likes', 'down:)', 'left.', 'chile,', 'textand', 'dat.', '83118', 'flat,', 'joking.,', 'scallies,', 'lancaster,', 'performed?', 'course...', 'gist', 'somewhere', 'couple', 'oni', 'closed.', 'spouse', 'txtno', 'party:-)', 'rummer.', 'ml', \"hasn't,\", '3-maruti', 'deepest', 'you.:)k:)where', 'pulls', 'band', 'mr.', 'statements', '(book', 'newest', 'practising', 'goal', 'waking', 'ages..ring', 'should', 'exactly.', 'disturbance.might', '£10,000', 'later..', '2stoptxt', 'to:', 'super', 'campus.', 'forms', 'pack', 'problem?', '08715203028', 'filthyguys.', '08709222922.', 'shake', 'diamonds.', 'in2', 'fine,', 'fringe', 'has,', '0906346330.', 'waheeda', 'sh', 'jocks', 'shuhui', 'us:)no', 'you/carlos', \"4'o\", 'sold', 'lemme', 'afternoon.', 'hhahhaahahah', 'po', 'hurting', 'situation', 'telly?', 'co', 'tahan', 'mail', 'sight', 'grazed', 'problem-free', '150p/text', 'mufti', 'discussed', 'marley,', 'closes?', 'classmates?', 'abdomen', 'vote', 'screamed,', 'sry', 'nuerologist.', 'footie', \"you've\", 'word.....not', '.gud', 'decision', '09058098002.', 'busetop', 'realised', 'finish.', 'eek', 'spice', 'knows', 'scream', 'malarky', 'parantella', 'piece', 'also.or', 'planet', 'non', 'ending,', 'features', 'quarter,', 'gut', 'chloe,', 'fine.,', 'call2optout/4qf2', 'dead?', 'malaria', 'reg', '1apple/day=no', 'itwhichturnedinto', 'coincidence?', 'kothi', 'wendy', '08448350055', 'appreciated)', 'm95.', 'info', 'shracomorsglsuplt)10,', 'hidden', '£1million', '08718738034.', 'fondly', 'kettoda', 'pocay', 'meals', 'fools', 'way', 'expects', ':)', 'why?', 'relieved', 'smaller', 'calls£1/minmobsmore', 'thesedays', '83600', 'explicitly', 'juan.', 'milta,zindgi', '.dont', 'opportunity', 'callcost', 'no-440', 'wed,', 'sir,i', 'txting', 'tool?', 'bot', 'persons', '6hrs', '4.cook:', 'lovable', 'do', 'loyal', \"mei's\", 'flute', 'l8tr', 'night,', '\"sometimes', '*laughs*', 'tests.', 'shelf:)', 'speak,', 'popcorn!just', 'mylife.', 'owed', 'simpsons', 'tacos', 'frnds\"', 'mtalk', 'thanx...', 'life.you', 'machan', 'subscribe6gbp/mnth', 'sort', '.after', 'offdam', 'lost.', 'ok!', 'everything.', 'ive', 'lonlines', 'jackpot!', 'tv/', 'winterstone', 'romantic', 'minus', 'lol,', 'rounds', 'esplanade?', 'ortxt', '08081263000', 'solve', 'webadres', 'champneys.', 'company!', 'nething', 'e-threats.', 'teams', 'detroit.', 'clearly.', 'chikku..wat', 'cinema.', 'shore..the', 'expiry.', 'sir,salam', 'me?are', 'attraction.i', 'modules', 'what,', 'mila,', 'photo', 'w45wq', \"derek's\", 'help:', 'free>ringtone!', 'rightly', 'verifying', 'doc', '0871212025016', 'appear', '84199', 'support', 'asthma', '+', 'him..', 'hear,', 'kittum', 'england!', 'annoncement.', 'relax,', 'cheese.', 'ya!!', 'sarasota?', 'projects.', 'trends', 'aig', 'busy.', '4u!:', 'parties...', 'studies', 'books', 'another', 'film', 'virgins', 'go.', 'refused', '£500', 'pongal?', 'sure,', 'eat.', 'karnan', 'healthy.', 'the', 'progress.', 'yes.', 'endless', 'cry.', 'break:).', 'starting.', '02/06/03!', 'fool', 'ibh', 'elephant', 'aid', 'attached', 'prob..', 'follows,', 'don\\x92t', 'dorm.', 'lido.', '008704050406', 'well.', 'princess?', 'shinco', 'skype,', 'de', 'wipro:)you', 'varaya', 'fighting', 'greece.', 'no..few', 'by,', 'college?', 'following', '3650', '08717898035.', 'lol!', 'freaky', '945+', 'it', 'belong', 'drive\",', 'kane', 'slowly.', 'custcare:08718720201.', 'hits', 'full', 'rock,', 'wanting', 'optimistic', 'call:', 'flight', '1er', '10..', '447801259231', 'tiring', 'food?', 'moon', 'passport', 'vikky,', 'developed', 'chores', 'shit.justfound', 'runs', 'http://www.bubbletext.com', 'posts', 'shouted', 'www.music-trivia.net', 'pix?', 'fones,', 'talk?', 'tomorro', 'ur...', 'green,', 'cheer', '150pm.', 'goodtime!oli', 'giggle', 'loneliness', 'amy', '1,2', 'evry', 'months.', 'voda', 'fri.', 'jon,', 'good?', 'foned', 'done?', '25.', 'jay', 'positive', 'mostly', 'm.', '2optout', 'within', 'ipads', 'soooo', 'waste.', 'idea', 'before', 'voucher,', '#error!', 'river', 'combine', 'come...', 'astne', 'w', 'informed.rgds,rakhesh,kerala.', 'about.', 'house.', 'awarded', 'simply', 'meal', 'pussy...', 'world', '20,000', 'and/or', 'quote', 'student:', 'remembr', 'tait', 'condition..and', 'poboxox36504w45wq', 'expires', 'moseley', 'it..mail', 'fidalfication?', 'hail', 'reply-', 'free-message:', '?2,000', 'winning', 'hmm,', 'murder', 'unlike', 'crying', 'stereophonics,', 'yes..', 'secret', 'restaurant..', 'sat.love', 'marriage', 'had', 'suits', 'oil', 'dreading', 'nagar', 'shoul', 'divorce.', 'bahamas!', 'verify.', '£5000.00', 'jolt', \"you'll\", 'flash.', 'dis,', 'twice', 'through', 'side', 'puppy', 'batchlor', 'thinkin', 'read.', 'sunshine!', 'pound', 'king', 'kind.', 'ppm150', 'moon.', '(send', 'eventually', 'vijaykanth', 'paperwork.', 'fro', 'refused?', 'nora', 'desk', 'swashbuckling', 'temp', 'westshore', 'frank...good', 'retrieve', 'windows,', 'details:)', 'lonely', 'gloucesterroad', 'uhhhhrmm', 'maga', 'england', 'rain', 'bucks', 'treat,', 'whens', 'outside', 'headache', 'blocked', 'thuglyfe', 'weekends', 'door', 'obviously', 'customercare', 'lot.', 'fujitsu,', 'token', 'bedrm', 'mono#', \"'if\", 'planned.', 'cocksuckers.', 'lie\"', '300p.', 'eye', 'signal.', 'dead..\"', 'colours!', 'disastrous', 'issues', 'pokkiri', 'water', 'family', 'had.', 'always,', 'icicibank.com', 'it..\"', 'truck', '&lt;email&gt;', 'w111wx', '4w', 'staff.science.nus.edu.sg/~phyhcmk/teaching/pc1323', 'sleep...', 'toking', '\"1.u', 'camcorder.', 'wanna', 'spain', 'range.', 'boyf?', 'flag', 'i;m', 'sae', 'bit.', 'nit.', 'savamob,', 'tomo.', 'sony,', 'miss', '150p/meg.', 'wn', 'cal;l', 'closes', 'prompts.', 'lowes.', 'escape', 'ice', 'nt?', 'message..', '12mths', 'ringing', 'cooked', 'nikiyu4.net', \"textin'.\", 'grr', 'canary', 'everyone', 'call2optout/!yhl', 'evaporated', 'lol.', 'anyway...', 'broken', '£10)', '\"song', 'pending.', 'building', 'copies.', 'mad.', 'talkbut', 'mate,', 'buzz', 'concert', 'ready.', 'chuckin', 'poly3', 'phone', 'jewelry,', 'wrld.', 'response', '88600.', '5wkg', 'e.g', 'process?', 'ec2a.', 'jaykwon', 'lor', 'starting', 'bro', 'chit-chat', 'woot!', 'skillgame,1winaweek,', 'mb.', 'repent', 'beendropping', 'interest', 'back?.a', \"phone's\", 'gone(u', 'over..', 'youuuuu', 'related', 'without', 'gossip', 'hg/suite342/2lands', 'sleeping', 'friends.', 'wetherspoons?', 'jokin', 'them.', 'out.', 'potential', 'ok,', 'beggar.', 'info@txt82228.co.uk', 'lov', 'mate!', '1pm', '“', 'enuff', 'cbe', 'exams,', 'yen', 'wishin', 'edward', '@shesil', 'dessert.', 'landlineonly', 'idiot?', 'nah,', 'sleep', 'paid.', 'travelling', 'activate', 'ta', 'l', 'imp', 'info@vipclub4u.', 'remove.', 'pleased', 'question', 'water,', 'removed', '(come', 'club!', 'disasters', 'tears.', '6th', 'sept.', 'john', 'records', 'today-sunday..sunday', 'brilliantly.', 'bb', 'six', 'incident..', 'goggles', 'paragon,', 'soc...', 'horse', 'inspection', 'ma', 'steamboat?', 'hardcore', 'tmr..', 'fab', 'lastest', 'misscall', 'peach!', 'when/where', 'choose', 'smoked', 'k.k:)when', 'jackson', '6ish.', 'causing', '3.', 'sandiago', 'aiyo...', 'feeling.wavering', '08712402578', 'soft', 'video', 'number..:)', 'only..', 'werebored!', 'warm.', 'txt~journey', 'hour', 'big?', 'bike?', 'caring', 'ipaditan;)', 'period', '07808', 'sar', 'will,', \"when're\", 'attempt.', 'bother', 'importantly,', 'things?', 'early,', 'conected.', 'confirmed?', 'begin', '£1000.', '1x150p/wk', 'retired', 'stars', 'thing!', 'july', 'girl,d', 'daywith', '2watershd', 'hang', 'i.ll', 'intro...', 'confirm.', 'least,', 'killing', 'rajnikant', 'hdd', 'refunded.this', 'flights', \"ugo's\", 'dont.', 'sooo', '2.', 'oreo', '09090204448', 'happened..!', 'sitter', \"they'll\", 'dirt,', 'malaria.', 'cost.', 'id.convey', 'reslove.', 'rush,', 'known', 'worried.', 'fast...', 'i\\x92m', 'channel', 'told..she', 'www.shortbreaks.org.uk', 'swear', 'vary).', 'nvq,', 'cthen', 'go...', 'nipost', 'failed', 'ultimately', 'bathe', 'shitstorm', 'faith,evening', 'liao?', 'pub', 'k:)but', 'velly', 'fone,', ':zed', \"dramastorm's\", 'soundtrack', 'experiencehttp://www.vouch4me.com/etlp/dining.asp', 'ru?', ':-/', 'sorry,', 'is?', 'message..its', '3g', 'appreciate.', '2end', \"(he's\", 'vote?', \"don't4get2text\", '3100', 'backwards)', 'here..\"', 'invitation', 'diet?', 'credit.', 'did', '81618,', 'k:)i', 'hello.how', 'callfreefone', 'modl', 'tonsolitusaswell!', 'sterm', 'ts&cs', 'vibrate', 'net', 'glorious', 'cheers,', 'marrge..remembr?', 'player.why', 'happen.', 'renewal.', 'me.need', 'x2', '130.', 'becausethey', 'no', 'great.', \"''ok'',\", 'mmsto', 'destination', '@warner', 'ansr', 'romcapspam', 'abbey!', 'cappuccino*', '1.50p/wk.', 'hi.what', 'pay', 'got\"', 'smith-switch..', 'mentioned.tomorrow', '74355', 'yours.', 'horny', 'housework', 'posted', 'mystery', 'natalja', 'stuffed', 'buns!', 'select,', 'converted', 'ee', 'bin', 'muht', 'stealing', '3,wife:', 'blue;u', 'visionsms.com', 'mobiles.', 'polys.', 'ultimate', '4217', 'at', 'jane.', '10', 'boo.', 'newquay-send', 'strt', 'pendent?', 'dvd!', 'week-stop', '08704439680ts&cs', 'thia', 'now?:)', 'stretch...', 'reveal', '0089(my', 'how?', 'alone?', 'textoperator', 'fifteen', 'alternative.hope', 'double-faggot', 'flatter', 'shite.', 'la.', 't91.', 'certificate', 'sane.', 'ithink', 'bell', 'box61,m60', 'age23,', 'unconsciously', 'return', 'stuff.', 'hiding', 'news', 'getting', 'ummmmmaah', 'fast!', 'you:-)', 'info:www.100percent-real.com', '08712101358', '09058094507', 'surrounded', 'cu', '4.15', '448712404000>please', 'crab..', 'isn\\x92t', 'check', '87131.', 'planned', 'this', 'things', 'nr31', 'coaxing', 'hollalater', '09061743810', 'realising', 'hours.', '08719181503', 'friday,', 'sat.', 'eat?', 'game?', 'life?\"', 'm227xy.', 'handed', 'thoughts.i', 'strip', 'done/want', 'alive?', 'sent:)', 'membership.take', 'revealed.', 'up!', '82242', 'pictures,', '4*', 'nan', 'chatting.', 'mudyadhu.', '7oz.', 'u...', 'bc', 'matches', \"cali's\", 'extra', '08707509020', 'bath.', 'profiles?', 'allah.', \"doesn't\", 'ability', 'kit', 'other..', 'err...', 'tt...', 'cmon', 'jobs', 'points', 'still?', 'born.please', 'sumfing', 'fucks', 'august.', 'misbehaved', \"u'll\", 'mrt?', 'went', 'egg-potato', 'magic.', 'news!', 'urself.', 'a£1.50', 'rate.', \"it's\", 'strange', 'visit.need', '*kisses*', '6031', \"''\", 'slob-', 'update', 'run', '08708034412', 'spam', '*whispers*', 'lengths', 'cl.', 'heehee', 'hitman', 'korli.', 'started.india', 'recharge..rakhesh', 'v', 'much.', 'gym?', 'extract', '087016248', 'aproach', '69876.', 'brainy', 'agent', 'tarot', 'okden', 'i\\x92llspeak', 'rdy', 'forced', 'borrow?', 'him,', 'worries.', '09064012103', 's..antha', '0844', 'luv.', 'delay.', '3)', 'successfully', 'checking', 'joined', 'wins.', 'id,', 'pehle', 'control', 'w1j', 'laugh?', 'accounting', 'hostel', 'hun!', 'agency', 'forgt', 'ltd', 'enough?', '7ish,', 'shower.', 'call.urgent.', 'off:-)', 'unfolds.', 'eshxxxxxxxxxxx', '7am', '69669.', 'k..k:)where', 'lccltd', 'if/when/how', 'mary', 'g.', 'u.', 'inmind', 'tol', 'write', 'apt', 'heater?', 'c-red', 'rite?', 'mys', 'information', 'tuition', 'bread', 'much', 'bluetooth', 'msg..sometext', 'there?', 'travelled,', 'aunty!', 'rest:-).', 'weekend!', 'searching', 'network.', 'history', 'blessing', 'belongs', 'like!', 'fathima.', 'format', 'lookatme!,', 'motivating', 'andre,', 'walls', \"black;i'm\", 'hopeu', 'friendship:-)', 'club', ';)', 'listen', 'probthat', 'tablet', '9th', 'gd&the', 'tirunelvai', 'randy,', '6.', 'case', 'fring', 'main', 'returns', 'polys:', 'shop..', 'is,', 'wonder...', 'knackered.', 'dictionary', 'admit', 'hoping', 'lrg', 'brother‘s', 'forever....', 'then!', 'hop', 'ello', 'ntwk', 'brisk', 'pubs', 'frosty', 'completes', 'cres,ubi', '£1,500', 'behave', 'foreign', '\"don\\'t', 'da..', 'links', 'claim', 'supervisor', 'shag?', 'manual', 'petrol', '/7', 'sister.', 'kodstini', 'giv', 'lor,', 'beyond', 'said,', '2morow.', 'homeowners', 'sea,', 'connection', 'wrk!', 'says', 'network', 'bellearlier', 'you..', 'hex', 'indian?', 'do.\"', '09061104276', 'bored...', 'careful', 'logo/pic', 'them..:-p', 'luv,night', 'happening,', 'greetings', 'an', 'fetch?', 'ericson', 'mjzgroup.', 'with:', 'assessment', '£12', 'art', '10:10', 'pray', 'phoenix', 'oredi?', '\"walk,', 'players', 'he\\x92s', '4?', 'cell?', '69888!', 'multiply', 'camcorder?', 'dnt', 'about?', 'vaguely', 'w/c', 'thout', 'nevr', 'evrydy', 'hiya.', 'am!?!', 'pic?txt', 'cnn', 'confirmd', '145', 'concert?', '09056242159', 'sec?', 'c52.', 'ago.', 'crucify', 'quit.', 'fujitsu', 'al!!!!!!!!!', '09111032124', 'darker', 'neekunna', 'contract', 'yupz...', 'openin', 'canteen', '8pm,', 'fold', 'jjc', 'yun', 'usmle,', 'gon', 'way2sms.com', 'endof', 'bt', 'weight...haha...', 'play?', 'care,', 'sized', 'shop--the', 'sankranti', 'heart....gn', 'toplay', 'among', 'masters.', 'difficult:)', 'that‘s', 'tool!', 'ws', 'blood.send', 'id', 'worry.c', \"mumtaz's\", 'case.', 'souveniers', 'seemed', 'reach', 'tm', 'www.flirtparty.us', 'mk45', 'eh74rr', 'm)', 'pharmacy', 'buy?', '5.15pm', 'bare', '08450542832', 'loxahatchee', 'starring', 'aunty', 'pain.it', 'da:)i', 'connected', 'myparents', 'late?', 'urgnt', 'afghanistan.', 'ring.', 'resume', 'timing.', 'prizeawaiting', 'call2optout/hf8', 'arrange', 'inches...', 'yes!', 'birds', 'suzy', '08712317606', 'sum1', 'bottom', 'irene.ere', 'sources', '$', 'bit...', 'nìte?', 'behind', 'culdnt', 'that.dont', 'tomorrow?', 'yelling.', 'rolled', 'infront', '#5000', 'brothers', 'twice-', 'subscriptions.', 'wkly', 'stu', 'guitar', 'stable', 'move.', '08718726970', 'torch', 'da..jst', '(getting', 'chiong', 'lag.', 'trust', 'springs', 'k.k..where', 'yourjob?', 'wiskey', 'poured', 'grown', 'creative.', 'checkboxes', 'kadeem', 'seriously.', 'buy', 'time-hope', 'a-ffectionate.', 'gibbs', 'survey', 'me..i', 'affections...&amp;', 'cricket', 'statement,', 'july.', 'roommate', 'hui', 'invoices', \"k.k:)i'm\", 'axis', 'missed', 'catching', 'iwas+marine&that\\x92s', 'experiment.', 'again.call', 'cool-mob', '£1.', '09061743811', 'smiling!!', '09050000301.', '85', 'warner', 'organise', 'valentine?', 'cool...', 'person,', 'brilliant', 'i?this', 'degree.', 'anything.', 'sat,just', 'slip', 'stop..', 'exchanged', 'yours,', 'degrees.', 'somethin', 'side,', '07801543489', 'line:', 'sweet', 'parchi', 'answer:', 'oncall.', \"fuck's\", 'rply', 'swat', 'blue', 'robs', 'worc', '09064017295', 'uncountable', '2nite?', 'now..', 'number,', 'neville?', 'shot', 'threw', 'bcaz', '40411', 'yck', 'close', 'yeah?', 'reset', 'babe:', 'rite...', '1/2', 'watch', '2u', 'dark.', 'classes', '\"usf', 'chickened', '2stoptx', 'boys', 'roads', 'outstanding', 'hello', 'it!', 'often,', 'concern', 'realized', 'laptop?', 'like', 'friendship,mother,father,teachers,childrens', 'contents', 'received', 'supply', 'burrito,', 'ew', 'num', 'babe,', 'female', 'want?', 'http://careers.', 'gran', '84128,custcare', 'love..!', 'forms.don', 'enjoy!', 'these.', 'allah', 'holiday,', 'atm', '2667', '4.', 'gd?', 'tackle', 'ages.', 'autocorrect', 'cook', 'me!', 'thru.respect', 'bluray', 'tonite!', 'drugs!', 'number?', 'creep', 'chick', 'term', '9.funny', 'tell.', 'banned', 'goodnight!', 'base', 'any,', 'after', 'help?', 'taxes', 'crab', '10k', 'south', 'message.it', '2yr', '7.8p/min', 'curfew.', 'days', 'becoz', 'loads', '&cs', 'petrol!', \"see's\", 'transfr', 'pages..', 'wherevr..', 'matured', 'constantly', 'affairs', 'scream.', 'everywhere...', '28', 'hunny!hope', 'skype', 'buzy', 'pub?', 'other.', 'end?', 'acid!', 'dogging', 'korte', 'sppok', 'resuming.', 'thx', 'hp20', 'eyes', 'enuff...', 'means;', 'ratio', 'sux', 'pray!', 'hanks', 'kodthini!', 'posts..', 'authorise', 'on:)', 'courtroom', 'lighters', '83383', 'manchester.', 'coveragd', 'beware!', '42478', 'glad', 'movie.', 'goodmorning..', 'energy..', 'daytime', 'yunny', 'stop...', 'la1', 'deleted', 'vouchers-text', 'hopefully', 'wants', 'disturb', 'fav', 'hor...', 'sts', 'secondary', '*pouts*', 'pulling', 'janarige', 'slightly', 'front', 'ig11', 'wisdom', 'mins', 'suffering', 'timi', 'today.good', 'justbeen', 'ikno', 'alright', 'kissing!', 'plm', 'prakesh', 'u.:-)', 'traffic', 'dumb', 'eveb-).', 'raiden', 'raji..pls', 'movies', 'face.', 'wan2', 'wish', 'deposited', 'number.respectful', 'changes', 'user.', 'kiss*', 'pan', 'album.', 'hella', 'receive..', '09063442151', 'ibm,', 'thm', 'repeat,', 'ak', '09050000555.', 'shy!', 'randomlly', 'astoundingly', 'la,', 'storming', 'hotel', 'experience', 'girl', 'bffs', 'craziest', 'great!', 'inches', 'work..', 'assume', 'citylink', 'night.', 'tuesday?', 'really,', '0578', 'optout', 'sian', 'trip...', 'cst', \"did't\", 'press', 'celeb!', 'home.wot', '30th', 'me...', \"you'ld\", 'messaging', 'pin?', 'wet', 'lacking', 'it..let', 'yoyyooo', 'ringtone-get', 'right!', 'north', 'liver.', 'ones,', 'feeling.', 'earlier...', 'radio', 'down?', 'particularly', 'dont....', '9am-11pm', 'batch', 'pandy', 'abiola', 'believe', 'lady.', 'module', 'aha:)', '08715203656', 'clip', 'bbq', '89123', 'props?', 'dontignore', 'e=', 'it,u', '420', 'advise', '08712300220', '7.romantic', 'ill?', 'grandma', 'bf', 'voice.....', 'transaction?', 'granite', 'computer..', 'miserable', 'pleasure...', 'surly', 'terrible.', 'earlier.', 'mins/texts.', '06.', 'engagement', 'texts.', 'guess', 'ogunrinde,', 'lor...', 'aco&entry41', 'salesman...', 'mgs', 'todays', 'fired?', 'tomorrow!', 'want2come.', 'repeating', 'pple...', 'gbp5/month.', \"term's\", 'grams', 'keeping', 'nurses', 'philosophy', 'terminated.we', 'enters', 'now1!', 'age16', 'logoff', 'selected', \"valentine's\", 'duffer', 'sway', 'reffering', 'occasion', 'place.', 'clever', 'en', 'ask:-)', '4jx', 'issue', 'wc1n', 'coherently,', 'safe.', 'sh!jas', 'boss?', 'puzzles', 'heart.', '(flights', 'lab', 'wining', 'snickering', 'dreams.', 'phonebook', 'boy', \"friend's\", 'pataistha', 'status', 'jaz', 'ever,', 'phasing', 'feelin', 'chase', 'world...!!!', 'on..', 'abi.', 'visit', 'e£nd', 'dear..', 'installation', 'free2day', 'ac', 'reserve', 'little', '88039.skilgme.tscs087147403231winawk!age16+£1.50perwksub', 'guess,', 'yaxxx', 'ride', 'built', 'burger', 'weapon', 'cut', 'drugdealer', 'tim', 'office..understand?', 'took', '89034', 'clocks', 'lazy...', 'comes.', '/-', 'olowoyey@', 'ashwini', 'wife', 'sound...', 'marvel', \"she'll\", '89545', 'bathroom,', 'excused.', 'idiot', 'sit', 'forwarding', 'out--if', 'bill', '930.', 'upstairs.', 'identifier', '5..', 'noe?', \"'rencontre'\", 'nitros.', 'duo', 'apology', 'right?', 'reply.', 'g.w.r', '28th', 'approaching.', 'goodmorning,', 'hard?', 'boye.', 'layin', 'hell', 'here.pls', 'tho', \"rct'\", 'relation', 'anniversary', 'thnk.', 'suppose', '1680,', \"girl'\", 'glad.', 'la', \"one's?\", 'declare', 'interesting.', 'years?', 'use.', '*missing', 'fun...', 'rahul', 'cos', '08718725756.', 'lark.', '09061702893', 'depressed.', 'this.', 'ctla', 'essential', '?', 'slowly.?', '08000930705.', 'skinny', 'com', \"'its\", '41782', 'why:-)', 'again*loving', 'yrs', 'cartoon', 'yo?', 'statement', '\"get', 'gobi', 'mrng.', 'hit', 'psychiatrist', 'recent', 'urgoin', 'tonight?', 'difference..?', 'dollar', 'resizing', 'yep.', 'prix?', 'europe', 'married', 'bad-', 'breadstick.', 'pillows', 'lover!', 'hussey', '150p/tone', 'sugababes,', 'word', 'contact', 'night....', 'roads!rvx', 'he!', 'expected...', 'how.', 'prof:', 'got.', '2morro', 'polyh', 'ex?', 'girlfrnd', 'doesn\\x92t', 'writhing', 'previews.', 'this,', 'ü?', 'attack,', 'receipts—well', '0871277810910p/min', 'becaus', 'nike.', 'lazy.', \"guy's\", 'stopcs', 'row/w1j6hl', 'growing', 'sooner.', 'finance', 'possible', 'of£2000', 'moms', 'dismissial', 'masteriastering', 'sooner?', 'epi,', 'support...very', 'go.wait', 'unsold.now', 'system', 't&c:', 'leo', 'macleran', 'tick,', '07090201529', 'blowing', 'poly', 'grahmbell', 'janinexx', 'me..', 'no!', 'secretary,', '09050000928.', ';-(', 'drops', 'cool.', '150p', 'right', 'skateboarding', 'company.', 'box326', 'instead!', 'poor', 'yo-here', '50', 'rang', 'aust', 'ended', 'for£38', 'monos', 'hurts.', 'wid', 'bitch?', 'by', 'yifeng', 'anything', 'somerset...', 'siva', '&lt;3', 'lies,', 'begin.', 'in:', 'navigate', 'coupla', 'nope,', 'babe', 'lunchtime,', 'askd', 'selected.', 'comedy', '3d', 'ana', '07946746291/07880867867', 'january', '80062.', 'yijue', 'pierre', 'week.:/', 'complementary', 'drms.take', 'topped', 'late.', 'pesky', 'teju', 'proverb:', 'documents', '\"you\"', 'cooked.', 'enough,', 'dad.', 'idea,', 'intro', '84199.', 'cuck', 'problem!', '*wait,u', 'true', 'with', 'msg@£1.50rcvd', \"dip's\", 'timing', '31/10/04', 'morphine', 'tom', '18/11/04', ':-):-)', 'please....', 'help:08712400602450p', 'shit....!!\"', 'oredi...', \"it'll\", 'helens', 'u\"...', 'brother', 'break', ';v', 'toilet', 'freak', 'chaps', 'acting', 'iccha', 'falls', '250', 'vegas', 'still,', 'mind?', 'problems', 'cochin', ':)voice', 'embarassed,', 'formatting...', 'ambitious.', 'doesnt', 'father:', 'gd.', 'eldest', 'dubsack', '153', 'bognor', 'isnt', 'excited', 'it)', \"b'tooth*.\", 'sib', 'aberdeen,', 'happenin', 'advance..', '£48,', 'drastic.', 'doggy', 'training?', 'driving', 'rawring', 'care!', 'it\\x92s', 'around', ':-)', 'nottingham', 'clothes', 'rocking', 'fgkslpo', '087123002209am-7pm.', 'tc-llc', 'road...', 'classic', 'too.lets', 'funny...', 'call,', 'bright', '150ppermesssubscription', 'msg*', 'mee..', '4.30', 'spanish', 'option', 'water.', \"thangam.it's\", 'mouth', 'girl??', 'theacusations..', 'fun.', 'bid,', 'office..still', 'reverse', 'suffer.', 'mmmmm', '5226', \"we'd\", 'festival', 'paining', 'bit?', 'camera/video', 'tscs08714740323', 'okay...', 'maybe', 'yup...', 'medicine.', 'far...', 'unsold.mike', 'melody!', 'rememberi', 'discount', \"virgil's\", 'mobsi.com', 'in', 'in.our', 'loud.', 'eastenders', 'hunny,just', 'janx', '10k,', 'figures...', 'erotic', 'u!xxxx', 'marriage.', 'dancin,', 'christmas', 'ar.', 'm6', 'customer', 'ta-daaaaa!', 'waheed', 'luton', 'activ8.', 'derp.', 'nap', 'princess!', 'care..:-)', 'sept', 'tree', 'bangbabes', 'hallaq', 'feet*', 'text:', 'stay', 'feet,', '!!', 'age16.150ppermesssubscription', '7cfca1a', 'didnt', 'elaya.', '09058094597', 'once?', 'foot', 'luck', 'charge.', 'usb', 'hustle', \"*i'm\", 'pobox45w2tg150p', 'ish', 'forgiven!', 'where', '8th', 'hopefully,', 'logos+musicnews!', '12hours', 'before...', 'tablets.', 'lot.will', 'okday?!', 'itna', 'flyng', 'week.', 'goigng', 'skyped', 'come:)i', 'especially', '??', 'update_now', 'info:', 'symbol', 'only1more', '8714714', 'early...', 'noline', '\"its', 'hun-onbus', 'clear', 'ya.', '4get', 'nordstrom', 'wesley', 'lyrics..', 'recovery,', 'oso,', 'wednesday.', 'hari-', 'ettans', 'xxxxxxxx', 'city', 'unlimited', 's.this', 'out,', 'finish?', 'deciding', 'you:)any', 'soul', 'keys', 'late', 'coulda', 'srs', 'eight.', 'beth', 'move', 'clas..', 'burning', 'arabian', 'needed!', 'pub!', 'j89.', 'placement', 'apo', 'trackmarque', 'adrian', 'ic.', 'thought,', 'gym!!!', 'worried', 'fine..absolutly', 'broth', 'iz', 'cute:', 'dear?y', 'latelyxxx', 'thew/end...', 'aaooooright', 'tallent', 'joined.hope', 'something?', 'means', 'gimme', 'wtf', 'mom', 'roller', 'ubi', 's..first', 'ends..', 'days.will', 'ab..,', 'prolly', 'ji', 'puttin', 'kaitlyn?', 'fgkslpopw', 'illspeak', 'chrgd@50p', 'kisses', 'bomb', 'toothpaste', '9996.', 'bruv!', '2morrowxxxx', 'lambda', '09061209465', 'freaked?', 'asleep...', '1.5p/min', 'news.', 'otherwise', 'jam,', 'rubber', 'tone!', 'zeros.', 'times.', 'hand:)', '08706091795.', 'min', 'recharge.', 'sun?', 'words-', 'transferred', 'mcat', 'gotto', 'price,so', 'amazing...', 'starshine!', 'bleak,', 'goodmorning,my', 'crazyin,', 'cc100p/min', 'www.ldew.com1win150ppmx3age16subscription', 'fonin', 'okie..', 'somewheresomeone', 'returned', 'walkabout', 'luvd:*', 'comes..', 'proze', '10p/min.', '-', 'mind,', 'wrong', 'celebrations', 'know..he', '08714342399.2stop', 'explicit', 'a£50', 'deals', 'rays.', 'dai', 'street,shall', 'valid12hrs', 'call;', '5wq', 'busy', 'appreciate', 'language', '6wu', '2i', 'meet+greet', 'roommate,', '5k,', 'milk', 'between', 'wat..', 'nowadays:)lot', \"anything's\", 'it!c', 'profile', 'lightly,', 'pours', 'fees', 'tnc', 'thriller', 'lap', 'loss', '81303', '09066361921', 'necklace', 'white?', 'sir', 'unlimited...', 'sad', 'lar..', 'uncut', 'work,', 'ages', 'evil', 'friends...', 'earth', 'egbon', 'ubandu', 'kiss', 'thought', 'adventure?', 'tomeandsaid,this', 'replying', 'woould', 'mt', 'time..:-)', 'brownie', 'complaining', 'promoting', 'big,', 'mental', '146tf150p', 'machines', '7.30', 'have', 'juicy', 'mo', 'previously', 'realise', 'polyph', 'surprised', 'rent,', 'shoppin', 'upgrdcentre', 'msg/subscription.', 'credits,', 'later...', 'mmmmmmm', 'days.', 'happy..', 'ready.all', 'pick', 'vitamin', 'easy.', 'make', 'goodmate', 'thanksgiving', 'esaplanade', 'morning.', \"armand's\", 'tau', '630', '20p/min', 'again', 'kano', 'moby.', 'dancce', 'frnd..', 'lay', 'combination!', 'ppl', 'returning', 'renewal', 'aslamalaikkum....insha', 'friendship.', '18+', 'jeri', 'ah.the', 'great..bhaji', 'gauge', 'dream', 'before.went', 'bold2', 'cuddling', 'avble.', '69696', 'christmassy', 'you...', 'gift.', 'darren', 'fifty?', 'govt.instituitions', '2p', 'entirely', 'latr', 'data', 'ola?', 'naughty', 'yay', 'keen', 'eta.', 'someone....that', 'not,', 'clover', 'coz..somtimes', 'greet', 'sweet!', 'stop?txt', '\"our', 'cos...', 'footy', 'bottle', 'salon', 'laptop', 'account', 'dramatic.', '&it', 'gbp4.50/week.', 'paul.', 'musical', 'mayb', 'mates.', 'truly..', 'something,', 'kidz,', 'hurt', 'by?', 'addicted', 'goal!', 'thanx!', 'print', 'filthy', 'against', 'liquor?', 'mei,', 'seemed.', 'none?', 'queen.', 'kickoff!', 'nooooooo', 'hack', 'heads', 'www.telediscount.co.uk', 'resubbing', 'honestly', 'awesome,', 'reply,', 'pain?hope', 'splleing', 'scary,', \"mummy's\", 'respond', 'wat,', 'munsters,', 'optin', '?-', 'chance,', 'family..', 'planet.i', 'detailed', '400', 'now!nyt.', 'happily', 'gonna', \"parents'\", 'geeeee', 'countin', 'ey?', 'stream', 'friendship:', '0207-083-6089', 'good...no', 'wish!', '9061100010', 'oni.', 'plane', 'opportunity.pls', 'da..today', 'honi', 'camera', 'services', '2nite-tell', 'yet)', 'juz', 'days.he', 'andros', ')', 'pending.i', 'prayrs..', 'changed!', '78', 'biatch!', 'story)', 'girl..!', 'details.', 'talking', 'asked', 'eight', 'costumes.', 'apart', 'hence', 'of?', 'exciting', 'team..', 'upset.', 'lock', '\"with', 'blanked', 'education', 'reading.', 'crucial', 'un', 'tough,', 'shldxxxx', 'yoga', 'latests', 'twelve,', '08717168528', \"no's..\", 'rest?', 'sugar.', '\"sweet\"', 'numbers.', 'reservations.', 'phrase', '326', '*****up', 'personal', '£800', 'mind.', 'h*', 'la3', 'ar', 'imf', 'torture', '5-sankatmochan', 'late!', 'now....', 'dentists', 'around.', 'speeding', 'unless', 'zhong', 'iq', 'gentle', 'ax', 'enemy..', 'erm...', 'recently.', 'books,', 'perspective', '09058091854', 'more.', 'school?', \"joke's\", 'frens...', 'feel.', '97n7qp,', 'view', 'rule.', 'types', 'from:', 'three', 'kicchu', 'courage', 'neglect', 'giv..its', 'stability', 'june..', 'depends', 'mails.', 'mnth', 'subtoitles', '2,', 'boston.', 'gotten', 'ok....take', 'mundhe', 'later.', 'truffles', 'nanny.', 'goverment', 'signing,', '946', 'submitted', 'grl:', 'actin', '4u,', 'secretary', \"blake's\", 'plumbers', 'infernal', 'qatar', '|', 'page', 'bishan?', 'barkleys', 'safety', 'px3748', 'day.!', 'www.areyouunique.co.uk', '28/5', 'inside', 'yeah,and', 'team', 'rock.', 'advance', 'too!', 'spoken', 'recovery', 'smash', 'prometazine', 'afternon,', 'darling', 'budget', 'ans', 'lesson...', 'normally', 'books?', 'hand', 'noon..', \"ny's\", 'least...which', 'firefox.', 'paris', 'walked', 'unrecognized.', 'glasgow!', 'understanding', 'here.', 'frnds', 'k.:)you', 'rise', 'zed', 'costume.', 'wap.', '9ja', 'them', 'host-based', 'eaten', 'digits)', 'kintu', 'it..just', 'boyfriend', 'reward!', 'server', 'harder', 'sha.', 'goes', 'de.am', '645', 'poyyarikatur,kolathupalayam,unjalur', 'ridden', 'family...may', '09066362206', 'msgs,', 'luv', 'mins!', 'knocking', '450ppw', 'age,', 'director', 'beneficiary', 'daily', 'not.', 'oreos', 'wah', 'added', 'gopalettan.', 'rent.', 'perform,', 'evry1', 'logged', \"prashanthettan's\", 'roomate', 'hurt,', '09099725823', 'shagged', '4742', 'lor?', 'call2optout/n9dx', 'watches', 'belligerent', 'calm', 'paracetamol', 'save.', 'pleasure', 'infections', 'breaks', '4...', 'smoothly.', 'mode', 'slo', 'helen', 'handsome', 've', 'sleep..sweet', 'ringtone¡', 'nbme', 'aldrine,', '87021.', 'da:)', 'this:)don', '\"woah\"', 'boyfriend.', 'seconds.', 'officer', 'calls.', 'ahhh.', 'prediction.', 'pictures', 'chennai:)', 'arent', 'wife.how', 'lovejen', 'music', 'umma', '2003', 'msgs:d;):', 'gower', 'gorgeous,', 'evenings', 'breaking', 'y87.', 'katexxx', 'k..k.:)congratulation', '09058094583', 'hard', 'more', 'woul', 'knees', 'ryder', 'see?', 'door:)', 'instead', 'dear', 'excellent.', 'dinner.msg', 'pose', 'brains', '3rd?', 'august', 'station', 'hands', 'leave', 'da', 'msg:', 'high,', 'danger.', 'msgs.', 'ball', 'use', 'only', 'passed', 'into:', 'gf?', 'hi,', 'so...not', '42810', 'inc', 'logon', '(you', 'rt-king', 'dogbreath?', 'scared', 'ahead', 'i.e.', 'purpose', 'unintentional.', 'jot', 'slots', 'mentor', '08717890890£1.50', '09066380611', 'gigolo?', '10am-7pm', '(again),', 'necessary', 'pa...', 'rocks', 'dude!', 'auction', 'oredi..', 'abstract?', 'go', 'cn', 'stifled', 'wasted...', 'restock', 'waiting.', '*snuggles', 'immunisation', '61610', 'rightio.', 'pages', 'hav', 'successful', 'hesitation', ':-)only', 'prakasamanu', 'todo', 'mountains', 'anyplaces', 'facebook?', 'we‘ll', 'poly.', 'gap', 'ah', 'math.', '2nights', 'g.b.', 'shirt.', 'dude,', 'drunk!', 'adsense', 'possible,hope', 'sister..', 'shows', 'name,', 'algorithms', 'fiend/make', 'basically', 'week', 'naked.', '$180', \"80's\", '50%', 'rhode', 'tea', 'from', 'cum?', 'spoon', 'problem.', 'jez', 'mr', 'doke.', 'box334sk38ch', 'at!', 'film:)', 'somethin.', 'facebook.', 'suntec', 'problems?', 'spider-man', '$2', 'um', 'shopping!', 'chat80155', 'noice.', 'india', 'hmmm.still', 'lions', 'lingerie', 'rent', 'massage....tie-pos', 'lst', 'conversations', 'ingredients!', 'art?!', 'wallpaper-all', 'goodfriend', 'ny-usa', 'wi', 'qi...', 'dining', 'conform', 'bugis...', '£1/minmobsmorelkpobox177hp51fl', '195', 'prize.to', 'meh.', 'atm,', 'jason', 'black..and', 'awesome', 'sorry!', 'cornwall.', 'award', 'upto', 'texted', 'dresser', 'www.b4utele.com', 'avoid', 'surprise', 'palm,', 'yoga?', 'arab', '11', 'smiling', 'olympics.', 'eachother.', 'k:)k..its', '10.1mega', 'good:)when', 'head,', 'messed', 'lane', 'hilarious-also', 'appointment.', 'through.', '£1000call', 'reasons', 'days.èn', 'thecd', 'vivek..', 'tigress...', 'badass', 'help!', '10p', 'ave', '1146', 'apnt', 'mention', 'langport.', 'hen', 'office:)whats', '02', 'panic', 'shhhhh', 'specially', 'face.:)', 'cum.', 'pints', 'rose', 'accordin', 'premier.', '.....', 'ip', 'night?', 'sheets', 'surely', 'sorted', 'buses', 'keys?', 'comedy..cant', 'cheesy', 'scenery', 'break,', 'bros', 'area.', 'start', '0871277810710p/min', 'negative', 'jealous', '10ppm.', '£600.', 'opinion', 'join.', 'eve', 'nice.nice.how', 'unknown', 'teeth?if', 'alone', 'lined', '7,', 'amused?', 'win', 'elsewhere.', 'weather.', '(preferably', 'tellmiss', 'misfits', 'myself.', 'urgent', 'come..til', 'chikku:-)', 'attend', '(no', 'unconditionally', 'serving.', 'spiritual', 'etc.', 'neshanth..tel', 'necessity', 'wasnt', 'reason,', 'miwa', 'pookie', 'falconerf', 'tensed', '18+only.', 'huh...', 'prizeswith..', 'jump', 'needed', 'random!', 'permanent', 'patrick', 'found', 'tonite?', 'dating?', 'ovarian', 'goin2bed', 'lipo.', '864233.', 'pretty.', 'uv', '\"jeevithathile', 'll', 'heavy?', '3x£150pw', \"anjola's\", 'da..al', 'centre', 'embarassing.', 'one...', 'library?', 'story', '08702840625.comuk.', 'gari', 'calculation.', 'light!', 'arcade.', 'available', 'true..', 'reaching...', 'weakness', 'valuing', 'mailed', 'out--have', 'weekend.', 'hmmm,', 'sense,', 'mind,i', 'her.i', '09066612661', 'bck.', 'mate', '£1.50.', '7.30pm', 'worries', 'demand', 'murderer', '449050000301', 'pleasant', 'sapna', 's.i.m.', 'thanx.', 'a-green', 'wellda', 'different.', 'tickets.', 'thurs...', 'closer', 'hmmm....', 'hour?', 'stuff', 'lul', 'lkpobox177hp51fl', 'seems', 'field', 'wasting.', 'sac', 'love:', 'sending', 'life', \"dealer's\", 'pushes', 'maga?', 'tomarrow', 'sub', 'get?', 'police', 'cooking', 'special,', 'msging', 'toshiba', 'lucky;)', '&sam', 'wings', 'fucking', 'jaklin', 'dun', '09065069154', 'e-ternal.', 'hitler', '9.decent', 'msg.', 'engin?', 'plan!', 'natwest.', 'stand', \"(alaipayuthe)'\", 'interview', 'posh', 'tuesday.', 'dreams...', '4.50.', 'moment,', 'lolnice.', \"it'snot\", 'it,', 'arm?', 'tooo', 'brought', 'heart', '1.childish', 'abiola.', '?!\"', 'kind', 'collages', 'weed', 'flaked', 'show...', '24hrs.', 'cloud', 'figuring', 'hanger', 'follow', '..', 'stone', 'these', 'laptop...', 'opposite', 'ms.suman', 'answering', 'raj', 'toot', 'keralacircle', 'bday', 'problum', 'bedreal', 'ringtone', 'txt>', 'emerging', 'trips?', 'preponed', 'behind...', 'lovingly', 'friends,', 'connections', 'www.gamb.tv', 'hai...', 'inshah', 'regret', 'trauma', 'night...', 'king\"!...', 'required:)', 'argentina.', 'outside.', 'word:collect', 'distract', 'ahold', 'hundreds', 'losing', '(150p/sms)', 'showing', '7.children:', 'where?btw', 'including', 'mail.i', 'upon!', 'dedicate', 'happening?', 'luxury', '27/6/03.', 'reapply?', '0789xxxxxxx.', 'happiest', 'muz', 'sounds', 'blame', 'so,', 'petey', 'depressed', 'home.', '11mths+?', 'b\\x92day', 'tomorw.', '09095350301', 'silently', 'k.its', 'thing...', 'promise.', 'resent', 'today!from', '\"3000', 'bedroom', 'virtual', 'hut?', 'karaoke', 'congratulations', 'dent!', 'anymore?', 'noe...', 'hot,', 'queen?', '2?when', 'vijay', 'breezy', 'gailxx', 'edukkukayee', \"tyler's\", '£s', 'aiyo', 'ni8..swt', '£3.00', 'lot..will', 'ploughing', 'sale', 'popping', 'champlaxigating,', 'bonus!', 'paris.free', 'gay.', 'pizza...', 'party', 'buffy.', 'avo', 'person.', 'will!!', 'nvm', 'elsewhere', 'k...k...when', '07732584351', 'cttargg.', 'tram.', 'street', \"you'd\", 'haul', 'smiling?', 'mumhas', 'txtx', 'premium', 'basic', 'effect', 'ques-', 'recognise', 'funs', 'murderer,', 'wk.txt', 'mapquest', '1winaweek,', 'ho!', 'perhaps', 'pobox75ldns7', 'undrstnd', 'needed.salary', 'lands', 'bus!', 'mobile', 'fires.are', \"me:)i'm\", 'home.check', 'probably', 'here,', 'away,', 'dogg', 'smokes', 'lose', 'brison', 'balance', 'o2fwd', 's.', '%', 'grasp', 'tescos', 'hostel.', '*have', 'perfume,', 'studying.', 'commercial?', 'sashimi...', 'subscrition', 'gd', 'lately', 'thank.', 'vat', 'listening', 'pobox84', 'lie', 'onluy', 'yetunde,', 'o2:', '08712402902', 'kvb', 'karo', 'level', '2007', 'fps', 'service', 'motorola', 'picking', '\"adp\"', 'original', 'sleeping..and', 'mrng\".', '86021', 'mising', 'thgt', 'fated', 'feels', 'fuck', 'bull.', 'ga.', 'h&m', 'birth', 'zoe', 'm39m51', '____', 'burden', 'felt', 'bottom...', 'sound?', 'hr', 'sao', 'bother,', 'promises', 'pg..', 'w1a', 'topic..sorry', 'castor?', 'snowman', 'profit.', 'deal', 'dled', 'audiitions', 'spatula', 'situations:', 'i‘m', 'baig', 'stop', 'result.', 'chip', 'vl', 'operator.', 'gosh', 'jade', 'called', 'minapn', 'much!!i', 'chennai?', 'buzzzz!', 'gym', 'occupy', 'sexy...', 'bob,', 'please?!', 'barcelona.', '£100,000', 'wifi', 'widelive.com/index.', 'won.', '1hr.', 'paid', 'sudn;-(.', '\\x96', 'c,', 'merry', 'bray,', 'joys', 'da..always', 'else...', 'handle', 'dartboard.', '1000', 'firsg', 'better,', 'li', 'butting', '&lt;#&gt;', 'thanks2.', 'dosomething', \"fr'ndship\", 'happy,', 'incorrect?', '8.attractive', 'chat!', 'wedlunch.', 'job,', 'condition', '#150', 'msg', \"ryan's\", 'keris', '3-u', 'hols', 'pie', 'allo!', 'fireplace.', 'man.', 'do!', 'silent', 'initiate\"', 'you*', '5.i\\x92m', 'crave', '.lovable.', 'very', 'mathews', 'august!', 'forgive', 'tmr?', '2day', 'bigger?', 'prin', 'good', 'violet', 'hurts', 'call', 'daily.', 'arul.', 'nuclear', 'wedding', 'incident.', 'nokia/150p', 'dehydrated.', 'confused', 'persons..\"', 'dysentry', 'casing', 'about,', 'cancel,', 'rules', '2!', 'warranty.', 'area?', 'arun', 'mumtaz', 'glass', 'mails', 'department,', 'unni', '=', 'takes', 'that', '4*lux', 'spelling.', 'panicks', 'contention', '82324.', 'salary', 'clarify', 'exhausted.', 'dogs', 'weeks!', 'mark', 'm8s.', '89080', 'certainly', 'musta', 'goss!x', 'reduce.', 'again!', '1yf', 'try:-)', 'asked,', 'j', 'cheery', 'tea.', 'coughing', '*smacks', 'showered', \"dsn't\", 'nvm...', '3680.offer', '\"valued', '.terry', '-u', 'vl..do', 'yet...', 'anyways,', 'box334', 'call,coz', 'sleeps', 'embassy', 'crazy..', 'ard...é', 'lifeis', '-msg', 'smokin', 'others..', 't&csbcm4235wc1n3xx.', 'fat', 'mobiles', 'flavour', 'useless', \"there're\", 'well...', 'week,', 'china', 'bpo..', 'await', 'yaxx', 'vava', 'dracula', 'here!', 'sweet...', '9t;-)', 'compliments', '08715705022', 'she.s', 'ache', 'colleagues', 'february,', 'medicine', 'ok', 'prepaid', 'claire', 'tue', 'march.', '4-pavanaputra', '3aj', 'celebrated', 'sms', 'alwys', 'ahead:', 'calling.', 'fri!', 'work...', 'career', 'body', 'convincing..just', 'times', 'dirtiest', 'guarantee', '4years', 'wherever', 'screwd', 'starve', 'to?', 'ore', 'luck.2', 'complaint', 'wk!', 'shows...', 'networking', 'leftovers', 'nails', 'call2optout/lf56', 'dhoni', 'manky', 'no:', 'kr', 'vodafone', 'dead...', '08000839402', '400mins...call', '*wicked', 'playng', 'reflex', 'sd..\\nham\\tyeah,', 'textpod', 'dedicated', 'scratching', 'shuhui.', 'apes,', 'came!', 'anything?', '2geva', 'mornin..', 'drop', 'on?', 'waitin', 'absolutely', 'thx.', 'annie!', '150pm', 'agents', 'nothing.', 'plaid', 'wed', '1-month', 'wishes', 'slippers', 'buttheres', 'peripherals', 'tscs087147403231winawk!age16', 'shelves', 'things...', 'predictive', 'email:)', 'looked', 'irritated', 'met', 'week!', 'nutter.', 'seven.', 'mas', 'husband.', 'user', 'spoil', 'stdtxtrate.', 'day...', '2bold?', 'pie.', 'ic', 'shirt', 'onwords', 'blow', 'fainting', 'frm', 'cold', 'wotz', '050703', 'kilos', 'present', 'way?', '31', 'spiffing', 'insects', 'camera.', 'jordan!txt', 'does', 'comuk.220cm2', 'years!', 'use?', 'kip', 'shirts,', 'monthlysubscription@50p/msg', 'k..then', 'action', 'monday', 'prepare', 'five', 'food', 'out..', 'rhythm', 'wizzle', 'twenty', 'leg', 'weekend!)', 'pract', 'half', 'njan', '8am', 'work.', 'managed.', \"we'll\", 'leading', \"yetty's\", 'tension', 'point,', 'fever:)', 'opted', '09065394973', 'sexy!!', 'whole', 'lv', 'sunoco', 'cousin', 'baby!hope', 'nyt', 'hugs', 'bath', 'mon', 'contented', 'rain,', 'baby,', 'today.\":-)', 'saeed', 'being', '83222.', 'plan.', 'wall?', 'no>', 'sport,', 'lots', 'remove', 'person!', 'listed', 'fifth', 'steal', 'celeb!4', 'ph:08700435505150p', 'read...', 'apartment.', 'sundayish,', 'worry...use', 'now!send', 'purchase', 'mj', 'laready', 'subsequent', 'thinking.', 'syrup.', 'persevered', 'morning', 'him:)then', 'compass', 'settled', 'it*', 'neck', 'needy', 'baby?', 'hope,afternoon', 'dear,me', 'yesterday.', 'senrd-dnot', 'prospects', 'money,', 'dog.', 'texts!', 'because', 'download', 'ladies.', 'box97n7qp,', 'euro', 'profit', '07046744435', 'brings', 'sunroof', 'hey', 'oranges', 'dammit!!', 'pongal?do', 'idu', 'backdoor', 'permissions', '..it', 'sat?sound\\x92s', 'were/are', '09058094565', 'message.pandy', 'pobox12n146tf15', 'slide', 'checkin', 'mquiz', '1winawk!', 'eh?', 'snappy', 'sacked', 'recently', 'nok', 'threats', '1120', '80878.', 'cleaning', 'you,so', '9ja.', 'slaaaaave', 'omw', 'sunshine', 'singles', 'login', 'reward.', 'lei..', 'wet?', 'mob!', 'soon?', 'callers.', 'rush', 'bong', '8th?', 'united', 'sall', 'amanda', 'freemsg:feelin', 'taken', 'jokes!', 'deal...farm', 'l8r.', 'hell,', 'textbook', 'watchng', 'practicum', '87121', 'gentleman', 'gpu', 'first.', 'wifes.', 'eight,', 'mcat.', \"ta's\", 'superior', 'claims', 'comin...', 'epsilon', 'c!', '85233', 'prove', 'ground.', 'week?', 'weekend?', 'shrek', '4t&ctxt', 'already..sabarish', 'grandfather', 'creativity', 'friendships', 'boy;', 'test:-).', 'joke--thet', 'sprint', 'secs?', 'laugh', 'odi:-)', 'wuldnt', 'loan', 'chikku..k,', 'paragraphs?', 'gate?', 'oxygen!', 'lousy', 'moms.', 'chance', 'treacle?', 'special-call', 'holiday!', 'till', 'cock', 'wenwecan', 'tattoos?', 'may.', 'weirdo?', 'mus', 'barolla..', 'saibaba', 'fromwrk', 'shoot', 'test', 'but', 'step', 'asthere', '08002988890', 'fetching', 'access', 'weasels...', 'maintain', 'algebra', '1,his', 'wk?s', 'close?', 'ebay', '02073162414', 'down.', 'shexy?', '9pm.', 'common.', 'std', 'rite', 'sup,', 'violated', '10:30', '*sent:date', '\"best', 'lttrs,', 'badrith', 'stylist', 'crossing', 'alright.okay.', 'babes.', \"is'love'\", 'little.', 'rgent!', 'cardin', 'wanna?', 'cards', 'derek', 'stressed', 'kill', 'cumin', 'jolly', 'along', 'tamilnadu..then', 'onwards', 'room:)', 'cuddle', 'far.', 'nw', 'anytime...', '*number', 'mono', 'izzit', 'notxt.co.uk', 'nearly', '...', 'hello.', 'caller', 'processed', 'vomit.', 'shes', 'blank', 'stop?txtstop', \"red;i'm\", 'asap!', 'acnt.', '1hr', 'reflection', 'works.', 'lido?', 'lecture', 'body?', 'cake...n', 'jeans...', 'so?', 'explain', 'whatever', 'hmmm:)how', 'catches', 'go,', 'excuse', 'chocolate', 'computer', 'kaaj', 'intend', 'dlf', 'join...', '0808', 'darlin..', 'z', '81303.', 'cinema,', '-call', 'now?can', 'one?', '£50award.', 'ams', '*possessive', 'themob>hit', 'allday!', 'armenia', 'pizza.', 'test.', 'hours', '09058095201', 'ship', 'it?xx', 'chinatown', 'http://gotbabes.co.uk.', 'olol', 'porn!', 'energy', 'soon.c', 'matter', 'wa,', 'payasam', 'husband', 'exam,', 'idps', 'kusruthi', 'slowly', 'carlie', 'thk', 'handing', 'burnt', 'capacity', 'tired', '(', 'cloth', 'ok...', 'www.bridal.petticoatdreams.co.uk', 'toyota', 'kitty', 'fuuuuck', 'monday..nxt', 'dignity', 'cheers', 'no?!listened2the', 'lift...', 'using', 'gm,gn,ge,gnt:-)', 'minor', '09064012160.', 'adult', 'develop', 'yay.', 'rs.5', '09064018838.', 'oh...', 'hols.', 'audition', 'k.wish', 'it,pls,pls', 'move...', 'album', 'process.networking', 'cuppa', 'agree', '3uz', 'shared', 'u2moro', 'wats', 'haha...', 'takin', 'activities', 'flat', '087018728737,', 'icic...', 'today.', 'collection.', 'hum', 'hi!!!\"', 'any', 'stone..', 'adress?', 'post,', 'toaday', 'sipix', 'taylor', 'studentfinancial', 'does,', 'more\"', 'ure', '5.', 'it.,', 'better', 'shoranur', 'single?', 'msg..', 'shorter', '£6', '81618-?3', 'salam', 'ink', 'thk...', 'strain', 'different', 'her.she', 'earth&sofa', 'ranjith', 'barred', 'strong-buy)', '-tho', 'sorry-i', 'mat', 'calls..messages..missed', 'alright.', 'conclusion', 'ha!', 'working!', '£33:50', 'text', 'rain.', '0776xxxxxxx', 'mf', 'tsunamis', '08712404000', 'btw', '128', 'itself!', 'ladies', '40', 'rounder:)so', 'sensitive', 'exam.', 'who.', 'mrng...', 'glory,', 'comes?', 'free>ringtone!reply', 'guaranteed', '\"x\"', 'cliff', 'natural?', 'hint', 'vomiting', 'bcm4284', 'nite...', 'volcanoes', 'xxuk', 'vu', 'med', 'arrested', 'offc', 'me..so', 'values...,', 'showed', 'intha', 'see..no', '5)', \"'hex'\", '09065989180', 'worse.', 'off', 'meeting,', 'smart', 'steam', 'website', 'shower', 'likely', 'wrong!!', 'hard...', 'pass', 'gokila', 'princess.', 'along.', 'flowers', 'ho', 'serious?', 'eh', 'stapati', '5min', 'hot.', 'unmits', 'shun', 'birds...', 'syria', '08719899230', 'prizes', 'stop?', 'onum', 'selected?', 'dabbles', \"hubby's\", 'research?', '(bank', 'hire', '4thnov.behind', 'staff', 'sat?', 'quiz.win', 'euro2004', \"week's\", 'din', 'chance!', 'wounds', 'anyone', 'speed', 'strewn', 'sweetest', '6times', 'round', 'goodmorning', 'his', 'samus', '2nd', 'predict', 'jd', 'sugardad', 'rebooting', 'ref:9280114', 'ideas', 'community', 'camcorder', 'include', 'huge', 'personally', 'offers', 'hahaha..use', 'doctor.', 'theplace!', 'champ', 'enter.', 'irulinae', 'sleep!', '25p', 'kate', 'lag', 'iouri,', 'tonite.things', 'meant.', 'dusk', 'blank?', 'str', 'uterus.', '10p/min', 'lovers...', 'might', 'pay?', '+std', 'farting', 'thanks.', '\"a', 'problem...', 'é', 'argue', 'compulsory', 'em', 'liao.', \"fast?'\", 'early..', '0845', \"let's\", 'more!', 'messenger', 'i\\x92ve', 'babies!', 'car', 'kidding', 'also?', 'luv!..', 'prescripiton', 'country.', 'throw', 'skins', 'oja', 'lux', 'later', 'what...', 'torrents', 'sexy?', 'gal-can', 'chikku..ali', 'arranging', \"haven't\", 'comes!', 'badly', 'mind', 'some', 'checkup', 'well.you', 'credited', 'come?', 'roast', 'faggy', 'jelly', 'msg...', 'psychic?', 'london', 'driving,', 'money.', 'phd,', 'surprised,', 'shesil', '\\x91rents', '09061701939.', '$140', 'nic', 'entertain', 'unsecured?', 'smiles', 'vry', 'senses.respect', 'hmmm..', '2mro', 'second,', 'fever', 'reunion?', 'durham', 'forward', 'vill', 'hopeso', 'wanting,', 'nav', 'laid', 'envelope,', 'granted', 'wondar', 'reache', 'bt-national-rate', 'rents?', '.please', 'worries,', 'bishan', 'well', 'own', 'witin', 'listener', 'spl..wat', '09099726553', 'dinner...', '2wks', \"unicef's\", 'sorted,but', 'honest.', 'rd', 'chance.', 'thursday', 'dormitory', '150p/mtmsg', 'www.fullonsms.com', '*deep', 'unintentionally', 'chart', 'poo', 'kerala', 'herself', 'stool.', 'slave', 'meaningless', 'stated', 'pobox114/14tcr/w1', 'gbp/sms', 'forevr', 'breakfast', 'sneham\"', 'litres', 'st', 'http://doit.', 'ha.', 'did?', 'o2', 'despite', 'defer', 'packing', 'plural', 'happiness.', 'sorrow,', 'gaytextbuddy.com.', 'wrenching', 'linerental,', 'applyed', 'hope', 'sender:name', 'blown', 'ourbacks', 'files', 'celebrate.', 'selflessness.', 'series', 'vomit', 'had..ya', 'day..', 'accordingly.', 'dl', '12:30', 'www.tkls.com', 'booty', \"'xam...\", 'my-tone.com/enjoy.', 'korean', 'txtauction!', 'semester?', 'polyc', 'these..', '£350!', 'drizzling', 'syd', '&amp;', 'experience.', 'gee...', 'al', 'bookmark', 'lines', 'wana', 'uwana', 'beside', 'msn...', '15:26,', 'deeraj', 'ignorant.', 'yesterday,', 'noisy.', 'beatings', '2nhite', 'gift', 'vpod', 'bloody', 'loves', 'racing', 'matters', '177', 'chat.', 'lmao!nice', 'bx420-ip4-5we.', '..will', '08712460324', 'unsubscribed', \"fakeye's\", '150p/rcvd', '5.terror', 'jsco:', 'lo', 'at?', 'friday', 'idc', 'batch!', 'dudes', 'appt.', 'debating', 'ofcourse', 'speak', 'evrey', 'video/pic', 'bsnl', 'lunsford', 'imposed', 'latest', 'period..', 'callin', '078498****7', 'part!', '83332.please', 'wanted', 'squatting', 'job', '0871277810810', 'places.', '150p/tone.', 'wheel', 'bathe.', 'birthday', '4d', 'enufcredeit', 'stop.', 'trebles!', 'dumb?', 'watched', 'see!', 'eta', 'actually', 'cream...', 'available?', 'details', 'inclu', 'hamper!!!', 'jacket', 'frndship', 'meet,itz', 'amk.', 'neither', 'lucky.', 'weekdays', 'snow,', '2/2', 'drug', 'boost', 'unusual', \"vikky..i'm\", 'jiu', 'aftr', 'sue.', 'away?', 'ibhltd', 'busy.i', '£750', '18+6*£1.50(morefrmmob.', '*turn*', 'actual', 'guilty...', 'bring', 'seen', 'cleared', 'defo', 'jamster!get', '=twelve', 'saves', 'finance.', '09061743806', 'fm...you', '£10', 'darkest', 'oh.', 'wad?', 'heart..', 'doublemins', 'nino', 'recd', '3680', 'specialisation.', 'pobox', 'yep,', '10,000', 'we‘re', 'c...', '&othrs', 'reassurance!', 'ready,', \"sir's\", \"'terrorist'\", 'east', 'elaine,', 'entire', 'delivery.', '01223585236', 'troubleshooting:)', 'sheffield', 'player.', 'wtc', 'showers', 'request', '1956669', 'those!', 'come.', '5th', 'stuff?', 'sex', 'den...', 'questioned', 'assumed', 'road.', 'ppm', 'ilol', 'sausage?love', 'asap?', 'dinero', 'tddnewsletter@emc1.co.uk', 'smile*', 'k.good', 'camera,', 'e14', 'date.', 'biola', 'sigh*', 'bilo', 'dialogue', 'fletcher', ';-)', 'per', '\"walk', 'woo', 'pain.', 'clean...', 'kalaachutaarama..!!', '84122', 'custcare', 'costs,', '09058099801', 'version', 'notice', 'is!', 'shoes.', 'announcement.', 'door,', 'doing.', 'boat.', 'ring', 'course', 'usually', 'products', 'lodging', 'april.', 'anywhere', '021', 'listening2the', 'weirdest', 'day?', 'mist,', 'florida', 'drunken', 'pic', 'yards', 'lei', 'presents.', 'thing', '2nite!.', 'yeh.', 'si', 'deduct', 'back!', 'welcome...', 'it...', '80155,', 'drinking', 'wat...', 'couldn\\x92t', 'caroline', 'in,', 'thurs,', '2geva,', 'joking', 'thandiyachu', 'care.insha', 'macha', 'alcohol,', 'later,', 'x', 'begins', '*teasing', 'dunno...', 'shortcode', 'ya,', 'lunch?', 'reserves', 'suitemates', 'makiing', 'bus', 'evening.', 'channel:-):-):):-).', 'anonymous', 'raised', '09099726395', 'locks', 'oic', 'spares', 'something', 'laid?want', '69969', 'http//tms.', 'fink', 'les', 'anything,', 'eerulli', 'bought\\x94braindance\\x94a', 'fri', 'dobby', '09050005321.', 'sweets', 'girl.', '08714712379', 'traffic.', 'rajitha', 'mark.', 'commit', 'http://www.e-tlp.co.uk/reward.', 'life!?this', 'www.regalportfolio.co.uk.', 'lar', 'wild', 'email.', 'em,', 'dreams..take', 'handsomes', 'prince', 'nokia6600', 'graphics', 'yeah', 'must.', 'maaaan', 'ron', 'fresh', 'jo', '+447797706009', 'supposed', 'datebox1282essexcm61xn', 'gaps', 'argh', 'bird', 'mustprovide', 'reached', \"c's\", \"100's\", 'yet..', 'paces,', 'yep', 'http://wap.', 'knew,', 'punch', 'you?how', 'address.', 'neighbors', 'beloved', 'box245c2150pm', 'judgemental....i', 'lanre', 'perf?', 'weird,', 'quiet', 'time..!gud', 'bam', 'cam,', 'look', 'pickle', 'vote.', 'tome', 'divert', 'allalo', 'nice!', 'www.dbuk.net', \"k...i'm\", 'hear.', 'auto', '***************', 'onwards...', 'offer:)', '08719899229', 'tgxxrz', 'really??', 'arestaurant', 'ese', 'definitely', 'unemployed,', 'scarcasim', 'nattil', 'subscriber,', 'style?', 'reliant', 'u..if', '150', '3230', 'prior', '(18+)', 'colourful', 'stereo', '49557', '1843.', 'acc', 'cake,', 'yourself.', 'rpl', '89070', 'aft.', 'room', 'fone...', 'piggy,', 'something...', 'sp:tyrone', 'joy', 'pack.also', '\"oh\"', '8-8:30', 'although', 'stays', 'i’m', 'aboutas', 'luck!', 'browsin', 'nvm,', 'here:)', 'bcm', 'safe', 'pure', 'hardest', 'creepy', 'natalie', 'leads', 'treasure', '£1.50/msg', 'sophas', 'mentionned', 'feeling..', 'prove\"', 'tot', 'drama', 'aft?', 'sw73ss', 'long', 'bw', 'corrupt', 'soz', 'even', 'xxx', 'regarding', 'feed.', 'hip', 'ask.', 'science', 'bread,', 'tcr/w1', '08452810073', 'shall', 'feeling', 'guy,', 'hurry', '£79', 'avenge', 'ass!', 'speling', 'wonderful', 'royal', 'frwd', \"basket's\", '69698', 'nite.', 'tui', 'naseeb', 'salad', 'fredericksburg', 'boye,', 'minute!', 'chikku,', 'impress', 'best?', 'yogasana', 'fond', 'www.txttowin.co.uk', 'guessin', 'k.k.how', 'smoke,', 'anyway', 'b-blue', 'dial', 'leave...', '07808247860', 'please!', 'valentines', 'messages-text', 'wan...', 'conducts', 'really?', 'prefer', \"world's\", 'young', 'amazing', 'gudnite', 'know!', 'dreams....u', 'bugis', 'jamster.co.uk!', 'olave', 'dozens', 'stadium?', '08718730666', 'portions', 'guilty', '4info', '(nat', 'sad,', 'pete', '4403ldnw1a7rw18', 'around!', 'grooved', '4-7/12.', 'cancel', 'registered', 'jess', 'tv..he', 'shaved', 'noun', 'recycling:', '150p/day,', 'give.', 'people.', 'cut.', 'izzit?', 'via', 'dis', 'correctly...', 'also...', 'bawling', 'bed', 'av', 'heat', 'ever!!', 'ths', 'grace', 'films', 'decking?', 'that,', 'cedar', 'sextextuk.com', 'marketing', 'worry,', 'minutes.', 'surname', 'so.so', 'minute', 'jontin', '\"go', 'stalk', 'manage', \"quote''\", 'airtel', '18p/txt', 'univ.', 'you', 'book?', 'photos.', 'resend', 'orange', \"we're\", 'every1', 'jaya', \"'\", 'gone', 'unemployed', 'deliver', 'ntt', 'specs.', 'stressfull..', 'disaster', 'disappointment,', 'heart,', 'ok.,', \"joy's\", 'college!', 'food,', 'best?rply', 'rodger', 'entered', 'germany', 'monkeyaround!', 'say!', 'oz?', 'arnt', 'wife.dont', 'da,', 'telphone...', '85023', 'name1', 'broadband', 'il', 'oi', 'buyer', 'http://www.e-tlp.co.uk/expressoffer', '80488', 'nor', 'relocate.', 'both.', 'stupid.', 'cost£3.75max', 'kid..', '09058094594', '15541', 'hep', 'name...', 'mandan', 'invaders', 'gin', 'evone', 'fowler', 'moving', 'frndz', 'lara', 'lekdog', 'haha', '..?', 'mind...', 'season.', 'unconvinced', \"i'ma\", 'temple', 'hmv1', '7684', 'g?', 'do.', 'week.|', 'where?', '~', 'dealing!', 'lunch:)', 'inst', 'lifted', 'meanwhile', 'he.', 'garments', 'nb...', 'billy', 'internet.', 'like?', 'urination', 'dead', 'when,', 'fund', 'spending', 'butt', 'hungry', 'am.x', \"there'll\", 'ok..come', 'approx', 'penny', 'spend', '2mwen', 'finalise', 'grab', 'welcome', 'buying...', 'credit', 'items', 'times:)lil', '“harry', 'den,', '1im', 'gifted', 'newspapers', 'hearts..', 'ps', 'goodies!', 'go!', '80122300p/wk', 'dick', \"hw'd\", 'nice:)', 'send.', 'much/impede', 'dan', 'cougar-pen', 'train', 'gm+gn+ge+gn:)', 'fridge!', 'care', 'telugu', 'www.ringtoneking.co.uk!', '330.', 'mall', 'up4', '1st', 'distance', 'rcvd.', 'housing', 'gay,.;-):-d', 'www.sms.ac/u/hmmross', 'appt', 'angels', 'standing...|', 'shrink', '8000930705', 'textbuddy', 'neglet.', 'total', 'over!', 'pizza', 'stones.', 'anything...', 'mine.', 'ruining', 'b‘ham.', 'individual.time', 'lesson?', 'aburo.', 'headset', 'min..', 'pei', '*loving', 'denying', 'back?', 'valentine', 'fast', 'need...', 'brandy', 'hard.', '09064019788', 'find.', 'island', 'except', 'ish!', 'receivea', 'elama', 'hubby', 'wine', 'that..', '83355', 'bus..', 'smartcall', '£54.', 'indians', 'upgrade', 'breeze...', 'white.', 'back..', 'sayin', 'jenxxx.', 'loooooool', 'fancied', 'ltd.', 'bat', 'www.orange.co.uk/ow', 'wah,', '08000938767', 'appropriate', 'sexiest', 'arms...', 'big..|', 'howard?', 'wkend.', 'e.', '2b', 'pressure', 'str*', 'else', 'systems.', '45', 'hppnss,', 'busy...', 'customer.', 'aight.', '6.45pm.', 'dps,', 'administrator', 'dontcha', 'soryda..realy..frm', 'enjoy,', 'you!to', 'soladha.', 'continue', 'uks', 'antibiotic', 'helping.', 'every', 'grief', 'plum', 'harri', 'never', 'yes:)here', 'word:', 'masters', 'prize!', 'ofice', 'mt..', 'technologies', 'medical', 'love..', 'chain', 'f=', 'aletter', 'carlos,', 'message', 'mrt', 'first...', 'wating', 'premarica.kindly', 'wondarfull', 'gautham', 'weekly!', '8027', '(but', 'madam', 'poop.', 'envelope.', 'outrageous.', '($900)', 'crushes..!!!;-)', 'message..no', 'care..swt', 'tho-', 'whenevr..', 'cold..heard', 'job...', '09066358361', 'person.meet', 'mates,', 'raviyog', 'meaning:::::', 'mo..yep.', 'speedchat,', '08714712394', 'cared', 'citizen', 'loan.', 'mo?', 'dr.', 'man', 'patent.', 'office.', 'next', 'bani', 'hos', 'now.', 'matra', 'grave', 'cookies.', '5wb', 'what????', 'brb', 'jerry', '(or', 'arrange.', 'shit', 'kent', '84484', 'have?', '88066', 'erutupalam', 'leh.', 'feathery', 'happened', 'yup', 'while,&amp;', 'cutest', 'damn', 'computational', 'dem.', 'her.will', 'learned', 'money.i', \"ken's\", 't-mobile', 'summer', 'understand', 'log', 'hm', 'wow.', 'diamonds', 's,', 'crazy.', 'nhs', 'thk.', 'letter.', 'blackberry', '\"enjoy\"', \"patty's\", 'well?', 'expensive', 'nite+2', 'foundurself', 'mfl,', 'for?', 'services.', 'parents,', 'asked:', 'soiree', 'www.ldew.com1win150ppmx3age16', 'both!', 'easter', 'tai', 'dates', 'pc.', 'diseases', 'world.', 'heroes,', 'back', 'ondu', '2-4-1', 'attitude', 'opener?', 'studyn', 'mens', 'darlings', 'collected', 'meaning', 'already?', 'reppurcussions.', 'sportsx', '8.30', 'islands,', 'mu,', 'unfortunately...', 'her?', '9-6.', '80878', 'ah?what', 'edition...', 'aft', 'lead', 'lifpartnr', 'thanksgiving,', 'ge', 'full..', 'neighbor', 'smiling..', 'equally', 'office', 'elaborating', 'pattern', \"child's\", 'interested?', 'nw,', 'heart,heart', 'cancelled', \"olayiwola's\", \"he'll\", 'availa', 'hands!', 'treat', 'happening', 'send', 'hunting', 'se', 'shower!', 'nalli', 'hiphop', 'welcome.', 'nimya..pls', 'also..', 'portege', 'weighed', 'college?xx', 'tmw,', 'high', 'stopped.', 'drop.', '09050003091', 'image', 'dare', '1-hanuman', 'lady', 'aathi..where', 'gr8prizes', 'home...', 'you.', 'yr', 'fight', 'rcb.battle', \"said,''\", 'choosing', 'definitly', 'sayy', 'lucyxx', 'http//www.gr8prizes.com', 'remembrs', '0', 'num.', 'staying', 'low-cost', 'crap', 'sleepwell&amp;take', 'sent.', 'savamob', 'tuesday', 'application', 'max£7.', 'stash', 'big', \"there's\", 'hi.:)technical', 'milk/day=no', 'phone:)', 'yo!', 'remb...', 'bergkamp', 'peace.', 'yuou', \"'maangalyam\", 'think', 'peaceful', 'marandratha.', 'wks', 'not?', '9+2+4=', 'barbie\"?', '\"smokes', 'loveme', 'me!;', 'breakin', '08717205546', 'site.', '18yrs', 'referin', 'rule', 'iam', 'nydc', 'limit.', 'havent', 'anybody', 'nri', '16+', 'only?', 'field.', 'a-?', 'split', 'quizzes', 'n-gage', 'build', 'trip!', 'rtm', '9am', 'lnly', 'cherish', '4fil', 'best', 'yelling', 'subpoly', 'yer', '0870141701216+', 'family.', '087187262701.50gbp/mtmsg18', 'ya...', '1)mcfly-all', 'ring...', 'intelligent,', 'seh', 'under', 'practical', 'jeremiah.', 'dads', 'taken...only', 'offline', 'cashto', 'crisis!spk', 'or', 'canada,', 'incomm', 'workin.', \"aunty's\", 'nyc!', 'seriously..', '60p', 'lotr', 'bit,', '1/2price', 'holby?!', 'cruisin', 'praps', 'tron.', '£1.50ea.', 'junna', 'shower,', 'yoga...', 'witot', 'boytoy!', 'asus', 'k.k.this', 'when?', 'xclusive@clubsaisai', 'innu', 'gek1510...', 'snap', 'play,', 'training', 'makin', 'yogasana?', 'girl,', 'mum', 'sn', \"c's.\", 'leadership', 'nothing', 'wk.', 'free!', 'games,', 'though!', 'movie,', 'there', '2stop', 'famous', 'event?', 'rofl.', 'may,', 'me', 'sony', 'cheek', 'so:)', 'regards.', 'break.', 'months', 'in!', 'twins', 'dey,hope', 'ovr', '750', '*', 'arngd', 'ahmad', 'careabout', 'opponenter', 'impressively,', 'dreams', 'lonely,', 'prsn', 'gf', 'sad.', 'orchard.', 'students,this', 'ah...', 'accent.', 'model', '09065394514', 'it?', 'sick?', 'hittng', 'legal.', 'apologise.', '09065989182.', 'basq!ihave', 'mall?', 'smile,', 'nitw', 'cost?', 'sing', 'fat!', '50p', 'facebook,', 'dieting', 'eek!', 'strongly', 'goin', 'complete', '16+only', 'chords', 'drivin...', \"ü'll\", '4brekkie!', '09701213186', 'flaky', 'please.', 'u!u', 'dear?', 'phone!', 'smeone', 'advising', 'juan', 'move,', 'surgical', 'chikku:-);-)b-)', 'supreme.', 'hogolo', 'well..:)', 'answered:', 'stress.', 'bathing...', '300603t&csbcm4235wc1n3xx.callcost150ppmmobilesvary.', 'anderson', 'teresa.', 'outfit.', 'printer', 'kid.', 'happiness', 'im', 'choice.', '80488.', 'until', '8.neighbour:', 'each', 'up..!', 'me.........', 'all.', '4few', 'realize', 'fire.', ';>', 'bad.', 'pics,', 'placed', 'travel.', \"couldn't\", 'night..swt', '$95/pax,', 'job:)', 'cupboard', 'pounds', 'western', 'mk17', 'final', 'charlie', '£1.50pmmorefrommobile2bremoved-mobypobox734ls27yf', '09064011000.', 'gives.', 'clean,', 'hit.', \"biola's\", 'video.', 'dont', '08719180248', 'hi!', \"hadn't\", 'den', 'no..he', 'she', 'teasing', '6hl', 'remember', 'x-net', 'tsandcs', 'purse', 'sofa', 'wake.', 'lucky', 'quality.', 'mah', 'lets', 'pases', 'knackered', '(oru', '114/14', '<forwarded', 'bloo', 'serious.', 'two!', 'line.', 'asda', 'fooled', 'good:)dhanush', '88039', 'flowing', 'vegetables.', 'draws!', 'put', 'adventuring', 'dino', 'rg21', 'closeby', '8800,', '123', 'msgs@150p', 'town.', 'k..give', 'ish?', 'expecting', \"*didn't*\", 'account?', '81010', 'leaves', '88600', 'bat:)', 'sos!', 'reception', '12', 'resubmit', 'released', 'hv', 'i,', 'hello-/@drivby-:0quit', 'hello,', 'red', 'loud', 'ringtone!', '*stomps', 'hands..', 'moral:', 'wasn\\x92t', 'practice', '8552.', 'no:)this', 'lect', 'broke', 'shanil,rakhesh', 'shit,', 'tired.', 'back.', 'shoulders', 'logo&pic', 'synced', '08714714011', 'credit,', 'ow', 'first', 'seriously', 'sweetie', 'ki', 'sculpture', 'reply..', '9t:)', 'franxx', 'mandara', '26.03.05', 'boy-y?', '*devouring', 'isv.important', 'blind', '\"welcomes\"', '83738.', 'alwa....!!:)', 'while,', 'hospital', 'sarcastic', 'kano..whr', 'lotto', \"yes.i'm\", '08717509990', 'seperated...!鈥┾??〨ud', 'eating.', 'sooner', 'yes-440', 'railway', 'okies...', 'http://tms.', 'landing', 'www.getzed.co.uk', '1da', 'bitch', 'ten', 'tap', 'congrats!', 'mine&all', 'me.\"...', 'doing?how', 'weiyi', 'visiting', 'mobilesdirect', 'libertines', 'extreme', 'haunt', 'l8r', '3!', '36504', 'prof:????', '29/10/0', 'ever.', 'someonone', 'sexual', 'europe?', ':/', 'collecting', 'ice.', 'cartons', 'exe', 'clean', 'ethnicity', 'either', 'r*reveal', '82277.', 'mth', '9ae', 'thinking', 'freefone', 'table', 'hottest', '0825', 'locaxx', 'b4', 'number!', 'start........', 'wkg', 'poking', 'influx', 'invite', 'lei.', 'vale', 'ovulation', 'bmw', 'spose', 'shindig', 'roses', 'include:', 'less.', 'stubborn', 'hearing', 'v,', 'bitch.', 'lecture,', 'vasai', '2day!', 'bec', 'happy?', 'time,', 'advice', 'evening?', 'laugh..', 'apply', 'renewing', 'name.my', 'txt:', 'country', 'chez', 'er,', 'owns', 'fourth', 'affidavit', '8pm.', 'zebra', 'work?', \"treatin'\", 'stolen,', 'lady!', 'safely', 'bluff', '139,', 'numbers', 'laundry', 'lives', 'oscar.', 'caps.', 'stupid', 'cinema', 'real1', 'm...', 'gudnyt', '85555', '?1,000', 'treated', 'thangam', '2ez', 'disconnect', 'violated.', 'how...', 'woohoo!', 'reminder', \"what's\", 'lead:)', 'meat', '40gb', 'psp', 'flurries', '3mins', 'dick.', 'shaking', 'class:-)', 'putting', 'when...', 'face...............asssssholeeee................', 'hates', 'quiteamuzing', 'alertfrom:', 'mwahs.', 'christmas!', 'sing?', 'deal:-)', 'h', 'calicut?', 'orig', 'vivek:)i', 'coccooning', 'clarification', 'mite', \"moon's\", 'r836.', 'elvis', 'chest', 'battle.', 'sense', 'improve', 'rock', 'hee.', 'continued', 'tonight,', 'no:81151', 'understanding.', 'tiz', \"\\x93it's\", 'comp.', 'hmmm.but', 'hat,', 'first,', 'theyre', 'god,i', 'henry', 'gave', 'envelope', 'saucy', ':)so', 'gotmarried', 'contacts', 'rich', 'results', 'accomodate.', 'result', 'goodevening', 'monkeys', 'boggy', 'bill.', 'active', '09061790126', 'ralphs', 'unsubscribe.', 'readiness.', 'trainners', 'fixd', 'dob', 'event', 'throwing', 'singing', 'real', 'closed', 'change', 'blog.', 'k..', 'shahjahan', 'nothin', 'responsibilities.', 'watchin', 'hw', \"tt's\", 'sday', 'used', 'sayhey!', 'warning.', 'hai..........', 'doinat', '2rcv', 'minute.', 'evo.', 'enjoyin', 'atten', '08712103738', '0125698789', 'aathi..love', 'anjie!', 'vikky', 'year', 'yeovil', '116', '28days.', '09061744553', 'g2', 'nicky', 'hand,', 'luks', 'information.', 'accomodations.', 'burn,', 'benefits', 'tho!', ':-)please', 'risk', 'jsut', 'he', 'tcs,', 'partner', 'careful!', 'agalla', 'fear', 'hungry...', 'cro1327', 'here', 'www.applausestore.com', 'somewhat', 'hun!love', 'aka', 'fucked', '0796xxxxxx.', 'welcome!', 'landlines!', '09064015307', 'toll', 'stoners', 'payment.', '731', 'customer,', 'coimbatore.', 'too.', 'bringing', 'guaranteed!', 'fox', 'heater', 'feel', 'made', 'service.', 'be...', 'some1', 'city.', 'up', 'lifetime!', 'paranoid', 'smile..:)', 'tests,', 'sufficient', '2)untamed,', 'zealand.', 'toss', 'yck?', 'whom', 'administrator..', 'telugu..thts', '07786200117', 'www.phb1.com', 'floating', 'termsapply', 'two.', 'lover', 'when', 'april', 'brah,', '4041', 'hope?', 'skye', 'die,', 'those?', 'smile.:-)', 'walmart,', 'needs', 'toppoly', 'nevering..', 'know,yetunde', 'tonite.busy', 'stockport,', 'flower...', 'mini', 'subscribe', 'dear..:)', 'perpetual', '0121', 'requires', 'worst', 'studdying', 'unsubscribe', 'nope.', 'everything!', '3qxj9', 'adi', 'throwin', '*childish', 'fran', 'wa...', 'forum', 'urgran', 'sleepy.', 'law;', '09065171142-stopsms-08', 'huai', 'words,', 'ey!', 'tbs/persolvo.', 'tune', 'british', '8552', '2.15', 'scoring', '£2.50', 'laying', 'truro', 'version:', 'bak', 'x49.', 'fellow?', 'nights...excellent', 'thankyou', '\"kudi\"yarasu', 'read', 'ponnungale', '09064019014', 'hello-ed', 'ac/smsrewards', 'list', \"mum's\", 'propsd', 'buy:)', 'ptbo', 'date', 'ammae....life', 'sagamu', 'mathematics.', 'imagine', 'haiyoh...', 'yup.', 'networks', 'angry.', 'nimbomsons.', 'day!2', 'drink.pa', 'grumble', 'kerala.', 'unsub', 're.', 'today.do', 'inlude', 'wisdom..', 'da.i', 'laughing', 'age.', 'fo', 'title.so', 'resolution.', 'wednesday', '69888', 'dear..slp', 'okay.', 'christ', 'tkts', 'ipod', 'evening', 'have.', 'outages', 'hmm...', '.be', 'xxxx', 'www.txt43.com', 'issues..', 'nannys', '2nite', 'leona', 'prospects.', '09058095107', '20', \"who's\", 'thanks', 'treat.', 'totes.', 'admit,i', 'yor', 'pm.', 'okors,', 'smiling.', 'to', 'pants.', '255.', 'sth...', 'wish.', \"george's\", 'satisfied', 'ugh', 'join', 'fix', 'friendship\"...', '9!', 'wait.i', 'man...', 'limited', \"fren's\", 'meh...', 'beautiful', 'replying.', 'exact', 'sunday?', '7.30.', 'simulate', 'sacrifice', 'more,', 'drove', 'evng.', 'thought-', 'holiday', 'relationship.....its', 'edge.', 'refilled', 'tech', 'down...', 'dear.take', 'bash', 'stopbcm', 'wamma', 'aretaking', 'lousy,', 'nights.', 'department', 'draw', 'standing.', '83383.', 'wire3.net', 'owned', 'sang', '84128', 'sleep,', 'w/question.', 'suite:', 'interviw', 'consensus', '\"hurt', 'anyway,', 'landline.', 'payoh', 'anymore', 'life...!!', 'stuffs.', 'google', 'tomo', 'partnership', 'no-910.', 'special.', '89555.', 'upload', 'jiayin', '6pm..:-)', 'approve', 'kochi.', 'require', 'journey', 'difficult...;-)', 'go?', 'only!', 'italian', '4)press', 'office..', 'bailiff', 'see,', 'trav,', 'coins', 'then.will', 'there..do', 'gv', 'opt', 'able', 't&cs/stop', 'you...money', 'transfer', 'mallika', 'thousands', '09066660100', 'all', 'parts?', 'theory', 'oral.', 'part.', 'taught', '16+.', '9153.', 'havebeen', '200', 'forums', 'tick', 'stopped', \"priscilla's\", '8+6+3=', 'chennai.', 'organizer', 'her.love', '(2/3)', '88877>free', 'hugh', 'sick.', 'illness', 'comment', 'lounge?', 'squeeeeeze!!', 'pale', 'wewa', 'run.', 'learn', 'b,', 'sheets.', 'bored.', 'up,', 'fine..', 'situation,', 'thing,', 'going.', 'it....', 'calls1.50ppm', 'performance', 'tomorrow', 'meeting.', 'stuff42moro', 'slave?', 'inconvenience', 'signing', 'energy.', 't&cs', 'eg', 'pounded', 'ias', 'phones.', 'darren...', '09066362231', 'true\"....', 'wat?', 'often', 'day!', 'wikipedia.com', 'playin', 'elaborate', 'psychologist', 'gee,later', '4', 'beauties', 'sugar', '08712400200.', 'web', '*exposes', 'the!', 'true..k,do', 'nelson', '6,', 'hand..', 'pls:-)', 'k?', 'hon', 'yet', 'fret.', 'paru..', 'as?', 'mate...', 'peril', 'only.don', 'sorry', 'voice...', 'sight..', 'url', 'apparently', 'directors.', '$5.00', 'allah.rakhesh,', 'nokias', 'meeting', 'upset.i', 'w8in', 'mia', 'paper?', 'leh', 'friday?', '-the', 'favorite', 'someone,', 'can.', 'pobox1,', 'promptly', 'messages,', 'costs', 'spoken.', 'share', 'is..', 'downon', 'different?', 'feel?', 'byatch', 'lool!', 'sharing', 'model.', 'long.', 'trishul', 'dude.', 'gained', 'then...', 'trains', 'boring?!', 'uve', 'same,', 'course.', 'walking..', 'k52', 'conveying', 'pa:-)', 'hes', '08717895698', 'michael', 'local', 'moan', 'amrca', 'played', 'mini!!!!', 'on.', 'installing', 'gal', 'title', 'exercise,', 'le', 'of.', 'decide...', 'hey.', 'million', 'memorable.', 'wen', 'cuddling..', 'frequently', '2-u', 'contract!!', 'doing?what', 'order,', 'westlife', 'mmmm....', '4.47per', 'other...', 'mistake', 'call2optout/674', 'pig', 'arguments', 'concerned', '09058094599', 'moby', '4.rowdy', 'texts/weekend', '@kiosk.', 'lord', 'randomly', 'yijue,', 'slurp!', '8.30.', 'willing', 'ba128nnfwfly150ppm', '3510i', 'shame', 'tcs', 'value-morning', 'jsco', 'babygoodbye', 'lor,goin', 'secrets.', 'allow', '08715203677', 'church..', 'falling', 'beneath', 'weed\"', 'blur', 'lazy', \"don\\\\'t\", 'clash...', 'hurt..', 'problem:-)', 'involved', 'yijue?', 'poly#', 'pap', 'twittering', 'lot..i', 'selling', 'lol', 'dolls', 'you,', 'moment', '4txt/120p', 'ccna', 'mnths?', 'app?', 'yourself', 'accordingly.or', 'possessiveness', 'sore.', 'favourite', 'prone', 'nookii', 'school.', '*9', 'hoody', 'money...as', 'aunts', 'stewartsize:', 'light', 'tariffs.', 'speaking', 'aiyah', '$50', 'senthil.hsbc', 'tmr...', 'morphine.', 'cream', 'live,', 'references..', 'ft.', 'your', 'ago...', 'nite!', 'pleassssssseeeeee', 'chances', 'howard', 'wml?id=820554ad0a1705572711&first=true¡c', 'hands...', \"ashley's\", 'now.onion', 'skilgme.', 'job?', 'funny!', 'talent.', 'pai', ':-xx', 'www.4-tc.biz', 'future', 'sian...', 'free.', 'early?', 'cashed', 'loverboy!', 'week+', '08718726270', 'ls15hb', 'tmrw.', 'nickey', 'phone...', 'student', 'neva', 'hogidhe..chinnu', 'count', 's:)s.nervous', '2.50', 'calling', 'near', 'classes,', '83355!', \"'luxury'\", 'ritten', 'tncs', 'engalnd!', 'web2mobile', 'wipe', 'saw', '9yt', 'lar.', 'muhommad,', 'didnt.', 'londn', 'cal.', 'one,', 'murali', 'merely', '09099726481', 'coping', 'basketball.', 'which', \"i'd\", 'arcade', 'straight', 'stuff--why', 'roads.', \"gumby's\", 'oclock', 'mitsake..', 'kickboxing', 'waste', 'darlin', 'born!', 'dependents', 'nowadays', 't.', 'abi', 'bookedthe', 'weight!', '2day,', 'buying', 'especially.', 'bambling', 'cross', 'birthday...', '89693.', 'uncles', 'mush!', 'entrepreneurs', 'hl', 'grow.', '\"crazy\"', '06/11/04', 'ppt150x3+normal', 'esplanade..', 'meh?', 'slacking.', 'deltomorrow', 'twiggs', 'window', 'pub??', '84025', 'sunscreen', 'gone.', 'whereare', 'luck.', 'favour', 'fwiw', 'start.i', 'boytoy', 'gossip,', 'info@ringtoneking.co.uk', 'horrible', 'lifetime', 'uni', 'talk', 'yummy', 'ba', 'shakara', 'drinkin', 'cell', 'u\"', 'houseful', 'beware', 'annoying', 'aha:-.', 'monkeespeople', 'now.i', 'got', 'much,', 'edrunk', 'world:-)..', 'anand', 'thnq', 'vomiting.', 'monkey', 'processed...', 'prestige', 'liking.be', 'hundred.he', 'show?', 'myspace', 'okie...', ',', 'joining', 'aries', 'rate', '..shiny', 'newport', 'sore...', '...*deep', '2yrs.', 'studying?', 'sink', 'aah', 'ok..then..whats', 'hrishi.', 'slices', 'hotmix', 'stomach', 'genius', 'walking', 'turns', 'either.', 'allows', 'sells', 'liao...too', 'done', 'serena:)', 'theory:', 'cribbs', 'plaza', 'responce..what', 'geting', 'taxt', 'quitting', 'bathing', 'irritating', 'respect.', \"aren't\", 'mother', 'done...', 'edhae,', 'pussy!', 'vibrant', 'snake', 'cash,', 'pretsovru', 'pest', 'pt2', 'answer.', '2go,', 'twinks,', 'gayle.', 'net..no', 'person2die', 'etc.?', 'da..please:)', ':d', 'batt', 'wearing?', 'lyf', 'instantly', 'wot?', 'a21.', 'luvs', 'kaypoh..', 'dose', 'parents', 'sucker.', 'wined', 'mah...', 'update:', 'belovd', 'talks?', 'hangin', 'receive', 'opinion????', 'ldn', 'msg?', 'thursday.', 'advice.', 'readers!', 'sleepingwith,', 'opinions.', 'mahal', 'outdoors.', 'apologize,', 'justthought', 'arng', 'setting', 'prayers', 'ok.', 'park!', 'custom', 'www.cnupdates.com/newsletter.', 'units', 'loud..', 'rum', 'everybody', 'intentions', 'black', '3miles', 'store.like', '[in', 'bonus', 'tone.', 'events', '09057039994', 'ard', 're', '08452810071', 'adoring', 'watching', 'rcd', 'soo', 'john.', '-pls', 'today!', 'max10mins', 'hows', 'promotion', 'fml,', 'lmao', 'say...', '12hrs', 'eviction', 'jenne.', 'matched', 'frontierville?', 'buff', '24/7mp', 'box434sk38wp150ppm18+', 'enketa', 'caveboy', 'say/ask', '(18+).', 'financial', 'whatever,', 'hmph.', 'course:)', '4a', 'upping', 'cme', 'eyes.', 'inpersonation', 'ringtones', 'asked.', 'anybody.', 'roast.', 'interview?', 'it,leave', '1cup', '44', 'inch', 's:-)if', 'pity,', 'jamster!', 'gn', 'spook', 'k...k:)why', 'u!', 'maretare', 'poet', 'fullonsms.com', 'brilliant...1thing.i', 'gets', 'racal,', 'pg', 'youre', 'dt', 'wer', 'saved', 'outage.', 'small', 'woozles', 'laugh.', 'okay?', 'fault,', 'connections,', 'chex', 'bad!', 'explain!', 'outsomewhere', 'dvd', 'sha!', 'charges', '2mrw', 'late,so', 'alaikkum.pride', '….', 'fusion', 'mre', 'pic?', 'canname', 'queries', '861', 'hannaford', 'orh', '(marriage)program', 'feb-april', 'words.evry', 'mango', 'brilliant.', 'call09050000327.', 'details!', '2025050', '28,', 'pleasure!', 'tour?', 'tues,', 'arr', 'le..u', 'foward', 'bus.', 'u’ve', 'blonde,', 'meet.', 'sad...', 'moji', 'adam', 'dump', 'texts,', 'report', 'success.', 'zogtorius.', 'hw,keep', 'do,\"', 'sathya', 'l8', 'morning?', 'claypot', 'good..', 'piss', 'korche', 'weather', 'remind', 'chinese', 'goodnight,', 'stands,', 'freek', 'straight,', 'frnd:', 'slept', 'repeat', 'gravity..', 'compensation', 'rael', 'dane', 'tiny', 'st,', '£4.50.', 'cool', 'chastity', 'command...', 'da:)urgent:)', 'sat?ü', 'clock.', 'time!;-)', 'gotany', 'sheet', 'pic.', 'mobile?', 'openings', 'sip', 'continent?', 'again,', '%of', 'na.', 'day:)except', 'town', '\"it', 's...i', '£1000', 'reminder:', 'box', 'revision?', 'settings.', 's...from', 'dear-loving', 'duvet', 'spontaneously..', 'mesages', '(18', 'oooh', 'ni8.swt', 'all?', 'kids.', 'tosend', 'juliana.', 'ground.amla', 'then.', 'yes', 'shop.we', 'easy,', 'pete!', 'de:-)', 'sory', 'try', '4th', 'holla', 'yeesh', 'rudi', 'appendix', 'slippery', 'okmail:', 'wind', 'her', 'holla?', 'ego', 'http://img.', 'mood.', 'friendship', 'awww', 'okay,', 'avatar', 'ago.cusoon', 'advisors', 'hcl', 'squeezed', 'lost', 'number:', 'howu', 'itself.', 'prepare.', 'pobox365o4w45wq', 'tall', '-message', 'town,', 'planettalkinstant.com', 'chinchillas', 'plz', \"they're\", 'curtsey?', 'franyxxxxx', 'reading', 'wrc', 'slovely.', 'kano;-)', 'tactless', 'god..', 'morning.:', 'want.', 'i,m', 'bcoz', 'day,', 'golden', 's3xy', '&lt;time&gt;', \"uk's\", 'wit', 'cookies', 'arm', 'dao', 'liao..', 'generally', 'marsms.', '\\x93harry', 'reward', 'dropped', 'videosound', 'occurs', '(henry,', '3030', 'audrey', 'world,', 'it...!..!!', '£3', 'inconsiderate', 'womdarfull', 'why', 'ummma.will', 'o2.co.uk/games', '£5', 'sake', 'tohar', 'suggestions?', 'funk', 'large', 'pre-book', 'playing', 'umma.', 'specify', 'in.', 'click', 'yet.', 'chat,', 'scenario', 'me.i', 'fried', 'february.', '5pm.', 'plumbing,remixed', 'been', 'character', 'objection.', 'intelligent', 'beer-rs.', '08002986906', 'birthdate', 'ate?', 'sms,', 'exp.', 'anti', 'passable.', \"god's\", 'logging', \"anybody's\", 'penis', '£400', 'reach?', 'da:)do', 'lt', 'moral:\"dont', 'beverage', 'eggs-pert', 'email?', 'those', 'usual', 'goods.', 'check.', 'floor?', 'charity', '09094646631', 'reply.be', 'doesdiscount!shitinnit', 'hasbro...in', 'bslvyl', 'thanx4', 'suntec...', 'drinks', 'moral:one', 't-shirt.', 'same', 'poker', 'downs', '7-mahaveer', 'scared!', 'burns', 'ltd.£1,50/mtmsgrcvd18+', '150p/msgrcvd', 'dasara', 'cricketer', 'chg', 'covers', 'xx', 'people', 'slower', 'enemy', 'donate', 'money', 'imat', 'fish', '!!!!', 'thkin', 'attended', 'still.maybe', '8', 'here>>', 'site', 'dorothy@kiefer.com', 'admin', 'live:)', 'pretsorginta,', 'cried', 'ref:9307622', '62220cncl', 'f>>>', 'ls1', 'utter', 'steering...', 'lotz', 'rate)', '4u.i', 'trouser', 'del', 'ocean..:-d', 'meeting?', 'time...', '1', '07821230901', 'kanagu', 'strong.', 'stop,', 'tv...', 'ham', 'gsoh?', 'short.', 'hmmm...k...but', 'spark.', 'smile,d', 'lovly..', 'okey', 'is.', 'american', 'tonght', 'cumming', 'won!', 'delivered', 'somethin...', 'graduated', 'news...hype', 'academic', 'convincing.', 'area!', 'chapter', 'it?t.b*', 'before.', '86688', 'prods', 'uk!', 'surfing', 'errors', 'cannot', 'sis.', '£1.50pm', 'me.she', 'artists.', 'skirt...', 's:)but', 'k..u', 'gym.', 'heron', 'texting', 'pretty', 'that.', 'detroit', 'youdoing', 'someone.', 'shortly.', 'cars', 'wthout', 'turned', 'nah', 'vinobanagar', 'cash-balance', 'moves', 'helloooo...', 'book...', 'dad', 'bhayandar', 'dats', 'minute\\nham\\thi', 'unbelievable', 'register.', 'buffet', 'telephone', 'enna', 'hp,', '(not', 'off.', 'hi..i', 'chuck.:-)', '0870', 'yet?', 'sucks', 'sending.', 'loan?', 'nmde', 'calculated', 'box403', 'ads', 'valued', 'strike', 'reminding', 'guess...', 'oni...', 'mobno', 'landmark,', 'prabu', 'bruce', 'webpage', '08002888812', 'monthly', 'chess', 'newscaster', 'absence....', 'sms.shsex.netun', 'source', 'weed-deficient', 'garage', 'toshiba...', 'real,', 'arrived,', '&', 'forever', 'purple;u', 's:-)kallis', 'owl', 'jod', 'ninish,', 'booked', 'else,', 'tho.', 'likeyour', 'p.', 'tips', 'westonzoyland,', 'village', 'actor', 'congrats', 'wrench', 'bye', 'cudnt', 'footbl,crckt..', '[sic]', 'js', 'none', 'though', '1)', 'freephone', '=)', 'it+both', 'sms-08718727870', 'finally...', 'ashley', 'live', 'responsible', 'honeybee', 'problms', 'married.', 'him!', '$1', 'srt', 'cantdo', 'sachin.just', 'matrix3,', 'happend', 'plans', 'dock,', 'c-in', 'sister', 'careless.', 'direct', '8077', 'sunday..:)', 'texas', \"cann't\", 'thanks,', 'howz', '150ppmpobox10183bhamb64xe', 'gandhipuram', '69911(£1.50p.', 'park.6ph', 'get.', '5ish.', ':getzed.co.uk', \"'hw\", 'goodnight', '3)cover', 'lucozade', 'privacy', 'thekingshead', '08718727870.', 'settle', 'it,,s', 'worry..', 'ever:', 'is:', 'great.bye', 'trip.', 'dodda', 'it‘s', 'he...', 'abt', '08715203694', 'honey?did', 'tv', '1stone,', 'associate.', 'orchard', 'park', 'nothing!', 'washob', 'fact', 'deer', 'wearing', 'decision?', 'maths', 'car..ente', 'buying?', 'list.', 'msgrcvd18+', 'flim.', '09063440451', 'envy', '83222', 'madoke', '(mob', 'notebook', 'fun?', 'mobileupd8', 'mah,', 'e', 'ü..', 'play..i', 'story:-', 'attention', 'u.....', 'voicemail.', 'cared,', 'on...', 'lasagna', 'credit?', 'nichols', 'venugopal', 'glo', 'did.', 'hair', '6669', 'sunny', 'functions?', 'chat', 'innings', 'land', 'roger.', 'wtf.', 'n-oble.', 'pansy!', 'bx420.', 'helps', 'mathe', 'hmmmm?', 'prize', 'tough', 'presleys', 'happened?', 'chatter!', 'n-atural.', '125gift', 'losers', 'digi', 'subscription', '09064017305', 'iknow', 'lindsay', 'perhaps.', '5/9/03', 'babe..', 'svc.', 'computerless.', 'rayan', 'work,love', 'praying.will', 'priya', '087147123779am-7pm.', 'psxtra', 'screen', 'formally.pls', 'jstfrnd', 'fallen', 'ugadi', '08701752560.', 'lessons.', 'spare', 'si.como', 'pilates...', 'answerin', 'quiet.', 'girlie', 'march', \"she's\", 'hate', 'bath:-)', 'vodka...', 'exhaust', 'fedex', 'asap.', 'longer', 'dificult', 'dat?', 'hides', 'god..taken', 'is-', 'panther', 'winner', 'shitin', 'bao', 'blank.', 'lacs.there', 'betta', 'iwana', 'slice.', '$700', 're-schedule.', '09066358152', 'i?', 'pride.', 'u?\"', 'reason', 'exmpel:', 'nursery!', 'morning!', 'netcollex', 'sunday..', 'quiz!', 'dinner,', 'over,', \"shouldn't\", 'ha...', 'fraction', 'stretch', 'timin', 'c)', 'pen', 'broad', 'do?', '2hrs.', 'professional', 'mp3', 'babe.sozi', '08000776320', 'bcmsfwc1n3xx', 'internal', 'home,', 'funny', 'sporadically', 'sun0819', 'camera!', '\"suppliers\",', 'darkness,', 'mmmm', 'didntgive', 'hon!', 'floor,', 'renting', 're-met', 'late:)but', 'also.', 'worrying', 'woke', 'voice', 'panalam...but', 'comprehensive', 'date?', 'hair...', 'towards', 'noon', 'geoenvironmental', 'lit', \"28thfeb.t&c's\", 'promise', 'roger', 'flies,', 'anywhere.', 'cyclists', 'calculation', 'cage', 'www.comuk.net', 'mon.', 'quiz', 'lovely', '83600.', \"l'm\", 'sam', 'fast.', 'ikea', 'spell', 'kanji', 'sweetheart', '\"the', '1st4terms', 'cc', 'charts', '07123456789', 'fact.', 'hoops', 'pending', 'me?like', 'conditions?', 'callon', '…', 'dem!!!', 'carefully:', 'now!still', 'sir,', 'muchand', 'mental:)', 'prem.', 'cheyyamo?and', 'dorm', 'can.dont', '....my', 'flea', 'bag..i', 'beautiful,', 'clothes,', 'election', 'description', 'passes', 'irritation.', 'bb.', 'xxxxxxxxxxxxxx', 'goin,', 'don‘t', 'walks', 'exorcism', 'filth', 'madam.', 'varma', 'eating?', 'hi:)did', 'teacher...', 'loved', 'one!!', 'save', 'soon,', 'complain', 'oh,', '3mobile', 'great,', 'free...', 'remains', 'question:', 'booking', 'onion-rs.', 'messages.', 'division', 'limits', 'cab', 'struggling', 'snoring.they', 'most', 'fassyole!', 'expression?', 'fake..my', 'song', '3days', 'call09050000327', 'activate,', 'linear', 'finished', 'account..', 'dvg', 'ah...gee..', 'conditions', 'head', '69866.18', 'matter?', '3rd', 'gas', 'shanghai', 'wait.', 'q', 'sehwag', 'caroline!', 'cash-in', 'vco', 'floppy...', 'thinked', '09053750005', 'joanna', 'strict', 'wow!', 'local.', '25', 'ipod!', 'babe?', 'u.call', 'sathy', \"taylor's\", 'her:', 'yes..but', 'mi', 'semester', 'tel', \"carlos'll\", 'taunton.', 'ni8;-)', 'infact', 'finding', 'bout', 'pop', 'everyones', 'meetin', 'kavalan', 'alive.better', 'kano:-)', 'fumbling!', \"today's\", 'bud', 'replacement', 'yo.', 'scammers', '434', 'where.', 'intention', '4goten', 'sch...', 'uk,', '0871750.77.11!', 'snatch', 'laxinorficated', '(to', 'wkend', 'eerie', 'ph:08704050406)', 'sptv:', 'himself.', 'meatballs', 'chasing', 'hanging', '1.50p', 'lovin...', 'lambu', 'havent.', 'amt', 'himso', 'didn\\x92t', '2004', 'wld', 'fat...', 'apps', 'buttons', 'always?', 'chikku', 'talk.', '-no', '08712402779', 'darlings!', 'long!', 'invention', 'admirer', '8am.', 'happy', 'nigh', 'box39822', '88877', 'outgoing.', \"how've\", 'nice.', 'dear,shall', 'chikku..', 'pub/cafe', 'booty...', 'mornin:-)', 'understood', 'uin', 'b4190604,', 'now', 'wat', 'becomes', 'measure.', 'emotion', 'risks,', 'steps.', 'rings:return', 'confidence', 'rays', 'met.', 'gal.', 'twelve!', '87239', 'sd', '09061701461.', 'over?', 'jane', 'report?', 'ready', 'free-nokia', \"'simple'\", 'look.', 'need.', 'lect.', '*sighs*', 'ciao!', 'gd,', 'sc.', 'kotees', 'fair', 'armand', 'payee.', 'dwn', 'cover', '83039', 'looks', 'triumphed.', 'claim.', 'un-redeemed', 'flirting', 'get!', 'stage', 'g696ga', 'short', 'question..', 'wheellock?', 'ldn,', ';_;', 'fingers', '29/03/05', 'concentrate', 'cosign', '!!!', '£1.50/wk.', 'cheap', 'such', '£100', 'bored!', 'frnd', '85069', 'effects!', 'na', 'qing', 'electricity', 'amnow', 'pick.', 'loose', '80488.biz', 'clock', 'came', 'tonight.', 'shoes', 'offers.', 'wind.', 'dey', 'calls', 'ktv', 'fair.', 'review', 'car?', '80082', 'kaila', 'birla', 'renewed', '9?', 'line', 'amore', 'work', '24/10/04', 'usc', 'bids', 'hello:\"you', 'complimentary', 'day..u', 'suddenly', \"account's\", 'secret.', 'frnds..', 'faded', 'delivery', 'there...', '9t..', \"'ll\", 'maybe?!', 'shoving', ':)going', 'sale!', 'juswoke', 'ticket', 'early', 'town?', 'is/are', 'wow', 'embarrassed', 'coz', 'surprise!', \"dat's\", 'review.', 'lunch', 'gorgeous', '08712405022,', 'baby!', 'alerts', '09065174042.', 'live.', 'logo', 'shrub', 'ext.', 'amrita', 'know:)this', 'true...', 'conditions,', 'chennai', 'out...', 'smile', '2814032', 'x49.your', 'contribute', 'ah?sen', 'jumpers,', 'evng', 'ganesh', 'comfey;', '150p/msg,', 'busty', 'fixes', 'dhina', 'change.', 'bank', 'knickers', 'benefits.', '2exit.', 'cm', 'sell.', 'church', 'goin?', 'freshers', 'dental', 'texd', 'shola', 'reassuring,', 'forevr...', 'ex...', 'rest', 'www.txt-2-shop.com', 'watch...', 'nyt..', 'wesleys', 'over.', 'slow', 'dogwood', 'card.', 'useful?', 'favour.', 'maat\"', 'gr8.', 'myself', 'spent', '(that', 'taste', 'bold', 'deep.', 'settling', '09058097218', 'right.', '83021.', \"did'nt\", 'edison', \"we've\", 'mutai', 'hrs.', 'ceri', 'etc', 'virgin', 'silly', '\"this', \"x'mas.\", 'heavy', 'cereals.', 'easier.', 'forgotten', 'messages..im', 'txtauction.', 'cld', 'nyt.', 'out!', 'know,', 'spreadsheet', 'jesus..', 'elsewhere?', 'good.environment', 'tongued', 'award!', 'apologetic.', 'bags,', 'bcm1896wc1n3xx', 'slo(4msgs)', 'password', 'rough', 'k', 'requests', 'imposter', 'else.', 'thasa', 'tyler', 'penis.', 'pics', 'k...k...yesterday', '61200', 'only:-)..', 'greeting..', 'process.excellent', \"tomo?can't\", 'belly', 'today:)', 'open?', 'vouchers!', 'landline,', '89105.', 'about', 'kate,', \"t's&c's\", 'gettin.', 'php', 'wipro', 'process.', 'bird!', 'offer:', 'silent.', 'think.', 'outfor', 'above', 'urgent.but', 'magicalsongs.blogspot.com', 'division,', 'webeburnin', 'call.', '600', 'are', 'thing.', 'set', 'fr', 'echo', '08718711108', 'arrive', 'accommodation', 'shld', 'wait,', '11.48', 'dena', '10/06/03!', '09066364311', 'barring', 'viva..', 'splashmobile:', '21/m', 'ours:)so', 'impression', '*i*', 'chicken', 'lect...', 'sales', 'names', 'carryin', 'difficulties,', 'poly/200p', 'stones,', 'swayze', 'mate!!', 'pixels,', 'free*', 'maturity', '88888', 'night.nobody', 'try:wales,', '0871-872-9755', '1405,', 'www.80488.biz', 'thesmszone.com', 'polyphonic', 'bakra', 'present.', 'end,', 'love.', 'cash', 'yo,', 'boy:', 'parents.:)i', 'relax.', 'cstore', 'died.', '3ss.', 'unspoken', 'offer:the', 're-send.', 'rob', '\"polys\"', '3wks.', 'shivratri', 'teaching', 'smashed', 'cuddled', 'their', 'spoons', 'mad1,', '10am-9pm', 'dabooks.', 'eighth?', 'casualty', 'itxt', 'shorts...', 'esplanade', 'confidence..', 'puzzeles.', 'support.providing', 'wake', 'across', 'subscriptn3gbp/wk', '1st?', 'gsex', 'map', \"bb's\", 'few', 'good!', 'bedroom!love', 'adrink', 'father', 'messages', 'leaving?', 'sae,', 'toclaim.', 'mc?', 'wonders', 'bud,', 'pobox36504w45wq', 'ones..', 'philosophical', 'overemphasise.or', 'humanities', 'woman', 'arty', 'phone?', 'gbp/week!', 'caught', 'passionate', '(i', 'pimples..even', '\"drive', 'choose.', 'religiously.', 'chill', 'yourinclusive', 'ip4', 'on-edge', 'kindly', 'sub,', 'customers', 'joy\"..', 'cashbin.co.uk', 'mob', 'faglord', '6...', 'strings', 'heard', '*****', 'crashing', 'spjanuary', '8.', 'mileage', 'invited', 'arise,', 'ps3', 'take?', 'blah', 'moved,', 'dinner?', 'home..', '9.', 'sometme', 'sarasota', 'invnted', 'restaurant.', 'hunny!wot', 'warned', 'typical', 'defeat', 'skillgame,', 'quit', 'sheffield!', 'coca-cola', '.........', 'smth.', 'urgent!', 'doctor', '-via', 'priest', 'talked', 'rakhesh', 'u?', 'wuld', '09066382422', 'ctagg.', 'theoretically', 'world:).very', 'trial', 'spl', 'sure.', 'coco', 'parent.', 'semester.', 'cherthala.in', 'weds', 'rcv', \"finn's\", 'created', 'percentages.', 'de.', 'lor.', '09061702893.', 'www.t-c.biz', 'sez,', 'together', 'access!', 'showr', 'alrite', 'mailbox', 'swell', 'exorcist,', 'iq.', 'msg+ticket@kiosk.valid', 'campus', 'icon', 'redeemable', 'say.', 'frmcloud', 'things..', 'motivate', 'ready!', 'system.', \"that'll\", 'aroundn', 'khelate', 'cs', 'paper.', 'm221bp.', 'bought', 'jst', 'fml.', 'tm.', 'u:', 'walmart', 'gam', 'elections', 'hrishi', 'pls.', 'dying', 'regular', 'however', 'menu', 'you:-.', 'conserve', '0870241182716', 'relation!', 'seconds', '13/4/04.', 'wnt', 'dippeditinadew,', 'address?', 'today', 'tho,so', 'stylish.', 'www.asjesus.com', 'toughest', 'nus', 'hectic', 'noe', 'error.', 'swt', 'xavier', 'keyword', 'ree', 'detail', 'purity', 'tryin', 'pongal.', 'skip', 'ldnw15h', '08000407165', 'our', 'acl03530150pm', 'lookatme!:', 'sumthin!', 'paragon...', 'five.', 'lubly!', 'genes', 'offense', 'max.', 'bcoz,i', 'yetunde', 'blogging', 'bout!)xx', 'inr', 'vic', 'tolerance', 'four', 'animal!', 'sorta', 'farm', 'watch.', 'spys', 'gram', 'worse', 'ass!!', 'hesitate.', 'jus', 'wallpaper', 'confidence,', 'reallyneed', '....', 'qet...', 'java', 'room?', 'leh...', 'blur...', 'pressies', '20p', 'eleven', '.', 'hesitant', 'crack', 'touch', 'coffee', 'shampain', 'sender:', 'free?', 'goodnoon..:)', 'flippin', 'mtnl', \"b'coz\", \"rate)t&c's\", '2px', 'terms.', 'aa', 'dearer', 'world....gnun', 'p.s', 'braved', 'comes', 'replied', 'old.', 'request.', 'spoilt', 'custcare:08718720201', 'jet', 'msn.', 'guidance.', 'more?', '150p/mtmsgrcvd18+', 'become', 'garden', 'transcribing.', 'hall', 'first..', 'truly', 'care.umma', 'connect', 'baaaaabe!', 'hunt', 'weight.', 'locations', 'truffles.', 'pie!', 'subs', 'asking', 'cold!', 'stock', 'bit', 'my', 'concentrating', 'answers.', 'jazz', 'hvae', 'spider', '16', 'everything:-(\"..', 'particular', 'blastin..', 'dressed', 'xmas!', 'irritating.', 'next.', 'senor', 'around?', 'carolina', 'askd..', 'reserved', 'good.', 'unbelievable.', 'sittin', 'necesity', 'energy!', 'xmas?', 'admission', 'die...', 'steve,like!', 'alle', 'yijue@hotmail.com', 'online.', '12,000pes,', 'thnx', 'furniture', \"'that\", 'marry', 'enjoying', 'lido', 'infections.', 'rights', 'now!t&cs', 'post', 'rgds', 'expression', 'egg.', 'her,who', 'permission.', 'decide', '89693', 'ear', 'content', 'que', 'available.they', 'league', 'hockey', 'cultures', 'gary', 'destiny', 'sherawat', 'else....', '140ppm', 'olage', 'eyes...', 'year!', 'knw', 'spinout!', 'club.', 'problem..but', 'jia', 'nuther', 'txt250.com', '08701213186.', 'lifting', 'wicket:)', 'amongst', 'day!2find', 'life.', '06.05.05', 'no..jst', 'asusual!1', 'class,', 'words....', 'one.', 'fantasy', 'confirmed...', 'fortune', '08718726978', 'gorgeous!', 'verify', 'here?', 'hi:)cts', 'mirror', 'categories', 'netflix', '41685', 'dough', 'christmas...', '08719899217', 'places', \"i'm\", 'lim', 'bennys', 'james.', 'sis', 'q?', 'deluxe', 'alter', 'prevent', 'smidgin.', 'cardiff', 'mths', 'years!!', 'link', 'us', 'becz', 'play.', 'started', 'deus', 'stoptxtstop£1.50/week', '09071512432', 'saristar', 'lounge', 'dokey', 'stop\"', 'xuhui', 'note:', '\"sleep', 'wap', 'missing', 'mistake.', 'wife.', 'canceled,', 'saturday!', 'meet', 'boatin', 'actor.', '08712402050', '63miles.', 'hanumanji', 'ears', 'mine', 'swatch', 'instead???', 'already...', 'satisfy', 'tomorrow..', 'resolved,', 'guy', 'training.', ':(', 'questions:', 'me!!', 'brainless', 'desires...,', 'fone', 'hole,', 'weirdy', \"party's\", 'cousin...', 'know?neway,', 'you.my', 'flirt,', 'the4th', 'yeh', '08719181259', 'order', 'tayseer,tissco', 'pop?', 'roger?', 'wrk,', 'convey', 'urself', 'done!', '£200', 'begun', 'accenture', 'po19', 'opinions', 'sleeping.', '(kadeem)', 'employee', 'upcharge.', 'us,', 'swimming', 'answer', 'chennai:)because', 'today...', 'aom,', 'plane..', 'cons...', 'jb', 'dictionary.', 're-sub', 'yest', 'clearly', '[colour=red]text[/colour]txtstar', 'language.', 'online?why?', 'v.tired', \"didn't\", \"'help'\", 'goldviking', 'urgnt.', 'haven\\x92t', '0870..k', 'okie', '09099726429', 'money!!!', 'holy', 'hotels', 'squishy', '4give', 'die', 'c.', 'gota', 'forgiven', '09050001808', 'sinco', 'things,', 'hi', 'anna', 'space', 't', 'erupt,', 'havnt', 'nt.', 'praying', 'unfortunately', 'sara', 'pa?', 'ou', 'k52.', '£1.50perwksub', '2.im', 'frying', 'tea?', 'macedonia', 'offer!', \"wat's\", 'huh,', 'method', 'aunties', 'monoc', 'wat.', 'k61.', 'already.', 'iriver', '<fone', 'message?', 'batsman:-)', '\"life', 'year.', 'what!', 'post,erode', 'raining?', 'driver', 'heap.', 'showrooms:)city', 'winner!!', 'choices', 'recount', 'pix!', 'friday.hope', 'sp', 'wrnog..', 'da:-)', 'me.', 'borderline', 'swtheart', '69669', '\"wow', 'person', 'fuckinnice!selfish,deviousbitch.anyway,i\\x92l', 'guoyang', 'wylie', 'well!!', '2u2.', 'page.', 'sofa.', 'per..', 'oredi', \"08452810075over18's\", '08000930705', 'da:)nalla', 'rest,wish', 'held', 'kappa', 'northampton', 'here,remember', 'contains', 'off!', 'care.', 'radiator!', 'it.', 'la...', '3)unkempt.', 'sir.', '2day.love', 'l-oveable.', 'comb', 'selfindependence', '2wt', '\"be', 'soonlots', 'evey', 'wa.', '3hrs', 'va?i', 'note', 'ipad.', \"knee's*\", 'bag', 'dancing', 'room.', 'quick', 'jungle', 'bhaskar,', 'wnevr', 'min..stand', 'k:)after', 'followin', 'christians', 'constant', \"jay's\", 'type..lyk', 'way,', 'green;i', 'baaaaaaaabe!', 'unique', 'shortage', 'valid', 'la32wu.', 'pre', 'heading', 'k.k:)apo', 'lying.', 'bowls', 'ashes:)', 'wif', 'cold.', 'facebook', 'ever!', 'independently', 'sonyericsson', 'stress', 'random', 'thank', 'sms.', '!1', 'aight,', 'research', 'sweet,', 'zouk', '2?', 'realizes', 'laughed', 'mah..', 'common', 'properly', 'while', \"'taxless'\", 'exposed', 'know.', 'hey!!!', '2kbsubject:', \"fly..i'm\", '7ish?', 'college.', 'close.', 'sunday', 'various', 'sisters', 'today,', 'bahamas', 'jurong', 'yesterday', ':-d', 'help08714742804', 'vaazhthukkal.', 'talkin', 'antelope', 'lessons', 'there.', '5we.', '402.', 'bfore', '09041940223', 'uttered', 'grinule', 'madodu,', '..i', 'www.clubzed.co.uk', 'november', 'interviews.', 'yorge', 'end.', 'sight,', 'car.so', 'simple', '08707808226.', 'parachute', 'problem,', 'tootsie', 'property', 'groovying', 'offering', 'freedom', 'management', 'txts', 'starwars3,', '*billing', 'jamster', 'considering', 'holiday.', '26/11/04', 'in?', 'form:)clark', 'throws', 'gays', 'pull', 'better?', '5digital', 'worms', 'fatty', 'sent', 'to,', 'gmw', 'greatness.', 'college', 'into', 'everythin', 'lessons?', 'mrng!', 'frauds.', 'you....dear.with', 'uploaded', 'part', 'avin', 'hurricanes', 'chain.', 'social', 'uawake?feellikw', 'top', 'dearly.', 'sen', 'brothas?', 'earlier', 'meaning...', 'no..but', 'survey...', 'mistakes?', 'weekend', 'secretly', 'text?', 'bedroom...', 'her.', 'love,', 'everyone...', 'crazy,', 'number.', 'conacted', '18+only', 'updat', 'yi', 'again?', 'min.', '),', 'noise', 'txt', 'oil...', 'got...', 'track', 'smoking', 'one,ta.', '300%', 'relaxing', 'football', 'vid..not', 'store', 'show', 'daily:)', 'intrude', 'ask', 'proper', 'supose', '82468', 'responsibility.', 'avenue', 'orange;i', 'teacher', 'wrk.i', 'lick', '.by', 'nag', '£3/wk', 'belt,', 'da.', 'giving', 'sura', 'fishhead', '6.house-maid:', 'selfish', 'www.santacalling.com', 'sense.', 'dice,', 'skint', 'directly', '.joker', 'free', 'ttyl!', '21st', 'grandmas.', '35p.', 'easily', 'song..:-)', 'everytime...', 'call2optout/j', 'shop.', '0871-872-9758', 'thot', 'evr', 'her.my', 'deserve.', 'weigh', 'holder,', '£1500', '09065069120', 'suggestion', 'prob.', \"i've\", '20m12aq.', 'seekers.', 'u4', 'cramps', '5mls', 'simpler,', 'australia?', 'boundaries.', 'movie...', 'only:)', 'to.', 'company?', 'waiting..\"', 'donyt', '–', 'cheers.', 'vodka', 'oh', 'uk', 'less', '08718727870', '08448714184', \"me?don't\", 'miles.', 'confused...', 'chinese.', 'scold', 'today...!', 'me,', 'questions.', 'coat', 'me..ok,', 'desires-', 'breathing', 'daddy', 'n', 'mmmmmm', 'world,may', 'ecstasy?', 'finally', 'flight!', 'cant.', 'shattered.', 'unsold.', 'raed', 'matric', 'boss', 'belive', 'same,so', 'phony', 'problem..', '2moro', 'polys', 'waqt', 'embarassed', 'gals..', 'second..', 'reasonable', 'job!', 'chinky', 'skills', '2go.did', 'block', 'book', 'start?', 'section', 'wc1n3xx', 'bottle.', 'ollu.but', 'brighten', 'piah', 'baby', 'pocketbabe.co.uk', 'hassling', 'lasting', 'screaming', '2309.', 'cant', 'content.', 'strong', '*pushes', 'tank.', '£350', '32323.', '08712402972', 'nos', 'accidentally', 'rather', 'painful', 'leh?', 'quite', 'sachin', 'leona?', 'link,', 'address', 'yes-434', 'hill.....', 'oops', 'fave', 'nigpun?', 'factory', 'ms', 'semi', 'hearin', 'tomo,', 'jones!', 'enc', 'ill', 'wenever', 'petexxx.', 'loving', 'mina?', 'hardly', 'smiling:-)', '2morrow', '86888', 'cd', 'payback.', 'offer', 'leave?', '7th', 'bx', 'desert.', \"that'd\", 'its', 'commercial', '=d', 'personality', 'house', 'servs', 'eurodisinc', 'pro', ':)my', 'concentration', 'sends', 'news.by', '\"paths', 'stalking', 'asap', 'steve', 'fault&fed', 'picked', 'mums', \"something's\", 'don', '02085076972', 'sea', 'entropication....', 'snd', 'sake?!', 'breathe', 'weak', 'chk', '730.', 'mack', '09066368753', 'said:', '24hrs', 'sorts', 'da:-)i', 'voila!', 'increments.', 'email', 'cme.', 'farrell', 'think?', 'tones', 'tv.:)lol.', 'figure', 'reltnship..!!', 'hungover!', 'wife....', 'appointments', 'sol', '0721072', 'sed', 'dear..i', 'dust?', 'together...', 'on', 'model..sony', 'me....', '\"boost', 'lessons..', 'otbox', '83110', 'tasts', 'exhibition...', 'not!', 'suckers.', 'whose', 'starts', 'managed', 'california', 'would', '50s?', '300603', 'k..k..any', 'forever!!!', 'wise', 'get4an18th.', '87077', 'bridge', 'transfered', 'speechless', '2c', 'popped', 'working?', 'mb...', 'god.not', \"u're\", 'hopeful...', 'chatting!', 'canada', 'go2sri', 'determine', 'number-so', 'if', 'stuck', 'that.i', 'numbers,', '2docd.please', 'hello!', 'off:)', 'left,', 'pop.', 'nyc,', \"'uptown\", 'motor', 'soon', 'bootydelious', 'tsunami', 'dub', 'replacing.', 'dizzamn,', 'dog', 'ava', '0871-4719-523', 'chennai:)i', 'ful', 'christmas!merry', 'cust', 'princess,', '\"hello\"', 'finds', 'gods', 'hills', 'syllabus', 'arms', 'k..k...from', 'crore', 'business', '26th', 'subject', 'weekends?', 'merememberin', 'no..its', 'madstini', 'miracle', 'wishing', 'role', 'sales/pee', ':)it', 'nurungu', 'lou', 'stylish', \"can't\", 'analysis', 'sound..', '....photoshop', '*phews*', 'whether', 'applebees', 'je', 'agidhane..', 'getiing', '07/11/04', 'visitors,', '6hrs.', 'teenager', 'phone750', 'self', 'immediately', 'check,', 'enough', 'help,', 'can', 'http://www.urawinner.com', 'alrite.have', 'relation..', 'points.', 'improved', 'challenge', 'xxxxxxx', 'galileo', 'b.', 'fffff.', 'huh?', 'nimya.', 'woods', 'brownies', 'explosive', 'porn', 'tops', 'food.', 'neo69', 'largest', 'gimmi', 'abi!', 'mint!', 'point?', 'along!', 'postcard', 'ymca', 'tonight!', 'soon..', 'cannot?', 'nights...we', 'allowed', 'function', 'voice.', 'bro.', 'latest,', \"'heart'...\", 'life..', 'cine...', 'politicians.', 'exist,', 'someday', 'ok..', 'us.get', 'it!!', 'wadebridge.i', 'shortly', 'love!!', 'bucks.', 'gifts!!', 'charge', 'www.win-82050.co.uk', '20%', 'walk,', 'inc)', 'minecraft', 'hasnt', 'working.', 'watch,', 'know..wait', 'mis', 'door?', 'ur', 'cal', 'diamond', 'that!', 'adding', 'waiting', 'dict', 'hiya', 'currently', 'videosounds+2', 'world*', 'leh...haha', 'patients', 'alrite.', 'brown;i', 'predicting', 'freaking', 'usf,', 'qbank', 'fuelled', 'kfc', 'cute', 'listn', 'tariffs', 'plenty.', \"sms'd\", 'red,red', 'dodgey', 'hmm...my', 'sufficient,', 'ignore', 'thats', 'groovy.', \"wat'll\", 'quiz,', 'jordan,', 'hey...great', 'poem:', 'community.', '528', '1stchoice.co.uk', 'house,', 'crash', 'assistance', 'saturday.', 'boston,', 'packs', 'bakrid!', 'couch\"', 'so', 'jogging,', 'forums.', \"partner's\", 'offered.', 'wee', 'win:', 'camp', 'lakhs:)', 'hero,i', 'k.k:)advance', 'nytho,', 'dress', 'fixedline', '5+-', 'spile', 'grinder?', 'britney.', 'baller.', 'others', '2getha!', 'www.07781482378.com', 'interesting..:)', 'telly', 'why.', \"harish's\", 'itried2tell', 'way!', 'hard!', '-)', 'implications.', 'k718.', 'service!', 'beer', 'norm', 'shud', 'outs', 'cash!', 'scraped', '*a', 'recieve', 'doin', 'lt...', 'maximum', 'tolerat.bcs', 'capital', 'letter', '09058097189', '2wks.', 'wishlist', 'eve?', 'slave,', 'yes.he', 'convinced', 'dreams,', 'bowa?', 'swhrt', 'rr..', \"leona's\", 'online,', 'won', '..water.?', '118p/msg', 'lips', 'www.sms.ac/u/nat27081980', 'aeroplane.', 'eatin,', 'him:', 'apeshit', 'tease', 'wocay', 'yeah!', '7876150ppm', 'spot', 'load', 'advance.', 'rumbling...', 'printed', 'console.', 'gona', 'yijue.', 'y', 'doggin', 'massive', 'dialling', 'died,', 'beerage?', '5.30', 'recpt', 'that...', 'half8th', 'england?', 'deepak', '087104711148', 'bbd..thts', '(25/f)', '18', 'filled', '545', 'ok?take', 'wk?', 'seen.', 'bed.', 'surrender', 'mca.', 'brand?', 'all,', 'ladies?u', 'alive....', 'captaining', 'cheap!', 'flood', 'today..', 'people,', 'man!', '(25p),', 'seeing?', 'elliot', 'ass?', 'messaged', '(29/m)', 'game.', 'padhe.g.m.\"', \"espe'll\", 'ups', 'q!', 'thru', 'anyone?', 'small.', 'john\\x94-sounds', 'os', 'alone.', 'kiss,', 'attracts', 'changing', 'special', 'tiime', '21/11/04', 'fruit', 'know?', 'banter', '08719181513.', 'works', 'jogging...', 'abroad', 'slice', 'themob', 'honeymoon', 'tobed', 'boy?', 'we', 'sell', 'expensive.', 'dined', 'uk.', 'pump', 'having', 'thinl', 'them?', 'dd', 'k:)all', 'doors', 'desparate', 'oso...', 'box420.', 'lib.', 'unhappiness!', 'wlcome', 'program.', 'transaction', 'frndship\"', 'now!', 'bless', 'hook', 'texts', 'bend', 'sad..', 'venaam..', '300', 'on,', '7548', 'd=', '£1450', '**free', 'whats', '(long', 'missunderstding', 'meets', 'velachery:)', 'disclose', 'yes-762', '09066362220', 'cry...', 'sch?', \"table's\", 'kalainar', 'schedule', 'minded', '83370.', 'game,', 'wk', 'almost', 'interfued', 'toledo.', 'today.he', '\"i', 'ass', 'colin', 'supplies', 'station.', 'type...', 'xy?', 'resort', 'you?', 'diwali', '£1.50', 'project', 'waht', 'mobcudb', 'stores', 'converter', 'tul', 'co.', 'yourself...', 'voice]', 'mummy', 'o.', \"me?'\", 'ended.', 'comfort', 'predicte', \"wudn't\", 'porridge,', 'tmr', 'regards', 'again..', 'glad,', 'watts.', 'hamster', '\"goodmorning', 'understand.', 'corect', 'goodnite', '1205', 'pussy', 'blood,blood', 'anyone.', 'man,', 'waves', 'blah...', 'da:)how', '09061749602', 'wahay.', 'chechi', 'course?', 'txtauction!txt', 'lift', 'cutefrnd', '(and', 'jabo', 'filling', 'agree.', 'silence', 'miserable.', 'urself:-(', 'secure', 'havbeen', 'receiving', 'thanx.xx', 'oops.', 'darlin!im', 'fundamentals', \"wasn't?\", 'quickly', 'though.', 'disappeared,', 'corrct', \"vettam)'\", 'postal', '5249,', 'hello-', 'aiya', 'company', 'vibrator', 'hotel...', '24', '09061213237', '7zs', '£1.50perweeksub.', '$350', 'xxxx.', '09061221061', 'eng', 'quoting', 'charge)', 'animation', 'bday,', 'sexy!', 'no-165', 'office.thenampet', 'das', 'nationwide', 'hg/suite342/2lands/row/w1j6hl', 'pa..', 'ask...', 'notifications,', 'xxx.', \"zaher's?\", 'theatre', 'ironing', 'ard...', 'ammo', '\"what', 'told', 'margin', 'done,', 'labor.', 'kano..anyway', 'dealer', 'coin', 'woulda', 'trash.', 'monday!', 'gibe', '09096102316', 'blood', 'upstairs', 'peeps', 'paying,', 'goin...', 'lot', '500', 'bleh.', 'thts', 'i\\x92d', 'bar', 'someone.....', 'mac', 'mobilesvary.', 'buz', 'wait', 'ding', 'bak!', 'warm?', '\"miss', '\"oh', 'withdraw', 'pink', 'increase', 'eat', 'correct.!', 'always', 'winds', 'willpower', 'vague.', 'flow', 'soon!', 'bevies.waz', 'confuses', 'til', 'wil', '80086', 'sitll', 'bored', 'shopping?', 'salary.', 'love...', '21', '08715203649', 'transfer?acc', 'promo', 'efficient...', 'watr/day=no', 'fightng', 'grumpy', 'id.', 'laden.', 'opened', \"ain't\", 'lapdancer.', 'nyt...', 'chatlines', 'kills', 'hee', 'doubt', 'naal', 'yes:)from', '8lb', 'weight...', 'bedrm-$900...', 'at/your', 'bed!', 'then', 'back,', 'paying', '150p/mt', 'gal...', 'splendid', 'making', 'linux', 'mrng', 'out', '2wu.', 'lot..', 'cool!', 'white', 'cps', 'bcums', '2%', 'php.', '60,400thousad.i', '08709501522', 'already', 'bettersn', 'pockets:)', 'point', 'recession', 'bbd(pooja)', 'rs..i', 'package.', 'styles?', 'ramen', 'spirit.', 'fridays', 'rodds1', '2.naughty', \"'need'\", 'u.othrwise', 'undrstndng', 'posting', 'tape', 'notified', 'february', 'day\"', '27/03', 'exactly', 'lingo.', 'lunch:)you', 'mon.l8rs.x', 'ofice...got', 'please', 'this...', 'prize.', 'honey,', 'cc:', '3', 'player', 'done.', 'rice.', 'be.', '88888.', 'gd...', 'spun-out', 'website?', 'hol', 'interested', 'sooooo', '21870000>hi', 'game!', '@', 'official', 'ones', 'overheating', 'screamed', 'ned', 'eating', 'team.', '150ppm', 'force.', '83049.', '07008009200', 'plus', 'haha..', 'proove', 'pushbutton', 'there--', 'nick,', 'maniac?', 'occur', 'mail.', 'crashed', 'mins&100txt/mth', 'hitter.anyway', '13/10/04', 'consent', 'stitch', 'brand', 'dinner', 'hmmm...', 'oga.', 'nite!!', 'fun', 'fantasies', 'blessings', '2hook', '30apr', 'wins', 'inner', 'tel,', 'orange.', '6230', 'aeronautics', 'cancer.', 'lunch...', 'air', 'about!', 'hmm', 'before?', 'nigeria.', 'gud', 'can...', 'lost,', '220-cm2', 'videos', 'preschoolco-ordinator', '09061221066', 'turn', 'friend-of-a-friend', \"g's\", 'a30.', 'calls£1/minmoremobsemspobox45po139wa', 'tmorrow.pls', 'who', 'cock!', 'him?', 'text!', 'keluviri...!', 'house?', 'pisces.', 'k:)k:)what', 'holding', 'frndshp', '11?', 'shy', \"dad's\", 'www.cashbin.co.uk', 'd', '5.ful', 'b/tooth', 'place.no', 'eightish', '^', 'thnk', 'cost£1.50/pm,', 'paper,', 'erm.', 'chgs', 'painting', 'up.', 'thread', 'cine', 'dontplease', 'mymoby.', 'finishd..', 'teach', 'keep-in-touch', 'law,', 'fne', '.@', 'cast', 'rs.', 'doctor?', 'sick', 'avent', 'hav2hear', 'billed', 'fault', 'normal', 'standard', 'teeth?is', 'inconvenient', 'rec', 'inclusive', 'offcampus', 'sk38xh.', '£125', 'punishment', 'amt.', 'whilltake', 'xxxxxx', 'doin?nearly', 'barely', 'them,', '02072069400.', 'challenging', 'msg:we', 'for.', 'prasad.', 'lots.', 'onto', 'k:)eng', 'considering...', 'ya', 'collect', 'jen', '5+3+2=', 'died', 'overtime', 'max6/month', 'nosy', 'favor.', 'tiwary', 'sack', 'wheat', '6missed', 'registration', 'testing', 'thinks', 'hmmm', 'saying', '169', 'frankie', 'oath', 'that)', 'slave.', 'gr8fun', 'least5times', 'gud..k,', 'boston', 'parent...not', 'meh', 'nasdaq', 'day', 'no-434', '5years', 'instant', 'thurs', 'pleasured', 'welp?', 'speciale', 'number.pls', 'dealing', 'bt....hmm', 'during', '09077818151', 'applying,', 'needing', 'weaseling', '1x150p/wk.', 'tones,', 'mobile.', 'shop', 'package', '09061701444.', 'yan', '3d!!b)', 'toxic', 'sticky', 'birthday.', 'bus?', 'strips', 'hear', '430', '150p/mtmsgrcvd18', 'potter', 'row/w1jhl', 'silver', 'respectful', 'message.', 'god', 'earn', 'kisi', 'bcoz,', 'lesson', 'emergency', 'time?)', 'sterling', 'versus', 'anymore...', 'novelty', 'admirer.', 'buen', 'hsbc.', 'mel', 'arts', 'stupid.its', 'fine:)when', 'afternoons,', ':)all', 'swann', 'supervisor.', 'evn', 'hai', 'strokes!', 'ages,', 'swiss', 'pathaya', 'akon-lonely>>>', 'curious', \"mrng''\", 'loyalty.', 'pence', 'sacrifice.', 'eveb-)', 'ripped', 'childporn', 'maggi', 'xchat,', \"'anything'\", 'december', 'needa', 'leh,', 'beers', '2', 'pretend', 'followed', 'nasty', '3,', 'way&this', '1/3.', 'jealous?', 'dear.', 'box385', 'on!', 'humans', 'sue', 'parish', 'fixed.', \"isn't\", 'justify', 'am.', 'further', 'honey.', 'box1146', 'refund', '...*kiss*', 'in!!', 'lecturer', 'cheaper', 'm263uz.', 'ok.varunnathu', 'usual..iam', 'come', '87077:', 'talent?', 'buzz!', 'are.', 'alex', 'cuddle!', 'albi', 'alian', 'rstm,', 'loverboy.', 'tht', 'neway', \"hi'\", 'women', 'win:)', 'notixiquating', 'raksha', 'ceiling.', 'taking', 'symptoms', 'project.', 'superb', '1131', \"!!''.\", 'ass*', 'lennon.', 'hospitals', 'cheered', 'spoiled?', '151.', 'matter.', 'celebration', 'amy,', 'seeking', ';).', 'landline', 'kegger)', 'anyway.', 'uncle', 'ho.', '08706091795', 'wahleykkum.sharing', 'earlier-we', 'bras', 'complexities', 'worry', 'tok', 'workage.', 'cancer', '08718738001', 'well,', 'theres', '&lt;url&gt;', 'cheaper.', 'rd.', 'lesser', 'tat', 'mandy', 'calicut', 'masked', 'hostile', 'will!', \"k..k..i'm\", 'clue,', \"'til\", 'schools.', 'usual...', 'transport', 'prize,', '?!', 'end', 'ctter.', 'ah?', 'buns', '||', 'qatar.rakhesh', 'driving...', '80182', 'liao', 'enjoyed', 'library', 'leaving', 'conform.', 'due', 'pool', 'claim,', 'search:)', 'lib', 'abuse???', 'no...', 'food...', 'route', 'hairdressers', 'guessed', 'exhausted', 'away!!', 'appeal', 'mojibiola', 'pod', 'taxi.', 'famamus....', 'message:some', 'ago,', 'downloaded', 'proof', '\"wen', 'theirs?', 'diapers', 'bristol', '85.', 'decisions', 'inperialmusic', 'evening*', 'tookplace', 'ofsi', 'joke', '£150', 'motive', '6-ramaduth', 'dating:i', 'partner?', \"audrey's\", '8.lovable', 'month', 'problem', 'wallet', 'wednesday,', 'time.', 'velusamy', '150p.', 'installing.', 'tomorrow/today?', 'murdered', 'astrology....', '.call', 'cdgt', 'sexychat', 'vargu', 'bother.', 'mins?', 'cutting', 'establish', 'dat', 'buddys.', 'noooooooo', '£71.', 'hill.', '08712466669', 'spree', 'help.', \"1's\", 'magazine,', 'named', 'we\\x92ve', 'parked', 'sport', 'interflora', 'depends.', 'contract.', 'peoples', 'laundry,', 'effect...', 'wont.', '09094646899', 'professors', 'pple', 'other!', 'force', 'asian', '69988', 'center', 'four,', 'dhorte', 'leonardo', 'soon.', 'carlin', 'lyricalladie(21/f)', 'coach', '0800', '1013', 'cds', 'blankets', 'walk', 'yest...', 'victoria', 'sptv', 'hrs', 's', 'pass.they', 'rearrange', 'shore', 'shining', \"where's\", 'no:-)i', 'jersey', 'ruin', 'his/her', 'been?', 'camry', 'lives.', 'mouse', 'lager.', 'dear...........', 'i‘ve', 'muchxxlove', 'abeg,', '2,police', 'alcohol.', 'daddy...', 'w1t1jy', 'prabha', '-apples&pairs&all', 'sochte', 'oso?', '\"julianaland\"', 'of', 'things.', 'bullshit', 'happy.', 'themob>yo', 'tear....\"', 'licks', 'hand?', 'babies', 'correct', '=/', 'imp.', 'relatives', 'witout', 'memory', '150ppm.', 'choice', 'male', 'gn:-)', '45239', 'beg', 'tells', 'hour.', ':-(', 'hmm...bad', '07753741225', 'there.xx', 'depression', 'asshole..................', 'sleeping?', 'morning.take', 'ay', '!:-)', 'hot', 'fuck.', 'tortilla', '(20/f)', 'maintaining', 'removed.', 'sponsors', 'sense?', 'veggie', 'jp', 'yourself,', 'dileep.thank', 'stop2', 'possession', 'now...', '02/09/03!', 'dooms.', 'beautiful,may', 'excellent,', 'iter', 'tomorrow.call', 'purchases', 'decided', 'cares', 'maximize', 'install', 'rhythm.', 'fans', 'disagreeable', 'chosen', '07815296484', '87070.', 'nearer...', 'sirji.i', \"t&c's\", 'away', '078', 'you‘ll', 'take', 'ke', 'winnersclub', 'vth', 'gravy.', 'science...', 'ugh.', 'terrible', 'someone', 'loyalty', 'point!', 'doubles', 'gift?', 'know', 'bloomberg', 'qlynnbv', 'girls', 'rude,', 'throat', 'satanic', 'missy?', 'crammed', 'semiobscure', '54', 'buyers.', 'yesterday!', 'earning', 'failed.', 'dance', 'csh11', 'later?', 'rs..', 'shock', 'sleep..', 'possession,', 'fb.', 'arithmetic', 'b', 'joking!', 'midnight', 'trained', 'atleast', 'on)', 'general', 'mah.', 'really...', 'twat', 'first?', 'kaiez...', 'indeed', 'pthis', 'powerful', 'difficult', 'colours', 'type.', 'prices', 'apply.', 'length', 's.s:)i', 'correction.', 'minimum', 'lookin', 'gnarls', 'helpline', 'once.', 'barmed?', 'too...', 'complacent...', 'anytime', 'platt', 'haven', 'lk', '3pound', 'ctargg.', 'than.', 'horny,', 'mokka', 'reformat.', \"weather's\", 'receipts.', 'sure', 'must', '7250i.', 'pears', 'hooked', 'pobox334,', 'nudist', 'winning.', 'smart..though', '0207', 'notes', 'remembered', '&lt;decimal&gt;', 'friendsare', 'call2optout/f4q=', 'm', 'visa', '69888nyt.', 'wud', '30', 'yummmm', 'diesel', 'flower', 'nauseous.', 'push', 'dom', 'thirunelvali', 'card!', 'limping', 'costa', 'howda', 'wo', 'served', 'goodnoon:)', 'avoiding', 'him', 'bold,', 'fault&al', 'captain', 's.i', 'hmm.', 'announcement', 'path', \"nobody's\", '1172.', 'bear', 'ok?', 'life.and', 'dec', \"someone's\", 'incident?', 'bang', 'insurance', 'anything!', 'whenevr', 'say,', 'mo.', 'pole', 'jules', 'rv', 'tom,', 'onam', 'care..', '2moro!', 'special?', 'for', 'air?', 'b\\x92day,', 'child', 'mindset.believe', 'open', 'peak!', 'babysit', 'nope', 'traditions....', 'years.', '88088', 'nange', 'aiyar', 'loosu', 'action.', 'meet?', 'paperwork', 'fa', 'closingdate04/09/02', 'arrow', 'victors', 'ie', 'details..i', 'prince..gn:-)', '7pm', 'residency', 'facts', 'iraq', 'speedchat', '2.30ish', 'hearted', '5free.', 'next:-)..', 'fuckin', 'unhappy', 'no..', 'present...', 'designation', 'test?', 'least', '[…]', 'special!', '?350', 'swimming?', 'surf...', 'ooooooh', '\".', 'companion', 'coast...', 'smiley', 'sports', '.irritating', 'simple..', '08006344447', 'tomo!', 'poker,', 'painting?', 's:)8', 'bruv,', 'best.', \"pa'\", 'exeter', 'ola', '*kiss*', 'greatest', 'random.', 'weight,', 'happiness..', 'about...', 'desparately', 'k:)k:)good:)study', 'insurance.', \"er'ything!\", 'report.', 'students', 'clos1', 'itcould', 'bian', 'bbdeluxe', 'butt.', 'whassup?', 'k.i', 'alfie', 'diff', 'important.', '08081560665', 'hu.', 'try.', 'priority', 'convince', '\"she', 'position.', 'crazy', 'heltini..iyo', 'life!', 'search', 'lived', 'no?', '$900', 'inever', 'configure', 'aptitude', 'fifa', 'only.', 'fine.inshah', 'price!', 'sim', 'going?', 'jobyet', 'cysts.', 'pee', '1)unbreakable,', 'operator', \"tantrum's\", 'nalla', 'vs.', 'select', 'house-maid', 'nte.:-', 'ran', 'sariyag', 'area', 'overdose', 'practicing', 'replacement.', 'key', 'i-ntimate.', 'bangb.', 'appointment', 'childish', 'login=', '-shakespeare-', '69101.', 'message,', 'yes.mum', 'news:', 'nearby', 'zyada', 'dryer', 'fri?', 'call2optout/674&', 'in...', 'messenger.', 'submitting', 'by\\x94leafcutter', 'chikku..going', '30pp/txt', 'quiz.', 'bold.', 'thought:', 'islands', '(10p/min)', '88800', 'nights,', 'drink,', 'abusers', 'phoned', 'drpd', 'mad', 'japanese', 'fal', 'donno', 'ah,', 'feelingood', 'holder', 'rite.', 'dint', 'memories!', '08717507382', 'linerental', 'you\\x92re', 'pain', 'hide', 'flirt', 'lush!', '08718720201', 'wait?', 'sup', 'payments', 'ending', 'bags.', 'prominent', 'price...', '40533', '530', 'grand', 'affair?', 'adults', 'idk', 'tonite', 'www.textcomp.com', 'jesus', 'rinu', 'birthday?', '>>>more', 'bollox', 'deliveredtomorrow?', 'm100', 'me?', 'underwear', 'opps,', 'wah...', 'hug..', 'breath', 'golddigger', 'blessings!', 'squid!', 'sary!', 'msgs', 'arrival', 'oooooh', 'tarpon', 'half-8th', 'thinkthis', 'membership', 'evaluation', 'burgundy', 'tones2u', 'fizz.', 'lovers', 'nope...', '6pm.', 'touched...', 'madam,regret', 'mins,', 'begging', 'air1', \"shahjahan's\", 'cable', 'living', 'rem', 'down', 'u.so', '£75,000.', 'out?', 'round,', 'seventeen', 'alert!', 'tobacco...', 'tirupur.', 'doubletxt', 'available..i', 'anytime.', 'fine:)', 'lou!', 'haf', 'naked', 'say', 'ordered', 'nosh', 'expert', 'studying', 'macho', 'smth', 'gold', 'whatsup', 'tke', 'other', 'ringtone!from:', 'parco', 'xt', 'kept', '!', 'a', 'years,', 'princess', '077xxx', 'feng', 'kids?', 'zac', 'buddy!!', '1225', 'adventure', 'planning', 'slow.', 'beach', 'going', \"can't.\", 'el', 'raping', '£5/month', 'boys.', 'need', 'millers', 'delhi', 'naked...!', 'lamp,', 'copy', 'fell', 'it.may', 'poly/true/pix/ringtones/games', 'time?', 'shadow.', 'tea/coffee?', 'crowd', '62735=£450', 'www.movietrivia.tv', 'since.', 'kinda', \"station's\", 'answered', 'afterwards.', 'outta', 'sha', 'trying', 'everyday', 'tranquility', 'account,', '2go', 'effects', 'cali', 'sumthin?xx', '786', 'mo,', 'treadmill', 'timings', 'tessy..pls', 'craving', 'ag', 'hogli', 'record', 'taka', 'indians.', ':-):):-):-):-).', 'treats', 'ls278bb', 'rto', 'maps', '08702840625', 'mahfuuz...meaning', 'shant', 'lacs..thats', 'lik', 'calls!', '08715705022,', 'logos', 'eruku.', '*covers', 'c', 'it.i', 'failure', 'miiiiiiissssssssss', 'love!', 'cuz', 'supports', 'sonathaya', 'achieve', 'movie..wat', 'pl', 'hlday', 'recd@thirtyeight', 'flip', 'sch', 'drinkin,', 'today?', 'allah,meet', 'soup.', 'guaranteed.', 'tata', 'manda...', 'u..', 'tear', 'tix', 'nusstu...', 'staring', 'removal', '7732584351,', 'compromised', '40mph.', 'location', 'meow', 'on:)it', 'type', 'polo', 'propose', 'fixed', 'completing..', 'der..', 'wildest', 's:)no', 'amigos', 'gravel', 'wales', 'aha', 'rude', 'tissco,tayseer.', 'atlanta.', 'hyde', 'satsgettin', 'teaches', 'card', 'is?!', 'internet', 'complete.', ':-p', 'blokes', 'auntie', 'word:start', 'literally', 'fighting?', 'ar?', 'hooch', 'sections', 'shove', 'phne,', '08712400603', 'aphex\\x92s', 'stamps', 'yuo', 'wahala.', 'future.', 'congrats.', 'hlp', 'bugis.', 'sch.', 'blessed', 'dual', \"when's\", 'running.lets', 'scotch', 'life:):)', 'j!', 'brain', 'yoville', 'too', 'nightnight', 'imin', 'summers', 'am,', 'wasted', 'problem.i', 'havin', 'second-', 'well..take', 'mess', 'stressful.', 'pa.', 'help:)', 'icky', 'doing', 'getstop', 'crickiting', ':-):-).', '07808726822', 'misundrstud', 'far', 'gudni8', 'interested.', '£1250', 'mac.', 'intrepid', '6zf', 'dizzee', 'beta...', 'ex-wife', 'october.', 'pura', 'rs', 'aah.', '3lions', '(ranju)', 'only...', 'imagination..my', 'includes', 'deposit', 'postcode', 'gibbs.', 'popcorn', 'province', 'same..', \"won't\", 'queen,', 'century', 'fieldof', 'good...fine', \"how's\", '88222', '08719180219', '/oz,', 'stunning.', '4882', 'abt...', 'trip', 'deal?', '4u', '3.u', 'member', 'damn,', 'vouchers', '850.', 'talents!', 'ltd,', 'nig', '08712460324(nat', 'seeds', 'asia.', 'again:)', 'mm', 'bundle', 'vomitin.', 'urgent,', 'kuch', 'u', 'killed', 'nighters.', '\"stop', 'thanx', 'haircut.', 'interesting', 'pple...$700', 'alcohol?', 'dear,regret', 'workand', 'xxsp', 'da:)where', 'lists.', 'sf', 'given', 'reply', 'sk3', 'morning,', 'v.pist', 'strong:)', 'film?', 'forgot', 'thoughts', 'outl8r,just', 'differ.be', 'www.sms.ac/u/bootydelious', 'halloween', 'balloon!', 'mail?', 'hellogorgeous,', \"wasn't\", 'avalarr', 'housewives!', 'bck', 'xmas', 'yes..he', 'enjoy', 'hug', '£250', 'molested&someone', 'mns', 'plate.', 'underdtand', 'add', 'anyhow', '87131', '80608.', 'pouch?', 'mountain', 'abj', 'x.', 'finest,', 'urn', 'si.', 'do.interested?', 'republic', 'happy!', 'lunch.', 'itself..', 'low', 'melnite', 'gotta', 'minutes', 'babe,probpop', 'randy.', 'yijue...', 'nothing!!', 'emailed', 'deep', 'wake,', 'gep', 'bed,', 'www.ringtones.co.uk,', 'received,', 'june', 'missionary', 'feb.', 'lyk', 'said', 'gang', 'weaknesses', 'also,', 'students.', 'days...', 'club:', 'friend', 'round.', 'dreams..muah..', 'stairs', '8ball', 'before,', 'k.', 'cheating.', 'bye.', 'warwick,', 'message**thanks', 'confirmed', '505060', 'ideas?', 'check?', 'telephonic', '1st...', 'restrict', 'presnts', \"mine's\", 'help:08700469649.', 'face', 'you?when', 'a.', 'owe', 'also', 'enough.', 'nervous', 'confirm', 'care,whoever', '14thmarch.', 'pouch', 'percent', 'ors', \"hasn't\", 'guys', 'parking', '373', 'rice,', 'nokia', 'drink', 'srsly', 'green', 'ip4.', 'slept?', 'probably,', 'urgently..its', 'atrocious..', 'corporation', 'xxxmobilemovieclub:', 'comingdown', 'better..', 'swt.', 'spageddies', 'oso', 'past', 'ever', 'working', 'census.', 'ayo', 'lodge', 'rip', 'cheap:-)', 'plans.', 'ill!', 'lesson,', 'wonder', 'wk,', 'preferably', 'mobstorequiz10ppm', 'gettin', 'iscoming', 'records.', '67441233', 'cutie.', 'bad,', 'figures,', 'invited?', 'yet,', 'lyfu', '..now', 'public', 'stagwood', 'wait...should', 'reason..', 'tonite.', 'strange.', 'changed.', '7.shy', 'trusting', 'happy...', 'yah...', 'jide', 'cheat', 'gbp1.50/week', 'dollars.', 'cheese', 'studio', 'outsider', 'subletting', 'stranger?', 'urgnt,', 'mates', '2marrow', 'enuff..', '08701417012', 'that2worzels', 'goals/team', 'honey', \"b'day\", '2006', 'shifad', 'silence...', 'road', 'dungerees', 'see.', 'loses', '£50-£500.', 'raining!', 'customersqueries@netvision.uk.com', 'whr', 'none!nowhere', 'tenants', 'dengra.', 'bein', 'weddingfriend', 'own.', 'uniform?', 'urgh,', 'accidant', \"s.i'm\", 'shame!', 'nt', 'truth', 'today..but', 'feel..', 'yeah.', 'spiral', '6.romantic', 'chikku..:-)', 'indyarocks.com', 'so...any', 'drvgsto', 'night:-)', 'awake?', 'success', 'offer,', 'edwards', 'spin', 'fishrman', 'raglan', '*sips', 'bac', 'think???', '\"drink\".', 'guild.', 'money...', 'taunton', 'warning', 'fan...', 'collecting.', 'k.then', 'open.', 'moved', 'na-tuition..', 'adds', 'gautham?', 'flung', '(an', 'anyones', 'job..', '08712405020.', 'y.', 'baby.', 'old', 'suggest', 'approved..', '08708800282', 'flirt!!', 'opportunity.all', 'nigeria', 'clear,', 'pobox12n146tf150p', '\"ur', 'thou', 'now!reply', 'apply:', 'plenty', 'home?', 'sounding', 'file', 'executive', 'rows', 'colour', 'frnd,', 'simonwatson5120', 'computers?', 'boring.', '1030', 'barrel', 'deck', 'too,', 'were', 'death', 'chillaxin,', 'joined.so', 'pobox84,', 'day...!!!', 'trouble?', 'collection', 'ennal', 'denis', 'cappuccino', 'lei?', 'yunny...', 'retard', 'helpful', 'aids', 'thy', 'kisses*', 'map..', 'unable', '08702490080', 'lies', 'ignoring', 'xafter', 'hee...', 'games', '08718738002', 'carry', 'wml?id=1b6a5ecef91ff9*37819&first=true18:0430-jul-05', 'real.', \"these...your's\", 'hiya,', 'www.textpod.net', 'possibly', 'o:-)', 'hockey.', 'splat!', 'villa', 'jorge-shock..', 'btwn', 'upset', 'truth,', 'dead!well', '\"margaret', 'dear,', '(quizclub', 'de:-).', 'requests.', 'guesses', 'much?', 'exterminator', 'participate', '08715500022', 'shaping', 'thing?', 'help08700621170150p', 'fall', 'cw25wx', 'together.', 'santa', '7250', '89938', 'kb', 'rimac', 'isn’t', 'dehydration', 'mag', '09066364589', 'and,', '7.', 'god!', 'acted', 't&csc', 'pa,', 'boytoy.', 'robinson', 'club4', 'didn‘t', 'lor..', 'ringtoneking', 'charity.', '10p.', 'no1', 'study', '542', 'friend,', 'switch', 'kingdom.', 'habba..hw', 'itz', 'prescription.', 'speechless.', 'shocking', 'would,', 'yowifes.', 'stocked', 'dick!', 'bucks,', 'nap..', 'totally', 'waited', 'dependable', 'affectionate', 'dawns', 'pobox202', 'videochat', 'stink!', 'body..!!', 'sem', 'pimples', 'outreach.', 'lotsly!', 'recd.', 'life\"', 'gei.', 'describe', 'website.', 'start.', 'starving.', 'king\"...!', 'rajas', 'fights.', '/', 'scouse', 'nobbing', 'cooperative', '42049', 'www.clubmoby.com', '09061790125', 'shitload', 'xam', '09050001295', '3030.', 'boltblue', 'stories', 'reality', 'crisis', 'hurried', 'for!', 'amount', 'sambar.life', 'rebtel', 'regard', 'everyone.', 'halla', 'entertaining', 'miss.take', 'need....|', 'india.', 'duchess', 'aspects', 'gre', 'ileave', 'txtauction', 'welp', 'yellow', '2004,', 'treated?', 'monday...', 'puts', 'jeetey', 'kano.,il', '0870753331018+', '2005.', 'am', 'hearts,not', 'impossible.', 'god.', 'erm', 'prescribed', 'goodmorning:)', 'yes:)sura', 'cinema?', 'wonderful.', 'mix\"', 'obey', 'ffffuuuuuuu', 'longer.', 'g,', 'dream.love', 'innocent', 'meaningful', \"1000's\", 'freezing', 'global', 'class.', 'and', 'whenever', 'ya!', 'nyc', 'nitro', 'sleepin,', 'legal!', 'mega', 'ok.ok', 'm26', 'devils', 'anythiing', 'drug.', 'weddin', 'fill', 'genus', 't-ruthful.', 'hunks', 'comin', 'knowing', 'lane.', 'january..', 'obese.', 'guessing', 'chachi', 'this?', '(100p/sms)', 'phil', 'month.not', 'multis.', 'passion', '09061104283', 'since', 'browser', 'yest?', 'rocks...', 'rofl', 'freely,', 'menu.', 'money?', 'well!i', 'don,t', 'bstfrnd', 'reached.', 'place,', 'orc', 'headstart', 'flirt?', 'friday.', 'town.dontmatter', 'hopeing', '450pw', 'bay.', 'frog-axel', 'then,', 'bill,', 'much.i', 'rooms', 'ends.', 'handset', 'tank', 'dull', 'number', 'pls', 'tightly.', 'requirements', 'snow.', 'recreation', 'haha,', 'live..', 'bet', 'flew', 'heal', 'reaching?', '8wp', '07099833605', \"shade's\", 'eckankar', 'shopping', 'tv.', 'serious', 'ok:-)', 'dark', 'maraikara', 'specialise', '08001950382', 'vatian', 'missing*', 'rugby', 'call2optout=j5q', 'multimedia', 'tons', 'drive', 'j?', 'online?', 'mw', 'pissed', 'bed?', 'internet/service', 'trek', 'dry', 'ref', '310303.', 'cars.', 'nahi', 'car.', 'home', 'sexy', 'walsall', 'rats.', 'calld', 'there!', ',kerala', 'conference', 'ko', 'poortiyagi', 'datz', 'mobile!', 'kinda.', 'anot...', 'specific', '6days,', 'suffers', 'word.', '09063458130', 'mo...', 'afternoon,', 'time.you', 'ajith', 'problems.', 'topic', 'ujhhhhhhh', 'worse,', 'kicks', 'http://alto18.co.uk/wave/wave.asp?o=44345', 'sexy,', 'unique&i', 'pros', 'tag', 'shouting..', '\"find', 'airport', 'atlanta', '08715205273', 'really.', 'indicate', 'courageous', 'bookshelf', 'liao,', '09058091870', 'coming', 'children', 'texted.', 'docks.', 'nigro', 'waliking', 'immed.', 'smiled', 'lautech.', 'eggs', 'gudnite....tc...practice', 'carlos', 'thanks...', 'irritates', 'prey', 'noworriesloans.com', '4wrd', 'uup', 'text.', 'several', '3lp', '(std', 'match', 'accident', 'die.', 'nz', 'www.sms.ac/u/goldviking', 'help', 'sorry.', 'saturday,', 'shipped', 'representative', 'was.', 'weekly', 'freak!', 'biggest', 'swing', 'twilight', '01223585334', \"'comfort'\", '08700621170150p', 'motorola,', 'f', 'occupied,', 'limiting', '5', 'stick.', 'morning..', 'looovvve', '08714712388', 'suprman', 'e.g.23g.', \"weren't\", 'find', 'yrs.', '92h.', '…thanks', '48922', ':)why', 'protect', 'outbid', 'compare', 'archive.', 'call.drove', 'everyso', 'error', 'tunde,', '4utxt', 'yalru', 'fly..', 'photos', 'blanket', 'mad2', 'accommodationvouchers', 'swap', 'replied:', 'us.let', '6months', 'theatre.', 'odalebeku:', 'rebel!', 'score', 'pole.', 'nothing,', 'competition', 'tog', 'friends', 'thesis', 'postponed,', 'discreet', 'persian', 'send,', 'nt.swt', '?.', 'hungry.', '\"nver', 'now!savamob-member', 'downstem', 'frens', 'wondering', 'do,', 'again.', 'dine', 'chef', 'funeral', 'much:)', 'ideal', 'snogs.', 'freemsg', 'situation:', 'liao...so', 'apologise', 'causes', 'forever,', 'heart-', 'time..dhoni', 'no,', 'express', 'themob>', '2000', 'forgets', 'behalf', 'chop', 'brats', 'training:-)', 'keeps', 'xchat.', 'highest', 'philosophy.', 'hey!', 'brief', 'med.', 'anythin', 'directly.', '31p.msg@150p', \"you're\", 'grow.random!', 'thanku', 'noon....', 'stuff!', 'price.', 'night', 'jada', '2-bajarangabali', 'goals', 'gee,', 'bears,', 'imprtant', '09071512433', 'town..cud', \"wherre's\", 'raise', 'guide', 'hospital.', 'mob?', 'probs', 'huiming', 'home.left', 'comin.', 'parade', 'dear.rakhesh', 'rewarding', 'forth', 'fyi', ':', 'biro', 'sary', 'wotu', 'oh...i', 'vital', 'really', 'spk', 'collapsed', 'salary..:-);-)', 'wun', 'words.', 'swoop.', '32000', 'let', ':v', 'hypotheticalhuagauahahuagahyuhagga', 'potato', '\"divorce', 'ros', 'tonight', 'significance?', 'cooped', 'bunkers', 'sk38xh,', 'sweatter..', 'hoped', 'fat.', 'prey.', 'bus8,22,65,61,66,382.', '1.', 'theater', 'much!', 'e-namous.', 'triple', 'spoke', 'ldn.', 'mycalls,u', 'afew', 'code', 'start,', 'lot...', 'coming?', 'savings.', 'summon', 'guai...', '09050280520,', 'oru', 'prescription', 'sdryb8i', 'tone,', 'mittelschmertz.', \"can't,\", 'is', 'strtd', 'haha...take', 'u?????', 'ans.', 'display', 'seem', 'games!', 'earliest', 'gals...u', 'life?', 'bad', 'settings', 'pc', 'mean.', 'question.', 'far!', 'box177.', 'held?', 'differences...', 'settled?', 'loko', 'fromm', 'noncomittal', 'thrown', '4txt/ú1.20', ':)finally', \"'doctors'\", 'replys150', 'violence', 'fire', '£1.50/msg.', \"mom's\", 'maneesha', 'first-', 'pm)', 'abta', 'no-762', '2gthr', 'i‘ll', 'coins???', 'disk...you', 'scrumptious...', 'wildlife', 'afraid', 'great', 'place?', 'fb', 'ringtones.', 'surya', 'differ', 'jog.', 'ready...', 'only..bettr', 'watever', 'nb.', 'successfully.', 'morning:)', 'rate..', '9,', 'french', 'thatmum', 'free-send', 'wrks', 'charles', '£2000', 'line--you', 'vid', 'telling', 'gautham..', 'forgiveness?\"', 'delayed', 'challenge?', 'dear...i', 'driver!', 'guys.', 'case...', 'cool,', 'aint', 'adjustable,', 'hunny.', 'than', 'owo', 'yar', 'kaiez,', '2morow', 'tomorrow.', 'makes', 'drum', 'thanx..', '8-hr', 'cruise', 'hey,', 'gail', 'pm', 'private!', 'expired', 'efreefone', 'expect', 'bowl', 'up+not', 'day.', 'gua...', 'sarcasm', 'messy', 'jordan!', 'as', 'go..', 'wrong,', 'age16.', 'unfortuntly', 'correct.', 'win150ppmx3age16', 'tmrw', '150ppmsg', 'software', 'forgot.', 'indian.pls', 'bf...', '526,', 'fact:', 'easy', 'programs', 'saturday', 'chief,', 'right,', 'xxxxx', 'free,', 'provider', 'process', 'yar...', 'dentist.', 'or2stoptxt', 'torch.', 'over', 'dead.', 'physics', 'enter', 'suite', 'excuses', 'try,', 'k,', 'cheetos', 'passwords,atm/sms', 'x29.', 'time.your', 'heavy...', 'pics.', 'holiday?', 'hehe', 'samantha', 'ym', 'iphone', 'mean', 'swalpa', 'lololo', 'story.', 'go..a', '1.20', 'massages.', 'gbp', 'papers', 'early.', 'him.', \"tm'ing\", 'of,', 'prasanth', 'laugh,', 'nevamind!we', 'bimbo', 'new', 'sonetimes', 'monster!', 'planned,', 'splash', 'age', 'raining', 'freinds', 'guess.', 'lifebook', 'carpark.', 'asleep', 'wth', 'no.', \"8'o\", 'accounts', 'life,', 'pink;u', 'gynae', 'habit', 'hill', 'resume:-)', 'fathima', 'buy.', 'though,', 'stay.', 'xin', 'voted', 'police.', 'spotty,', 'zoom', 'dr', 'canal.', 'mayb?', 'beads', 'gdeve..', 'rajini', 'keep', 'life:', 'yay!', 'babyjontet!', 'dreams..', 'html', 'yours!', '3gbp', 'info!', 'yes..gauti', 'sathya.', 'page...', 'buffet...', 'village,', 'tihs', 'english', 'week??', 'ivatte', 'n8', 'upd8', 'could', 'diet.', 'phones', 'easier', 'sitting.', 'fine!\"', 'previous', 'minuts', 'slap', 'accessible.', 'yelow;i', 'ibn.', 'christmas.', 'class?', 'scotland.', '08704439680.', '10am', 'ideas.', 'person;', 'coins.', 'delicious', 'pmt', 'bloke', '1.50', 'rupaul', 'auction:)punj', '09050090044', 'bills', 'plan', 'spring', 'heaven', 'slave!', 'whatever.', 'formal...', 'www.smsco.net', 'andrews-boy', 'miles', 'consistently', 'chik.', '09066368470', 'laurie', 'u,', 'remember.', 'kath.', 'app', '!this', 'day,has', 'imma', 'bother?', 'comes,', 'big!', 'havent...', 'goodo!', 'code:', 'daddy,', 'helen,', 'tc', 'recharged', 'tomorrow,', 'cup', '£1', 'bluetoothhdset', '60p/min.', 'luckily', 'tho)', 'ovulate.when', 'not...', 'cha', 'y?', 'pile', 'there,', 'lip', 'alert.', 'workin', 'award.', 'used.', 'revealing', 'be', 'sex.', 'replies', 'harry,', 'di', 'yes-910', 'upgrading', 'attempt', 'yam', 'drunk', '&xxx', 'off?', 'a,', 'u....', 'omg', 'da:)good', 'apply.2', 'draw.....please', '5we', 'gastroenteritis.', 'sure!', 'midnight,', 'transfred', '1lemon/day=no', 'hundred', 'friendship..', 'cooking.', 'download,', 'rushing.', 'treat?', 'asks', 'unsold', '£900', \"ron's\", 'bloomberg.com', 'jetton', 'xoxo', 'hme', 'casting', 'recorded', '2.u', 'here....', 'clearing', 'perfect!', 'ela', 'kalisidare', 'star', 'iron', 'everyboy', 'www.ldew.com', 'cut?', 'machan.', 'pa', 'cud', 'months?', 'wt', 'one', 'replace', 'forever!', 'blu', 'help08718728876', 'panties?', 'care:-)', \"prabha..i'm\", 'thus', '\"checkmate\"', 'chillin', 'code:4xx26', 'faith', 'posible', 'better.', 'starer', '5.gardener:', 'bitching', 'legs', 'oyea.', 'unnecessarily', 'double', 'valuable', 'mcr', 'chikku..il', '£33.65', 'decorating)', 'whn', 'entitled', '+£400', 'uh,', 'm8?', '&gt;:(', '69855,', 'innings.', 'lage.', '*passionate', \"invited'\", 'weed,', 'missions', '4ward', 'suply', 'smoke', 'jamz', '(10p/min).', 'wrong!!take', 'dude', 'tears', 'ger', 'werethe', 'store.', 'temper', '09065171142-stopsms-08718727870150ppm', 'textcomp', 'forwarded', 'kalstiya..then', 'tones2you.co.uk', 'father.', 'tel)', 'unconscious', 'so.', 'soon...', 'prem', 'up?', 'took.', '177.', 'rcvd', '09066364349', '7ws.', 'shit.', 'thin', '08714712412', 'office?', \"everybody's\", 'sign', 'jesus.', 'online', 'hair.', 'pete,', 'face!', 'zindgi', 'pieces', 'forgot..', 'club,', 'honesty', 'sarcasm..', 'spelled', 'gent!', 'reference', 'unredeemed', \"don't,\", '6.30', 'callertune', 'ü', 'shu', 'sw7', 'best:)congrats...', 'sun...', 'looking', 'natural', 'attach', '09066368327', 'tiger', '7634', 'prepayment.', 'wot', '121', 'nite', 'claimcode', '7.30ish?', 'smile.', 'girls.', 'james', 'reacting', 'dept.', 'yeah,', 'healer', 'bsn', 'fine', 'anthony.', '4my', 'wisheds.', '08718726971', 'langport?', 'nice', 'teletext', '8th)', 'remain', 'getting?', 'asleep?', 'cr01327bt', 'competition\".', 'appy', 'loving,', 'pause', 'mecause', 'rental?', 'egg', 'sound', 'images', 'smsing', 'xxxmobilemovieclub.com?n=qjkgighjjgcbl', 'reply...', 'cough', 'nxt?', 'already,', 'shijas', 'hello\"', \"bloke's\", 'left', 'vewy', 'bites', '\"power', 'sp:rwm', 'folks', 'uk-mobile-date', 'how', 'bothering', 'matches.', 'hava', 'blacko', 'checked', '\"how', '\"morning\"', 'stopcost', 'dot', '150p/msg.', '\\x91morrow.', 'thepub', '*smiles*', 'siguviri', 'romantic!', 'comp.ofstuff', 'goto', 'ex', '5000', 'box42wr29c,', 'terrific', 'films.', 'millions', 'fudge', 'kg', 'involve', 'panasonic', 'brother.', 'scratches', 'cbe.', 'blimey,', 'prepared', 'meetins', 'ahhhh...just', 'pdate_now', 'legitimat', 'cr9', 'fine!', '1/08/03!', 'ibuprofens', 'dave', 'running', '07742676969', 'incredible', 'gd,now', 'charming', 'smarter', 'neft', 'vary', 'essay', 'hon,', 'addie', 'teeth', 'uses', 'sec', '1tulsi', 'board', 'realy', 'head…', 'seven', 'gprs', 'unclaimed!', 'fastest', 'plan?', 'oi.', 'touch.', 'beauty', 'gud..', '3xx', 'sometime.rakhesh,visitor', 'happens', 'opening', 'tonexs', 'gals', 'tell', 'matter..msg', 'delete', 'favourite.', 'loo', 'k.k..how', 'funky', 'sunshine.', 'gonnamissu', 'seing', 'shouldn‘t', 'tee', 'stayin', 'oz', 'friend.', 'going,', 't&c', 'ffffffffff.', 'petey!noi\\x92m', 'late...', 'disturbing', 'aah!', 'tirupur', 'urmom.i', 'stuff,', 'pix', 'private', 't-mobile.', 'ericsson', 'singapore', 'kz', 'touched', 'poorly', 'w14rg', '8007', 'pudunga', 'tiempo', 'mouth,', 'law', 'hont.', \"employer's\", 'eve...i', 'thesis!', \"'melle\", 'shijutta...........', 'cave\".', 'do..', 'fancy', 'banneduk', 'dirty', 'durban:)', 'gentle.', 'ifink', 'else?', 'university', 'skyving', 'expired..so', 'meive', 'wkent/150p16+', 'impressed.', 'lucy', 'investigate', 'tenerife', 'paris.', 'approaches', '30s', 'soup', 'finished.', \"u've\", 'entey', 'anythingtomorrow', 'chad', 'flame.', 'ystrday.ice', 'cttergg.', 'tried', 'fever,', 'nokia6650', 'brolly', 'abnormally.', '08707500020', '6pm', 'callback', 'stops.', 'grateful', 'they', 'height', 'character?', \"roommate's\", 'style', '6.cruel', 'what', 'greatly', 'educational', 'golf', 'xmas...', 'device', 'bears', 'accumulation.', 'single', 'wasn‘t', 'true:', 'portal.', 'text82228>>', 'bathe...', 'uncomfortable.', \"shit's\", 'doing!', 'tickets', 'yes...', 'bcz', 'friends..!!', 'hudgi', 'odi', ':-)keep', 'bitch..........', 'yo', 'ends', 'days.so', 'warming', 'browse', 'prob...', 'lvblefrnd', 'chat...', 'movies.', 'love?:-|', '.nt', 'answer\"', 'dokey,', 'aww', 'sweetheart,', 'nonetheless.', 'happen', 'reminds', 'shd', 'oyster...', 'restrictions,', 'mu?', 'holiday..so', 'jan', 'apartment', 'beeen', 'snow', 'fun!', 'well!', 'aaniye', '-vivekanand-', 'prob', 'finishing', 'hug?...', 'lessons...', 'k.:)do', '10th', 'usc.edu', 'wihtuot', 'hourish?', '09058094455', 'plyr.', 'buy...', 'trouble', '-sub', 'mornings', 'flaked.', 'part..', 'subscribed', 'bits', '2)', 'http://www.wtlp.co.uk/text.', 'rental', 'mate.', 'woot', 'k:)k.are', 'jos', 'sometime', 'minnaminunginte', 'ayn', 'sea*', 'cry', 'k...', 'draw.', '***********', 'miss.', 'norcorp', 'leave.', 'lobby', '1000s', 'ya:)going', 'changed', 'eyed-dont', 'extra,', 'cakes.', ';abel,u', 'can,', 'sleepy', 'nyt.ec2a.3lp.msg@150p', 'it.or', 'min:)', 'ü.', 'sometimes', 'tuition...', 'small,', '08718723815.', 'comp', 'footprints', 'high.', 'possibility', 'sunlight.', 'screaming..', 'impossible', 'cam', '88039.', 'time', 'haughaighgtujhyguj', 'yahoo', 'swan', 'reboot', 'ttyl', 'audrie', 'free..', 'b4u', '3optical', 'tip', '87066', 'geeee', 'sale.', 'place..', 'vday', 'it.(now', 'mum,', 'mother-in-law', 'independence', 'september', 'soon.xxx', '1-u', 'available!', 'see', 'no:83355!', 'row', 'sensible,', '62468', 'love', 'moral', 'punish', '3.sentiment', 'phone!!', 'anymore.', 'tirunelvali', 'smells', 'dismay', '4mths', 'long,', 'bandages', 'spacebucks', '515', '16+only!', 'swollen', 'wed.', 'mood', 'day..:)', 'morn', 'wiv', 'phone,', 'ru', 'disconnected', 'wannatell', 'loosing', 'companies', 'e-mail?', 'eve.', 'plz.', 'dear1', 'habit..', 'aunt', 'ghost,', 'pages?', 'garage.', 'drivin', '9', \"he's\", 'billion', 'nachos.', 'earth...', 'stuff.leaving', 'lac', '+get', 'awaiting', 'try!', 'mid', \"that's\", 'smsservices.', 'legal', 'stick', 'them!', 'dha', 'informed', 'drunkard!', 'lavender?', 'vehicle', 'heavily', 'maga..', '09050000878.', 'wright', 'two?', 'everything', 'hey..', 'difficult..', 'easter.', \"me..!''\", '4eva', '(£4.50)', 'you!', 'lily', 'tunji,', 'too?', '07xxxxxxxxx', 'gurl', 'sat', 'movie', \"dobby's\", 'again...', 'doing?', 'scorable', 'athome', 'off,', 'bed...', 'class', 'option!', 'sleeping,', 'babes', 'shirts', 'stamped', 'p', 'marking', 'sudden', 'usps', 'much\"', '391784.', 'difficulties', '09111030116.', 'india:-):', 'opposed', 'ha', 'nitz...', 'glands', 'bk', '7+2+5=?????', '%.', 'overa', 'like.', 'after.', 'urgent!:', 'wet.', 'presence', 'parkin', 'empty', 'talks', 'pin', 'fancies', 'tampa', 'salmon', 'addamsfa,', 'bone', 'name', '09061701851.', '800', 'moan?', 'sleep.', 'sweater', \"i'll\", 'color', 'sutra', 'while.', 'measure', 'videophones', 'shangela.', 'uncle.', 'brum!', '08701417012150p', 'iff', 'us..', 'tagged', 'nobody', 'bulbs', 'confidence:', 'sun', 'ibored.', 'national', 'gay', 'angry', 'significant', 'otside', 'ringtone.', 'r', 'aging', 'be?', 'completed', '100', 'who?', '09090900040', 'kama', 'bid', 'scores', 'hey...', 'vip', 'toa', 'forfeit...', 'traveling?', 'it..', 'missin', 'tb', 'year,', 'xxxxx.', 'whos', 'restocked', 'e.g.23f.', 'gymnastics', 'loverboy', \"address.u'll\", 'anal', 'afternoon?', 'txts!', 'easiest', 'ducking', 'da:)he', 'www.rtf.sphosting.com', 'thangam,', 'tp', 'shipping', 'isn‘t', 'themes?', 'tour', 'tomorrow.....!', 'k:)', 'technical', 'croydon', '09061743386', 'riddance', 'credits', 'worthless', 's89.', 'ben', 'doll..:-d;-),', 'no.1', 'solved', 'isaiah.=d', 'songs', 'spree,', 'calling.forgot', 'hypertension', 'scrounge', '930', 'rental:', 'mths?', '5pm', '09071517866', 'west', 'v.', '3uz.', 'msging...', 'sun.', 'reaction', 'dunno,', 'roommates', 'ecstacy.', 'auction.', 'breathe1', 'tight', 'haiz...', '£250k', '£1.50/week.', '150p/min', 'repairs', 'kl341.', 'urfeeling', 'revision', 'tablets', 'series.', 'www.ldew.com.subs16+1win150ppmx3', 'finish', 'yavnt', 'drugs', 'stops', '7', 'much...', 'wife,', 'babysitting', 'now!sky', 'tulip', '»10', 'horniest', 'seat', 'california.', 'awkward.', 'dimension', 'record:)', 'forget', \"don't\", 'away.', 'provided', 'v-aluable.', 'born,', 'ar.praveesh.', 'wrkin?', 'papa', 'crore\"', 'can?', 'developer', 'huh', 'chennai:-)', 'nxt', 'was', 'misss', 'cost', 'now!use', 'problematic', 'lanka?', 'arguing', 'moments', 'gender', 'shuhui?', 'ü...', 'worlds', 'oblivious', 'court.', 'gamestar', 'drop,', 'ni8', 'website..now', 'joke.', 'meant', 'bedbut', '£2,000', 'diet', 'lei...', 'freemsg:', 'go2', 'credits!', 'tis', 'shudvetold', 'president?', 'fiting', 'iouri', 'cliffs', 'last', 'machi?any', 'payed2day', 'nice...', 'goodnight.', 'pete,is', 'mad.then', 'clock,', 'rub', 'steyn', 'now?', 'affection,', 'major', 'sickness', 'endowed.', 'titles:', '08701237397', 'word).', 'salt,', 'definite', 'charged', 'laugh!', 'idk.', 'then?', 'fuck,', '5)gently', 'tues', 'position?', 'jacuzzi', 'signin', 'truble', 'escalator...', 'that\\x92scool', 'musthu', 'ac/w/icmb3cktz8r7!-4', 'aha.', 'cum', 'swimsuit', '81151', '09066649731from', 'garbage', 'jokes...', 'fails', '&lt;)', 'nature', \"havn't\", 'eire.', 'sofa..', 'online!', '150p/msg', 'indian', 'ad.', 'power', 'jiayin.', 'everywhere', 'just', 'quality', 'cya...', '4.49/month', 'dreamz', 'sore', 'lionp', 'attending', 'w4', 'share...', 'uneventful', 'meds', 'pissed.', 'announced', 'what‘s', 'panren', '26/10/04', 'vale...', 'liked', 'lose.', 'adore', 'has', 'woodland', 'brdget', 'sq825,', 'mob.', 'str8', 'okie,', 'exams', 'people!,', 'bribe', 'name?', 'bars', 'b-day', 'gucci', 'eggs,', 'lor...we', 'mistake.u', 'fills', 'port', 'solved!', 'kids', 'lovely,', 'lion', 'cold,', 'shut', 'themed', \"weekend's\", 'correction?or', 'entry', 'words', 'dat..', 'reaching', 'uni?', \"idea's?\", 'chechi.', 'words...', '1/1', 'asa', '150p/msgrcvdhg/suite342/2lands/row/w1j6hl', 'somone', '£5000,', 'cum...', 'dollars', 'voucher', 'taj', 'bt-national-rate.', 'ouch', 'sometime!', 'milk..', 'selection', 'fren', 'fats...', 'amplikater', 'mushy...', 'planned?', 'box139,', 'sura,', 'excuses)', 'coming.tmorow', 'park...', 'mean,', 'inviting', 'arises', 'fact,', 'rejected', 'vilikkam....t', 'boye', 'pocy', 'spaces.', 'gaze', 'grocers.', 'cheque.', 'boo', 'place', 'patty', '22', 'it:)', 'still', 'harlem.', 'tonite...', 'you,clean', 'that\\x92s', 'minutes,', 'change,', 'ar...', '300p', 'bridgwater', 'cheaper,', 'keypad.', 'terms', 'car...', 'meow:-d', 'overdid', 'tuth', 'chic.', 'determined', 'wan', '£500.', 'tour.', '£50', 'that...now', 'another.', 'fml', '08719839835.', 'evening...', 'taxi?', 'www.idew.com', 'anyways', 'cause', 'mu', 'appreciated', 'lar...', 'satthen', '\"gud', 'value', 'wa14', 'whore', 'nyt:-*', 'self.', 'bless.get', 'sitting', 'wrecked.', 'mofo?', 'fine.', 'tor', \"b'day.\", '09050000460', 'paypal.', 'tscs', '150p/wk', 'waaaat??', 'curry', 'dey.i', 'scary', 'god,', 'mumbai.', 'brothas', 'yes,', 'two', 'ertini', 'sef', 'give', '450p', 'identification,', '.so', '07973788240', 'yahoo!', 'tming', 'obedient,', 'home.love', 'seeing', 'alright,', 'sec,', 'something!', 'club>>', 'link.', \"didn't.\", 'manageable', 'bthere.', '(more', 'liverpool', 'windows', 'genuine', 'pshew...missing', '4got,', 'size', 'tx', 'or2optout/hv9d', 'faber', 'excellent', 'lays', 'wks!', '#', '4-some1', 'journey!', '07734396839', 'schools', 'shell', 'exam', 'name2', 'haventcn', 'stop2stop)', 'adewale', 'usher', 'norm150p/tone', 'chatting', 'ge:-)..', 'gray,', 'frog', 'www.sms.ac/u/natalie2k9', 'together!', 'southern', 'jeans', 'weeks', 'ooh,', 'manege', 'prakasam', 'immediately.', 'issue.', 'closer..', '09061790121', '(txt', 'lucozade.co.uk/wrc', '$50...', 'sorrows.i', 'haf...', 'window:-)', 'frnt', 'campus?', 'txtin', 'dating', '07090298926', 'up!had', 'music,', 'back...', 'g', 'rest!u??wud', 'ringtones,', 'at,', 'auction..', 'durban', 'ne', 'smokes,', 'pls.i', 'dload', 'oops,', 'individual', 'plans?', 'yup,', 'mistakes', \"s'fine.\", 'play!!', 'burial.', 'footprints?', '83338', 'name.', 'ijust', 'job.', '69200', 'dinner.', 'both', 'sentence', 'battery', 'xy', 'coast', 'diddy', 'night!', '08712405020', 'cr', '6', 'tonights', 'you.thats', '1327', 'publish', 'bluetooth!', 'doug', 'carly', 'luv!', \"xin's\", 'yes-165', 'desert', 'wondering,', 'wrongly', '4-6...', 'youwanna', 'africa?', 'me:', 'p£3.99', '08715203652', 'smith', 'somewhere.', 'bbc', 'arsenal', '0a$networks', 'wylie,', 'lover.', 'box95qu', 'cutter.', '113,', 'vikky..', 'breather.', 'me)', '650.', 'club4mobiles.com', 'gain', 'lotsof', '(32/f)', 'decimal', 'y?where', 'alot', 'canlove', '82277.unsub', 'verified', 'dudette,', '<ukp>2000', 'senthil', 'disc', 'oh!', 'dime', 'freemsg>fav', 'turkeys.', 'misplaced', 'athletic', 'walmart.', 'acknowledgement', 'hold', 'yesterday?', 'boring', 'boat', '0870737910216yrs', 'windy.', 'bx526,', '98321561', 'but,', 'kallis', 'th', 'fetch', 'ghodbandar', 'dislikes', \"month's\", 'meal.', 'fantasies.', 'accept', 'jap', 'fake', 'called.', 'balls.', 'ad', 'hostel?', 'alibi.', 'rp176781.', 'african', \"alex's\", 'cartoon,', 'chat..', 'babe!', 'friends..', 'just..', 'them...', 'us?', 'prefer...', 'avoids', 'wicklow,', 'leaf/day=no', 'convenience.', 'refreshed', '4u:', 'printing', 'princes', 'nd', '4the', 'hee..', 'babe.', 'may', 'cnl', 'asap.ok', 'men', 'here.thanks,i', 'ambrith..madurai..met', 'messy...', 'desperate', 'jenny', 'liao...', 'night......', 'chat?im', 'tactful', 'tlk', 'somewhr', 'samachara', 'second.', 'onlyfound', 'melt', 'dang!', 'monday,', 'woken', 'paper', 'da:)whats', 'soil..', 'side.', 'pocked', 'cops', 'flies', 'decision,', '08715203685', 'tt', 'recognises', 'should.', 'happend?', 'wrking', 'hi.', 'flash', 'freeentry', 'beehoon...', 'shipped.', 'subscribers', 'will', 'me.remove', 'gt', 'act', 'practical.', 'her...', 'k..i', 'ing', 'jordan', 'ipod.', 'process:)its', 'worried!x', 'letters', 'tallahassee', 'tomo?', 'right..', '(…)', 'want', '87575.', 'walkin', 'stranger', 'shopping.', 'women.', 'fingers..?', '087187272008', 'argument', '68866.', 'afternoon', '09066350750', 'girlfrnd...', 'eatin', 'msg150p', 'emily', 'season', 'many', 'phone.', '*grins*', \"riley's\", 'pay.', 'callback,', '80062', 'leanne.what', 'sorting', 'ali', 'times?', 'hugging', 'wknd', 'txts.', 'tocall.shall', 'cornwall', 'jack', 'necessarily', 'foley', 'members', '7:30', 'wrote.', 'scrappy.', 'ami', 'days,', 'sat....', 'gyno', 'warm', 'reminded', 'steed', 'youphone', 'scotsman', 'frndsship', 'ate', 'moment.', 'styling', 'tendencies.', 'hillsborough', '£5000', 'happier', 'slowing', 'watevr', 'rentl.', 'jerk!', 'stripes', 'instructions.', 'receipt', 'k..sry', 'falls.', 'finishes', 'notice.', 'mrng:-)', '2optout/d3wv', 'fast.pls', 'inform', 'thm.', '8883', 'lower', 'wear', 'drms', 'aom', 'orno', 'dangerous', 'inde', 'match?', 'corvettes', \"upset--it's\", 'eaten?', 'man?', 'sucks.', 'kidding,', 'firmware', 'flying', 'magical', \"t's\", '3750', 'not..tel', 'dearly', 'regretted', 'sympathetic', 'okay', 'fit', 'mids', 'craigslist', 'turning', 'middle', 'confirm/deny', 'rayman', 'awake', 'boytoy?', 'home!but', \"all's\", 'hmv', 'now!4t&', 'boobs.', 'answr.', 'doin?', 'ishtamayoo?happy', 'current', 'domain', 'clearer..', 'wrote', '\"mix\"', 'hopes', 'sliding', 'guides', 'cute:)', '\"valentines', 'insha', 'fantastic', 'prepared.', 'pilates', 'answers', 'mmm', '......forward', 'gving', 'bless!', '\"shah', 'hoo', 'askin', \"wouldn't\", '09065989182', 'nose', 'u-find', 'there.goodnight', 'younger', 'computer?', 'winner!', '\"wylie', 'headin', 'saved!', 'cash.', 'trade', 'stranger!!saw', 'smear', 'engaged', 'faster', 'ago', 'swoop', 'tone', \"how're\", 'hun', 'game', 'love.rakhesh', '89555', 'ryan', 'fals', '\"because', 'payed.', 'bunch', 'annie', 'bite', 'oso.', 'snowboarding', 'wont', 'ah.now', 'somebody', 'lotta', 'peace..', 's....s...india', 'suganya.', 'motherfucker', '08717111821', 'knew', 'june.', 'borrow', 'narcotics', 'punto.', 'can‘t', 'befor', 'enemies', 'decades..!', '2channel', 'congratulations!', 'rumour', 'snogs!', 'l8er', '08718730555', 'inside..\"', 'tat..', 'park.', 'i', 'smth..', 'skype.', 'siva..tats', 'atlast', 'kick', '5p', '09058094454', 'mr!ur', '80160', 'astronomer', 'andres', 'good,', 'handset?', 'facilities', 'lil', 'brin', 'wear.', 'colany', 'see..', 'up...', '(career', '85222', 'sign,', 'cabin', 'day:)', 'reckon', 'china.', 'bt-national', '47', 'picture', 'actually,', 'late,i', 'gong.', 'lionm', 'mins.', 'uwant', 'infra', 'home!', '2years', 'oh:)as', 'countinlots', 'impatient', 'snowball', 'sore!', 'catch', 'important', 'keep.', 'get', 'costing', 'name..', 'temales', 'coming.', 'colleagues.', 'second', 'sindu', 'recorder', 'sucks,', 'doesn‘t', 'caring,', 'smell', 'stuffing', 'repair', 'rates', 'ph?', 'i.', 'beforehand.', 'invest', 'ltdhelpdesk:', 'voucher.', 'achan,amma.rakhesh.qatar', 'petrol-rs.', 'closed,including', 'needle', 'yours', 'oic...', 'okay!', 'obviously,', 'weird', 'praises', 'bigger', 'sky', 'listen.', 'tex', 'counts', 'worth', 'evening!', 'officially', 'consider', 'sparkling', 'ticket,', 'failing', 'throat.', 'year?', 'www.txt82228.com.', 'gives', 'fault.', 'day..\"', 'care:', '(get', 'macs', 'picsfree1', 'album-quite', 'believe.', 'not', 'roles', 'tones!reply', 'bari', 'content,', 'questions', \"doesn\\\\'t\", 'month.', 'responding', 'india..!!', 'steak', 'kay...', 'omw,', 'instructions', 'school', 'perumbavoor', 'up?loads', 'up.yeh,', 'sat...', 'railway.', 'contacted', 'market', 'difference.', 'scotland', 'familiar', 'mode.', 'grownup', 'hello??', 'fluids', 'lmao.', 'energy\"', '83435.', 'ultimatum', 'mobs', 'feb', 'horo', 'matthew', '2waxsto', '*adoring', 'secured', 'melle', 'eighth', 'sub.', 'idiot\".', 'study.', 'now,', 'docs', 'naughty...', 'workout', 'calls£1/minmobsmorelkpobox177hp51fl', 'nammanna', 'perfect', 'promised', 'once', 'k..k:)how', 'true.', 'oblisingately', \"y'day\", 'can\\x92t', 'somtimes', '24th', '08002986030', 'missing,', 'cafe', 'show.', 'mone,eppolum', 'solihull,', 'years', 'register', 'getsleep', 'calling!', 'digital', 'dunno', 'banks', 'o', 'sullivan', 'cozy.', 'operate', 'konw', 'weeks>', 'takecare..:)', 'charged@150p/msg.2', 'weight', 'uworld', 'information,', 'god.you', 'aquarius', '\"', 'yalrigu', 'same.', 'group', 'stayed', '24m', 'wither', 'something.', 'aight', 'urgent!!', 'bcum', 'excellent!', 'attributed', 'thing....how', '...*grins*...', 'dream.', 'hurt...:-)', 'weightloss!', 'sorry,in', 'play', 'shb', 'characters...', 'best1', \"own--you've\", 'copied', 'algarve', 'foregate', 'worry.', 'def', 'ditto.', 'escape.', 'us.', 'boooo', 'thedailydraw)', 'tb,', 'cer', 'hunny', '11mths', 'chikku..simple', 'colleg?', 'cake', 'chikku:-):-db-)', 'rally', 'chapel', 'opt-out', 'fulfil', '09094100151', 'way.', 'useful', 'collected.', 'howdy', 'usf', 'barry', 'knock', 'underwear.', 'emigrated', 'nit', 'er', 'said:\"if', 'gently', 'mutations.', 'price', '+cheer', 'urgent.', 'positions', 'ibiza', 'stil', 'men.', 'subscriber', 'completely', '84,', 'travel', 'afford', 'itself', 'youi', 'downloads']\n"
          ]
        }
      ]
    },
    {
      "cell_type": "code",
      "source": [
        "x_train = df.Message\n",
        "y_train = df.Category"
      ],
      "metadata": {
        "id": "U6txJsbGv5LF"
      },
      "execution_count": null,
      "outputs": []
    },
    {
      "cell_type": "code",
      "source": [
        "#remove punctuation\n",
        "def remove_punctuation(test_str):\n",
        "  return test_str.translate(str.maketrans('','',string.punctuation))"
      ],
      "metadata": {
        "id": "hRncaczYtEwV"
      },
      "execution_count": null,
      "outputs": []
    },
    {
      "cell_type": "code",
      "source": [
        "from gensim.parsing.preprocessing import remove_stopwords\n",
        "\n",
        "# Apply remove_stopwords to each row in the 'Message' column\n",
        "df['Message'] = df['Message'].apply(lambda x: remove_stopwords(x))\n",
        "\n",
        "# Print the updated DataFrame\n",
        "print(df)"
      ],
      "metadata": {
        "colab": {
          "base_uri": "https://localhost:8080/"
        },
        "id": "pJjHSTMJtxDE",
        "outputId": "5e6d65d1-e201-4428-df25-bd2357fdfe7e"
      },
      "execution_count": null,
      "outputs": [
        {
          "output_type": "stream",
          "name": "stdout",
          "text": [
            "     Category                                            Message\n",
            "0         ham  jurong point, crazy.. available bugis n great ...\n",
            "1         ham                      ok lar... joking wif u oni...\n",
            "2        spam  free entry 2 wkly comp win fa cup final tkts 2...\n",
            "3         ham                      u dun early hor... u c say...\n",
            "4         ham                    nah don't think goes usf, lives\n",
            "...       ...                                                ...\n",
            "5567     spam  2nd time tried 2 contact u. u won £750 pound p...\n",
            "5568      ham                       ü b going esplanade fr home?\n",
            "5569      ham           pity, * mood that. so...any suggestions?\n",
            "5570      ham  guy bitching acted like i'd interested buying ...\n",
            "5571      ham                                         rofl. true\n",
            "\n",
            "[5572 rows x 2 columns]\n"
          ]
        }
      ]
    },
    {
      "cell_type": "code",
      "source": [
        "# Assign indices to each word.\n",
        "word_to_idx = { w: i for i, w in enumerate(vocab) }\n",
        "idx_to_word = { i: w for i, w in enumerate(vocab) }\n",
        "print(word_to_idx['good']) # 16 (this may change)\n",
        "print(idx_to_word[0]) # sad (this may change)"
      ],
      "metadata": {
        "colab": {
          "base_uri": "https://localhost:8080/"
        },
        "id": "vvONQzpwLTkq",
        "outputId": "7ce0aa25-debc-40e2-d6dd-badab14c0528"
      },
      "execution_count": null,
      "outputs": [
        {
          "output_type": "stream",
          "name": "stdout",
          "text": [
            "3334\n",
            "\n"
          ]
        }
      ]
    },
    {
      "cell_type": "code",
      "source": [
        "idx_to_word"
      ],
      "metadata": {
        "id": "6Y3vBzzTLYSb"
      },
      "execution_count": null,
      "outputs": []
    },
    {
      "cell_type": "code",
      "source": [
        "import numpy as np\n",
        "\n",
        "def createInputs(text):\n",
        "  '''\n",
        "  Returns an array of one-hot vectors representing the words\n",
        "  in the input text string.\n",
        "  - text is a string\n",
        "  - Each one-hot vector has shape (vocab_size, 1)\n",
        "  '''\n",
        "  inputs = []\n",
        "  for w in text.split(' '):\n",
        "    v = np.zeros((vocab_size, 1))\n",
        "    v[word_to_idx[w]] = 1\n",
        "    inputs.append(v)\n",
        "  return inputs"
      ],
      "metadata": {
        "id": "Ng42jbH1LZ65"
      },
      "execution_count": null,
      "outputs": []
    },
    {
      "cell_type": "code",
      "source": [
        "createInputs(\"happy\")"
      ],
      "metadata": {
        "id": "gw8_4V8fLkwF",
        "colab": {
          "base_uri": "https://localhost:8080/"
        },
        "outputId": "a8979918-7470-4a38-e794-7ebbcb785a02"
      },
      "execution_count": null,
      "outputs": [
        {
          "output_type": "execute_result",
          "data": {
            "text/plain": [
              "[array([[0.],\n",
              "        [0.],\n",
              "        [0.],\n",
              "        ...,\n",
              "        [0.],\n",
              "        [0.],\n",
              "        [0.]])]"
            ]
          },
          "metadata": {},
          "execution_count": 19
        }
      ]
    },
    {
      "cell_type": "code",
      "source": [
        "testip = \"i am very happy\"\n",
        "for word, vec in zip(testip.split(\" \"), createInputs(testip)):\n",
        "    print(word, vec.shape)"
      ],
      "metadata": {
        "id": "9M3mnQ8eMcLi",
        "colab": {
          "base_uri": "https://localhost:8080/"
        },
        "outputId": "0848ca50-4798-415e-9530-53ec69f72bda"
      },
      "execution_count": null,
      "outputs": [
        {
          "output_type": "stream",
          "name": "stdout",
          "text": [
            "i (13576, 1)\n",
            "am (13576, 1)\n",
            "very (13576, 1)\n",
            "happy (13576, 1)\n"
          ]
        }
      ]
    },
    {
      "cell_type": "code",
      "source": [
        "import numpy as np\n",
        "from numpy.random import randn"
      ],
      "metadata": {
        "id": "BIsPQ5HENo--"
      },
      "execution_count": null,
      "outputs": []
    },
    {
      "cell_type": "code",
      "source": [
        "class RNN:\n",
        "  # A Vanilla Recurrent Neural Network.\n",
        "\n",
        "  def __init__(self, input_size, output_size, hidden_size=64):\n",
        "    # Weights\n",
        "    self.Whh = randn(hidden_size, hidden_size) / 1000\n",
        "    self.Wxh = randn(hidden_size, input_size) / 1000\n",
        "    self.Why = randn(output_size, hidden_size) / 1000\n",
        "\n",
        "    # Biases\n",
        "    self.bh = np.zeros((hidden_size, 1))\n",
        "    self.by = np.zeros((output_size, 1))\n",
        "\n",
        "  def forward(self, inputs):\n",
        "\n",
        "    h = np.zeros((self.Whh.shape[0], 1))\n",
        "\n",
        "    self.last_inputs = inputs\n",
        "    self.last_hs = { 0: h }\n",
        "\n",
        "    for i, x in enumerate(inputs):\n",
        "      h = np.tanh(self.Wxh @ x + self.Whh @ h + self.bh)\n",
        "      self.last_hs[i + 1] = h\n",
        "\n",
        "    y = self.Why @ h + self.by\n",
        "    return y, h\n",
        "\n",
        "  def backprop(self, d_y, learn_rate=2e-2):\n",
        "      '''\n",
        "      Perform a backward pass of the RNN.\n",
        "      - d_y (dL/dy) has shape (output_size, 1).\n",
        "      - learn_rate is a float.\n",
        "      '''\n",
        "      n = len(self.last_inputs)\n",
        "\n",
        "      # Calculate dL/dWhy and dL/dby.\n",
        "      d_Why = d_y @ self.last_hs[n].T\n",
        "      d_by = d_y\n",
        "\n",
        "      # Initialize dL/dWhh, dL/dWxh, and dL/dbh to zero.\n",
        "      d_Whh = np.zeros(self.Whh.shape)\n",
        "      d_Wxh = np.zeros(self.Wxh.shape)\n",
        "      d_bh = np.zeros(self.bh.shape)\n",
        "\n",
        "      # Calculate dL/dh for the last h.\n",
        "      d_h = self.Why.T @ d_y\n",
        "\n",
        "      # Backpropagate through time.\n",
        "      for t in reversed(range(n)):\n",
        "        # An intermediate value: dL/dh * (1 - h^2)\n",
        "        temp = ((1 - self.last_hs[t + 1] ** 2) * d_h)\n",
        "\n",
        "        # dL/db = dL/dh * (1 - h^2)\n",
        "        d_bh += temp\n",
        "\n",
        "        # dL/dWhh = dL/dh * (1 - h^2) * h_{t-1}\n",
        "        d_Whh += temp @ self.last_hs[t].T\n",
        "\n",
        "        # dL/dWxh = dL/dh * (1 - h^2) * x\n",
        "        d_Wxh += temp @ self.last_inputs[t].T\n",
        "\n",
        "        # Next dL/dh = dL/dh * (1 - h^2) * Whh\n",
        "        d_h = self.Whh @ temp\n",
        "\n",
        "      # Clip to prevent exploding gradients.\n",
        "      for d in [d_Wxh, d_Whh, d_Why, d_bh, d_by]:\n",
        "        np.clip(d, -1, 1, out=d)\n",
        "\n",
        "      # Update weights and biases using gradient descent.\n",
        "      self.Whh -= learn_rate * d_Whh\n",
        "      self.Wxh -= learn_rate * d_Wxh\n",
        "      self.Why -= learn_rate * d_Why\n",
        "      self.bh -= learn_rate * d_bh\n",
        "      self.by -= learn_rate * d_by"
      ],
      "metadata": {
        "id": "zzYdlA2wLpQ6"
      },
      "execution_count": null,
      "outputs": []
    },
    {
      "cell_type": "code",
      "source": [
        "inputs = df.Message.tolist()\n",
        "rnn = RNN(vocab_size, 2) # vocab_size is 18"
      ],
      "metadata": {
        "id": "mk0eKh9QNnhh"
      },
      "execution_count": null,
      "outputs": []
    },
    {
      "cell_type": "code",
      "source": [
        "rnn.__dict__"
      ],
      "metadata": {
        "id": "5iDOPQpkN2pb",
        "colab": {
          "base_uri": "https://localhost:8080/"
        },
        "outputId": "25eef952-4735-4b2f-8449-443b6f4d1637"
      },
      "execution_count": null,
      "outputs": [
        {
          "output_type": "execute_result",
          "data": {
            "text/plain": [
              "{'Whh': array([[-1.32959039e-03, -8.06403996e-04,  7.91280771e-04, ...,\n",
              "          5.58155859e-04, -7.82017842e-04,  4.31250950e-04],\n",
              "        [-1.51484610e-03,  1.40624331e-03,  3.31313408e-04, ...,\n",
              "         -1.32741450e-04, -9.22668389e-04, -2.31703188e-03],\n",
              "        [-1.53342130e-04,  2.11558996e-04, -6.69256805e-04, ...,\n",
              "         -9.02657964e-05,  8.91541868e-04,  4.15163505e-04],\n",
              "        ...,\n",
              "        [-9.59779647e-04, -1.24894368e-04,  1.31325879e-03, ...,\n",
              "          4.28741588e-04, -7.26312057e-04, -3.43192928e-04],\n",
              "        [ 9.36838009e-04,  9.17563774e-04,  3.55959390e-04, ...,\n",
              "         -9.41198578e-05,  4.57717841e-04,  1.36657134e-03],\n",
              "        [ 1.39388983e-04,  9.27084828e-04,  1.64302838e-03, ...,\n",
              "          2.74558831e-04,  6.99364853e-04,  5.25791105e-04]]),\n",
              " 'Wxh': array([[-9.21889360e-04,  7.03677980e-04, -1.52491153e-04, ...,\n",
              "         -1.79974679e-03, -3.17706367e-04,  1.44053177e-03],\n",
              "        [ 7.49489519e-04, -1.73402049e-03,  4.65117037e-04, ...,\n",
              "         -2.55114956e-04,  1.64044792e-04,  1.21830097e-03],\n",
              "        [-3.11530419e-04,  1.79430830e-03, -1.72153979e-03, ...,\n",
              "         -8.51461955e-04, -9.37819066e-05, -6.87597384e-04],\n",
              "        ...,\n",
              "        [-4.69482587e-04,  1.23400276e-04, -1.94726473e-04, ...,\n",
              "         -1.39026609e-03,  4.45622362e-04,  5.82933464e-04],\n",
              "        [ 9.03935954e-04,  6.09909729e-04, -1.70004258e-04, ...,\n",
              "         -9.61625142e-05,  4.27885506e-05,  1.57462225e-03],\n",
              "        [-1.80209134e-03,  4.33727484e-04,  2.60980224e-04, ...,\n",
              "          6.64248760e-04, -1.07215702e-03, -1.22023929e-03]]),\n",
              " 'Why': array([[ 5.64238488e-05,  4.69791869e-04, -1.13069193e-03,\n",
              "          4.31135797e-04,  1.51623656e-03, -1.09024011e-03,\n",
              "          9.19454250e-05, -3.54741777e-04,  3.92646675e-04,\n",
              "          1.50378122e-03, -1.26922549e-04,  1.15860602e-04,\n",
              "          6.27284702e-04,  2.56281073e-04, -6.60243195e-06,\n",
              "          6.31814602e-04,  1.00607907e-04,  7.80337033e-04,\n",
              "          7.66081789e-04,  4.49966871e-04,  2.17688481e-04,\n",
              "         -2.64913298e-04,  1.86439733e-03,  5.57235580e-05,\n",
              "          3.02042235e-04, -3.74683105e-04, -1.58561397e-04,\n",
              "         -1.26024655e-03, -2.42645862e-04,  5.42351743e-04,\n",
              "          8.20664700e-04, -2.74812832e-04,  1.09955388e-04,\n",
              "         -2.98335978e-04,  1.99582532e-04,  1.33098397e-03,\n",
              "          5.15411686e-04, -1.20104096e-03,  1.50145750e-03,\n",
              "         -8.63195631e-04,  2.66557151e-04,  6.23943253e-04,\n",
              "         -1.09906218e-03,  4.06033801e-04, -4.59600697e-04,\n",
              "          8.40704216e-04, -1.32388902e-03, -2.39024571e-04,\n",
              "          8.26452988e-05,  1.23038394e-03, -1.20589101e-03,\n",
              "          1.54296033e-03,  7.34740451e-04,  1.80740037e-03,\n",
              "          1.04871502e-03,  8.87141324e-04,  1.38186167e-03,\n",
              "          8.33414252e-04, -1.53378725e-03,  2.07085707e-04,\n",
              "         -2.84000089e-03, -3.44125002e-04, -6.99586425e-04,\n",
              "          8.65417483e-04],\n",
              "        [ 2.78645752e-03,  4.13766872e-04, -7.06639517e-04,\n",
              "          4.11429663e-04, -1.54777445e-03, -1.24987317e-03,\n",
              "         -2.00657376e-03, -6.07741209e-04,  5.45328130e-04,\n",
              "         -2.56583812e-03, -1.32028323e-03,  7.23597294e-04,\n",
              "         -8.29303645e-04,  7.10199550e-05,  2.47925731e-04,\n",
              "          1.72551822e-03,  1.53644073e-03, -6.54162732e-04,\n",
              "         -9.61845633e-04, -5.45773867e-04,  2.20997852e-03,\n",
              "         -1.99893714e-04,  1.98814450e-03, -6.07511208e-04,\n",
              "          7.62475518e-04,  1.77507280e-04,  1.13881443e-03,\n",
              "          6.88533141e-05,  4.21119840e-06, -7.68007262e-04,\n",
              "         -1.55946088e-03, -3.51446916e-05,  9.85164416e-04,\n",
              "          1.91444587e-03,  1.01942774e-03,  9.40030225e-04,\n",
              "         -1.68577767e-03, -2.56275346e-04, -2.61321877e-05,\n",
              "         -1.64552828e-03, -3.12605184e-04, -1.16876322e-03,\n",
              "          1.56451705e-03,  7.89374353e-04,  7.53798246e-04,\n",
              "         -1.41417068e-03, -2.60496544e-04, -1.63394804e-04,\n",
              "          5.24738145e-04,  5.97925567e-04,  6.47201518e-04,\n",
              "         -7.47603347e-04, -3.60487791e-04, -9.27405062e-04,\n",
              "         -8.66520377e-04,  1.75005473e-03,  2.80862266e-04,\n",
              "          2.10595624e-04,  6.85505908e-04, -7.45176575e-04,\n",
              "          1.05894607e-03,  2.61085099e-03, -1.66047971e-03,\n",
              "          4.27339344e-04]]),\n",
              " 'bh': array([[0.],\n",
              "        [0.],\n",
              "        [0.],\n",
              "        [0.],\n",
              "        [0.],\n",
              "        [0.],\n",
              "        [0.],\n",
              "        [0.],\n",
              "        [0.],\n",
              "        [0.],\n",
              "        [0.],\n",
              "        [0.],\n",
              "        [0.],\n",
              "        [0.],\n",
              "        [0.],\n",
              "        [0.],\n",
              "        [0.],\n",
              "        [0.],\n",
              "        [0.],\n",
              "        [0.],\n",
              "        [0.],\n",
              "        [0.],\n",
              "        [0.],\n",
              "        [0.],\n",
              "        [0.],\n",
              "        [0.],\n",
              "        [0.],\n",
              "        [0.],\n",
              "        [0.],\n",
              "        [0.],\n",
              "        [0.],\n",
              "        [0.],\n",
              "        [0.],\n",
              "        [0.],\n",
              "        [0.],\n",
              "        [0.],\n",
              "        [0.],\n",
              "        [0.],\n",
              "        [0.],\n",
              "        [0.],\n",
              "        [0.],\n",
              "        [0.],\n",
              "        [0.],\n",
              "        [0.],\n",
              "        [0.],\n",
              "        [0.],\n",
              "        [0.],\n",
              "        [0.],\n",
              "        [0.],\n",
              "        [0.],\n",
              "        [0.],\n",
              "        [0.],\n",
              "        [0.],\n",
              "        [0.],\n",
              "        [0.],\n",
              "        [0.],\n",
              "        [0.],\n",
              "        [0.],\n",
              "        [0.],\n",
              "        [0.],\n",
              "        [0.],\n",
              "        [0.],\n",
              "        [0.],\n",
              "        [0.]]),\n",
              " 'by': array([[0.],\n",
              "        [0.]])}"
            ]
          },
          "metadata": {},
          "execution_count": 41
        }
      ]
    },
    {
      "cell_type": "code",
      "source": [
        "inputs = createInputs(\"i am very happy\")\n",
        "inputs"
      ],
      "metadata": {
        "id": "_TI_H8Q6OkTp",
        "colab": {
          "base_uri": "https://localhost:8080/"
        },
        "outputId": "53b33031-52c8-4856-a0ad-ad27bb0de572"
      },
      "execution_count": null,
      "outputs": [
        {
          "output_type": "execute_result",
          "data": {
            "text/plain": [
              "[array([[0.],\n",
              "        [0.],\n",
              "        [0.],\n",
              "        ...,\n",
              "        [0.],\n",
              "        [0.],\n",
              "        [0.]]),\n",
              " array([[0.],\n",
              "        [0.],\n",
              "        [0.],\n",
              "        ...,\n",
              "        [0.],\n",
              "        [0.],\n",
              "        [0.]]),\n",
              " array([[0.],\n",
              "        [0.],\n",
              "        [0.],\n",
              "        ...,\n",
              "        [0.],\n",
              "        [0.],\n",
              "        [0.]]),\n",
              " array([[0.],\n",
              "        [0.],\n",
              "        [0.],\n",
              "        ...,\n",
              "        [0.],\n",
              "        [0.],\n",
              "        [0.]])]"
            ]
          },
          "metadata": {},
          "execution_count": 48
        }
      ]
    },
    {
      "cell_type": "code",
      "source": [
        "def softmax(xs):\n",
        "  # Applies the Softmax Function to the input array.\n",
        "  return np.exp(xs) / sum(np.exp(xs))"
      ],
      "metadata": {
        "id": "JfpktzqbQJ-L"
      },
      "execution_count": null,
      "outputs": []
    },
    {
      "cell_type": "code",
      "source": [
        "rnn.forward(inputs) # gives y and h"
      ],
      "metadata": {
        "id": "-Ctb9cJtOoeC",
        "colab": {
          "base_uri": "https://localhost:8080/"
        },
        "outputId": "6c8c47ab-47fc-4aac-afd4-f290bab51eee"
      },
      "execution_count": null,
      "outputs": [
        {
          "output_type": "execute_result",
          "data": {
            "text/plain": [
              "(array([[7.32861096e-06],\n",
              "        [4.16061665e-06]]),\n",
              " array([[-1.28191631e-03],\n",
              "        [-1.96379678e-03],\n",
              "        [-8.26711712e-04],\n",
              "        [ 1.26491480e-03],\n",
              "        [-1.94320725e-03],\n",
              "        [ 2.45076663e-04],\n",
              "        [-1.13362728e-03],\n",
              "        [ 5.22531154e-05],\n",
              "        [ 4.35247252e-04],\n",
              "        [ 1.34347615e-03],\n",
              "        [ 3.21156855e-04],\n",
              "        [ 1.26810250e-03],\n",
              "        [ 7.29409789e-04],\n",
              "        [-7.32686971e-04],\n",
              "        [ 1.38503708e-03],\n",
              "        [ 6.10027487e-04],\n",
              "        [ 1.27909171e-03],\n",
              "        [-5.59073186e-04],\n",
              "        [ 1.11306495e-03],\n",
              "        [-1.60571120e-05],\n",
              "        [-4.64104636e-04],\n",
              "        [ 5.42556733e-04],\n",
              "        [-7.20584498e-04],\n",
              "        [ 1.45242629e-03],\n",
              "        [-1.59479078e-03],\n",
              "        [ 1.25198800e-03],\n",
              "        [-5.16735351e-04],\n",
              "        [ 5.04528241e-04],\n",
              "        [-1.63639402e-03],\n",
              "        [ 7.05336622e-04],\n",
              "        [ 6.39061761e-05],\n",
              "        [-1.05340157e-03],\n",
              "        [-2.03004383e-04],\n",
              "        [ 9.09344916e-04],\n",
              "        [ 1.02835340e-03],\n",
              "        [ 5.24095662e-04],\n",
              "        [-3.24855886e-04],\n",
              "        [ 7.62083383e-04],\n",
              "        [ 1.72014105e-03],\n",
              "        [ 8.75984050e-04],\n",
              "        [ 1.57348537e-04],\n",
              "        [-2.12773308e-03],\n",
              "        [-5.68618787e-04],\n",
              "        [ 1.11962095e-03],\n",
              "        [-1.49398493e-03],\n",
              "        [ 4.61058589e-05],\n",
              "        [-1.29101970e-03],\n",
              "        [-1.76913241e-03],\n",
              "        [ 1.24418403e-03],\n",
              "        [ 8.22502025e-04],\n",
              "        [-1.35970173e-03],\n",
              "        [ 7.15404951e-04],\n",
              "        [ 2.09672839e-03],\n",
              "        [-6.94869856e-04],\n",
              "        [-4.48547433e-05],\n",
              "        [ 3.16602600e-04],\n",
              "        [ 1.42475006e-04],\n",
              "        [-1.14603611e-03],\n",
              "        [ 8.06324061e-04],\n",
              "        [-5.96816031e-04],\n",
              "        [-1.70923830e-04],\n",
              "        [ 8.47644687e-04],\n",
              "        [-6.88861479e-04],\n",
              "        [ 1.90730644e-03]]))"
            ]
          },
          "metadata": {},
          "execution_count": 50
        }
      ]
    },
    {
      "cell_type": "code",
      "source": [
        "rnn.forward(inputs)[0] # y alone"
      ],
      "metadata": {
        "colab": {
          "base_uri": "https://localhost:8080/"
        },
        "id": "iq3SMxsHPXng",
        "outputId": "2ccaed20-853a-4f25-d626-c4710c5baa57"
      },
      "execution_count": null,
      "outputs": [
        {
          "output_type": "execute_result",
          "data": {
            "text/plain": [
              "array([[7.32861096e-06],\n",
              "       [4.16061665e-06]])"
            ]
          },
          "metadata": {},
          "execution_count": 51
        }
      ]
    },
    {
      "cell_type": "code",
      "source": [
        "softmax(rnn.forward(inputs)[0])"
      ],
      "metadata": {
        "colab": {
          "base_uri": "https://localhost:8080/"
        },
        "id": "asi2-yaDPQ48",
        "outputId": "e7ecb5eb-9d8f-4c11-da1e-5e565761aac9"
      },
      "execution_count": null,
      "outputs": [
        {
          "output_type": "execute_result",
          "data": {
            "text/plain": [
              "array([[0.50000079],\n",
              "       [0.49999921]])"
            ]
          },
          "metadata": {},
          "execution_count": 52
        }
      ]
    },
    {
      "cell_type": "code",
      "source": [
        "inputs = createInputs(\"i am happy\")\n",
        "softmax(rnn.forward(inputs)[0])"
      ],
      "metadata": {
        "id": "dsHTQ6eUQlYy",
        "colab": {
          "base_uri": "https://localhost:8080/"
        },
        "outputId": "0c77de71-fb2f-4bbc-c2c8-86425c8284c3"
      },
      "execution_count": null,
      "outputs": [
        {
          "output_type": "execute_result",
          "data": {
            "text/plain": [
              "array([[0.50000079],\n",
              "       [0.49999921]])"
            ]
          },
          "metadata": {},
          "execution_count": 53
        }
      ]
    },
    {
      "cell_type": "code",
      "source": [
        "# sad [1, 0]\n",
        "# happy [0, 1]"
      ],
      "metadata": {
        "id": "zY75IuZAQvsV"
      },
      "execution_count": null,
      "outputs": []
    },
    {
      "cell_type": "code",
      "source": [
        "import random\n",
        "\n",
        "def processData(x_train, y_train, backprop=True):\n",
        "  '''\n",
        "  Returns the RNN's loss and accuracy for the given data.\n",
        "  - x_train: List of input data.\n",
        "  - y_train: List of target labels.\n",
        "  - backprop determines if the backward phase should be run.\n",
        "  '''\n",
        "  items = list(zip(x_train, y_train))  # Zip the input and target lists\n",
        "  random.shuffle(items)\n",
        "\n",
        "  loss = 0\n",
        "  num_correct = 0\n",
        "\n",
        "  for x, y in items:\n",
        "    inputs = createInputs(x)\n",
        "    target = int(y)\n",
        "\n",
        "    # Forward\n",
        "    out, _ = rnn.forward(inputs)\n",
        "    probs = softmax(out)\n",
        "\n",
        "    # Calculate loss / accuracy\n",
        "    loss -= np.log(probs[target])\n",
        "    num_correct += int(np.argmax(probs) == target)\n",
        "\n",
        "    if backprop:\n",
        "      # Build dL/dy\n",
        "      d_L_d_y = probs\n",
        "      d_L_d_y[target] -= 1\n",
        "\n",
        "      # Backward\n",
        "      rnn.backprop(d_L_d_y)\n",
        "\n",
        "  return loss / len(items), num_correct / len(items)\n"
      ],
      "metadata": {
        "id": "r15JH8RyTuPA"
      },
      "execution_count": null,
      "outputs": []
    },
    {
      "cell_type": "code",
      "source": [
        "# Training loop\n",
        "for epoch in range(1000):\n",
        "    train_loss, train_acc = processData(x_train, y_train.map({'spam': True, 'ham': False}))\n",
        "\n",
        "    if epoch % 100 == 99:\n",
        "        print('--- Epoch %d' % (epoch + 1))\n",
        "        print('Train:\\tLoss %.3f | Accuracy: %.3f' % (train_loss, train_acc))\n",
        "\n",
        "        test_loss, test_acc = processData(test_data, backprop=False)\n",
        "        print('Test:\\tLoss %.3f | Accuracy: %.3f' % (test_loss, test_acc))"
      ],
      "metadata": {
        "id": "IzRufI8lY7it"
      },
      "execution_count": null,
      "outputs": []
    },
    {
      "cell_type": "code",
      "source": [
        "rnn.__dict__"
      ],
      "metadata": {
        "id": "0lv26G5iUhMl"
      },
      "execution_count": null,
      "outputs": []
    },
    {
      "cell_type": "code",
      "source": [
        "inputs = createInputs(\"i am happy\")\n",
        "out, _ = rnn.forward(inputs)\n",
        "softmax(out)"
      ],
      "metadata": {
        "id": "VHSxdhFAaHP1"
      },
      "execution_count": null,
      "outputs": []
    },
    {
      "cell_type": "code",
      "source": [
        "inputs = createInputs(\"i am sad\")\n",
        "out, _ = rnn.forward(inputs)\n",
        "softmax(out)"
      ],
      "metadata": {
        "id": "vqTjjekGaWAJ"
      },
      "execution_count": null,
      "outputs": []
    },
    {
      "cell_type": "code",
      "source": [
        "inputs = createInputs(\"i am great\")\n",
        "out, _ = rnn.forward(inputs)\n",
        "softmax(out)\n",
        "\n",
        "# Out of Vocab Word"
      ],
      "metadata": {
        "id": "vu4wpOCbU6YJ"
      },
      "execution_count": null,
      "outputs": []
    },
    {
      "cell_type": "code",
      "source": [],
      "metadata": {
        "id": "ZfX-UfNsVEFL"
      },
      "execution_count": null,
      "outputs": []
    }
  ]
}