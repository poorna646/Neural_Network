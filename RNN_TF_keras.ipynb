{
  "nbformat": 4,
  "nbformat_minor": 0,
  "metadata": {
    "colab": {
      "provenance": []
    },
    "kernelspec": {
      "name": "python3",
      "display_name": "Python 3"
    },
    "language_info": {
      "name": "python"
    }
  },
  "cells": [
    {
      "cell_type": "code",
      "metadata": {
        "id": "NejoLrKbOxuR"
      },
      "source": [
        "train_data = {\n",
        "  'good': True,\n",
        "  'bad': False,\n",
        "  'happy': True,\n",
        "  'sad': False,\n",
        "  'not good': False,\n",
        "  'not bad': True,\n",
        "  'not happy': False,\n",
        "  'not sad': True,\n",
        "  'very good': True,\n",
        "  'very bad': False,\n",
        "  'very happy': True,\n",
        "  'very sad': False,\n",
        "  'i am happy': True,\n",
        "  'this is good': True,\n",
        "  'i am bad': False,\n",
        "  'this is bad': False,\n",
        "  'i am sad': False,\n",
        "  'this is sad': False,\n",
        "  'i am not happy': False,\n",
        "  'this is not good': False,\n",
        "  'i am not bad': True,\n",
        "  'this is not sad': True,\n",
        "  'i am very happy': True,\n",
        "  'this is very good': True,\n",
        "  'i am very bad': False,\n",
        "  'this is very sad': False,\n",
        "  'this is very happy': True,\n",
        "  'i am good not bad': True,\n",
        "  'this is good not bad': True,\n",
        "  'i am bad not good': False,\n",
        "  'i am good and happy': True,\n",
        "  'this is not good and not happy': False,\n",
        "  'i am not at all good': False,\n",
        "  'i am not at all bad': True,\n",
        "  'i am not at all happy': False,\n",
        "  'this is not at all sad': True,\n",
        "  'this is not at all happy': False,\n",
        "  'i am good right now': True,\n",
        "  'i am bad right now': False,\n",
        "  'this is bad right now': False,\n",
        "  'i am sad right now': False,\n",
        "  'i was good earlier': True,\n",
        "  'i was happy earlier': True,\n",
        "  'i was bad earlier': False,\n",
        "  'i was sad earlier': False,\n",
        "  'i am very bad right now': False,\n",
        "  'this is very good right now': True,\n",
        "  'this is very sad right now': False,\n",
        "  'this was bad earlier': False,\n",
        "  'this was very good earlier': True,\n",
        "  'this was very bad earlier': False,\n",
        "  'this was very happy earlier': True,\n",
        "  'this was very sad earlier': False,\n",
        "  'i was good and not bad earlier': True,\n",
        "  'i was not good and not happy earlier': False,\n",
        "  'i am not at all bad or sad right now': True,\n",
        "  'i am not at all good or happy right now': False,\n",
        "  'this was not happy and not good earlier': False,\n",
        "}\n",
        "\n",
        "test_data = {\n",
        "  'this is happy': True,\n",
        "  'i am good': True,\n",
        "  'this is not happy': False,\n",
        "  'i am not good': False,\n",
        "  'this is not bad': True,\n",
        "  'i am not sad': True,\n",
        "  'i am very good': True,\n",
        "  'this is very bad': False,\n",
        "  'i am very sad': False,\n",
        "  'this is bad not good': False,\n",
        "  'this is good and happy': True,\n",
        "  'i am not good and not happy': False,\n",
        "  'i am not at all sad': True,\n",
        "  'this is not at all good': False,\n",
        "  'this is not at all bad': True,\n",
        "  'this is good right now': True,\n",
        "  'this is sad right now': False,\n",
        "  'this is very bad right now': False,\n",
        "  'this was good earlier': True,\n",
        "  'i was not happy and not good earlier': False,\n",
        "}"
      ],
      "execution_count": null,
      "outputs": []
    },
    {
      "cell_type": "code",
      "metadata": {
        "id": "DoX9hXW6O37L"
      },
      "source": [
        "X_train = list(train_data.keys())\n",
        "y_train = list(train_data.values())\n",
        "X_test = list(test_data.keys())\n",
        "y_test = list(test_data.values())"
      ],
      "execution_count": null,
      "outputs": []
    },
    {
      "cell_type": "code",
      "source": [
        "X_train"
      ],
      "metadata": {
        "id": "vxxYEEaj7deQ"
      },
      "execution_count": null,
      "outputs": []
    },
    {
      "cell_type": "code",
      "source": [
        "y_train"
      ],
      "metadata": {
        "id": "eDzcWx5F7gi3"
      },
      "execution_count": null,
      "outputs": []
    },
    {
      "cell_type": "markdown",
      "source": [
        "## 3. Building the Model"
      ],
      "metadata": {
        "id": "jPPa34Jl78Lk"
      }
    },
    {
      "cell_type": "code",
      "metadata": {
        "id": "hxArCmPoO69D"
      },
      "source": [
        "from tensorflow.keras.models import Sequential\n",
        "from tensorflow.keras import Input\n",
        "\n",
        "model = Sequential()\n",
        "model.add(Input(shape=(1,), dtype=\"string\"))"
      ],
      "execution_count": null,
      "outputs": []
    },
    {
      "cell_type": "markdown",
      "metadata": {
        "id": "EEjmxn93PB-p"
      },
      "source": [
        "### 3.1 Text Vectorization"
      ]
    },
    {
      "cell_type": "code",
      "metadata": {
        "id": "KN4FvzAtO_2h"
      },
      "source": [
        "from tensorflow.keras.layers.experimental.preprocessing import TextVectorization\n",
        "\n",
        "max_tokens = 20\n",
        "max_len = 5\n",
        "vectorize_layer = TextVectorization(\n",
        "  # Max vocab size. Any words outside of the max_tokens most common ones\n",
        "  # will be treated the same way: as \"out of vocabulary\" (OOV) tokens.\n",
        "  max_tokens=max_tokens,\n",
        "  # Output integer indices, one per string token\n",
        "  output_mode=\"int\",\n",
        "  # Always pad or truncate to exactly this many tokens\n",
        "  output_sequence_length=max_len,\n",
        ")"
      ],
      "execution_count": null,
      "outputs": []
    },
    {
      "cell_type": "code",
      "metadata": {
        "id": "TPoBlW9kPMI2"
      },
      "source": [
        "# Call adapt(), which fits the TextVectorization layer to our text dataset.\n",
        "# This is when the max_tokens most common words (i.e. the vocabulary) are selected.\n",
        "vectorize_layer.adapt(X_train)"
      ],
      "execution_count": null,
      "outputs": []
    },
    {
      "cell_type": "code",
      "metadata": {
        "colab": {
          "base_uri": "https://localhost:8080/"
        },
        "id": "-L806eMFPPlW",
        "outputId": "840e7ba2-4665-4fb5-bc36-513b0e5323f8"
      },
      "source": [
        "reverse_word_index = vectorize_layer.get_vocabulary()\n",
        "reverse_word_index"
      ],
      "execution_count": null,
      "outputs": [
        {
          "output_type": "execute_result",
          "data": {
            "text/plain": [
              "['',\n",
              " '[UNK]',\n",
              " 'not',\n",
              " 'i',\n",
              " 'this',\n",
              " 'good',\n",
              " 'bad',\n",
              " 'am',\n",
              " 'very',\n",
              " 'happy',\n",
              " 'is',\n",
              " 'sad',\n",
              " 'was',\n",
              " 'earlier',\n",
              " 'right',\n",
              " 'now',\n",
              " 'at',\n",
              " 'all',\n",
              " 'and',\n",
              " 'or']"
            ]
          },
          "metadata": {},
          "execution_count": 8
        }
      ]
    },
    {
      "cell_type": "code",
      "metadata": {
        "colab": {
          "base_uri": "https://localhost:8080/"
        },
        "id": "ddMoHQDOPRom",
        "outputId": "9bd67276-7d17-445f-a91f-e02b0735da3a"
      },
      "source": [
        "vectorize_layer.get_weights()"
      ],
      "execution_count": null,
      "outputs": [
        {
          "output_type": "execute_result",
          "data": {
            "text/plain": [
              "[array([b'not', b'i', b'this', b'good', b'bad', b'am', b'very', b'happy',\n",
              "        b'is', b'sad', b'was', b'earlier', b'right', b'now', b'at', b'all',\n",
              "        b'and', b'or'], dtype=object)]"
            ]
          },
          "metadata": {},
          "execution_count": 9
        }
      ]
    },
    {
      "cell_type": "code",
      "metadata": {
        "id": "oA-8gvzoPYz_"
      },
      "source": [
        "model.add(vectorize_layer)"
      ],
      "execution_count": null,
      "outputs": []
    },
    {
      "cell_type": "code",
      "metadata": {
        "colab": {
          "base_uri": "https://localhost:8080/"
        },
        "id": "gRCqpPh1Pi5H",
        "outputId": "e6ce2c92-dc32-4cb3-c871-4f38b30a04c5"
      },
      "source": [
        "model.summary()"
      ],
      "execution_count": null,
      "outputs": [
        {
          "output_type": "stream",
          "name": "stdout",
          "text": [
            "Model: \"sequential\"\n",
            "_________________________________________________________________\n",
            " Layer (type)                Output Shape              Param #   \n",
            "=================================================================\n",
            " text_vectorization (TextVe  (None, 5)                 0         \n",
            " ctorization)                                                    \n",
            "                                                                 \n",
            "=================================================================\n",
            "Total params: 0 (0.00 Byte)\n",
            "Trainable params: 0 (0.00 Byte)\n",
            "Non-trainable params: 0 (0.00 Byte)\n",
            "_________________________________________________________________\n"
          ]
        }
      ]
    },
    {
      "cell_type": "markdown",
      "source": [
        "## 3.2 Embedding"
      ],
      "metadata": {
        "id": "zjpmMIX07vFD"
      }
    },
    {
      "cell_type": "code",
      "metadata": {
        "id": "QqaG9xXEPj4x"
      },
      "source": [
        "from tensorflow.keras.layers import Embedding\n",
        "\n",
        "# Note that we're using max_tokens + 1 here, since there's an\n",
        "# out-of-vocabulary (OOV) token that gets added to the vocab.\n",
        "model.add(Embedding(max_tokens + 1, 8))"
      ],
      "execution_count": null,
      "outputs": []
    },
    {
      "cell_type": "markdown",
      "source": [
        "## 3.3 The Recurrent Layer"
      ],
      "metadata": {
        "id": "VWaUGrdB7xLG"
      }
    },
    {
      "cell_type": "code",
      "metadata": {
        "id": "cJoUW6dLSagy"
      },
      "source": [
        "from tensorflow.keras.layers import LSTM, SimpleRNN\n",
        "\n",
        "# 64 is the \"units\" parameter, which is the\n",
        "# dimensionality of the output space.\n",
        "model.add(LSTM(16))\n",
        "# model.add(SimpleRNN(16))"
      ],
      "execution_count": null,
      "outputs": []
    },
    {
      "cell_type": "code",
      "metadata": {
        "id": "9NT2gurHSbmQ"
      },
      "source": [
        "from tensorflow.keras.layers import Dense\n",
        "\n",
        "model.add(Dense(16, activation=\"relu\"))\n",
        "model.add(Dense(1, activation=\"sigmoid\"))"
      ],
      "execution_count": null,
      "outputs": []
    },
    {
      "cell_type": "code",
      "metadata": {
        "colab": {
          "base_uri": "https://localhost:8080/"
        },
        "id": "M80_4QEOSoID",
        "outputId": "dc45bab5-613c-4070-9ae6-bffeba925c8f"
      },
      "source": [
        "model.summary()"
      ],
      "execution_count": null,
      "outputs": [
        {
          "output_type": "stream",
          "name": "stdout",
          "text": [
            "Model: \"sequential\"\n",
            "_________________________________________________________________\n",
            " Layer (type)                Output Shape              Param #   \n",
            "=================================================================\n",
            " text_vectorization (TextVe  (None, 5)                 0         \n",
            " ctorization)                                                    \n",
            "                                                                 \n",
            " embedding (Embedding)       (None, 5, 8)              168       \n",
            "                                                                 \n",
            " lstm (LSTM)                 (None, 16)                1600      \n",
            "                                                                 \n",
            " dense (Dense)               (None, 16)                272       \n",
            "                                                                 \n",
            " dense_1 (Dense)             (None, 1)                 17        \n",
            "                                                                 \n",
            "=================================================================\n",
            "Total params: 2057 (8.04 KB)\n",
            "Trainable params: 2057 (8.04 KB)\n",
            "Non-trainable params: 0 (0.00 Byte)\n",
            "_________________________________________________________________\n"
          ]
        }
      ]
    },
    {
      "cell_type": "markdown",
      "source": [
        "## 4. Compiling the Model\n"
      ],
      "metadata": {
        "id": "NR9T-9Mj8Oxk"
      }
    },
    {
      "cell_type": "code",
      "metadata": {
        "id": "2ipG6f3ZSqSh"
      },
      "source": [
        "model.compile(\n",
        "  optimizer='adam',\n",
        "  loss='binary_crossentropy',\n",
        "  metrics=['accuracy'],\n",
        ")"
      ],
      "execution_count": null,
      "outputs": []
    },
    {
      "cell_type": "markdown",
      "source": [
        "## 4. Compiling the Model\n"
      ],
      "metadata": {
        "id": "UXRHZB9U8Qj2"
      }
    },
    {
      "cell_type": "code",
      "metadata": {
        "colab": {
          "base_uri": "https://localhost:8080/"
        },
        "id": "RAEsYQq-S0aL",
        "outputId": "aec2e52f-e538-440b-87fc-7fc420152649"
      },
      "source": [
        "history = model.fit(X_train, y_train, epochs=200)\n"
      ],
      "execution_count": null,
      "outputs": [
        {
          "output_type": "stream",
          "name": "stdout",
          "text": [
            "Epoch 1/200\n",
            "2/2 [==============================] - 12s 45ms/step - loss: 0.6935 - accuracy: 0.4483\n",
            "Epoch 2/200\n",
            "2/2 [==============================] - 0s 29ms/step - loss: 0.6929 - accuracy: 0.5690\n",
            "Epoch 3/200\n",
            "2/2 [==============================] - 0s 23ms/step - loss: 0.6925 - accuracy: 0.5517\n",
            "Epoch 4/200\n",
            "2/2 [==============================] - 0s 19ms/step - loss: 0.6921 - accuracy: 0.5517\n",
            "Epoch 5/200\n",
            "2/2 [==============================] - 0s 23ms/step - loss: 0.6919 - accuracy: 0.5517\n",
            "Epoch 6/200\n",
            "2/2 [==============================] - 0s 20ms/step - loss: 0.6916 - accuracy: 0.5517\n",
            "Epoch 7/200\n",
            "2/2 [==============================] - 0s 18ms/step - loss: 0.6915 - accuracy: 0.5517\n",
            "Epoch 8/200\n",
            "2/2 [==============================] - 0s 27ms/step - loss: 0.6911 - accuracy: 0.5517\n",
            "Epoch 9/200\n",
            "2/2 [==============================] - 0s 40ms/step - loss: 0.6909 - accuracy: 0.5517\n",
            "Epoch 10/200\n",
            "2/2 [==============================] - 0s 26ms/step - loss: 0.6906 - accuracy: 0.5517\n",
            "Epoch 11/200\n",
            "2/2 [==============================] - 0s 23ms/step - loss: 0.6903 - accuracy: 0.5517\n",
            "Epoch 12/200\n",
            "2/2 [==============================] - 0s 33ms/step - loss: 0.6899 - accuracy: 0.5517\n",
            "Epoch 13/200\n",
            "2/2 [==============================] - 0s 23ms/step - loss: 0.6896 - accuracy: 0.5517\n",
            "Epoch 14/200\n",
            "2/2 [==============================] - 0s 27ms/step - loss: 0.6892 - accuracy: 0.5517\n",
            "Epoch 15/200\n",
            "2/2 [==============================] - 0s 16ms/step - loss: 0.6888 - accuracy: 0.5517\n",
            "Epoch 16/200\n",
            "2/2 [==============================] - 0s 18ms/step - loss: 0.6885 - accuracy: 0.5517\n",
            "Epoch 17/200\n",
            "2/2 [==============================] - 0s 16ms/step - loss: 0.6880 - accuracy: 0.5517\n",
            "Epoch 18/200\n",
            "2/2 [==============================] - 0s 19ms/step - loss: 0.6876 - accuracy: 0.5517\n",
            "Epoch 19/200\n",
            "2/2 [==============================] - 0s 17ms/step - loss: 0.6872 - accuracy: 0.5517\n",
            "Epoch 20/200\n",
            "2/2 [==============================] - 0s 13ms/step - loss: 0.6866 - accuracy: 0.5517\n",
            "Epoch 21/200\n",
            "2/2 [==============================] - 0s 20ms/step - loss: 0.6861 - accuracy: 0.5517\n",
            "Epoch 22/200\n",
            "2/2 [==============================] - 0s 17ms/step - loss: 0.6855 - accuracy: 0.5517\n",
            "Epoch 23/200\n",
            "2/2 [==============================] - 0s 14ms/step - loss: 0.6850 - accuracy: 0.5517\n",
            "Epoch 24/200\n",
            "2/2 [==============================] - 0s 18ms/step - loss: 0.6841 - accuracy: 0.5517\n",
            "Epoch 25/200\n",
            "2/2 [==============================] - 0s 15ms/step - loss: 0.6834 - accuracy: 0.5517\n",
            "Epoch 26/200\n",
            "2/2 [==============================] - 0s 15ms/step - loss: 0.6826 - accuracy: 0.5517\n",
            "Epoch 27/200\n",
            "2/2 [==============================] - 0s 13ms/step - loss: 0.6817 - accuracy: 0.5517\n",
            "Epoch 28/200\n",
            "2/2 [==============================] - 0s 19ms/step - loss: 0.6808 - accuracy: 0.5517\n",
            "Epoch 29/200\n",
            "2/2 [==============================] - 0s 13ms/step - loss: 0.6795 - accuracy: 0.5517\n",
            "Epoch 30/200\n",
            "2/2 [==============================] - 0s 15ms/step - loss: 0.6784 - accuracy: 0.5517\n",
            "Epoch 31/200\n",
            "2/2 [==============================] - 0s 15ms/step - loss: 0.6772 - accuracy: 0.5517\n",
            "Epoch 32/200\n",
            "2/2 [==============================] - 0s 17ms/step - loss: 0.6758 - accuracy: 0.5517\n",
            "Epoch 33/200\n",
            "2/2 [==============================] - 0s 24ms/step - loss: 0.6741 - accuracy: 0.5517\n",
            "Epoch 34/200\n",
            "2/2 [==============================] - 0s 18ms/step - loss: 0.6722 - accuracy: 0.5517\n",
            "Epoch 35/200\n",
            "2/2 [==============================] - 0s 13ms/step - loss: 0.6705 - accuracy: 0.5690\n",
            "Epoch 36/200\n",
            "2/2 [==============================] - 0s 14ms/step - loss: 0.6684 - accuracy: 0.5690\n",
            "Epoch 37/200\n",
            "2/2 [==============================] - 0s 12ms/step - loss: 0.6660 - accuracy: 0.6207\n",
            "Epoch 38/200\n",
            "2/2 [==============================] - 0s 12ms/step - loss: 0.6634 - accuracy: 0.6207\n",
            "Epoch 39/200\n",
            "2/2 [==============================] - 0s 12ms/step - loss: 0.6605 - accuracy: 0.6897\n",
            "Epoch 40/200\n",
            "2/2 [==============================] - 0s 24ms/step - loss: 0.6574 - accuracy: 0.7241\n",
            "Epoch 41/200\n",
            "2/2 [==============================] - 0s 24ms/step - loss: 0.6539 - accuracy: 0.7414\n",
            "Epoch 42/200\n",
            "2/2 [==============================] - 0s 14ms/step - loss: 0.6498 - accuracy: 0.7759\n",
            "Epoch 43/200\n",
            "2/2 [==============================] - 0s 17ms/step - loss: 0.6460 - accuracy: 0.8103\n",
            "Epoch 44/200\n",
            "2/2 [==============================] - 0s 27ms/step - loss: 0.6413 - accuracy: 0.8103\n",
            "Epoch 45/200\n",
            "2/2 [==============================] - 0s 15ms/step - loss: 0.6357 - accuracy: 0.8103\n",
            "Epoch 46/200\n",
            "2/2 [==============================] - 0s 16ms/step - loss: 0.6310 - accuracy: 0.7931\n",
            "Epoch 47/200\n",
            "2/2 [==============================] - 0s 20ms/step - loss: 0.6249 - accuracy: 0.7931\n",
            "Epoch 48/200\n",
            "2/2 [==============================] - 0s 17ms/step - loss: 0.6185 - accuracy: 0.7931\n",
            "Epoch 49/200\n",
            "2/2 [==============================] - 0s 19ms/step - loss: 0.6122 - accuracy: 0.7931\n",
            "Epoch 50/200\n",
            "2/2 [==============================] - 0s 19ms/step - loss: 0.6048 - accuracy: 0.7931\n",
            "Epoch 51/200\n",
            "2/2 [==============================] - 0s 22ms/step - loss: 0.5973 - accuracy: 0.7931\n",
            "Epoch 52/200\n",
            "2/2 [==============================] - 0s 30ms/step - loss: 0.5893 - accuracy: 0.8103\n",
            "Epoch 53/200\n",
            "2/2 [==============================] - 0s 17ms/step - loss: 0.5818 - accuracy: 0.8103\n",
            "Epoch 54/200\n",
            "2/2 [==============================] - 0s 14ms/step - loss: 0.5721 - accuracy: 0.8103\n",
            "Epoch 55/200\n",
            "2/2 [==============================] - 0s 11ms/step - loss: 0.5633 - accuracy: 0.8103\n",
            "Epoch 56/200\n",
            "2/2 [==============================] - 0s 12ms/step - loss: 0.5528 - accuracy: 0.8276\n",
            "Epoch 57/200\n",
            "2/2 [==============================] - 0s 10ms/step - loss: 0.5418 - accuracy: 0.8276\n",
            "Epoch 58/200\n",
            "2/2 [==============================] - 0s 12ms/step - loss: 0.5323 - accuracy: 0.8448\n",
            "Epoch 59/200\n",
            "2/2 [==============================] - 0s 10ms/step - loss: 0.5204 - accuracy: 0.8448\n",
            "Epoch 60/200\n",
            "2/2 [==============================] - 0s 12ms/step - loss: 0.5095 - accuracy: 0.8448\n",
            "Epoch 61/200\n",
            "2/2 [==============================] - 0s 13ms/step - loss: 0.4966 - accuracy: 0.8448\n",
            "Epoch 62/200\n",
            "2/2 [==============================] - 0s 15ms/step - loss: 0.4863 - accuracy: 0.8448\n",
            "Epoch 63/200\n",
            "2/2 [==============================] - 0s 11ms/step - loss: 0.4749 - accuracy: 0.8448\n",
            "Epoch 64/200\n",
            "2/2 [==============================] - 0s 14ms/step - loss: 0.4628 - accuracy: 0.8448\n",
            "Epoch 65/200\n",
            "2/2 [==============================] - 0s 12ms/step - loss: 0.4506 - accuracy: 0.8448\n",
            "Epoch 66/200\n",
            "2/2 [==============================] - 0s 12ms/step - loss: 0.4396 - accuracy: 0.8448\n",
            "Epoch 67/200\n",
            "2/2 [==============================] - 0s 12ms/step - loss: 0.4283 - accuracy: 0.8448\n",
            "Epoch 68/200\n",
            "2/2 [==============================] - 0s 19ms/step - loss: 0.4173 - accuracy: 0.8621\n",
            "Epoch 69/200\n",
            "2/2 [==============================] - 0s 13ms/step - loss: 0.4079 - accuracy: 0.8621\n",
            "Epoch 70/200\n",
            "2/2 [==============================] - 0s 14ms/step - loss: 0.3990 - accuracy: 0.8621\n",
            "Epoch 71/200\n",
            "2/2 [==============================] - 0s 14ms/step - loss: 0.3890 - accuracy: 0.8793\n",
            "Epoch 72/200\n",
            "2/2 [==============================] - 0s 12ms/step - loss: 0.3795 - accuracy: 0.8793\n",
            "Epoch 73/200\n",
            "2/2 [==============================] - 0s 12ms/step - loss: 0.3710 - accuracy: 0.8793\n",
            "Epoch 74/200\n",
            "2/2 [==============================] - 0s 12ms/step - loss: 0.3634 - accuracy: 0.8793\n",
            "Epoch 75/200\n",
            "2/2 [==============================] - 0s 11ms/step - loss: 0.3552 - accuracy: 0.8793\n",
            "Epoch 76/200\n",
            "2/2 [==============================] - 0s 14ms/step - loss: 0.3488 - accuracy: 0.8793\n",
            "Epoch 77/200\n",
            "2/2 [==============================] - 0s 11ms/step - loss: 0.3410 - accuracy: 0.8793\n",
            "Epoch 78/200\n",
            "2/2 [==============================] - 0s 11ms/step - loss: 0.3339 - accuracy: 0.8793\n",
            "Epoch 79/200\n",
            "2/2 [==============================] - 0s 11ms/step - loss: 0.3281 - accuracy: 0.8793\n",
            "Epoch 80/200\n",
            "2/2 [==============================] - 0s 11ms/step - loss: 0.3227 - accuracy: 0.8793\n",
            "Epoch 81/200\n",
            "2/2 [==============================] - 0s 12ms/step - loss: 0.3165 - accuracy: 0.8793\n",
            "Epoch 82/200\n",
            "2/2 [==============================] - 0s 12ms/step - loss: 0.3119 - accuracy: 0.8793\n",
            "Epoch 83/200\n",
            "2/2 [==============================] - 0s 12ms/step - loss: 0.3075 - accuracy: 0.8793\n",
            "Epoch 84/200\n",
            "2/2 [==============================] - 0s 11ms/step - loss: 0.3020 - accuracy: 0.8793\n",
            "Epoch 85/200\n",
            "2/2 [==============================] - 0s 12ms/step - loss: 0.2982 - accuracy: 0.8793\n",
            "Epoch 86/200\n",
            "2/2 [==============================] - 0s 11ms/step - loss: 0.2939 - accuracy: 0.8793\n",
            "Epoch 87/200\n",
            "2/2 [==============================] - 0s 12ms/step - loss: 0.2897 - accuracy: 0.8793\n",
            "Epoch 88/200\n",
            "2/2 [==============================] - 0s 11ms/step - loss: 0.2855 - accuracy: 0.8793\n",
            "Epoch 89/200\n",
            "2/2 [==============================] - 0s 11ms/step - loss: 0.2815 - accuracy: 0.8793\n",
            "Epoch 90/200\n",
            "2/2 [==============================] - 0s 11ms/step - loss: 0.2784 - accuracy: 0.8793\n",
            "Epoch 91/200\n",
            "2/2 [==============================] - 0s 13ms/step - loss: 0.2742 - accuracy: 0.8793\n",
            "Epoch 92/200\n",
            "2/2 [==============================] - 0s 11ms/step - loss: 0.2707 - accuracy: 0.8793\n",
            "Epoch 93/200\n",
            "2/2 [==============================] - 0s 12ms/step - loss: 0.2671 - accuracy: 0.8793\n",
            "Epoch 94/200\n",
            "2/2 [==============================] - 0s 13ms/step - loss: 0.2635 - accuracy: 0.8793\n",
            "Epoch 95/200\n",
            "2/2 [==============================] - 0s 11ms/step - loss: 0.2604 - accuracy: 0.8793\n",
            "Epoch 96/200\n",
            "2/2 [==============================] - 0s 12ms/step - loss: 0.2563 - accuracy: 0.8793\n",
            "Epoch 97/200\n",
            "2/2 [==============================] - 0s 11ms/step - loss: 0.2528 - accuracy: 0.8793\n",
            "Epoch 98/200\n",
            "2/2 [==============================] - 0s 17ms/step - loss: 0.2497 - accuracy: 0.8793\n",
            "Epoch 99/200\n",
            "2/2 [==============================] - 0s 12ms/step - loss: 0.2463 - accuracy: 0.8793\n",
            "Epoch 100/200\n",
            "2/2 [==============================] - 0s 12ms/step - loss: 0.2426 - accuracy: 0.8793\n",
            "Epoch 101/200\n",
            "2/2 [==============================] - 0s 12ms/step - loss: 0.2399 - accuracy: 0.8793\n",
            "Epoch 102/200\n",
            "2/2 [==============================] - 0s 11ms/step - loss: 0.2357 - accuracy: 0.8793\n",
            "Epoch 103/200\n",
            "2/2 [==============================] - 0s 17ms/step - loss: 0.2324 - accuracy: 0.8793\n",
            "Epoch 104/200\n",
            "2/2 [==============================] - 0s 11ms/step - loss: 0.2282 - accuracy: 0.8793\n",
            "Epoch 105/200\n",
            "2/2 [==============================] - 0s 11ms/step - loss: 0.2247 - accuracy: 0.8793\n",
            "Epoch 106/200\n",
            "2/2 [==============================] - 0s 13ms/step - loss: 0.2219 - accuracy: 0.8966\n",
            "Epoch 107/200\n",
            "2/2 [==============================] - 0s 18ms/step - loss: 0.2165 - accuracy: 0.9138\n",
            "Epoch 108/200\n",
            "2/2 [==============================] - 0s 16ms/step - loss: 0.2131 - accuracy: 0.9138\n",
            "Epoch 109/200\n",
            "2/2 [==============================] - 0s 13ms/step - loss: 0.2090 - accuracy: 0.9138\n",
            "Epoch 110/200\n",
            "2/2 [==============================] - 0s 14ms/step - loss: 0.2053 - accuracy: 0.9138\n",
            "Epoch 111/200\n",
            "2/2 [==============================] - 0s 18ms/step - loss: 0.2011 - accuracy: 0.9138\n",
            "Epoch 112/200\n",
            "2/2 [==============================] - 0s 15ms/step - loss: 0.1965 - accuracy: 0.9138\n",
            "Epoch 113/200\n",
            "2/2 [==============================] - 0s 13ms/step - loss: 0.1930 - accuracy: 0.9138\n",
            "Epoch 114/200\n",
            "2/2 [==============================] - 0s 12ms/step - loss: 0.1884 - accuracy: 0.9138\n",
            "Epoch 115/200\n",
            "2/2 [==============================] - 0s 12ms/step - loss: 0.1850 - accuracy: 0.9138\n",
            "Epoch 116/200\n",
            "2/2 [==============================] - 0s 11ms/step - loss: 0.1821 - accuracy: 0.9138\n",
            "Epoch 117/200\n",
            "2/2 [==============================] - 0s 11ms/step - loss: 0.1767 - accuracy: 0.9138\n",
            "Epoch 118/200\n",
            "2/2 [==============================] - 0s 14ms/step - loss: 0.1740 - accuracy: 0.9138\n",
            "Epoch 119/200\n",
            "2/2 [==============================] - 0s 19ms/step - loss: 0.1693 - accuracy: 0.9138\n",
            "Epoch 120/200\n",
            "2/2 [==============================] - 0s 17ms/step - loss: 0.1661 - accuracy: 0.9138\n",
            "Epoch 121/200\n",
            "2/2 [==============================] - 0s 14ms/step - loss: 0.1628 - accuracy: 0.9138\n",
            "Epoch 122/200\n",
            "2/2 [==============================] - 0s 16ms/step - loss: 0.1593 - accuracy: 0.9138\n",
            "Epoch 123/200\n",
            "2/2 [==============================] - 0s 12ms/step - loss: 0.1582 - accuracy: 0.9138\n",
            "Epoch 124/200\n",
            "2/2 [==============================] - 0s 15ms/step - loss: 0.1540 - accuracy: 0.9138\n",
            "Epoch 125/200\n",
            "2/2 [==============================] - 0s 14ms/step - loss: 0.1508 - accuracy: 0.9138\n",
            "Epoch 126/200\n",
            "2/2 [==============================] - 0s 14ms/step - loss: 0.1482 - accuracy: 0.9138\n",
            "Epoch 127/200\n",
            "2/2 [==============================] - 0s 14ms/step - loss: 0.1457 - accuracy: 0.9138\n",
            "Epoch 128/200\n",
            "2/2 [==============================] - 0s 15ms/step - loss: 0.1436 - accuracy: 0.9138\n",
            "Epoch 129/200\n",
            "2/2 [==============================] - 0s 15ms/step - loss: 0.1411 - accuracy: 0.9310\n",
            "Epoch 130/200\n",
            "2/2 [==============================] - 0s 19ms/step - loss: 0.1391 - accuracy: 0.9310\n",
            "Epoch 131/200\n",
            "2/2 [==============================] - 0s 11ms/step - loss: 0.1374 - accuracy: 0.9310\n",
            "Epoch 132/200\n",
            "2/2 [==============================] - 0s 13ms/step - loss: 0.1350 - accuracy: 0.9310\n",
            "Epoch 133/200\n",
            "2/2 [==============================] - 0s 14ms/step - loss: 0.1333 - accuracy: 0.9310\n",
            "Epoch 134/200\n",
            "2/2 [==============================] - 0s 11ms/step - loss: 0.1317 - accuracy: 0.9310\n",
            "Epoch 135/200\n",
            "2/2 [==============================] - 0s 12ms/step - loss: 0.1304 - accuracy: 0.9310\n",
            "Epoch 136/200\n",
            "2/2 [==============================] - 0s 14ms/step - loss: 0.1280 - accuracy: 0.9310\n",
            "Epoch 137/200\n",
            "2/2 [==============================] - 0s 13ms/step - loss: 0.1265 - accuracy: 0.9310\n",
            "Epoch 138/200\n",
            "2/2 [==============================] - 0s 14ms/step - loss: 0.1254 - accuracy: 0.9310\n",
            "Epoch 139/200\n",
            "2/2 [==============================] - 0s 24ms/step - loss: 0.1239 - accuracy: 0.9310\n",
            "Epoch 140/200\n",
            "2/2 [==============================] - 0s 12ms/step - loss: 0.1224 - accuracy: 0.9310\n",
            "Epoch 141/200\n",
            "2/2 [==============================] - 0s 12ms/step - loss: 0.1210 - accuracy: 0.9483\n",
            "Epoch 142/200\n",
            "2/2 [==============================] - 0s 11ms/step - loss: 0.1206 - accuracy: 0.9483\n",
            "Epoch 143/200\n",
            "2/2 [==============================] - 0s 14ms/step - loss: 0.1190 - accuracy: 0.9483\n",
            "Epoch 144/200\n",
            "2/2 [==============================] - 0s 11ms/step - loss: 0.1185 - accuracy: 0.9483\n",
            "Epoch 145/200\n",
            "2/2 [==============================] - 0s 16ms/step - loss: 0.1167 - accuracy: 0.9483\n",
            "Epoch 146/200\n",
            "2/2 [==============================] - 0s 15ms/step - loss: 0.1158 - accuracy: 0.9483\n",
            "Epoch 147/200\n",
            "2/2 [==============================] - 0s 18ms/step - loss: 0.1163 - accuracy: 0.9483\n",
            "Epoch 148/200\n",
            "2/2 [==============================] - 0s 11ms/step - loss: 0.1137 - accuracy: 0.9483\n",
            "Epoch 149/200\n",
            "2/2 [==============================] - 0s 13ms/step - loss: 0.1141 - accuracy: 0.9483\n",
            "Epoch 150/200\n",
            "2/2 [==============================] - 0s 11ms/step - loss: 0.1118 - accuracy: 0.9483\n",
            "Epoch 151/200\n",
            "2/2 [==============================] - 0s 13ms/step - loss: 0.1111 - accuracy: 0.9483\n",
            "Epoch 152/200\n",
            "2/2 [==============================] - 0s 19ms/step - loss: 0.1099 - accuracy: 0.9483\n",
            "Epoch 153/200\n",
            "2/2 [==============================] - 0s 12ms/step - loss: 0.1091 - accuracy: 0.9483\n",
            "Epoch 154/200\n",
            "2/2 [==============================] - 0s 13ms/step - loss: 0.1083 - accuracy: 0.9483\n",
            "Epoch 155/200\n",
            "2/2 [==============================] - 0s 11ms/step - loss: 0.1086 - accuracy: 0.9483\n",
            "Epoch 156/200\n",
            "2/2 [==============================] - 0s 12ms/step - loss: 0.1079 - accuracy: 0.9483\n",
            "Epoch 157/200\n",
            "2/2 [==============================] - 0s 11ms/step - loss: 0.1066 - accuracy: 0.9483\n",
            "Epoch 158/200\n",
            "2/2 [==============================] - 0s 19ms/step - loss: 0.1056 - accuracy: 0.9483\n",
            "Epoch 159/200\n",
            "2/2 [==============================] - 0s 12ms/step - loss: 0.1064 - accuracy: 0.9483\n",
            "Epoch 160/200\n",
            "2/2 [==============================] - 0s 11ms/step - loss: 0.1044 - accuracy: 0.9483\n",
            "Epoch 161/200\n",
            "2/2 [==============================] - 0s 14ms/step - loss: 0.1037 - accuracy: 0.9483\n",
            "Epoch 162/200\n",
            "2/2 [==============================] - 0s 11ms/step - loss: 0.1035 - accuracy: 0.9483\n",
            "Epoch 163/200\n",
            "2/2 [==============================] - 0s 11ms/step - loss: 0.1033 - accuracy: 0.9483\n",
            "Epoch 164/200\n",
            "2/2 [==============================] - 0s 12ms/step - loss: 0.1031 - accuracy: 0.9483\n",
            "Epoch 165/200\n",
            "2/2 [==============================] - 0s 13ms/step - loss: 0.1036 - accuracy: 0.9483\n",
            "Epoch 166/200\n",
            "2/2 [==============================] - 0s 11ms/step - loss: 0.1021 - accuracy: 0.9483\n",
            "Epoch 167/200\n",
            "2/2 [==============================] - 0s 11ms/step - loss: 0.1010 - accuracy: 0.9483\n",
            "Epoch 168/200\n",
            "2/2 [==============================] - 0s 12ms/step - loss: 0.1001 - accuracy: 0.9483\n",
            "Epoch 169/200\n",
            "2/2 [==============================] - 0s 11ms/step - loss: 0.1001 - accuracy: 0.9483\n",
            "Epoch 170/200\n",
            "2/2 [==============================] - 0s 12ms/step - loss: 0.1002 - accuracy: 0.9483\n",
            "Epoch 171/200\n",
            "2/2 [==============================] - 0s 13ms/step - loss: 0.0990 - accuracy: 0.9483\n",
            "Epoch 172/200\n",
            "2/2 [==============================] - 0s 13ms/step - loss: 0.1005 - accuracy: 0.9483\n",
            "Epoch 173/200\n",
            "2/2 [==============================] - 0s 13ms/step - loss: 0.0983 - accuracy: 0.9483\n",
            "Epoch 174/200\n",
            "2/2 [==============================] - 0s 11ms/step - loss: 0.0989 - accuracy: 0.9483\n",
            "Epoch 175/200\n",
            "2/2 [==============================] - 0s 11ms/step - loss: 0.0980 - accuracy: 0.9310\n",
            "Epoch 176/200\n",
            "2/2 [==============================] - 0s 12ms/step - loss: 0.0972 - accuracy: 0.9483\n",
            "Epoch 177/200\n",
            "2/2 [==============================] - 0s 11ms/step - loss: 0.0977 - accuracy: 0.9483\n",
            "Epoch 178/200\n",
            "2/2 [==============================] - 0s 12ms/step - loss: 0.0973 - accuracy: 0.9483\n",
            "Epoch 179/200\n",
            "2/2 [==============================] - 0s 12ms/step - loss: 0.0968 - accuracy: 0.9483\n",
            "Epoch 180/200\n",
            "2/2 [==============================] - 0s 14ms/step - loss: 0.0992 - accuracy: 0.9483\n",
            "Epoch 181/200\n",
            "2/2 [==============================] - 0s 13ms/step - loss: 0.0971 - accuracy: 0.9483\n",
            "Epoch 182/200\n",
            "2/2 [==============================] - 0s 12ms/step - loss: 0.0956 - accuracy: 0.9483\n",
            "Epoch 183/200\n",
            "2/2 [==============================] - 0s 13ms/step - loss: 0.0955 - accuracy: 0.9483\n",
            "Epoch 184/200\n",
            "2/2 [==============================] - 0s 13ms/step - loss: 0.0971 - accuracy: 0.9310\n",
            "Epoch 185/200\n",
            "2/2 [==============================] - 0s 11ms/step - loss: 0.0951 - accuracy: 0.9483\n",
            "Epoch 186/200\n",
            "2/2 [==============================] - 0s 12ms/step - loss: 0.0946 - accuracy: 0.9483\n",
            "Epoch 187/200\n",
            "2/2 [==============================] - 0s 12ms/step - loss: 0.0944 - accuracy: 0.9483\n",
            "Epoch 188/200\n",
            "2/2 [==============================] - 0s 11ms/step - loss: 0.0942 - accuracy: 0.9483\n",
            "Epoch 189/200\n",
            "2/2 [==============================] - 0s 14ms/step - loss: 0.0965 - accuracy: 0.9483\n",
            "Epoch 190/200\n",
            "2/2 [==============================] - 0s 11ms/step - loss: 0.0952 - accuracy: 0.9483\n",
            "Epoch 191/200\n",
            "2/2 [==============================] - 0s 11ms/step - loss: 0.0941 - accuracy: 0.9483\n",
            "Epoch 192/200\n",
            "2/2 [==============================] - 0s 12ms/step - loss: 0.0931 - accuracy: 0.9483\n",
            "Epoch 193/200\n",
            "2/2 [==============================] - 0s 12ms/step - loss: 0.0936 - accuracy: 0.9483\n",
            "Epoch 194/200\n",
            "2/2 [==============================] - 0s 12ms/step - loss: 0.0928 - accuracy: 0.9483\n",
            "Epoch 195/200\n",
            "2/2 [==============================] - 0s 13ms/step - loss: 0.0925 - accuracy: 0.9483\n",
            "Epoch 196/200\n",
            "2/2 [==============================] - 0s 11ms/step - loss: 0.0931 - accuracy: 0.9483\n",
            "Epoch 197/200\n",
            "2/2 [==============================] - 0s 12ms/step - loss: 0.0924 - accuracy: 0.9483\n",
            "Epoch 198/200\n",
            "2/2 [==============================] - 0s 14ms/step - loss: 0.0920 - accuracy: 0.9483\n",
            "Epoch 199/200\n",
            "2/2 [==============================] - 0s 11ms/step - loss: 0.0924 - accuracy: 0.9483\n",
            "Epoch 200/200\n",
            "2/2 [==============================] - 0s 11ms/step - loss: 0.0923 - accuracy: 0.9483\n"
          ]
        }
      ]
    },
    {
      "cell_type": "code",
      "source": [
        "import matplotlib.pylab as plt\n"
      ],
      "metadata": {
        "id": "D-nLHmeB8VBc"
      },
      "execution_count": null,
      "outputs": []
    },
    {
      "cell_type": "code",
      "source": [
        "# summarize history for accuracy\n",
        "plt.plot(history.history['accuracy'])\n",
        "plt.title('model accuracy')\n",
        "plt.ylabel('accuracy')\n",
        "plt.xlabel('epoch')\n",
        "plt.legend(['train', 'test'], loc='upper left')\n",
        "plt.show()\n"
      ],
      "metadata": {
        "colab": {
          "base_uri": "https://localhost:8080/",
          "height": 472
        },
        "id": "FhYP8AvZ8V5G",
        "outputId": "bb0050ba-c0f9-4b36-e584-e5a1e98973d2"
      },
      "execution_count": null,
      "outputs": [
        {
          "output_type": "display_data",
          "data": {
            "text/plain": [
              "<Figure size 640x480 with 1 Axes>"
            ],
            "image/png": "[encoded data removed]"
          },
          "metadata": {}
        }
      ]
    },
    {
      "cell_type": "code",
      "source": [
        "# summarize history for loss\n",
        "plt.plot(history.history['loss'])\n",
        "plt.title('model loss')\n",
        "plt.ylabel('loss')\n",
        "plt.xlabel('epoch')\n",
        "plt.legend(['train', 'test'], loc='upper left')\n",
        "plt.show()"
      ],
      "metadata": {
        "colab": {
          "base_uri": "https://localhost:8080/",
          "height": 472
        },
        "id": "bSjzsrv58ZLJ",
        "outputId": "2eb354bd-73e6-4509-e7cd-434e5edf3bc2"
      },
      "execution_count": null,
      "outputs": [
        {
          "output_type": "display_data",
          "data": {
            "text/plain": [
              "<Figure size 640x480 with 1 Axes>"
            ],
            "image/png": "[encoded data removed]"
          },
          "metadata": {}
        }
      ]
    },
    {
      "cell_type": "code",
      "metadata": {
        "colab": {
          "base_uri": "https://localhost:8080/"
        },
        "id": "o0AG7c7iS1y3",
        "outputId": "a0b4ad0e-9fe0-4fd8-aad5-ae213d040ca5"
      },
      "source": [
        "print(model.predict([\n",
        "  \"very good\",\n",
        "]))"
      ],
      "execution_count": null,
      "outputs": [
        {
          "output_type": "stream",
          "name": "stdout",
          "text": [
            "1/1 [==============================] - 1s 564ms/step\n",
            "[[0.9999747]]\n"
          ]
        }
      ]
    },
    {
      "cell_type": "code",
      "metadata": {
        "colab": {
          "base_uri": "https://localhost:8080/"
        },
        "id": "Xme1KPwtS7D2",
        "outputId": "c0a8f118-ca28-40a4-dc1e-b4414adafe34"
      },
      "source": [
        "print(model.predict([\n",
        "  \"very bad\",\n",
        "]))"
      ],
      "execution_count": null,
      "outputs": [
        {
          "output_type": "stream",
          "name": "stdout",
          "text": [
            "1/1 [==============================] - 0s 36ms/step\n",
            "[[0.00213424]]\n"
          ]
        }
      ]
    },
    {
      "cell_type": "code",
      "source": [
        "# First get the weights of the embedding layer\n",
        "e = model.layers[1]\n",
        "weights = e.get_weights()[0]\n",
        "print(weights.shape) # shape: (vocab_size, embedding_dim)"
      ],
      "metadata": {
        "colab": {
          "base_uri": "https://localhost:8080/"
        },
        "id": "f-iv9yas8cZo",
        "outputId": "c2e041b4-7c49-4a0f-9df1-b83924685a5e"
      },
      "execution_count": null,
      "outputs": [
        {
          "output_type": "stream",
          "name": "stdout",
          "text": [
            "(21, 8)\n"
          ]
        }
      ]
    },
    {
      "cell_type": "markdown",
      "metadata": {
        "id": "KOAvtLlubRfO"
      },
      "source": [
        "# Embedding Layer Projector\n",
        "http://projector.tensorflow.org/"
      ]
    },
    {
      "cell_type": "code",
      "metadata": {
        "id": "U18O1IqfbYIp",
        "colab": {
          "base_uri": "https://localhost:8080/"
        },
        "outputId": "0d9ebac7-a5c4-4868-9b19-097dc2d867c4"
      },
      "source": [
        "# First get the weights of the embedding layer\n",
        "e = model.layers[1]\n",
        "weights = e.get_weights()[0]\n",
        "print(weights.shape) # shape: (vocab_size, embedding_dim)"
      ],
      "execution_count": null,
      "outputs": [
        {
          "output_type": "stream",
          "name": "stdout",
          "text": [
            "(21, 8)\n"
          ]
        }
      ]
    },
    {
      "cell_type": "code",
      "metadata": {
        "id": "LOuM3LIVS-gG"
      },
      "source": [
        "import io\n",
        "\n",
        "# Write out the embedding vectors and metadata\n",
        "out_v = io.open('vecs.tsv', 'w', encoding='utf-8')\n",
        "out_m = io.open('meta.tsv', 'w', encoding='utf-8')\n",
        "for word_num in range(1, max_tokens):\n",
        "  word = reverse_word_index[word_num]\n",
        "  embeddings = weights[word_num]\n",
        "  out_m.write(word + \"\\n\")\n",
        "  out_v.write('\\t'.join([str(x) for x in embeddings]) + \"\\n\")\n",
        "out_v.close()\n",
        "out_m.close()"
      ],
      "execution_count": null,
      "outputs": []
    },
    {
      "cell_type": "code",
      "metadata": {
        "colab": {
          "base_uri": "https://localhost:8080/",
          "height": 17
        },
        "id": "0iaieb2gbN5U",
        "outputId": "d6b47e83-6169-4b29-b134-238f3e0858f7"
      },
      "source": [
        "# Download the files\n",
        "try:\n",
        "  from google.colab import files\n",
        "except ImportError:\n",
        "  pass\n",
        "else:\n",
        "  files.download('vecs.tsv')\n",
        "  files.download('meta.tsv')"
      ],
      "execution_count": null,
      "outputs": [
        {
          "output_type": "display_data",
          "data": {
            "text/plain": [
              "<IPython.core.display.Javascript object>"
            ],
            "application/javascript": [
              "\n",
              "    async function download(id, filename, size) {\n",
              "      if (!google.colab.kernel.accessAllowed) {\n",
              "        return;\n",
              "      }\n",
              "      const div = document.createElement('div');\n",
              "      const label = document.createElement('label');\n",
              "      label.textContent = `Downloading \"${filename}\": `;\n",
              "      div.appendChild(label);\n",
              "      const progress = document.createElement('progress');\n",
              "      progress.max = size;\n",
              "      div.appendChild(progress);\n",
              "      document.body.appendChild(div);\n",
              "\n",
              "      const buffers = [];\n",
              "      let downloaded = 0;\n",
              "\n",
              "      const channel = await google.colab.kernel.comms.open(id);\n",
              "      // Send a message to notify the kernel that we're ready.\n",
              "      channel.send({})\n",
              "\n",
              "      for await (const message of channel.messages) {\n",
              "        // Send a message to notify the kernel that we're ready.\n",
              "        channel.send({})\n",
              "        if (message.buffers) {\n",
              "          for (const buffer of message.buffers) {\n",
              "            buffers.push(buffer);\n",
              "            downloaded += buffer.byteLength;\n",
              "            progress.value = downloaded;\n",
              "          }\n",
              "        }\n",
              "      }\n",
              "      const blob = new Blob(buffers, {type: 'application/binary'});\n",
              "      const a = document.createElement('a');\n",
              "      a.href = window.URL.createObjectURL(blob);\n",
              "      a.download = filename;\n",
              "      div.appendChild(a);\n",
              "      a.click();\n",
              "      div.remove();\n",
              "    }\n",
              "  "
            ]
          },
          "metadata": {}
        },
        {
          "output_type": "display_data",
          "data": {
            "text/plain": [
              "<IPython.core.display.Javascript object>"
            ],
            "application/javascript": [
              "download(\"download_4135ea4a-e6fc-44bf-9532-64bfaf26f94b\", \"vecs.tsv\", 1814)"
            ]
          },
          "metadata": {}
        },
        {
          "output_type": "display_data",
          "data": {
            "text/plain": [
              "<IPython.core.display.Javascript object>"
            ],
            "application/javascript": [
              "\n",
              "    async function download(id, filename, size) {\n",
              "      if (!google.colab.kernel.accessAllowed) {\n",
              "        return;\n",
              "      }\n",
              "      const div = document.createElement('div');\n",
              "      const label = document.createElement('label');\n",
              "      label.textContent = `Downloading \"${filename}\": `;\n",
              "      div.appendChild(label);\n",
              "      const progress = document.createElement('progress');\n",
              "      progress.max = size;\n",
              "      div.appendChild(progress);\n",
              "      document.body.appendChild(div);\n",
              "\n",
              "      const buffers = [];\n",
              "      let downloaded = 0;\n",
              "\n",
              "      const channel = await google.colab.kernel.comms.open(id);\n",
              "      // Send a message to notify the kernel that we're ready.\n",
              "      channel.send({})\n",
              "\n",
              "      for await (const message of channel.messages) {\n",
              "        // Send a message to notify the kernel that we're ready.\n",
              "        channel.send({})\n",
              "        if (message.buffers) {\n",
              "          for (const buffer of message.buffers) {\n",
              "            buffers.push(buffer);\n",
              "            downloaded += buffer.byteLength;\n",
              "            progress.value = downloaded;\n",
              "          }\n",
              "        }\n",
              "      }\n",
              "      const blob = new Blob(buffers, {type: 'application/binary'});\n",
              "      const a = document.createElement('a');\n",
              "      a.href = window.URL.createObjectURL(blob);\n",
              "      a.download = filename;\n",
              "      div.appendChild(a);\n",
              "      a.click();\n",
              "      div.remove();\n",
              "    }\n",
              "  "
            ]
          },
          "metadata": {}
        },
        {
          "output_type": "display_data",
          "data": {
            "text/plain": [
              "<IPython.core.display.Javascript object>"
            ],
            "application/javascript": [
              "download(\"download_343a6f9a-5771-4e88-824c-713483c461ef\", \"meta.tsv\", 83)"
            ]
          },
          "metadata": {}
        }
      ]
    },
    {
      "cell_type": "code",
      "source": [
        "import numpy as np"
      ],
      "metadata": {
        "id": "4hlTvyIn5x8S"
      },
      "execution_count": null,
      "outputs": []
    },
    {
      "cell_type": "code",
      "source": [
        "# read from file in tsv format\n",
        "words = np.loadtxt('meta.tsv', skiprows=1, dtype=str)\n",
        "words"
      ],
      "metadata": {
        "colab": {
          "base_uri": "https://localhost:8080/"
        },
        "id": "swtpo5r-5iyu",
        "outputId": "f8adf901-a684-49fd-8368-7b5b3eeb8b06"
      },
      "execution_count": null,
      "outputs": [
        {
          "output_type": "execute_result",
          "data": {
            "text/plain": [
              "array(['not', 'i', 'this', 'good', 'bad', 'am', 'very', 'happy', 'is',\n",
              "       'sad', 'was', 'earlier', 'right', 'now', 'at', 'all', 'and', 'or'],\n",
              "      dtype='<U7')"
            ]
          },
          "metadata": {},
          "execution_count": 29
        }
      ]
    },
    {
      "cell_type": "code",
      "source": [
        "# read vectors in tsv format\n",
        "vectors = np.loadtxt('vecs.tsv', skiprows=1)\n",
        "vectors"
      ],
      "metadata": {
        "colab": {
          "base_uri": "https://localhost:8080/"
        },
        "id": "ndakDGgA5kV_",
        "outputId": "3c866a5e-e721-4f7f-da00-7cec119c9c2d"
      },
      "execution_count": null,
      "outputs": [
        {
          "output_type": "execute_result",
          "data": {
            "text/plain": [
              "array([[ 0.2748439 ,  0.27543288,  0.2556402 ,  0.24077064, -0.32175168,\n",
              "         0.2623191 , -0.2110183 , -0.05261392],\n",
              "       [-0.03873872, -0.17552997,  0.03835804,  0.03743639,  0.00443292,\n",
              "        -0.03199967, -0.02188467,  0.02069422],\n",
              "       [-0.0216358 , -0.12520047,  0.04717259, -0.02422333, -0.00344135,\n",
              "         0.03316914, -0.06664401,  0.00564983],\n",
              "       [-0.29105935, -0.30324996, -0.23809613, -0.3122359 ,  0.31414786,\n",
              "        -0.33895558,  0.19209546, -0.20424268],\n",
              "       [ 0.27022108, -0.1619446 ,  0.20457321,  0.12900835, -0.11834762,\n",
              "         0.15291345, -0.22211081,  0.13469462],\n",
              "       [ 0.02036483, -0.0519473 ,  0.06119598,  0.01799327, -0.00463931,\n",
              "        -0.03788887, -0.06946582,  0.05078855],\n",
              "       [-0.03726342, -0.3461484 ,  0.00170061, -0.07662995,  0.11060625,\n",
              "        -0.11434924, -0.03298525,  0.06569724],\n",
              "       [-0.2419741 , -0.37262663, -0.20591496, -0.21975605,  0.2767605 ,\n",
              "        -0.23135442,  0.14328791, -0.08586747],\n",
              "       [-0.01410555, -0.05292511,  0.0293978 , -0.01171968, -0.01659243,\n",
              "         0.00623508,  0.00401997,  0.00478852],\n",
              "       [ 0.24453387, -0.11117613,  0.22411403,  0.11354061, -0.15499492,\n",
              "         0.18268481, -0.22024167,  0.1886424 ],\n",
              "       [-0.02135875, -0.26329175,  0.07925522, -0.02418384,  0.04073174,\n",
              "        -0.02390055, -0.0118112 ,  0.09061752],\n",
              "       [-0.07730443, -0.30245292, -0.04195158, -0.13064955,  0.19451065,\n",
              "        -0.1831559 , -0.06379695,  0.07573452],\n",
              "       [-0.03855186, -0.3353477 ,  0.12034974, -0.04946064,  0.08543798,\n",
              "        -0.05368644, -0.15677439,  0.16554697],\n",
              "       [-0.13893686, -0.25148326,  0.05120322, -0.00388309,  0.05023862,\n",
              "        -0.15177771, -0.1566662 ,  0.21132916],\n",
              "       [-0.01392755,  0.12666894, -0.10954932, -0.05843762,  0.02230844,\n",
              "        -0.03143767,  0.13696879, -0.03516859],\n",
              "       [-0.01575069,  0.04854951, -0.1213809 , -0.09372021, -0.01557621,\n",
              "        -0.02076154,  0.15114175, -0.09385525],\n",
              "       [ 0.0749982 , -0.3108683 ,  0.10362459,  0.05342938,  0.06014077,\n",
              "        -0.04407653, -0.15421496,  0.19921412],\n",
              "       [-0.04693452, -0.02743393, -0.01510321,  0.03944443,  0.01556015,\n",
              "        -0.0435581 , -0.02800844,  0.00066662]])"
            ]
          },
          "metadata": {},
          "execution_count": 30
        }
      ]
    },
    {
      "cell_type": "code",
      "source": [
        "# plotly scatter plot with metadata as labels\n",
        "import plotly.express as px\n",
        "\n",
        "fig = px.scatter(x=vectors[:,0], y=vectors[:,1], labels={'x':'x', 'y':'y'}, hover_name=words)\n",
        "fig.show()"
      ],
      "metadata": {
        "colab": {
          "base_uri": "https://localhost:8080/",
          "height": 542
        },
        "id": "-3YEutUs5kYR",
        "outputId": "4d2469cd-130b-41de-a3d4-0e6b4d15fe20"
      },
      "execution_count": null,
      "outputs": [
        {
          "output_type": "display_data",
          "data": {
            "text/html": [
              "<html>\n",
              "<head><meta charset=\"utf-8\" /></head>\n",
              "<body>\n",
              "    <div>            <script src=\"https://cdnjs.cloudflare.com/ajax/libs/mathjax/2.7.5/MathJax.js?config=TeX-AMS-MML_SVG\"></script><script type=\"text/javascript\">if (window.MathJax && window.MathJax.Hub && window.MathJax.Hub.Config) {window.MathJax.Hub.Config({SVG: {font: \"STIX-Web\"}});}</script>                <script type=\"text/javascript\">window.PlotlyConfig = {MathJaxConfig: 'local'};</script>\n",
              "        <script charset=\"utf-8\" src=\"https://cdn.plot.ly/plotly-2.24.1.min.js\"></script>                <div id=\"8a4aa18c-4bf9-4176-ad7a-1bdede30fd3c\" class=\"plotly-graph-div\" style=\"height:525px; width:100%;\"></div>            <script type=\"text/javascript\">                                    window.PLOTLYENV=window.PLOTLYENV || {};                                    if (document.getElementById(\"8a4aa18c-4bf9-4176-ad7a-1bdede30fd3c\")) {                    Plotly.newPlot(                        \"8a4aa18c-4bf9-4176-ad7a-1bdede30fd3c\",                        [{\"hovertemplate\":\"\\u003cb\\u003e%{hovertext}\\u003c\\u002fb\\u003e\\u003cbr\\u003e\\u003cbr\\u003ex=%{x}\\u003cbr\\u003ey=%{y}\\u003cextra\\u003e\\u003c\\u002fextra\\u003e\",\"hovertext\":[\"not\",\"i\",\"this\",\"good\",\"bad\",\"am\",\"very\",\"happy\",\"is\",\"sad\",\"was\",\"earlier\",\"right\",\"now\",\"at\",\"all\",\"and\",\"or\"],\"legendgroup\":\"\",\"marker\":{\"color\":\"#636efa\",\"symbol\":\"circle\"},\"mode\":\"markers\",\"name\":\"\",\"orientation\":\"v\",\"showlegend\":false,\"x\":[0.2748439,-0.03873872,-0.021635797,-0.29105935,0.27022108,0.020364827,-0.037263423,-0.2419741,-0.014105551,0.24453387,-0.02135875,-0.07730443,-0.038551863,-0.13893686,-0.01392755,-0.015750695,0.0749982,-0.046934523],\"xaxis\":\"x\",\"y\":[0.27543288,-0.17552997,-0.12520047,-0.30324996,-0.1619446,-0.051947296,-0.3461484,-0.37262663,-0.052925106,-0.11117613,-0.26329175,-0.30245292,-0.3353477,-0.25148326,0.12666894,0.048549507,-0.3108683,-0.027433932],\"yaxis\":\"y\",\"type\":\"scatter\"}],                        {\"template\":{\"data\":{\"histogram2dcontour\":[{\"type\":\"histogram2dcontour\",\"colorbar\":{\"outlinewidth\":0,\"ticks\":\"\"},\"colorscale\":[[0.0,\"#0d0887\"],[0.1111111111111111,\"#46039f\"],[0.2222222222222222,\"#7201a8\"],[0.3333333333333333,\"#9c179e\"],[0.4444444444444444,\"#bd3786\"],[0.5555555555555556,\"#d8576b\"],[0.6666666666666666,\"#ed7953\"],[0.7777777777777778,\"#fb9f3a\"],[0.8888888888888888,\"#fdca26\"],[1.0,\"#f0f921\"]]}],\"choropleth\":[{\"type\":\"choropleth\",\"colorbar\":{\"outlinewidth\":0,\"ticks\":\"\"}}],\"histogram2d\":[{\"type\":\"histogram2d\",\"colorbar\":{\"outlinewidth\":0,\"ticks\":\"\"},\"colorscale\":[[0.0,\"#0d0887\"],[0.1111111111111111,\"#46039f\"],[0.2222222222222222,\"#7201a8\"],[0.3333333333333333,\"#9c179e\"],[0.4444444444444444,\"#bd3786\"],[0.5555555555555556,\"#d8576b\"],[0.6666666666666666,\"#ed7953\"],[0.7777777777777778,\"#fb9f3a\"],[0.8888888888888888,\"#fdca26\"],[1.0,\"#f0f921\"]]}],\"heatmap\":[{\"type\":\"heatmap\",\"colorbar\":{\"outlinewidth\":0,\"ticks\":\"\"},\"colorscale\":[[0.0,\"#0d0887\"],[0.1111111111111111,\"#46039f\"],[0.2222222222222222,\"#7201a8\"],[0.3333333333333333,\"#9c179e\"],[0.4444444444444444,\"#bd3786\"],[0.5555555555555556,\"#d8576b\"],[0.6666666666666666,\"#ed7953\"],[0.7777777777777778,\"#fb9f3a\"],[0.8888888888888888,\"#fdca26\"],[1.0,\"#f0f921\"]]}],\"heatmapgl\":[{\"type\":\"heatmapgl\",\"colorbar\":{\"outlinewidth\":0,\"ticks\":\"\"},\"colorscale\":[[0.0,\"#0d0887\"],[0.1111111111111111,\"#46039f\"],[0.2222222222222222,\"#7201a8\"],[0.3333333333333333,\"#9c179e\"],[0.4444444444444444,\"#bd3786\"],[0.5555555555555556,\"#d8576b\"],[0.6666666666666666,\"#ed7953\"],[0.7777777777777778,\"#fb9f3a\"],[0.8888888888888888,\"#fdca26\"],[1.0,\"#f0f921\"]]}],\"contourcarpet\":[{\"type\":\"contourcarpet\",\"colorbar\":{\"outlinewidth\":0,\"ticks\":\"\"}}],\"contour\":[{\"type\":\"contour\",\"colorbar\":{\"outlinewidth\":0,\"ticks\":\"\"},\"colorscale\":[[0.0,\"#0d0887\"],[0.1111111111111111,\"#46039f\"],[0.2222222222222222,\"#7201a8\"],[0.3333333333333333,\"#9c179e\"],[0.4444444444444444,\"#bd3786\"],[0.5555555555555556,\"#d8576b\"],[0.6666666666666666,\"#ed7953\"],[0.7777777777777778,\"#fb9f3a\"],[0.8888888888888888,\"#fdca26\"],[1.0,\"#f0f921\"]]}],\"surface\":[{\"type\":\"surface\",\"colorbar\":{\"outlinewidth\":0,\"ticks\":\"\"},\"colorscale\":[[0.0,\"#0d0887\"],[0.1111111111111111,\"#46039f\"],[0.2222222222222222,\"#7201a8\"],[0.3333333333333333,\"#9c179e\"],[0.4444444444444444,\"#bd3786\"],[0.5555555555555556,\"#d8576b\"],[0.6666666666666666,\"#ed7953\"],[0.7777777777777778,\"#fb9f3a\"],[0.8888888888888888,\"#fdca26\"],[1.0,\"#f0f921\"]]}],\"mesh3d\":[{\"type\":\"mesh3d\",\"colorbar\":{\"outlinewidth\":0,\"ticks\":\"\"}}],\"scatter\":[{\"fillpattern\":{\"fillmode\":\"overlay\",\"size\":10,\"solidity\":0.2},\"type\":\"scatter\"}],\"parcoords\":[{\"type\":\"parcoords\",\"line\":{\"colorbar\":{\"outlinewidth\":0,\"ticks\":\"\"}}}],\"scatterpolargl\":[{\"type\":\"scatterpolargl\",\"marker\":{\"colorbar\":{\"outlinewidth\":0,\"ticks\":\"\"}}}],\"bar\":[{\"error_x\":{\"color\":\"#2a3f5f\"},\"error_y\":{\"color\":\"#2a3f5f\"},\"marker\":{\"line\":{\"color\":\"#E5ECF6\",\"width\":0.5},\"pattern\":{\"fillmode\":\"overlay\",\"size\":10,\"solidity\":0.2}},\"type\":\"bar\"}],\"scattergeo\":[{\"type\":\"scattergeo\",\"marker\":{\"colorbar\":{\"outlinewidth\":0,\"ticks\":\"\"}}}],\"scatterpolar\":[{\"type\":\"scatterpolar\",\"marker\":{\"colorbar\":{\"outlinewidth\":0,\"ticks\":\"\"}}}],\"histogram\":[{\"marker\":{\"pattern\":{\"fillmode\":\"overlay\",\"size\":10,\"solidity\":0.2}},\"type\":\"histogram\"}],\"scattergl\":[{\"type\":\"scattergl\",\"marker\":{\"colorbar\":{\"outlinewidth\":0,\"ticks\":\"\"}}}],\"scatter3d\":[{\"type\":\"scatter3d\",\"line\":{\"colorbar\":{\"outlinewidth\":0,\"ticks\":\"\"}},\"marker\":{\"colorbar\":{\"outlinewidth\":0,\"ticks\":\"\"}}}],\"scattermapbox\":[{\"type\":\"scattermapbox\",\"marker\":{\"colorbar\":{\"outlinewidth\":0,\"ticks\":\"\"}}}],\"scatterternary\":[{\"type\":\"scatterternary\",\"marker\":{\"colorbar\":{\"outlinewidth\":0,\"ticks\":\"\"}}}],\"scattercarpet\":[{\"type\":\"scattercarpet\",\"marker\":{\"colorbar\":{\"outlinewidth\":0,\"ticks\":\"\"}}}],\"carpet\":[{\"aaxis\":{\"endlinecolor\":\"#2a3f5f\",\"gridcolor\":\"white\",\"linecolor\":\"white\",\"minorgridcolor\":\"white\",\"startlinecolor\":\"#2a3f5f\"},\"baxis\":{\"endlinecolor\":\"#2a3f5f\",\"gridcolor\":\"white\",\"linecolor\":\"white\",\"minorgridcolor\":\"white\",\"startlinecolor\":\"#2a3f5f\"},\"type\":\"carpet\"}],\"table\":[{\"cells\":{\"fill\":{\"color\":\"#EBF0F8\"},\"line\":{\"color\":\"white\"}},\"header\":{\"fill\":{\"color\":\"#C8D4E3\"},\"line\":{\"color\":\"white\"}},\"type\":\"table\"}],\"barpolar\":[{\"marker\":{\"line\":{\"color\":\"#E5ECF6\",\"width\":0.5},\"pattern\":{\"fillmode\":\"overlay\",\"size\":10,\"solidity\":0.2}},\"type\":\"barpolar\"}],\"pie\":[{\"automargin\":true,\"type\":\"pie\"}]},\"layout\":{\"autotypenumbers\":\"strict\",\"colorway\":[\"#636efa\",\"#EF553B\",\"#00cc96\",\"#ab63fa\",\"#FFA15A\",\"#19d3f3\",\"#FF6692\",\"#B6E880\",\"#FF97FF\",\"#FECB52\"],\"font\":{\"color\":\"#2a3f5f\"},\"hovermode\":\"closest\",\"hoverlabel\":{\"align\":\"left\"},\"paper_bgcolor\":\"white\",\"plot_bgcolor\":\"#E5ECF6\",\"polar\":{\"bgcolor\":\"#E5ECF6\",\"angularaxis\":{\"gridcolor\":\"white\",\"linecolor\":\"white\",\"ticks\":\"\"},\"radialaxis\":{\"gridcolor\":\"white\",\"linecolor\":\"white\",\"ticks\":\"\"}},\"ternary\":{\"bgcolor\":\"#E5ECF6\",\"aaxis\":{\"gridcolor\":\"white\",\"linecolor\":\"white\",\"ticks\":\"\"},\"baxis\":{\"gridcolor\":\"white\",\"linecolor\":\"white\",\"ticks\":\"\"},\"caxis\":{\"gridcolor\":\"white\",\"linecolor\":\"white\",\"ticks\":\"\"}},\"coloraxis\":{\"colorbar\":{\"outlinewidth\":0,\"ticks\":\"\"}},\"colorscale\":{\"sequential\":[[0.0,\"#0d0887\"],[0.1111111111111111,\"#46039f\"],[0.2222222222222222,\"#7201a8\"],[0.3333333333333333,\"#9c179e\"],[0.4444444444444444,\"#bd3786\"],[0.5555555555555556,\"#d8576b\"],[0.6666666666666666,\"#ed7953\"],[0.7777777777777778,\"#fb9f3a\"],[0.8888888888888888,\"#fdca26\"],[1.0,\"#f0f921\"]],\"sequentialminus\":[[0.0,\"#0d0887\"],[0.1111111111111111,\"#46039f\"],[0.2222222222222222,\"#7201a8\"],[0.3333333333333333,\"#9c179e\"],[0.4444444444444444,\"#bd3786\"],[0.5555555555555556,\"#d8576b\"],[0.6666666666666666,\"#ed7953\"],[0.7777777777777778,\"#fb9f3a\"],[0.8888888888888888,\"#fdca26\"],[1.0,\"#f0f921\"]],\"diverging\":[[0,\"#8e0152\"],[0.1,\"#c51b7d\"],[0.2,\"#de77ae\"],[0.3,\"#f1b6da\"],[0.4,\"#fde0ef\"],[0.5,\"#f7f7f7\"],[0.6,\"#e6f5d0\"],[0.7,\"#b8e186\"],[0.8,\"#7fbc41\"],[0.9,\"#4d9221\"],[1,\"#276419\"]]},\"xaxis\":{\"gridcolor\":\"white\",\"linecolor\":\"white\",\"ticks\":\"\",\"title\":{\"standoff\":15},\"zerolinecolor\":\"white\",\"automargin\":true,\"zerolinewidth\":2},\"yaxis\":{\"gridcolor\":\"white\",\"linecolor\":\"white\",\"ticks\":\"\",\"title\":{\"standoff\":15},\"zerolinecolor\":\"white\",\"automargin\":true,\"zerolinewidth\":2},\"scene\":{\"xaxis\":{\"backgroundcolor\":\"#E5ECF6\",\"gridcolor\":\"white\",\"linecolor\":\"white\",\"showbackground\":true,\"ticks\":\"\",\"zerolinecolor\":\"white\",\"gridwidth\":2},\"yaxis\":{\"backgroundcolor\":\"#E5ECF6\",\"gridcolor\":\"white\",\"linecolor\":\"white\",\"showbackground\":true,\"ticks\":\"\",\"zerolinecolor\":\"white\",\"gridwidth\":2},\"zaxis\":{\"backgroundcolor\":\"#E5ECF6\",\"gridcolor\":\"white\",\"linecolor\":\"white\",\"showbackground\":true,\"ticks\":\"\",\"zerolinecolor\":\"white\",\"gridwidth\":2}},\"shapedefaults\":{\"line\":{\"color\":\"#2a3f5f\"}},\"annotationdefaults\":{\"arrowcolor\":\"#2a3f5f\",\"arrowhead\":0,\"arrowwidth\":1},\"geo\":{\"bgcolor\":\"white\",\"landcolor\":\"#E5ECF6\",\"subunitcolor\":\"white\",\"showland\":true,\"showlakes\":true,\"lakecolor\":\"white\"},\"title\":{\"x\":0.05},\"mapbox\":{\"style\":\"light\"}}},\"xaxis\":{\"anchor\":\"y\",\"domain\":[0.0,1.0],\"title\":{\"text\":\"x\"}},\"yaxis\":{\"anchor\":\"x\",\"domain\":[0.0,1.0],\"title\":{\"text\":\"y\"}},\"legend\":{\"tracegroupgap\":0},\"margin\":{\"t\":60}},                        {\"responsive\": true}                    ).then(function(){\n",
              "                            \n",
              "var gd = document.getElementById('8a4aa18c-4bf9-4176-ad7a-1bdede30fd3c');\n",
              "var x = new MutationObserver(function (mutations, observer) {{\n",
              "        var display = window.getComputedStyle(gd).display;\n",
              "        if (!display || display === 'none') {{\n",
              "            console.log([gd, 'removed!']);\n",
              "            Plotly.purge(gd);\n",
              "            observer.disconnect();\n",
              "        }}\n",
              "}});\n",
              "\n",
              "// Listen for the removal of the full notebook cells\n",
              "var notebookContainer = gd.closest('#notebook-container');\n",
              "if (notebookContainer) {{\n",
              "    x.observe(notebookContainer, {childList: true});\n",
              "}}\n",
              "\n",
              "// Listen for the clearing of the current output cell\n",
              "var outputEl = gd.closest('.output');\n",
              "if (outputEl) {{\n",
              "    x.observe(outputEl, {childList: true});\n",
              "}}\n",
              "\n",
              "                        })                };                            </script>        </div>\n",
              "</body>\n",
              "</html>"
            ]
          },
          "metadata": {}
        }
      ]
    },
    {
      "cell_type": "code",
      "metadata": {
        "id": "HfK25Tk9bUPq",
        "colab": {
          "base_uri": "https://localhost:8080/"
        },
        "outputId": "e4190e2f-6e38-45b0-ddca-754c05f35c9d"
      },
      "source": [
        "model2 = Sequential()\n",
        "model2.add(Input(shape=(1,), dtype=\"string\"))\n",
        "model2.add(vectorize_layer)\n",
        "model2.add(Embedding(max_tokens + 1, 2))\n",
        "model2.add(SimpleRNN(16, return_sequences=True))\n",
        "model2.add(SimpleRNN(16))\n",
        "model2.add(Dense(16, activation=\"relu\"))\n",
        "model2.add(Dense(1, activation=\"sigmoid\"))\n",
        "model2.summary()"
      ],
      "execution_count": null,
      "outputs": [
        {
          "output_type": "stream",
          "name": "stdout",
          "text": [
            "Model: \"sequential_1\"\n",
            "_________________________________________________________________\n",
            " Layer (type)                Output Shape              Param #   \n",
            "=================================================================\n",
            " text_vectorization (TextVe  (None, 5)                 0         \n",
            " ctorization)                                                    \n",
            "                                                                 \n",
            " embedding_1 (Embedding)     (None, 5, 2)              42        \n",
            "                                                                 \n",
            " simple_rnn (SimpleRNN)      (None, 5, 16)             304       \n",
            "                                                                 \n",
            " simple_rnn_1 (SimpleRNN)    (None, 16)                528       \n",
            "                                                                 \n",
            " dense_2 (Dense)             (None, 16)                272       \n",
            "                                                                 \n",
            " dense_3 (Dense)             (None, 1)                 17        \n",
            "                                                                 \n",
            "=================================================================\n",
            "Total params: 1163 (4.54 KB)\n",
            "Trainable params: 1163 (4.54 KB)\n",
            "Non-trainable params: 0 (0.00 Byte)\n",
            "_________________________________________________________________\n"
          ]
        }
      ]
    },
    {
      "cell_type": "code",
      "metadata": {
        "id": "IuIWPj2Ij-X1"
      },
      "source": [
        "model2.compile(\n",
        "  optimizer='adam',\n",
        "  loss='binary_crossentropy',\n",
        "  metrics=['accuracy'],\n",
        ")"
      ],
      "execution_count": null,
      "outputs": []
    },
    {
      "cell_type": "code",
      "metadata": {
        "colab": {
          "base_uri": "https://localhost:8080/"
        },
        "id": "c1ZZjSzckMJs",
        "outputId": "73f870b8-4192-4595-f279-d5e57b27c35a"
      },
      "source": [
        "history = model2.fit(X_train, y_train, epochs=200)\n"
      ],
      "execution_count": null,
      "outputs": [
        {
          "output_type": "stream",
          "name": "stdout",
          "text": [
            "Epoch 1/200\n",
            "2/2 [==============================] - 3s 12ms/step - loss: 0.6938 - accuracy: 0.4655\n",
            "Epoch 2/200\n",
            "2/2 [==============================] - 0s 10ms/step - loss: 0.6918 - accuracy: 0.5517\n",
            "Epoch 3/200\n",
            "2/2 [==============================] - 0s 12ms/step - loss: 0.6901 - accuracy: 0.5517\n",
            "Epoch 4/200\n",
            "2/2 [==============================] - 0s 12ms/step - loss: 0.6885 - accuracy: 0.5690\n",
            "Epoch 5/200\n",
            "2/2 [==============================] - 0s 11ms/step - loss: 0.6870 - accuracy: 0.5517\n",
            "Epoch 6/200\n",
            "2/2 [==============================] - 0s 12ms/step - loss: 0.6862 - accuracy: 0.5517\n",
            "Epoch 7/200\n",
            "2/2 [==============================] - 0s 11ms/step - loss: 0.6845 - accuracy: 0.5517\n",
            "Epoch 8/200\n",
            "2/2 [==============================] - 0s 11ms/step - loss: 0.6833 - accuracy: 0.5517\n",
            "Epoch 9/200\n",
            "2/2 [==============================] - 0s 10ms/step - loss: 0.6819 - accuracy: 0.5517\n",
            "Epoch 10/200\n",
            "2/2 [==============================] - 0s 11ms/step - loss: 0.6810 - accuracy: 0.5517\n",
            "Epoch 11/200\n",
            "2/2 [==============================] - 0s 17ms/step - loss: 0.6788 - accuracy: 0.5517\n",
            "Epoch 12/200\n",
            "2/2 [==============================] - 0s 13ms/step - loss: 0.6769 - accuracy: 0.5517\n",
            "Epoch 13/200\n",
            "2/2 [==============================] - 0s 17ms/step - loss: 0.6752 - accuracy: 0.5517\n",
            "Epoch 14/200\n",
            "2/2 [==============================] - 0s 12ms/step - loss: 0.6730 - accuracy: 0.5517\n",
            "Epoch 15/200\n",
            "2/2 [==============================] - 0s 11ms/step - loss: 0.6704 - accuracy: 0.5517\n",
            "Epoch 16/200\n",
            "2/2 [==============================] - 0s 10ms/step - loss: 0.6681 - accuracy: 0.5517\n",
            "Epoch 17/200\n",
            "2/2 [==============================] - 0s 16ms/step - loss: 0.6652 - accuracy: 0.5517\n",
            "Epoch 18/200\n",
            "2/2 [==============================] - 0s 11ms/step - loss: 0.6615 - accuracy: 0.5517\n",
            "Epoch 19/200\n",
            "2/2 [==============================] - 0s 11ms/step - loss: 0.6576 - accuracy: 0.5517\n",
            "Epoch 20/200\n",
            "2/2 [==============================] - 0s 11ms/step - loss: 0.6535 - accuracy: 0.5862\n",
            "Epoch 21/200\n",
            "2/2 [==============================] - 0s 11ms/step - loss: 0.6494 - accuracy: 0.6034\n",
            "Epoch 22/200\n",
            "2/2 [==============================] - 0s 11ms/step - loss: 0.6454 - accuracy: 0.6724\n",
            "Epoch 23/200\n",
            "2/2 [==============================] - 0s 12ms/step - loss: 0.6392 - accuracy: 0.7069\n",
            "Epoch 24/200\n",
            "2/2 [==============================] - 0s 13ms/step - loss: 0.6327 - accuracy: 0.7414\n",
            "Epoch 25/200\n",
            "2/2 [==============================] - 0s 10ms/step - loss: 0.6261 - accuracy: 0.7414\n",
            "Epoch 26/200\n",
            "2/2 [==============================] - 0s 11ms/step - loss: 0.6183 - accuracy: 0.7586\n",
            "Epoch 27/200\n",
            "2/2 [==============================] - 0s 11ms/step - loss: 0.6113 - accuracy: 0.7931\n",
            "Epoch 28/200\n",
            "2/2 [==============================] - 0s 13ms/step - loss: 0.6028 - accuracy: 0.8448\n",
            "Epoch 29/200\n",
            "2/2 [==============================] - 0s 15ms/step - loss: 0.5936 - accuracy: 0.8621\n",
            "Epoch 30/200\n",
            "2/2 [==============================] - 0s 11ms/step - loss: 0.5852 - accuracy: 0.8793\n",
            "Epoch 31/200\n",
            "2/2 [==============================] - 0s 11ms/step - loss: 0.5753 - accuracy: 0.8793\n",
            "Epoch 32/200\n",
            "2/2 [==============================] - 0s 13ms/step - loss: 0.5640 - accuracy: 0.8793\n",
            "Epoch 33/200\n",
            "2/2 [==============================] - 0s 12ms/step - loss: 0.5533 - accuracy: 0.8793\n",
            "Epoch 34/200\n",
            "2/2 [==============================] - 0s 12ms/step - loss: 0.5423 - accuracy: 0.8793\n",
            "Epoch 35/200\n",
            "2/2 [==============================] - 0s 17ms/step - loss: 0.5308 - accuracy: 0.8793\n",
            "Epoch 36/200\n",
            "2/2 [==============================] - 0s 11ms/step - loss: 0.5191 - accuracy: 0.8793\n",
            "Epoch 37/200\n",
            "2/2 [==============================] - 0s 12ms/step - loss: 0.5082 - accuracy: 0.8793\n",
            "Epoch 38/200\n",
            "2/2 [==============================] - 0s 14ms/step - loss: 0.4983 - accuracy: 0.8793\n",
            "Epoch 39/200\n",
            "2/2 [==============================] - 0s 13ms/step - loss: 0.4851 - accuracy: 0.8793\n",
            "Epoch 40/200\n",
            "2/2 [==============================] - 0s 13ms/step - loss: 0.4751 - accuracy: 0.8793\n",
            "Epoch 41/200\n",
            "2/2 [==============================] - 0s 16ms/step - loss: 0.4660 - accuracy: 0.8621\n",
            "Epoch 42/200\n",
            "2/2 [==============================] - 0s 12ms/step - loss: 0.4582 - accuracy: 0.8621\n",
            "Epoch 43/200\n",
            "2/2 [==============================] - 0s 11ms/step - loss: 0.4517 - accuracy: 0.8621\n",
            "Epoch 44/200\n",
            "2/2 [==============================] - 0s 10ms/step - loss: 0.4425 - accuracy: 0.8621\n",
            "Epoch 45/200\n",
            "2/2 [==============================] - 0s 11ms/step - loss: 0.4410 - accuracy: 0.8621\n",
            "Epoch 46/200\n",
            "2/2 [==============================] - 0s 11ms/step - loss: 0.4295 - accuracy: 0.8621\n",
            "Epoch 47/200\n",
            "2/2 [==============================] - 0s 15ms/step - loss: 0.4229 - accuracy: 0.8621\n",
            "Epoch 48/200\n",
            "2/2 [==============================] - 0s 12ms/step - loss: 0.4167 - accuracy: 0.8621\n",
            "Epoch 49/200\n",
            "2/2 [==============================] - 0s 12ms/step - loss: 0.4124 - accuracy: 0.8621\n",
            "Epoch 50/200\n",
            "2/2 [==============================] - 0s 11ms/step - loss: 0.4092 - accuracy: 0.8621\n",
            "Epoch 51/200\n",
            "2/2 [==============================] - 0s 13ms/step - loss: 0.4018 - accuracy: 0.8793\n",
            "Epoch 52/200\n",
            "2/2 [==============================] - 0s 20ms/step - loss: 0.3959 - accuracy: 0.8793\n",
            "Epoch 53/200\n",
            "2/2 [==============================] - 0s 15ms/step - loss: 0.3927 - accuracy: 0.8793\n",
            "Epoch 54/200\n",
            "2/2 [==============================] - 0s 20ms/step - loss: 0.3875 - accuracy: 0.8793\n",
            "Epoch 55/200\n",
            "2/2 [==============================] - 0s 16ms/step - loss: 0.3828 - accuracy: 0.8793\n",
            "Epoch 56/200\n",
            "2/2 [==============================] - 0s 12ms/step - loss: 0.3767 - accuracy: 0.8793\n",
            "Epoch 57/200\n",
            "2/2 [==============================] - 0s 13ms/step - loss: 0.3724 - accuracy: 0.8793\n",
            "Epoch 58/200\n",
            "2/2 [==============================] - 0s 16ms/step - loss: 0.3680 - accuracy: 0.8793\n",
            "Epoch 59/200\n",
            "2/2 [==============================] - 0s 18ms/step - loss: 0.3616 - accuracy: 0.8793\n",
            "Epoch 60/200\n",
            "2/2 [==============================] - 0s 13ms/step - loss: 0.3572 - accuracy: 0.8793\n",
            "Epoch 61/200\n",
            "2/2 [==============================] - 0s 19ms/step - loss: 0.3519 - accuracy: 0.8793\n",
            "Epoch 62/200\n",
            "2/2 [==============================] - 0s 13ms/step - loss: 0.3457 - accuracy: 0.8793\n",
            "Epoch 63/200\n",
            "2/2 [==============================] - 0s 15ms/step - loss: 0.3410 - accuracy: 0.8793\n",
            "Epoch 64/200\n",
            "2/2 [==============================] - 0s 13ms/step - loss: 0.3354 - accuracy: 0.8793\n",
            "Epoch 65/200\n",
            "2/2 [==============================] - 0s 22ms/step - loss: 0.3311 - accuracy: 0.8793\n",
            "Epoch 66/200\n",
            "2/2 [==============================] - 0s 16ms/step - loss: 0.3283 - accuracy: 0.8793\n",
            "Epoch 67/200\n",
            "2/2 [==============================] - 0s 18ms/step - loss: 0.3204 - accuracy: 0.9138\n",
            "Epoch 68/200\n",
            "2/2 [==============================] - 0s 17ms/step - loss: 0.3146 - accuracy: 0.9138\n",
            "Epoch 69/200\n",
            "2/2 [==============================] - 0s 16ms/step - loss: 0.3106 - accuracy: 0.9138\n",
            "Epoch 70/200\n",
            "2/2 [==============================] - 0s 14ms/step - loss: 0.3055 - accuracy: 0.9138\n",
            "Epoch 71/200\n",
            "2/2 [==============================] - 0s 16ms/step - loss: 0.3003 - accuracy: 0.9138\n",
            "Epoch 72/200\n",
            "2/2 [==============================] - 0s 26ms/step - loss: 0.2956 - accuracy: 0.9138\n",
            "Epoch 73/200\n",
            "2/2 [==============================] - 0s 16ms/step - loss: 0.2900 - accuracy: 0.9138\n",
            "Epoch 74/200\n",
            "2/2 [==============================] - 0s 14ms/step - loss: 0.2879 - accuracy: 0.9138\n",
            "Epoch 75/200\n",
            "2/2 [==============================] - 0s 16ms/step - loss: 0.2837 - accuracy: 0.9138\n",
            "Epoch 76/200\n",
            "2/2 [==============================] - 0s 13ms/step - loss: 0.2766 - accuracy: 0.9138\n",
            "Epoch 77/200\n",
            "2/2 [==============================] - 0s 15ms/step - loss: 0.2728 - accuracy: 0.9138\n",
            "Epoch 78/200\n",
            "2/2 [==============================] - 0s 18ms/step - loss: 0.2678 - accuracy: 0.9138\n",
            "Epoch 79/200\n",
            "2/2 [==============================] - 0s 13ms/step - loss: 0.2642 - accuracy: 0.9138\n",
            "Epoch 80/200\n",
            "2/2 [==============================] - 0s 11ms/step - loss: 0.2584 - accuracy: 0.9138\n",
            "Epoch 81/200\n",
            "2/2 [==============================] - 0s 13ms/step - loss: 0.2554 - accuracy: 0.9138\n",
            "Epoch 82/200\n",
            "2/2 [==============================] - 0s 17ms/step - loss: 0.2493 - accuracy: 0.9138\n",
            "Epoch 83/200\n",
            "2/2 [==============================] - 0s 13ms/step - loss: 0.2449 - accuracy: 0.9138\n",
            "Epoch 84/200\n",
            "2/2 [==============================] - 0s 17ms/step - loss: 0.2403 - accuracy: 0.9138\n",
            "Epoch 85/200\n",
            "2/2 [==============================] - 0s 17ms/step - loss: 0.2367 - accuracy: 0.9138\n",
            "Epoch 86/200\n",
            "2/2 [==============================] - 0s 11ms/step - loss: 0.2322 - accuracy: 0.9138\n",
            "Epoch 87/200\n",
            "2/2 [==============================] - 0s 13ms/step - loss: 0.2266 - accuracy: 0.9138\n",
            "Epoch 88/200\n",
            "2/2 [==============================] - 0s 11ms/step - loss: 0.2227 - accuracy: 0.9138\n",
            "Epoch 89/200\n",
            "2/2 [==============================] - 0s 12ms/step - loss: 0.2177 - accuracy: 0.9138\n",
            "Epoch 90/200\n",
            "2/2 [==============================] - 0s 15ms/step - loss: 0.2125 - accuracy: 0.9138\n",
            "Epoch 91/200\n",
            "2/2 [==============================] - 0s 12ms/step - loss: 0.2091 - accuracy: 0.9138\n",
            "Epoch 92/200\n",
            "2/2 [==============================] - 0s 12ms/step - loss: 0.2050 - accuracy: 0.9138\n",
            "Epoch 93/200\n",
            "2/2 [==============================] - 0s 12ms/step - loss: 0.1985 - accuracy: 0.9138\n",
            "Epoch 94/200\n",
            "2/2 [==============================] - 0s 12ms/step - loss: 0.1949 - accuracy: 0.9138\n",
            "Epoch 95/200\n",
            "2/2 [==============================] - 0s 12ms/step - loss: 0.1892 - accuracy: 0.9138\n",
            "Epoch 96/200\n",
            "2/2 [==============================] - 0s 12ms/step - loss: 0.1855 - accuracy: 0.9138\n",
            "Epoch 97/200\n",
            "2/2 [==============================] - 0s 11ms/step - loss: 0.1803 - accuracy: 0.9138\n",
            "Epoch 98/200\n",
            "2/2 [==============================] - 0s 16ms/step - loss: 0.1768 - accuracy: 0.9138\n",
            "Epoch 99/200\n",
            "2/2 [==============================] - 0s 13ms/step - loss: 0.1712 - accuracy: 0.9138\n",
            "Epoch 100/200\n",
            "2/2 [==============================] - 0s 12ms/step - loss: 0.1687 - accuracy: 0.9138\n",
            "Epoch 101/200\n",
            "2/2 [==============================] - 0s 12ms/step - loss: 0.1631 - accuracy: 0.9138\n",
            "Epoch 102/200\n",
            "2/2 [==============================] - 0s 11ms/step - loss: 0.1602 - accuracy: 0.9310\n",
            "Epoch 103/200\n",
            "2/2 [==============================] - 0s 12ms/step - loss: 0.1566 - accuracy: 0.9483\n",
            "Epoch 104/200\n",
            "2/2 [==============================] - 0s 12ms/step - loss: 0.1537 - accuracy: 0.9483\n",
            "Epoch 105/200\n",
            "2/2 [==============================] - 0s 12ms/step - loss: 0.1494 - accuracy: 0.9483\n",
            "Epoch 106/200\n",
            "2/2 [==============================] - 0s 14ms/step - loss: 0.1482 - accuracy: 0.9483\n",
            "Epoch 107/200\n",
            "2/2 [==============================] - 0s 11ms/step - loss: 0.1452 - accuracy: 0.9483\n",
            "Epoch 108/200\n",
            "2/2 [==============================] - 0s 11ms/step - loss: 0.1422 - accuracy: 0.9483\n",
            "Epoch 109/200\n",
            "2/2 [==============================] - 0s 14ms/step - loss: 0.1385 - accuracy: 0.9483\n",
            "Epoch 110/200\n",
            "2/2 [==============================] - 0s 13ms/step - loss: 0.1368 - accuracy: 0.9483\n",
            "Epoch 111/200\n",
            "2/2 [==============================] - 0s 13ms/step - loss: 0.1327 - accuracy: 0.9483\n",
            "Epoch 112/200\n",
            "2/2 [==============================] - 0s 14ms/step - loss: 0.1316 - accuracy: 0.9483\n",
            "Epoch 113/200\n",
            "2/2 [==============================] - 0s 12ms/step - loss: 0.1280 - accuracy: 0.9483\n",
            "Epoch 114/200\n",
            "2/2 [==============================] - 0s 15ms/step - loss: 0.1306 - accuracy: 0.9310\n",
            "Epoch 115/200\n",
            "2/2 [==============================] - 0s 14ms/step - loss: 0.1267 - accuracy: 0.9483\n",
            "Epoch 116/200\n",
            "2/2 [==============================] - 0s 13ms/step - loss: 0.1236 - accuracy: 0.9483\n",
            "Epoch 117/200\n",
            "2/2 [==============================] - 0s 12ms/step - loss: 0.1219 - accuracy: 0.9483\n",
            "Epoch 118/200\n",
            "2/2 [==============================] - 0s 11ms/step - loss: 0.1236 - accuracy: 0.9483\n",
            "Epoch 119/200\n",
            "2/2 [==============================] - 0s 13ms/step - loss: 0.1216 - accuracy: 0.9483\n",
            "Epoch 120/200\n",
            "2/2 [==============================] - 0s 13ms/step - loss: 0.1178 - accuracy: 0.9483\n",
            "Epoch 121/200\n",
            "2/2 [==============================] - 0s 12ms/step - loss: 0.1157 - accuracy: 0.9483\n",
            "Epoch 122/200\n",
            "2/2 [==============================] - 0s 13ms/step - loss: 0.1148 - accuracy: 0.9483\n",
            "Epoch 123/200\n",
            "2/2 [==============================] - 0s 14ms/step - loss: 0.1139 - accuracy: 0.9483\n",
            "Epoch 124/200\n",
            "2/2 [==============================] - 0s 12ms/step - loss: 0.1123 - accuracy: 0.9483\n",
            "Epoch 125/200\n",
            "2/2 [==============================] - 0s 12ms/step - loss: 0.1110 - accuracy: 0.9483\n",
            "Epoch 126/200\n",
            "2/2 [==============================] - 0s 12ms/step - loss: 0.1137 - accuracy: 0.9483\n",
            "Epoch 127/200\n",
            "2/2 [==============================] - 0s 13ms/step - loss: 0.1090 - accuracy: 0.9483\n",
            "Epoch 128/200\n",
            "2/2 [==============================] - 0s 13ms/step - loss: 0.1086 - accuracy: 0.9483\n",
            "Epoch 129/200\n",
            "2/2 [==============================] - 0s 12ms/step - loss: 0.1083 - accuracy: 0.9483\n",
            "Epoch 130/200\n",
            "2/2 [==============================] - 0s 16ms/step - loss: 0.1074 - accuracy: 0.9483\n",
            "Epoch 131/200\n",
            "2/2 [==============================] - 0s 13ms/step - loss: 0.1147 - accuracy: 0.9483\n",
            "Epoch 132/200\n",
            "2/2 [==============================] - 0s 14ms/step - loss: 0.1056 - accuracy: 0.9483\n",
            "Epoch 133/200\n",
            "2/2 [==============================] - 0s 12ms/step - loss: 0.1052 - accuracy: 0.9483\n",
            "Epoch 134/200\n",
            "2/2 [==============================] - 0s 12ms/step - loss: 0.1045 - accuracy: 0.9483\n",
            "Epoch 135/200\n",
            "2/2 [==============================] - 0s 12ms/step - loss: 0.1074 - accuracy: 0.9483\n",
            "Epoch 136/200\n",
            "2/2 [==============================] - 0s 15ms/step - loss: 0.1026 - accuracy: 0.9483\n",
            "Epoch 137/200\n",
            "2/2 [==============================] - 0s 13ms/step - loss: 0.1033 - accuracy: 0.9310\n",
            "Epoch 138/200\n",
            "2/2 [==============================] - 0s 12ms/step - loss: 0.1026 - accuracy: 0.9483\n",
            "Epoch 139/200\n",
            "2/2 [==============================] - 0s 12ms/step - loss: 0.1017 - accuracy: 0.9483\n",
            "Epoch 140/200\n",
            "2/2 [==============================] - 0s 11ms/step - loss: 0.1068 - accuracy: 0.9483\n",
            "Epoch 141/200\n",
            "2/2 [==============================] - 0s 13ms/step - loss: 0.1008 - accuracy: 0.9483\n",
            "Epoch 142/200\n",
            "2/2 [==============================] - 0s 12ms/step - loss: 0.0997 - accuracy: 0.9483\n",
            "Epoch 143/200\n",
            "2/2 [==============================] - 0s 15ms/step - loss: 0.0991 - accuracy: 0.9483\n",
            "Epoch 144/200\n",
            "2/2 [==============================] - 0s 13ms/step - loss: 0.1003 - accuracy: 0.9310\n",
            "Epoch 145/200\n",
            "2/2 [==============================] - 0s 12ms/step - loss: 0.0997 - accuracy: 0.9483\n",
            "Epoch 146/200\n",
            "2/2 [==============================] - 0s 12ms/step - loss: 0.0989 - accuracy: 0.9310\n",
            "Epoch 147/200\n",
            "2/2 [==============================] - 0s 18ms/step - loss: 0.0988 - accuracy: 0.9483\n",
            "Epoch 148/200\n",
            "2/2 [==============================] - 0s 12ms/step - loss: 0.0975 - accuracy: 0.9483\n",
            "Epoch 149/200\n",
            "2/2 [==============================] - 0s 12ms/step - loss: 0.0980 - accuracy: 0.9483\n",
            "Epoch 150/200\n",
            "2/2 [==============================] - 0s 12ms/step - loss: 0.0970 - accuracy: 0.9483\n",
            "Epoch 151/200\n",
            "2/2 [==============================] - 0s 11ms/step - loss: 0.0994 - accuracy: 0.9483\n",
            "Epoch 152/200\n",
            "2/2 [==============================] - 0s 17ms/step - loss: 0.0977 - accuracy: 0.9483\n",
            "Epoch 153/200\n",
            "2/2 [==============================] - 0s 12ms/step - loss: 0.0965 - accuracy: 0.9483\n",
            "Epoch 154/200\n",
            "2/2 [==============================] - 0s 12ms/step - loss: 0.0979 - accuracy: 0.9483\n",
            "Epoch 155/200\n",
            "2/2 [==============================] - 0s 13ms/step - loss: 0.1030 - accuracy: 0.9483\n",
            "Epoch 156/200\n",
            "2/2 [==============================] - 0s 12ms/step - loss: 0.0964 - accuracy: 0.9483\n",
            "Epoch 157/200\n",
            "2/2 [==============================] - 0s 20ms/step - loss: 0.0944 - accuracy: 0.9655\n",
            "Epoch 158/200\n",
            "2/2 [==============================] - 0s 15ms/step - loss: 0.0979 - accuracy: 0.9483\n",
            "Epoch 159/200\n",
            "2/2 [==============================] - 0s 13ms/step - loss: 0.0971 - accuracy: 0.9310\n",
            "Epoch 160/200\n",
            "2/2 [==============================] - 0s 12ms/step - loss: 0.0940 - accuracy: 0.9483\n",
            "Epoch 161/200\n",
            "2/2 [==============================] - 0s 12ms/step - loss: 0.0928 - accuracy: 0.9483\n",
            "Epoch 162/200\n",
            "2/2 [==============================] - 0s 11ms/step - loss: 0.0993 - accuracy: 0.9483\n",
            "Epoch 163/200\n",
            "2/2 [==============================] - 0s 12ms/step - loss: 0.0984 - accuracy: 0.9483\n",
            "Epoch 164/200\n",
            "2/2 [==============================] - 0s 13ms/step - loss: 0.0948 - accuracy: 0.9483\n",
            "Epoch 165/200\n",
            "2/2 [==============================] - 0s 12ms/step - loss: 0.0933 - accuracy: 0.9483\n",
            "Epoch 166/200\n",
            "2/2 [==============================] - 0s 13ms/step - loss: 0.0964 - accuracy: 0.9138\n",
            "Epoch 167/200\n",
            "2/2 [==============================] - 0s 13ms/step - loss: 0.0992 - accuracy: 0.8966\n",
            "Epoch 168/200\n",
            "2/2 [==============================] - 0s 12ms/step - loss: 0.0939 - accuracy: 0.9483\n",
            "Epoch 169/200\n",
            "2/2 [==============================] - 0s 14ms/step - loss: 0.0958 - accuracy: 0.9310\n",
            "Epoch 170/200\n",
            "2/2 [==============================] - 0s 14ms/step - loss: 0.0959 - accuracy: 0.9483\n",
            "Epoch 171/200\n",
            "2/2 [==============================] - 0s 11ms/step - loss: 0.0932 - accuracy: 0.9483\n",
            "Epoch 172/200\n",
            "2/2 [==============================] - 0s 14ms/step - loss: 0.0922 - accuracy: 0.9483\n",
            "Epoch 173/200\n",
            "2/2 [==============================] - 0s 12ms/step - loss: 0.0941 - accuracy: 0.9310\n",
            "Epoch 174/200\n",
            "2/2 [==============================] - 0s 11ms/step - loss: 0.0913 - accuracy: 0.9483\n",
            "Epoch 175/200\n",
            "2/2 [==============================] - 0s 12ms/step - loss: 0.1016 - accuracy: 0.9310\n",
            "Epoch 176/200\n",
            "2/2 [==============================] - 0s 12ms/step - loss: 0.0980 - accuracy: 0.9310\n",
            "Epoch 177/200\n",
            "2/2 [==============================] - 0s 12ms/step - loss: 0.0901 - accuracy: 0.9483\n",
            "Epoch 178/200\n",
            "2/2 [==============================] - 0s 12ms/step - loss: 0.0915 - accuracy: 0.9483\n",
            "Epoch 179/200\n",
            "2/2 [==============================] - 0s 15ms/step - loss: 0.0955 - accuracy: 0.9483\n",
            "Epoch 180/200\n",
            "2/2 [==============================] - 0s 14ms/step - loss: 0.0955 - accuracy: 0.9483\n",
            "Epoch 181/200\n",
            "2/2 [==============================] - 0s 12ms/step - loss: 0.0984 - accuracy: 0.9483\n",
            "Epoch 182/200\n",
            "2/2 [==============================] - 0s 12ms/step - loss: 0.0912 - accuracy: 0.9483\n",
            "Epoch 183/200\n",
            "2/2 [==============================] - 0s 20ms/step - loss: 0.0907 - accuracy: 0.9483\n",
            "Epoch 184/200\n",
            "2/2 [==============================] - 0s 15ms/step - loss: 0.0911 - accuracy: 0.9483\n",
            "Epoch 185/200\n",
            "2/2 [==============================] - 0s 14ms/step - loss: 0.0909 - accuracy: 0.9483\n",
            "Epoch 186/200\n",
            "2/2 [==============================] - 0s 13ms/step - loss: 0.0903 - accuracy: 0.9483\n",
            "Epoch 187/200\n",
            "2/2 [==============================] - 0s 12ms/step - loss: 0.0904 - accuracy: 0.9310\n",
            "Epoch 188/200\n",
            "2/2 [==============================] - 0s 11ms/step - loss: 0.0910 - accuracy: 0.9310\n",
            "Epoch 189/200\n",
            "2/2 [==============================] - 0s 12ms/step - loss: 0.0897 - accuracy: 0.9483\n",
            "Epoch 190/200\n",
            "2/2 [==============================] - 0s 14ms/step - loss: 0.0903 - accuracy: 0.9483\n",
            "Epoch 191/200\n",
            "2/2 [==============================] - 0s 15ms/step - loss: 0.0913 - accuracy: 0.9483\n",
            "Epoch 192/200\n",
            "2/2 [==============================] - 0s 15ms/step - loss: 0.0894 - accuracy: 0.9483\n",
            "Epoch 193/200\n",
            "2/2 [==============================] - 0s 13ms/step - loss: 0.0903 - accuracy: 0.9483\n",
            "Epoch 194/200\n",
            "2/2 [==============================] - 0s 12ms/step - loss: 0.0897 - accuracy: 0.9310\n",
            "Epoch 195/200\n",
            "2/2 [==============================] - 0s 14ms/step - loss: 0.0895 - accuracy: 0.9310\n",
            "Epoch 196/200\n",
            "2/2 [==============================] - 0s 16ms/step - loss: 0.0894 - accuracy: 0.9483\n",
            "Epoch 197/200\n",
            "2/2 [==============================] - 0s 14ms/step - loss: 0.0897 - accuracy: 0.9483\n",
            "Epoch 198/200\n",
            "2/2 [==============================] - 0s 13ms/step - loss: 0.0891 - accuracy: 0.9483\n",
            "Epoch 199/200\n",
            "2/2 [==============================] - 0s 14ms/step - loss: 0.0887 - accuracy: 0.9483\n",
            "Epoch 200/200\n",
            "2/2 [==============================] - 0s 13ms/step - loss: 0.0901 - accuracy: 0.9483\n"
          ]
        }
      ]
    },
    {
      "cell_type": "code",
      "metadata": {
        "colab": {
          "base_uri": "https://localhost:8080/",
          "height": 472
        },
        "id": "SydNvm-jkMgu",
        "outputId": "51861507-5422-476a-9f8d-2fde7a7035b1"
      },
      "source": [
        "# summarize history for accuracy\n",
        "plt.plot(history.history['accuracy'])\n",
        "plt.title('model accuracy')\n",
        "plt.ylabel('accuracy')\n",
        "plt.xlabel('epoch')\n",
        "plt.legend(['train', 'test'], loc='upper left')\n",
        "plt.show()\n"
      ],
      "execution_count": null,
      "outputs": [
        {
          "output_type": "display_data",
          "data": {
            "text/plain": [
              "<Figure size 640x480 with 1 Axes>"
            ],
            "image/png": "[encoded data removed]"
          },
          "metadata": {}
        }
      ]
    },
    {
      "cell_type": "code",
      "metadata": {
        "id": "wF04_7C_kTlo"
      },
      "source": [],
      "execution_count": null,
      "outputs": []
    }
  ]
}