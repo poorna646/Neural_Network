{
  "nbformat": 4,
  "nbformat_minor": 0,
  "metadata": {
    "colab": {
      "provenance": []
    },
    "kernelspec": {
      "name": "python3",
      "display_name": "Python 3"
    },
    "language_info": {
      "name": "python"
    }
  },
  "cells": [
    {
      "cell_type": "code",
      "execution_count": 30,
      "metadata": {
        "id": "ciXidbbXm-h-"
      },
      "outputs": [],
      "source": [
        "import torch\n",
        "import torchvision.datasets as datasets\n",
        "import torchvision.transforms as transforms\n",
        "import torch.nn as nn\n",
        "import torch.optim as optim"
      ]
    },
    {
      "cell_type": "code",
      "source": [
        "transform = transforms.Compose([transforms.ToTensor(),transforms.Normalize((0.1307,),(0.3081,))])"
      ],
      "metadata": {
        "id": "OPWpq7_YnjEk"
      },
      "execution_count": 31,
      "outputs": []
    },
    {
      "cell_type": "code",
      "source": [
        "train_dataset = datasets.MNIST('data', train=True , download=True, transform= transform)"
      ],
      "metadata": {
        "id": "itFZuBrgomSI"
      },
      "execution_count": 32,
      "outputs": []
    },
    {
      "cell_type": "code",
      "source": [
        "train_loader= torch.utils.data.DataLoader(train_dataset,\n",
        "                                          batch_size=64,\n",
        "                                          shuffle=True)"
      ],
      "metadata": {
        "id": "eMG-65IIqUpL"
      },
      "execution_count": 33,
      "outputs": []
    },
    {
      "cell_type": "code",
      "source": [
        "class Neural(nn.Module):\n",
        "  def __init__(self): #init-constructor\n",
        "    super(Neural,self).__init__()\n",
        "    self.fc1=nn.Linear(28*28,128) #fc1=forward connection\n",
        "    self.fc2 = nn.Linear(128, 64)\n",
        "    self.fc3 = nn.Linear(64,10)\n",
        "  def forward(self,x):\n",
        "    x=x.view(-1,28*28)\n",
        "    x=torch.relu(self.fc1(x))\n",
        "    x=torch.relu(self.fc2(x))\n",
        "    x=self.fc3(x)\n",
        "    return x\n",
        "net = Neural()"
      ],
      "metadata": {
        "id": "QbmGBQN0q4S4"
      },
      "execution_count": 44,
      "outputs": []
    },
    {
      "cell_type": "code",
      "source": [
        "criterion = nn.CrossEntropyLoss()\n",
        "optimizer = optim.SGD(net.parameters(),lr=0.01,momentum=0.5)"
      ],
      "metadata": {
        "id": "a8KwcLJazBHn"
      },
      "execution_count": 45,
      "outputs": []
    },
    {
      "cell_type": "code",
      "source": [
        "num_epochs=10\n",
        "for epoch in range(num_epochs):\n",
        "  for batch_idx,(data,target) in enumerate (train_loader):\n",
        "    optimizer.zero_grad()\n",
        "    output=net(data)\n",
        "    loss =criterion(output,target)\n",
        "    loss.backward()\n",
        "    optimizer.step()\n",
        "    if batch_idx % 100==0:\n",
        "      print('Train Epoch: {} [{}/{} ({:.0f}%)]\\tLoss: {:.6f}'.format(\n",
        "                epoch, batch_idx * len(data), len(train_loader.dataset),\n",
        "                100. * batch_idx / len(train_loader), loss.item()))"
      ],
      "metadata": {
        "id": "DRS16Y1K1fuq",
        "outputId": "761f0b36-5d99-4d5e-be25-a8a841d7b26d",
        "colab": {
          "base_uri": "https://localhost:8080/"
        }
      },
      "execution_count": 46,
      "outputs": [
        {
          "output_type": "stream",
          "name": "stdout",
          "text": [
            "Train Epoch: 0 [0/60000 (0%)]\tLoss: 2.302444\n",
            "Train Epoch: 0 [6400/60000 (11%)]\tLoss: 1.137956\n",
            "Train Epoch: 0 [12800/60000 (21%)]\tLoss: 0.575681\n",
            "Train Epoch: 0 [19200/60000 (32%)]\tLoss: 0.440196\n",
            "Train Epoch: 0 [25600/60000 (43%)]\tLoss: 0.330709\n",
            "Train Epoch: 0 [32000/60000 (53%)]\tLoss: 0.347199\n",
            "Train Epoch: 0 [38400/60000 (64%)]\tLoss: 0.122785\n",
            "Train Epoch: 0 [44800/60000 (75%)]\tLoss: 0.288712\n",
            "Train Epoch: 0 [51200/60000 (85%)]\tLoss: 0.210276\n",
            "Train Epoch: 0 [57600/60000 (96%)]\tLoss: 0.266050\n",
            "Train Epoch: 1 [0/60000 (0%)]\tLoss: 0.096170\n",
            "Train Epoch: 1 [6400/60000 (11%)]\tLoss: 0.228620\n",
            "Train Epoch: 1 [12800/60000 (21%)]\tLoss: 0.213947\n",
            "Train Epoch: 1 [19200/60000 (32%)]\tLoss: 0.252818\n",
            "Train Epoch: 1 [25600/60000 (43%)]\tLoss: 0.336779\n",
            "Train Epoch: 1 [32000/60000 (53%)]\tLoss: 0.220691\n",
            "Train Epoch: 1 [38400/60000 (64%)]\tLoss: 0.201985\n",
            "Train Epoch: 1 [44800/60000 (75%)]\tLoss: 0.110479\n",
            "Train Epoch: 1 [51200/60000 (85%)]\tLoss: 0.195032\n",
            "Train Epoch: 1 [57600/60000 (96%)]\tLoss: 0.297617\n",
            "Train Epoch: 2 [0/60000 (0%)]\tLoss: 0.217614\n",
            "Train Epoch: 2 [6400/60000 (11%)]\tLoss: 0.109130\n",
            "Train Epoch: 2 [12800/60000 (21%)]\tLoss: 0.203166\n",
            "Train Epoch: 2 [19200/60000 (32%)]\tLoss: 0.127889\n",
            "Train Epoch: 2 [25600/60000 (43%)]\tLoss: 0.122367\n",
            "Train Epoch: 2 [32000/60000 (53%)]\tLoss: 0.175129\n",
            "Train Epoch: 2 [38400/60000 (64%)]\tLoss: 0.095673\n",
            "Train Epoch: 2 [44800/60000 (75%)]\tLoss: 0.070220\n",
            "Train Epoch: 2 [51200/60000 (85%)]\tLoss: 0.165253\n",
            "Train Epoch: 2 [57600/60000 (96%)]\tLoss: 0.228679\n",
            "Train Epoch: 3 [0/60000 (0%)]\tLoss: 0.186167\n",
            "Train Epoch: 3 [6400/60000 (11%)]\tLoss: 0.109478\n",
            "Train Epoch: 3 [12800/60000 (21%)]\tLoss: 0.084098\n",
            "Train Epoch: 3 [19200/60000 (32%)]\tLoss: 0.169541\n",
            "Train Epoch: 3 [25600/60000 (43%)]\tLoss: 0.118615\n",
            "Train Epoch: 3 [32000/60000 (53%)]\tLoss: 0.212903\n",
            "Train Epoch: 3 [38400/60000 (64%)]\tLoss: 0.352678\n",
            "Train Epoch: 3 [44800/60000 (75%)]\tLoss: 0.132180\n",
            "Train Epoch: 3 [51200/60000 (85%)]\tLoss: 0.027042\n",
            "Train Epoch: 3 [57600/60000 (96%)]\tLoss: 0.103492\n",
            "Train Epoch: 4 [0/60000 (0%)]\tLoss: 0.106789\n",
            "Train Epoch: 4 [6400/60000 (11%)]\tLoss: 0.063633\n",
            "Train Epoch: 4 [12800/60000 (21%)]\tLoss: 0.087706\n",
            "Train Epoch: 4 [19200/60000 (32%)]\tLoss: 0.088225\n",
            "Train Epoch: 4 [25600/60000 (43%)]\tLoss: 0.100678\n",
            "Train Epoch: 4 [32000/60000 (53%)]\tLoss: 0.163112\n",
            "Train Epoch: 4 [38400/60000 (64%)]\tLoss: 0.117604\n",
            "Train Epoch: 4 [44800/60000 (75%)]\tLoss: 0.045589\n",
            "Train Epoch: 4 [51200/60000 (85%)]\tLoss: 0.112433\n",
            "Train Epoch: 4 [57600/60000 (96%)]\tLoss: 0.116215\n",
            "Train Epoch: 5 [0/60000 (0%)]\tLoss: 0.168880\n",
            "Train Epoch: 5 [6400/60000 (11%)]\tLoss: 0.057813\n",
            "Train Epoch: 5 [12800/60000 (21%)]\tLoss: 0.191370\n",
            "Train Epoch: 5 [19200/60000 (32%)]\tLoss: 0.099253\n",
            "Train Epoch: 5 [25600/60000 (43%)]\tLoss: 0.158709\n",
            "Train Epoch: 5 [32000/60000 (53%)]\tLoss: 0.095577\n",
            "Train Epoch: 5 [38400/60000 (64%)]\tLoss: 0.052787\n",
            "Train Epoch: 5 [44800/60000 (75%)]\tLoss: 0.062202\n",
            "Train Epoch: 5 [51200/60000 (85%)]\tLoss: 0.121664\n",
            "Train Epoch: 5 [57600/60000 (96%)]\tLoss: 0.020527\n",
            "Train Epoch: 6 [0/60000 (0%)]\tLoss: 0.066078\n",
            "Train Epoch: 6 [6400/60000 (11%)]\tLoss: 0.140726\n",
            "Train Epoch: 6 [12800/60000 (21%)]\tLoss: 0.077689\n",
            "Train Epoch: 6 [19200/60000 (32%)]\tLoss: 0.014921\n",
            "Train Epoch: 6 [25600/60000 (43%)]\tLoss: 0.063162\n",
            "Train Epoch: 6 [32000/60000 (53%)]\tLoss: 0.124680\n",
            "Train Epoch: 6 [38400/60000 (64%)]\tLoss: 0.106355\n",
            "Train Epoch: 6 [44800/60000 (75%)]\tLoss: 0.021286\n",
            "Train Epoch: 6 [51200/60000 (85%)]\tLoss: 0.095035\n",
            "Train Epoch: 6 [57600/60000 (96%)]\tLoss: 0.067164\n",
            "Train Epoch: 7 [0/60000 (0%)]\tLoss: 0.144517\n",
            "Train Epoch: 7 [6400/60000 (11%)]\tLoss: 0.055765\n",
            "Train Epoch: 7 [12800/60000 (21%)]\tLoss: 0.047321\n",
            "Train Epoch: 7 [19200/60000 (32%)]\tLoss: 0.087484\n",
            "Train Epoch: 7 [25600/60000 (43%)]\tLoss: 0.093528\n",
            "Train Epoch: 7 [32000/60000 (53%)]\tLoss: 0.159593\n",
            "Train Epoch: 7 [38400/60000 (64%)]\tLoss: 0.061147\n",
            "Train Epoch: 7 [44800/60000 (75%)]\tLoss: 0.057053\n",
            "Train Epoch: 7 [51200/60000 (85%)]\tLoss: 0.129800\n",
            "Train Epoch: 7 [57600/60000 (96%)]\tLoss: 0.210089\n",
            "Train Epoch: 8 [0/60000 (0%)]\tLoss: 0.086248\n",
            "Train Epoch: 8 [6400/60000 (11%)]\tLoss: 0.059942\n",
            "Train Epoch: 8 [12800/60000 (21%)]\tLoss: 0.078513\n",
            "Train Epoch: 8 [19200/60000 (32%)]\tLoss: 0.100288\n",
            "Train Epoch: 8 [25600/60000 (43%)]\tLoss: 0.063460\n",
            "Train Epoch: 8 [32000/60000 (53%)]\tLoss: 0.023849\n",
            "Train Epoch: 8 [38400/60000 (64%)]\tLoss: 0.170958\n",
            "Train Epoch: 8 [44800/60000 (75%)]\tLoss: 0.118295\n",
            "Train Epoch: 8 [51200/60000 (85%)]\tLoss: 0.034593\n",
            "Train Epoch: 8 [57600/60000 (96%)]\tLoss: 0.075861\n",
            "Train Epoch: 9 [0/60000 (0%)]\tLoss: 0.028344\n",
            "Train Epoch: 9 [6400/60000 (11%)]\tLoss: 0.108293\n",
            "Train Epoch: 9 [12800/60000 (21%)]\tLoss: 0.068402\n",
            "Train Epoch: 9 [19200/60000 (32%)]\tLoss: 0.087459\n",
            "Train Epoch: 9 [25600/60000 (43%)]\tLoss: 0.015658\n",
            "Train Epoch: 9 [32000/60000 (53%)]\tLoss: 0.029696\n",
            "Train Epoch: 9 [38400/60000 (64%)]\tLoss: 0.178345\n",
            "Train Epoch: 9 [44800/60000 (75%)]\tLoss: 0.053783\n",
            "Train Epoch: 9 [51200/60000 (85%)]\tLoss: 0.153602\n",
            "Train Epoch: 9 [57600/60000 (96%)]\tLoss: 0.172952\n"
          ]
        }
      ]
    },
    {
      "cell_type": "code",
      "source": [
        "test_dataset=datasets.MNIST('data',train=False,download=True,transform=transform)\n",
        "test_loader=torch.utils.data.DataLoader(test_dataset,batch_size=1000,shuffle=True)\n",
        "correct=0\n",
        "total=0\n",
        "with torch.no_grad():\n",
        "  output=net(data)\n",
        "  _,predicted=torch.max(output.data,1)\n",
        "  total+=target.size(0)\n",
        "  correct+=(predicted==target).sum().item()"
      ],
      "metadata": {
        "id": "3We5sT5z2Lyv"
      },
      "execution_count": 47,
      "outputs": []
    },
    {
      "cell_type": "code",
      "source": [
        "print('Accuracy of the network on the 10000 test images: %d %%' % (\n",
        "    100 * correct / total))"
      ],
      "metadata": {
        "id": "C1HC-rMm2b75",
        "outputId": "c23949d5-8f67-4b72-8ce9-a85559ce9fa9",
        "colab": {
          "base_uri": "https://localhost:8080/"
        }
      },
      "execution_count": 48,
      "outputs": [
        {
          "output_type": "stream",
          "name": "stdout",
          "text": [
            "Accuracy of the network on the 10000 test images: 100 %\n"
          ]
        }
      ]
    },
    {
      "cell_type": "code",
      "source": [],
      "metadata": {
        "id": "3thO0NjL3Q8G"
      },
      "execution_count": null,
      "outputs": []
    }
  ]
}